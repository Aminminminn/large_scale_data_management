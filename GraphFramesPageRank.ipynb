{
  "nbformat": 4,
  "nbformat_minor": 0,
  "metadata": {
    "colab": {
      "provenance": [],
      "include_colab_link": true
    },
    "kernelspec": {
      "name": "python3",
      "display_name": "Python 3"
    },
    "language_info": {
      "name": "python"
    }
  },
  "cells": [
    {
      "cell_type": "markdown",
      "metadata": {
        "id": "view-in-github",
        "colab_type": "text"
      },
      "source": [
        "<a href=\"https://colab.research.google.com/github/momo54/large_scale_data_management/blob/main/GraphFramesPageRank.ipynb\" target=\"_parent\"><img src=\"https://colab.research.google.com/assets/colab-badge.svg\" alt=\"Open In Colab\"/></a>"
      ]
    },
    {
      "cell_type": "markdown",
      "source": [
        "! RDF and  GraphFrames\n",
        "\n",
        "GraphFrame is an additional package to perform graph processing in Spark. It is concurrent to GraphX, but available in Python.\n",
        "\n",
        "\n",
        "launching in a terminal\n",
        "\n",
        "```\n",
        "pyspark --packages graphframes:graphframes:0.8.2-spark3.2-s_2.12\n",
        "\n",
        "from graphframes.examples import Graphs\n",
        "g = Graphs(sqlContext).friends()  # Get example graph\n",
        "\n",
        "# Display the vertex and edge DataFrames\n",
        "g.vertices.show()\n",
        "```\n",
        "\n",
        "Valid configuration are listed in:\n",
        "```\n",
        "https://spark-packages.org/package/graphframes/graphframes\n",
        "```\n"
      ],
      "metadata": {
        "id": "mWDwyWU7125d"
      }
    },
    {
      "cell_type": "code",
      "execution_count": 1,
      "metadata": {
        "colab": {
          "base_uri": "https://localhost:8080/"
        },
        "id": "4tTxN7y7FTRZ",
        "outputId": "c4be60e6-fe66-4a22-dd81-a40c711b1129"
      },
      "outputs": [
        {
          "output_type": "stream",
          "name": "stdout",
          "text": [
            "Looking in indexes: https://pypi.org/simple, https://us-python.pkg.dev/colab-wheels/public/simple/\n",
            "Requirement already satisfied: pyspark in /usr/local/lib/python3.7/dist-packages (3.3.1)\n",
            "Requirement already satisfied: py4j==0.10.9.5 in /usr/local/lib/python3.7/dist-packages (from pyspark) (0.10.9.5)\n"
          ]
        }
      ],
      "source": [
        "!pip install pyspark"
      ]
    },
    {
      "cell_type": "code",
      "source": [
        "#visiblement faut pas faire ça !!\n",
        "#!pip install graphframes"
      ],
      "metadata": {
        "colab": {
          "base_uri": "https://localhost:8080/"
        },
        "id": "EZdTiIlDFUE1",
        "outputId": "02a22bd2-bfc0-4368-e764-fd2de7319282"
      },
      "execution_count": 76,
      "outputs": [
        {
          "output_type": "stream",
          "name": "stdout",
          "text": [
            "Looking in indexes: https://pypi.org/simple, https://us-python.pkg.dev/colab-wheels/public/simple/\n",
            "Requirement already satisfied: graphframes in /usr/local/lib/python3.7/dist-packages (0.6)\n",
            "Requirement already satisfied: nose in /usr/local/lib/python3.7/dist-packages (from graphframes) (1.3.7)\n",
            "Requirement already satisfied: numpy in /usr/local/lib/python3.7/dist-packages (from graphframes) (1.21.6)\n"
          ]
        }
      ]
    },
    {
      "cell_type": "code",
      "source": [
        "!wget -nc https://repos.spark-packages.org/graphframes/graphframes/0.8.2-spark3.2-s_2.12/graphframes-0.8.2-spark3.2-s_2.12.jar\n",
        "!cp graphframes-0.8.2-spark3.2-s_2.12.jar /usr/local/lib/python3.7/dist-packages/pyspark/jars/\n",
        "!ls /usr/local/lib/python3.7/dist-packages/pyspark/jars/graph*"
      ],
      "metadata": {
        "colab": {
          "base_uri": "https://localhost:8080/"
        },
        "id": "kB0eCUPsft5y",
        "outputId": "70b7ab1b-b863-4be7-93f9-15991737c6bb"
      },
      "execution_count": 2,
      "outputs": [
        {
          "output_type": "stream",
          "name": "stdout",
          "text": [
            "File ‘graphframes-0.8.2-spark3.2-s_2.12.jar’ already there; not retrieving.\n",
            "\n",
            "cp: cannot create regular file '/usr/local/lib/python3.6/dist-packages/pyspark/jars/': No such file or directory\n",
            "/usr/local/lib/python3.7/dist-packages/pyspark/jars/graphframes-0.8.2-spark3.2-s_2.12.jar\n"
          ]
        }
      ]
    },
    {
      "cell_type": "code",
      "source": [
        "from pyspark.sql import SparkSession\n",
        "from graphframes import GraphFrame\n",
        "\n",
        "spark = SparkSession.builder.config(\"spark.jars.packages\", \"graphframes:graphframes:0.8.2-spark3.2-s_2.12\").getOrCreate()  \n"
      ],
      "metadata": {
        "id": "e6wRKrwMFVix"
      },
      "execution_count": 3,
      "outputs": []
    },
    {
      "cell_type": "code",
      "source": [
        "# checking that everything works...\n",
        "\n",
        "# Create a Vertex DataFrame with unique ID column \"id\"\n",
        "v = spark.createDataFrame([\n",
        "  (\"a\", \"Alice\", 34),\n",
        "  (\"b\", \"Bob\", 36),\n",
        "  (\"c\", \"Charlie\", 30),\n",
        "], [\"id\", \"name\", \"age\"])\n",
        "# Create an Edge DataFrame with \"src\" and \"dst\" columns\n",
        "e = spark.createDataFrame([\n",
        "  (\"a\", \"b\", \"friend\"),\n",
        "  (\"b\", \"c\", \"follow\"),\n",
        "  (\"c\", \"b\", \"follow\"),\n",
        "], [\"src\", \"dst\", \"relationship\"])\n",
        "# Create a GraphFrame\n",
        "from graphframes import *\n",
        "g = GraphFrame(v, e)\n",
        "\n",
        "# Query: Get in-degree of each vertex.\n",
        "g.inDegrees.show()\n",
        "\n",
        "# Query: Count the number of \"follow\" connections in the graph.\n",
        "print(g.edges.filter(\"relationship = 'follow'\").count())\n",
        "\n",
        "# Run PageRank algorithm, and show results.\n",
        "results = g.pageRank(resetProbability=0.01, maxIter=20)\n",
        "results.vertices.select(\"id\", \"pagerank\").show()\n"
      ],
      "metadata": {
        "id": "0q-i4-T_FtNR",
        "colab": {
          "base_uri": "https://localhost:8080/"
        },
        "outputId": "d86f727d-731d-4a2f-e7a0-6d18e3518df8"
      },
      "execution_count": 5,
      "outputs": [
        {
          "output_type": "stream",
          "name": "stderr",
          "text": [
            "/usr/local/lib/python3.7/dist-packages/pyspark/sql/dataframe.py:149: UserWarning: DataFrame.sql_ctx is an internal property, and will be removed in future releases. Use DataFrame.sparkSession instead.\n",
            "  \"DataFrame.sql_ctx is an internal property, and will be removed \"\n",
            "/usr/local/lib/python3.7/dist-packages/pyspark/sql/dataframe.py:127: UserWarning: DataFrame constructor is internal. Do not directly use it.\n",
            "  warnings.warn(\"DataFrame constructor is internal. Do not directly use it.\")\n"
          ]
        },
        {
          "output_type": "stream",
          "name": "stdout",
          "text": [
            "+---+--------+\n",
            "| id|inDegree|\n",
            "+---+--------+\n",
            "|  b|       2|\n",
            "|  c|       1|\n",
            "+---+--------+\n",
            "\n",
            "2\n",
            "+---+------------------+\n",
            "| id|          pagerank|\n",
            "+---+------------------+\n",
            "|  c|1.8994109890559092|\n",
            "|  b|1.0905890109440908|\n",
            "|  a|              0.01|\n",
            "+---+------------------+\n",
            "\n"
          ]
        }
      ]
    },
    {
      "cell_type": "code",
      "source": [
        "e.printSchema()"
      ],
      "metadata": {
        "colab": {
          "base_uri": "https://localhost:8080/"
        },
        "id": "oRaoAxSoxrQ8",
        "outputId": "7fc67a14-098e-48f1-8e3d-24cba0a7db97"
      },
      "execution_count": 6,
      "outputs": [
        {
          "output_type": "stream",
          "name": "stdout",
          "text": [
            "root\n",
            " |-- src: string (nullable = true)\n",
            " |-- dst: string (nullable = true)\n",
            " |-- relationship: string (nullable = true)\n",
            "\n"
          ]
        }
      ]
    },
    {
      "cell_type": "code",
      "source": [
        "# using a more realistic RDF graph (only triples)\n",
        "\n",
        "#!wget -nc -q https://raw.githubusercontent.com/momo54/large_scale_data_management/main/small_page_links.nt\n",
        "!wget -nc https://raw.githubusercontent.com/momo54/large_scale_data_management/main/watdiv-100k.nt"
      ],
      "metadata": {
        "id": "WZ4kD_Lbt7NW",
        "colab": {
          "base_uri": "https://localhost:8080/"
        },
        "outputId": "8c999555-2548-49e2-bf2e-bbe1534c7029"
      },
      "execution_count": 9,
      "outputs": [
        {
          "output_type": "stream",
          "name": "stdout",
          "text": [
            "--2022-10-31 10:47:39--  https://raw.githubusercontent.com/momo54/large_scale_data_management/main/watdiv-100k.nt\n",
            "Resolving raw.githubusercontent.com (raw.githubusercontent.com)... 185.199.108.133, 185.199.109.133, 185.199.110.133, ...\n",
            "Connecting to raw.githubusercontent.com (raw.githubusercontent.com)|185.199.108.133|:443... connected.\n",
            "HTTP request sent, awaiting response... 200 OK\n",
            "Length: 15098125 (14M) [text/plain]\n",
            "Saving to: ‘watdiv-100k.nt’\n",
            "\n",
            "watdiv-100k.nt      100%[===================>]  14.40M  --.-KB/s    in 0.08s   \n",
            "\n",
            "2022-10-31 10:47:39 (172 MB/s) - ‘watdiv-100k.nt’ saved [15098125/15098125]\n",
            "\n"
          ]
        }
      ]
    },
    {
      "cell_type": "code",
      "source": [
        "from pyspark.sql.types import StructType,StringType\n",
        "schema=StructType() \\\n",
        "  .add(\"src\",StringType(),True) \\\n",
        "  .add(\"relationship\",StringType(),True) \\\n",
        "  .add(\"dst\",StringType(),True) \n",
        "\n",
        "import re\n",
        "def parseTriple(line) :\n",
        "    \"\"\"Parses a urls pair string into urls pair.\"\"\"\n",
        "    parts = re.split(r'\\s+', line)\n",
        "    return parts[0], parts[1], parts[2]\n",
        "\n",
        "# reading Triples\n",
        "# delimiter and the . !! (grrr)\n",
        "# managing quads requires Reification :-/\n",
        "#edges=spark.read.format(\"csv\") \\\n",
        "#  .schema(schema) \\\n",
        "#  .load([\"watdiv-100k.nt\"])\n",
        "#  .load([\"multi.txt0.txt\",\"catalog.txt0.txt\"])\n",
        "\n",
        "lines=spark.read.text([\"watdiv-100k.nt\"]).rdd.map(lambda r: r[0])\n",
        "\n",
        "\n",
        "edges=lines.map(lambda x:parseTriple(x)).toDF([\"src\",\"relationship\",\"dst\"])\n",
        "\n",
        "\n",
        "#generating Vertices from Edges...\n",
        "vertices=edges.select('src') \\\n",
        "  .union(edges.select('dst')) \\\n",
        "  .distinct() \\\n",
        "  .withColumnRenamed('src', 'id')\n",
        "\n",
        "print(vertices.take(1))\n",
        "\n",
        "graph = GraphFrame(vertices, edges)\n",
        "\n",
        "\n",
        "vertices.show(10)\n",
        "\n",
        "edges.select(\"relationship\").distinct().show(100,truncate=200)\n",
        "edges.filter(\"relationship='<http://purl.org/goodrelations/includes>'\").show(10,truncate=200)"
      ],
      "metadata": {
        "colab": {
          "base_uri": "https://localhost:8080/"
        },
        "id": "VHPoN1rqv-Fl",
        "outputId": "462fdfd3-515e-4b79-ef00-4bfe50ac5542"
      },
      "execution_count": 39,
      "outputs": [
        {
          "output_type": "stream",
          "name": "stdout",
          "text": [
            "[Row(id='<http://db.uwaterloo.ca/~galuc/wsdbm/User0>')]\n"
          ]
        },
        {
          "output_type": "stream",
          "name": "stderr",
          "text": [
            "/usr/local/lib/python3.7/dist-packages/pyspark/sql/dataframe.py:149: UserWarning: DataFrame.sql_ctx is an internal property, and will be removed in future releases. Use DataFrame.sparkSession instead.\n",
            "  \"DataFrame.sql_ctx is an internal property, and will be removed \"\n"
          ]
        },
        {
          "output_type": "stream",
          "name": "stdout",
          "text": [
            "+--------------------+\n",
            "|                  id|\n",
            "+--------------------+\n",
            "|<http://db.uwater...|\n",
            "|<http://db.uwater...|\n",
            "|<http://db.uwater...|\n",
            "|<http://db.uwater...|\n",
            "|<http://db.uwater...|\n",
            "|<http://db.uwater...|\n",
            "|<http://db.uwater...|\n",
            "|<http://db.uwater...|\n",
            "|<http://db.uwater...|\n",
            "|<http://db.uwater...|\n",
            "+--------------------+\n",
            "only showing top 10 rows\n",
            "\n",
            "+---------------------------------------------------+\n",
            "|                                       relationship|\n",
            "+---------------------------------------------------+\n",
            "|                        <http://schema.org/expires>|\n",
            "| <http://db.uwaterloo.ca/~galuc/wsdbm/purchaseDate>|\n",
            "|                <http://schema.org/aggregateRating>|\n",
            "|  <http://www.w3.org/1999/02/22-rdf-syntax-ns#type>|\n",
            "|                   <http://schema.org/contactPoint>|\n",
            "|   <http://db.uwaterloo.ca/~galuc/wsdbm/subscribes>|\n",
            "|                       <http://schema.org/employee>|\n",
            "|                       <http://schema.org/language>|\n",
            "|          <http://purl.org/goodrelations/validFrom>|\n",
            "|                      <http://schema.org/birthDate>|\n",
            "|               <http://purl.org/goodrelations/name>|\n",
            "|                <http://purl.org/dc/terms/Location>|\n",
            "|        <http://db.uwaterloo.ca/~galuc/wsdbm/likes>|\n",
            "|                      <http://schema.org/faxNumber>|\n",
            "|                        <http://schema.org/caption>|\n",
            "|                <http://schema.org/paymentAccepted>|\n",
            "|                       <http://schema.org/keywords>|\n",
            "|                             <http://ogp.me/ns#tag>|\n",
            "|                           <http://schema.org/text>|\n",
            "|                    <http://schema.org/nationality>|\n",
            "|                   <http://schema.org/openingHours>|\n",
            "|           <http://purl.org/goodrelations/includes>|\n",
            "|                 <http://purl.org/stuff/rev#rating>|\n",
            "|       <http://db.uwaterloo.ca/~galuc/wsdbm/gender>|\n",
            "|                 <http://schema.org/eligibleRegion>|\n",
            "|         <http://db.uwaterloo.ca/~galuc/wsdbm/hits>|\n",
            "|                <http://schema.org/priceValidUntil>|\n",
            "|                  <http://schema.org/contentRating>|\n",
            "|                      <http://schema.org/telephone>|\n",
            "|                  <http://purl.org/stuff/rev#title>|\n",
            "|                        <http://xmlns.com/foaf/age>|\n",
            "|     <http://db.uwaterloo.ca/~galuc/wsdbm/friendOf>|\n",
            "|                           <http://ogp.me/ns#title>|\n",
            "|                   <http://xmlns.com/foaf/homepage>|\n",
            "|   <http://www.geonames.org/ontology#parentCountry>|\n",
            "|                 <http://xmlns.com/foaf/familyName>|\n",
            "|                      <http://schema.org/legalName>|\n",
            "|             <http://purl.org/goodrelations/offers>|\n",
            "|        <http://purl.org/goodrelations/description>|\n",
            "|       <http://purl.org/goodrelations/validThrough>|\n",
            "|                       <http://schema.org/jobTitle>|\n",
            "|                            <http://schema.org/url>|\n",
            "|              <http://purl.org/goodrelations/price>|\n",
            "|             <http://purl.org/stuff/rev#totalVotes>|\n",
            "|                    <http://schema.org/description>|\n",
            "|                          <http://schema.org/email>|\n",
            "|                    <http://schema.org/contentSize>|\n",
            "|                  <http://xmlns.com/foaf/givenName>|\n",
            "|       <http://purl.org/goodrelations/serialNumber>|\n",
            "|     <http://db.uwaterloo.ca/~galuc/wsdbm/hasGenre>|\n",
            "|       <http://db.uwaterloo.ca/~galuc/wsdbm/userId>|\n",
            "|                   <http://purl.org/stuff/rev#text>|\n",
            "|               <http://schema.org/eligibleQuantity>|\n",
            "|                       <http://schema.org/producer>|\n",
            "|            <http://purl.org/ontology/mo/conductor>|\n",
            "|              <http://purl.org/ontology/mo/release>|\n",
            "|                        <http://schema.org/trailer>|\n",
            "|         <http://purl.org/ontology/mo/performed_in>|\n",
            "|                         <http://schema.org/author>|\n",
            "|            <http://purl.org/ontology/mo/performer>|\n",
            "|                       <http://schema.org/duration>|\n",
            "|              <http://purl.org/stuff/rev#hasReview>|\n",
            "|                  <http://schema.org/numberOfPages>|\n",
            "|                      <http://schema.org/printPage>|\n",
            "|               <http://purl.org/stuff/rev#reviewer>|\n",
            "|                          <http://schema.org/award>|\n",
            "|                   <http://schema.org/printEdition>|\n",
            "|                      <http://schema.org/publisher>|\n",
            "|                 <http://purl.org/ontology/mo/opus>|\n",
            "|               <http://purl.org/ontology/mo/artist>|\n",
            "|                    <http://schema.org/printColumn>|\n",
            "|                  <http://schema.org/datePublished>|\n",
            "|             <http://purl.org/ontology/mo/movement>|\n",
            "|  <http://db.uwaterloo.ca/~galuc/wsdbm/purchaseFor>|\n",
            "|             <http://purl.org/ontology/mo/producer>|\n",
            "|     <http://db.uwaterloo.ca/~galuc/wsdbm/composer>|\n",
            "|                       <http://schema.org/director>|\n",
            "|                          <http://schema.org/actor>|\n",
            "|<http://db.uwaterloo.ca/~galuc/wsdbm/makesPurchase>|\n",
            "|      <http://db.uwaterloo.ca/~galuc/wsdbm/follows>|\n",
            "|                      <http://schema.org/wordCount>|\n",
            "|                   <http://schema.org/printSection>|\n",
            "|        <http://purl.org/ontology/mo/record_number>|\n",
            "|                         <http://schema.org/editor>|\n",
            "|                    <http://schema.org/bookEdition>|\n",
            "|                           <http://schema.org/isbn>|\n",
            "+---------------------------------------------------+\n",
            "\n",
            "+--------------------------------------------+----------------------------------------+------------------------------------------------+\n",
            "|                                         src|                            relationship|                                             dst|\n",
            "+--------------------------------------------+----------------------------------------+------------------------------------------------+\n",
            "|<http://db.uwaterloo.ca/~galuc/wsdbm/Offer0>|<http://purl.org/goodrelations/includes>|<http://db.uwaterloo.ca/~galuc/wsdbm/Product223>|\n",
            "|<http://db.uwaterloo.ca/~galuc/wsdbm/Offer1>|<http://purl.org/goodrelations/includes>| <http://db.uwaterloo.ca/~galuc/wsdbm/Product12>|\n",
            "|<http://db.uwaterloo.ca/~galuc/wsdbm/Offer2>|<http://purl.org/goodrelations/includes>| <http://db.uwaterloo.ca/~galuc/wsdbm/Product27>|\n",
            "|<http://db.uwaterloo.ca/~galuc/wsdbm/Offer3>|<http://purl.org/goodrelations/includes>| <http://db.uwaterloo.ca/~galuc/wsdbm/Product58>|\n",
            "|<http://db.uwaterloo.ca/~galuc/wsdbm/Offer4>|<http://purl.org/goodrelations/includes>|<http://db.uwaterloo.ca/~galuc/wsdbm/Product179>|\n",
            "|<http://db.uwaterloo.ca/~galuc/wsdbm/Offer5>|<http://purl.org/goodrelations/includes>|  <http://db.uwaterloo.ca/~galuc/wsdbm/Product1>|\n",
            "|<http://db.uwaterloo.ca/~galuc/wsdbm/Offer6>|<http://purl.org/goodrelations/includes>| <http://db.uwaterloo.ca/~galuc/wsdbm/Product57>|\n",
            "|<http://db.uwaterloo.ca/~galuc/wsdbm/Offer7>|<http://purl.org/goodrelations/includes>|  <http://db.uwaterloo.ca/~galuc/wsdbm/Product1>|\n",
            "|<http://db.uwaterloo.ca/~galuc/wsdbm/Offer8>|<http://purl.org/goodrelations/includes>|<http://db.uwaterloo.ca/~galuc/wsdbm/Product135>|\n",
            "|<http://db.uwaterloo.ca/~galuc/wsdbm/Offer9>|<http://purl.org/goodrelations/includes>| <http://db.uwaterloo.ca/~galuc/wsdbm/Product28>|\n",
            "+--------------------------------------------+----------------------------------------+------------------------------------------------+\n",
            "only showing top 10 rows\n",
            "\n"
          ]
        }
      ]
    },
    {
      "cell_type": "code",
      "source": [
        "subgraph=graph.filterEdges(\"relationship='<http://purl.org/goodrelations/includes>'\").dropIsolatedVertices()\n",
        "subgraph.triplets.show(truncate=200)"
      ],
      "metadata": {
        "id": "KykUG2e_A6WA",
        "outputId": "eca01507-5bfd-4c33-9485-1595eb686031",
        "colab": {
          "base_uri": "https://localhost:8080/"
        }
      },
      "execution_count": 18,
      "outputs": [
        {
          "output_type": "stream",
          "name": "stderr",
          "text": [
            "/usr/local/lib/python3.7/dist-packages/pyspark/sql/dataframe.py:127: UserWarning: DataFrame constructor is internal. Do not directly use it.\n",
            "  warnings.warn(\"DataFrame constructor is internal. Do not directly use it.\")\n"
          ]
        },
        {
          "output_type": "stream",
          "name": "stdout",
          "text": [
            "+------------------------------------------------+----------------------------------------------------------------------------------------------------------------------------------------------+----------------------------------------------------+\n",
            "|                                             src|                                                                                                                                          edge|                                                 dst|\n",
            "+------------------------------------------------+----------------------------------------------------------------------------------------------------------------------------------------------+----------------------------------------------------+\n",
            "| {<http://db.uwaterloo.ca/~galuc/wsdbm/Offer73>}| {<http://db.uwaterloo.ca/~galuc/wsdbm/Offer73>, <http://purl.org/goodrelations/includes>, <http://db.uwaterloo.ca/~galuc/wsdbm/Product105> .}|{<http://db.uwaterloo.ca/~galuc/wsdbm/Product105> .}|\n",
            "|{<http://db.uwaterloo.ca/~galuc/wsdbm/Offer148>}| {<http://db.uwaterloo.ca/~galuc/wsdbm/Offer148>, <http://purl.org/goodrelations/includes>, <http://db.uwaterloo.ca/~galuc/wsdbm/Product25> .}| {<http://db.uwaterloo.ca/~galuc/wsdbm/Product25> .}|\n",
            "|{<http://db.uwaterloo.ca/~galuc/wsdbm/Offer410>}| {<http://db.uwaterloo.ca/~galuc/wsdbm/Offer410>, <http://purl.org/goodrelations/includes>, <http://db.uwaterloo.ca/~galuc/wsdbm/Product33> .}| {<http://db.uwaterloo.ca/~galuc/wsdbm/Product33> .}|\n",
            "|{<http://db.uwaterloo.ca/~galuc/wsdbm/Offer427>}|{<http://db.uwaterloo.ca/~galuc/wsdbm/Offer427>, <http://purl.org/goodrelations/includes>, <http://db.uwaterloo.ca/~galuc/wsdbm/Product148> .}|{<http://db.uwaterloo.ca/~galuc/wsdbm/Product148> .}|\n",
            "|{<http://db.uwaterloo.ca/~galuc/wsdbm/Offer751>}|{<http://db.uwaterloo.ca/~galuc/wsdbm/Offer751>, <http://purl.org/goodrelations/includes>, <http://db.uwaterloo.ca/~galuc/wsdbm/Product179> .}|{<http://db.uwaterloo.ca/~galuc/wsdbm/Product179> .}|\n",
            "|  {<http://db.uwaterloo.ca/~galuc/wsdbm/Offer4>}|  {<http://db.uwaterloo.ca/~galuc/wsdbm/Offer4>, <http://purl.org/goodrelations/includes>, <http://db.uwaterloo.ca/~galuc/wsdbm/Product179> .}|{<http://db.uwaterloo.ca/~galuc/wsdbm/Product179> .}|\n",
            "|{<http://db.uwaterloo.ca/~galuc/wsdbm/Offer434>}|{<http://db.uwaterloo.ca/~galuc/wsdbm/Offer434>, <http://purl.org/goodrelations/includes>, <http://db.uwaterloo.ca/~galuc/wsdbm/Product145> .}|{<http://db.uwaterloo.ca/~galuc/wsdbm/Product145> .}|\n",
            "|{<http://db.uwaterloo.ca/~galuc/wsdbm/Offer580>}|{<http://db.uwaterloo.ca/~galuc/wsdbm/Offer580>, <http://purl.org/goodrelations/includes>, <http://db.uwaterloo.ca/~galuc/wsdbm/Product109> .}|{<http://db.uwaterloo.ca/~galuc/wsdbm/Product109> .}|\n",
            "|{<http://db.uwaterloo.ca/~galuc/wsdbm/Offer809>}| {<http://db.uwaterloo.ca/~galuc/wsdbm/Offer809>, <http://purl.org/goodrelations/includes>, <http://db.uwaterloo.ca/~galuc/wsdbm/Product19> .}| {<http://db.uwaterloo.ca/~galuc/wsdbm/Product19> .}|\n",
            "|{<http://db.uwaterloo.ca/~galuc/wsdbm/Offer897>}|{<http://db.uwaterloo.ca/~galuc/wsdbm/Offer897>, <http://purl.org/goodrelations/includes>, <http://db.uwaterloo.ca/~galuc/wsdbm/Product125> .}|{<http://db.uwaterloo.ca/~galuc/wsdbm/Product125> .}|\n",
            "|{<http://db.uwaterloo.ca/~galuc/wsdbm/Offer187>}|{<http://db.uwaterloo.ca/~galuc/wsdbm/Offer187>, <http://purl.org/goodrelations/includes>, <http://db.uwaterloo.ca/~galuc/wsdbm/Product216> .}|{<http://db.uwaterloo.ca/~galuc/wsdbm/Product216> .}|\n",
            "|{<http://db.uwaterloo.ca/~galuc/wsdbm/Offer216>}| {<http://db.uwaterloo.ca/~galuc/wsdbm/Offer216>, <http://purl.org/goodrelations/includes>, <http://db.uwaterloo.ca/~galuc/wsdbm/Product92> .}| {<http://db.uwaterloo.ca/~galuc/wsdbm/Product92> .}|\n",
            "|{<http://db.uwaterloo.ca/~galuc/wsdbm/Offer242>}| {<http://db.uwaterloo.ca/~galuc/wsdbm/Offer242>, <http://purl.org/goodrelations/includes>, <http://db.uwaterloo.ca/~galuc/wsdbm/Product25> .}| {<http://db.uwaterloo.ca/~galuc/wsdbm/Product25> .}|\n",
            "|{<http://db.uwaterloo.ca/~galuc/wsdbm/Offer277>}| {<http://db.uwaterloo.ca/~galuc/wsdbm/Offer277>, <http://purl.org/goodrelations/includes>, <http://db.uwaterloo.ca/~galuc/wsdbm/Product59> .}| {<http://db.uwaterloo.ca/~galuc/wsdbm/Product59> .}|\n",
            "|{<http://db.uwaterloo.ca/~galuc/wsdbm/Offer480>}|{<http://db.uwaterloo.ca/~galuc/wsdbm/Offer480>, <http://purl.org/goodrelations/includes>, <http://db.uwaterloo.ca/~galuc/wsdbm/Product236> .}|{<http://db.uwaterloo.ca/~galuc/wsdbm/Product236> .}|\n",
            "| {<http://db.uwaterloo.ca/~galuc/wsdbm/Offer42>}|   {<http://db.uwaterloo.ca/~galuc/wsdbm/Offer42>, <http://purl.org/goodrelations/includes>, <http://db.uwaterloo.ca/~galuc/wsdbm/Product7> .}|  {<http://db.uwaterloo.ca/~galuc/wsdbm/Product7> .}|\n",
            "|{<http://db.uwaterloo.ca/~galuc/wsdbm/Offer219>}|{<http://db.uwaterloo.ca/~galuc/wsdbm/Offer219>, <http://purl.org/goodrelations/includes>, <http://db.uwaterloo.ca/~galuc/wsdbm/Product124> .}|{<http://db.uwaterloo.ca/~galuc/wsdbm/Product124> .}|\n",
            "|{<http://db.uwaterloo.ca/~galuc/wsdbm/Offer400>}|{<http://db.uwaterloo.ca/~galuc/wsdbm/Offer400>, <http://purl.org/goodrelations/includes>, <http://db.uwaterloo.ca/~galuc/wsdbm/Product136> .}|{<http://db.uwaterloo.ca/~galuc/wsdbm/Product136> .}|\n",
            "|{<http://db.uwaterloo.ca/~galuc/wsdbm/Offer430>}| {<http://db.uwaterloo.ca/~galuc/wsdbm/Offer430>, <http://purl.org/goodrelations/includes>, <http://db.uwaterloo.ca/~galuc/wsdbm/Product28> .}| {<http://db.uwaterloo.ca/~galuc/wsdbm/Product28> .}|\n",
            "|{<http://db.uwaterloo.ca/~galuc/wsdbm/Offer609>}|{<http://db.uwaterloo.ca/~galuc/wsdbm/Offer609>, <http://purl.org/goodrelations/includes>, <http://db.uwaterloo.ca/~galuc/wsdbm/Product174> .}|{<http://db.uwaterloo.ca/~galuc/wsdbm/Product174> .}|\n",
            "+------------------------------------------------+----------------------------------------------------------------------------------------------------------------------------------------------+----------------------------------------------------+\n",
            "only showing top 20 rows\n",
            "\n"
          ]
        }
      ]
    },
    {
      "cell_type": "code",
      "source": [
        "offers = graph.find(\"(s)-[p]->(o)\")\\\n",
        "  .filter(\"p.relationship='<http://purl.org/goodrelations/offers>'\") \n",
        "offers.show(50,truncate=200)"
      ],
      "metadata": {
        "id": "Cw_lnKaESSjO",
        "outputId": "37aecc19-8c68-4b87-9ab8-bfafc08ffde0",
        "colab": {
          "base_uri": "https://localhost:8080/"
        }
      },
      "execution_count": 40,
      "outputs": [
        {
          "output_type": "stream",
          "name": "stderr",
          "text": [
            "/usr/local/lib/python3.7/dist-packages/pyspark/sql/dataframe.py:127: UserWarning: DataFrame constructor is internal. Do not directly use it.\n",
            "  warnings.warn(\"DataFrame constructor is internal. Do not directly use it.\")\n"
          ]
        },
        {
          "output_type": "stream",
          "name": "stdout",
          "text": [
            "+-------------------------------------------------+-----------------------------------------------------------------------------------------------------------------------------------------+------------------------------------------------+\n",
            "|                                                s|                                                                                                                                        p|                                               o|\n",
            "+-------------------------------------------------+-----------------------------------------------------------------------------------------------------------------------------------------+------------------------------------------------+\n",
            "|{<http://db.uwaterloo.ca/~galuc/wsdbm/Retailer1>}|{<http://db.uwaterloo.ca/~galuc/wsdbm/Retailer1>, <http://purl.org/goodrelations/offers>, <http://db.uwaterloo.ca/~galuc/wsdbm/Offer367>}|{<http://db.uwaterloo.ca/~galuc/wsdbm/Offer367>}|\n",
            "|{<http://db.uwaterloo.ca/~galuc/wsdbm/Retailer1>}|  {<http://db.uwaterloo.ca/~galuc/wsdbm/Retailer1>, <http://purl.org/goodrelations/offers>, <http://db.uwaterloo.ca/~galuc/wsdbm/Offer2>}|  {<http://db.uwaterloo.ca/~galuc/wsdbm/Offer2>}|\n",
            "|{<http://db.uwaterloo.ca/~galuc/wsdbm/Retailer1>}|  {<http://db.uwaterloo.ca/~galuc/wsdbm/Retailer1>, <http://purl.org/goodrelations/offers>, <http://db.uwaterloo.ca/~galuc/wsdbm/Offer2>}|  {<http://db.uwaterloo.ca/~galuc/wsdbm/Offer2>}|\n",
            "|{<http://db.uwaterloo.ca/~galuc/wsdbm/Retailer1>}|{<http://db.uwaterloo.ca/~galuc/wsdbm/Retailer1>, <http://purl.org/goodrelations/offers>, <http://db.uwaterloo.ca/~galuc/wsdbm/Offer138>}|{<http://db.uwaterloo.ca/~galuc/wsdbm/Offer138>}|\n",
            "|{<http://db.uwaterloo.ca/~galuc/wsdbm/Retailer1>}|  {<http://db.uwaterloo.ca/~galuc/wsdbm/Retailer1>, <http://purl.org/goodrelations/offers>, <http://db.uwaterloo.ca/~galuc/wsdbm/Offer2>}|  {<http://db.uwaterloo.ca/~galuc/wsdbm/Offer2>}|\n",
            "|{<http://db.uwaterloo.ca/~galuc/wsdbm/Retailer1>}| {<http://db.uwaterloo.ca/~galuc/wsdbm/Retailer1>, <http://purl.org/goodrelations/offers>, <http://db.uwaterloo.ca/~galuc/wsdbm/Offer20>}| {<http://db.uwaterloo.ca/~galuc/wsdbm/Offer20>}|\n",
            "|{<http://db.uwaterloo.ca/~galuc/wsdbm/Retailer1>}| {<http://db.uwaterloo.ca/~galuc/wsdbm/Retailer1>, <http://purl.org/goodrelations/offers>, <http://db.uwaterloo.ca/~galuc/wsdbm/Offer15>}| {<http://db.uwaterloo.ca/~galuc/wsdbm/Offer15>}|\n",
            "|{<http://db.uwaterloo.ca/~galuc/wsdbm/Retailer1>}| {<http://db.uwaterloo.ca/~galuc/wsdbm/Retailer1>, <http://purl.org/goodrelations/offers>, <http://db.uwaterloo.ca/~galuc/wsdbm/Offer27>}| {<http://db.uwaterloo.ca/~galuc/wsdbm/Offer27>}|\n",
            "|{<http://db.uwaterloo.ca/~galuc/wsdbm/Retailer1>}|  {<http://db.uwaterloo.ca/~galuc/wsdbm/Retailer1>, <http://purl.org/goodrelations/offers>, <http://db.uwaterloo.ca/~galuc/wsdbm/Offer1>}|  {<http://db.uwaterloo.ca/~galuc/wsdbm/Offer1>}|\n",
            "|{<http://db.uwaterloo.ca/~galuc/wsdbm/Retailer1>}| {<http://db.uwaterloo.ca/~galuc/wsdbm/Retailer1>, <http://purl.org/goodrelations/offers>, <http://db.uwaterloo.ca/~galuc/wsdbm/Offer27>}| {<http://db.uwaterloo.ca/~galuc/wsdbm/Offer27>}|\n",
            "|{<http://db.uwaterloo.ca/~galuc/wsdbm/Retailer1>}| {<http://db.uwaterloo.ca/~galuc/wsdbm/Retailer1>, <http://purl.org/goodrelations/offers>, <http://db.uwaterloo.ca/~galuc/wsdbm/Offer33>}| {<http://db.uwaterloo.ca/~galuc/wsdbm/Offer33>}|\n",
            "|{<http://db.uwaterloo.ca/~galuc/wsdbm/Retailer1>}|{<http://db.uwaterloo.ca/~galuc/wsdbm/Retailer1>, <http://purl.org/goodrelations/offers>, <http://db.uwaterloo.ca/~galuc/wsdbm/Offer285>}|{<http://db.uwaterloo.ca/~galuc/wsdbm/Offer285>}|\n",
            "|{<http://db.uwaterloo.ca/~galuc/wsdbm/Retailer1>}|{<http://db.uwaterloo.ca/~galuc/wsdbm/Retailer1>, <http://purl.org/goodrelations/offers>, <http://db.uwaterloo.ca/~galuc/wsdbm/Offer150>}|{<http://db.uwaterloo.ca/~galuc/wsdbm/Offer150>}|\n",
            "|{<http://db.uwaterloo.ca/~galuc/wsdbm/Retailer1>}|{<http://db.uwaterloo.ca/~galuc/wsdbm/Retailer1>, <http://purl.org/goodrelations/offers>, <http://db.uwaterloo.ca/~galuc/wsdbm/Offer155>}|{<http://db.uwaterloo.ca/~galuc/wsdbm/Offer155>}|\n",
            "|{<http://db.uwaterloo.ca/~galuc/wsdbm/Retailer1>}| {<http://db.uwaterloo.ca/~galuc/wsdbm/Retailer1>, <http://purl.org/goodrelations/offers>, <http://db.uwaterloo.ca/~galuc/wsdbm/Offer49>}| {<http://db.uwaterloo.ca/~galuc/wsdbm/Offer49>}|\n",
            "|{<http://db.uwaterloo.ca/~galuc/wsdbm/Retailer1>}|  {<http://db.uwaterloo.ca/~galuc/wsdbm/Retailer1>, <http://purl.org/goodrelations/offers>, <http://db.uwaterloo.ca/~galuc/wsdbm/Offer0>}|  {<http://db.uwaterloo.ca/~galuc/wsdbm/Offer0>}|\n",
            "|{<http://db.uwaterloo.ca/~galuc/wsdbm/Retailer1>}| {<http://db.uwaterloo.ca/~galuc/wsdbm/Retailer1>, <http://purl.org/goodrelations/offers>, <http://db.uwaterloo.ca/~galuc/wsdbm/Offer21>}| {<http://db.uwaterloo.ca/~galuc/wsdbm/Offer21>}|\n",
            "|{<http://db.uwaterloo.ca/~galuc/wsdbm/Retailer1>}|{<http://db.uwaterloo.ca/~galuc/wsdbm/Retailer1>, <http://purl.org/goodrelations/offers>, <http://db.uwaterloo.ca/~galuc/wsdbm/Offer883>}|{<http://db.uwaterloo.ca/~galuc/wsdbm/Offer883>}|\n",
            "|{<http://db.uwaterloo.ca/~galuc/wsdbm/Retailer1>}|  {<http://db.uwaterloo.ca/~galuc/wsdbm/Retailer1>, <http://purl.org/goodrelations/offers>, <http://db.uwaterloo.ca/~galuc/wsdbm/Offer2>}|  {<http://db.uwaterloo.ca/~galuc/wsdbm/Offer2>}|\n",
            "|{<http://db.uwaterloo.ca/~galuc/wsdbm/Retailer1>}| {<http://db.uwaterloo.ca/~galuc/wsdbm/Retailer1>, <http://purl.org/goodrelations/offers>, <http://db.uwaterloo.ca/~galuc/wsdbm/Offer99>}| {<http://db.uwaterloo.ca/~galuc/wsdbm/Offer99>}|\n",
            "|{<http://db.uwaterloo.ca/~galuc/wsdbm/Retailer1>}|{<http://db.uwaterloo.ca/~galuc/wsdbm/Retailer1>, <http://purl.org/goodrelations/offers>, <http://db.uwaterloo.ca/~galuc/wsdbm/Offer187>}|{<http://db.uwaterloo.ca/~galuc/wsdbm/Offer187>}|\n",
            "|{<http://db.uwaterloo.ca/~galuc/wsdbm/Retailer1>}| {<http://db.uwaterloo.ca/~galuc/wsdbm/Retailer1>, <http://purl.org/goodrelations/offers>, <http://db.uwaterloo.ca/~galuc/wsdbm/Offer10>}| {<http://db.uwaterloo.ca/~galuc/wsdbm/Offer10>}|\n",
            "|{<http://db.uwaterloo.ca/~galuc/wsdbm/Retailer1>}|{<http://db.uwaterloo.ca/~galuc/wsdbm/Retailer1>, <http://purl.org/goodrelations/offers>, <http://db.uwaterloo.ca/~galuc/wsdbm/Offer423>}|{<http://db.uwaterloo.ca/~galuc/wsdbm/Offer423>}|\n",
            "|{<http://db.uwaterloo.ca/~galuc/wsdbm/Retailer1>}|  {<http://db.uwaterloo.ca/~galuc/wsdbm/Retailer1>, <http://purl.org/goodrelations/offers>, <http://db.uwaterloo.ca/~galuc/wsdbm/Offer7>}|  {<http://db.uwaterloo.ca/~galuc/wsdbm/Offer7>}|\n",
            "|{<http://db.uwaterloo.ca/~galuc/wsdbm/Retailer1>}|{<http://db.uwaterloo.ca/~galuc/wsdbm/Retailer1>, <http://purl.org/goodrelations/offers>, <http://db.uwaterloo.ca/~galuc/wsdbm/Offer131>}|{<http://db.uwaterloo.ca/~galuc/wsdbm/Offer131>}|\n",
            "|{<http://db.uwaterloo.ca/~galuc/wsdbm/Retailer1>}|{<http://db.uwaterloo.ca/~galuc/wsdbm/Retailer1>, <http://purl.org/goodrelations/offers>, <http://db.uwaterloo.ca/~galuc/wsdbm/Offer235>}|{<http://db.uwaterloo.ca/~galuc/wsdbm/Offer235>}|\n",
            "|{<http://db.uwaterloo.ca/~galuc/wsdbm/Retailer1>}|  {<http://db.uwaterloo.ca/~galuc/wsdbm/Retailer1>, <http://purl.org/goodrelations/offers>, <http://db.uwaterloo.ca/~galuc/wsdbm/Offer3>}|  {<http://db.uwaterloo.ca/~galuc/wsdbm/Offer3>}|\n",
            "|{<http://db.uwaterloo.ca/~galuc/wsdbm/Retailer1>}|  {<http://db.uwaterloo.ca/~galuc/wsdbm/Retailer1>, <http://purl.org/goodrelations/offers>, <http://db.uwaterloo.ca/~galuc/wsdbm/Offer9>}|  {<http://db.uwaterloo.ca/~galuc/wsdbm/Offer9>}|\n",
            "|{<http://db.uwaterloo.ca/~galuc/wsdbm/Retailer1>}| {<http://db.uwaterloo.ca/~galuc/wsdbm/Retailer1>, <http://purl.org/goodrelations/offers>, <http://db.uwaterloo.ca/~galuc/wsdbm/Offer50>}| {<http://db.uwaterloo.ca/~galuc/wsdbm/Offer50>}|\n",
            "|{<http://db.uwaterloo.ca/~galuc/wsdbm/Retailer1>}|  {<http://db.uwaterloo.ca/~galuc/wsdbm/Retailer1>, <http://purl.org/goodrelations/offers>, <http://db.uwaterloo.ca/~galuc/wsdbm/Offer8>}|  {<http://db.uwaterloo.ca/~galuc/wsdbm/Offer8>}|\n",
            "|{<http://db.uwaterloo.ca/~galuc/wsdbm/Retailer1>}|{<http://db.uwaterloo.ca/~galuc/wsdbm/Retailer1>, <http://purl.org/goodrelations/offers>, <http://db.uwaterloo.ca/~galuc/wsdbm/Offer767>}|{<http://db.uwaterloo.ca/~galuc/wsdbm/Offer767>}|\n",
            "|{<http://db.uwaterloo.ca/~galuc/wsdbm/Retailer1>}|  {<http://db.uwaterloo.ca/~galuc/wsdbm/Retailer1>, <http://purl.org/goodrelations/offers>, <http://db.uwaterloo.ca/~galuc/wsdbm/Offer0>}|  {<http://db.uwaterloo.ca/~galuc/wsdbm/Offer0>}|\n",
            "|{<http://db.uwaterloo.ca/~galuc/wsdbm/Retailer1>}| {<http://db.uwaterloo.ca/~galuc/wsdbm/Retailer1>, <http://purl.org/goodrelations/offers>, <http://db.uwaterloo.ca/~galuc/wsdbm/Offer30>}| {<http://db.uwaterloo.ca/~galuc/wsdbm/Offer30>}|\n",
            "|{<http://db.uwaterloo.ca/~galuc/wsdbm/Retailer1>}|  {<http://db.uwaterloo.ca/~galuc/wsdbm/Retailer1>, <http://purl.org/goodrelations/offers>, <http://db.uwaterloo.ca/~galuc/wsdbm/Offer4>}|  {<http://db.uwaterloo.ca/~galuc/wsdbm/Offer4>}|\n",
            "|{<http://db.uwaterloo.ca/~galuc/wsdbm/Retailer1>}|  {<http://db.uwaterloo.ca/~galuc/wsdbm/Retailer1>, <http://purl.org/goodrelations/offers>, <http://db.uwaterloo.ca/~galuc/wsdbm/Offer0>}|  {<http://db.uwaterloo.ca/~galuc/wsdbm/Offer0>}|\n",
            "|{<http://db.uwaterloo.ca/~galuc/wsdbm/Retailer1>}|  {<http://db.uwaterloo.ca/~galuc/wsdbm/Retailer1>, <http://purl.org/goodrelations/offers>, <http://db.uwaterloo.ca/~galuc/wsdbm/Offer4>}|  {<http://db.uwaterloo.ca/~galuc/wsdbm/Offer4>}|\n",
            "|{<http://db.uwaterloo.ca/~galuc/wsdbm/Retailer1>}|{<http://db.uwaterloo.ca/~galuc/wsdbm/Retailer1>, <http://purl.org/goodrelations/offers>, <http://db.uwaterloo.ca/~galuc/wsdbm/Offer894>}|{<http://db.uwaterloo.ca/~galuc/wsdbm/Offer894>}|\n",
            "|{<http://db.uwaterloo.ca/~galuc/wsdbm/Retailer1>}|  {<http://db.uwaterloo.ca/~galuc/wsdbm/Retailer1>, <http://purl.org/goodrelations/offers>, <http://db.uwaterloo.ca/~galuc/wsdbm/Offer5>}|  {<http://db.uwaterloo.ca/~galuc/wsdbm/Offer5>}|\n",
            "|{<http://db.uwaterloo.ca/~galuc/wsdbm/Retailer1>}|{<http://db.uwaterloo.ca/~galuc/wsdbm/Retailer1>, <http://purl.org/goodrelations/offers>, <http://db.uwaterloo.ca/~galuc/wsdbm/Offer378>}|{<http://db.uwaterloo.ca/~galuc/wsdbm/Offer378>}|\n",
            "|{<http://db.uwaterloo.ca/~galuc/wsdbm/Retailer1>}|  {<http://db.uwaterloo.ca/~galuc/wsdbm/Retailer1>, <http://purl.org/goodrelations/offers>, <http://db.uwaterloo.ca/~galuc/wsdbm/Offer0>}|  {<http://db.uwaterloo.ca/~galuc/wsdbm/Offer0>}|\n",
            "|{<http://db.uwaterloo.ca/~galuc/wsdbm/Retailer1>}| {<http://db.uwaterloo.ca/~galuc/wsdbm/Retailer1>, <http://purl.org/goodrelations/offers>, <http://db.uwaterloo.ca/~galuc/wsdbm/Offer20>}| {<http://db.uwaterloo.ca/~galuc/wsdbm/Offer20>}|\n",
            "|{<http://db.uwaterloo.ca/~galuc/wsdbm/Retailer1>}|  {<http://db.uwaterloo.ca/~galuc/wsdbm/Retailer1>, <http://purl.org/goodrelations/offers>, <http://db.uwaterloo.ca/~galuc/wsdbm/Offer1>}|  {<http://db.uwaterloo.ca/~galuc/wsdbm/Offer1>}|\n",
            "|{<http://db.uwaterloo.ca/~galuc/wsdbm/Retailer1>}| {<http://db.uwaterloo.ca/~galuc/wsdbm/Retailer1>, <http://purl.org/goodrelations/offers>, <http://db.uwaterloo.ca/~galuc/wsdbm/Offer78>}| {<http://db.uwaterloo.ca/~galuc/wsdbm/Offer78>}|\n",
            "|{<http://db.uwaterloo.ca/~galuc/wsdbm/Retailer1>}| {<http://db.uwaterloo.ca/~galuc/wsdbm/Retailer1>, <http://purl.org/goodrelations/offers>, <http://db.uwaterloo.ca/~galuc/wsdbm/Offer16>}| {<http://db.uwaterloo.ca/~galuc/wsdbm/Offer16>}|\n",
            "|{<http://db.uwaterloo.ca/~galuc/wsdbm/Retailer1>}|  {<http://db.uwaterloo.ca/~galuc/wsdbm/Retailer1>, <http://purl.org/goodrelations/offers>, <http://db.uwaterloo.ca/~galuc/wsdbm/Offer3>}|  {<http://db.uwaterloo.ca/~galuc/wsdbm/Offer3>}|\n",
            "|{<http://db.uwaterloo.ca/~galuc/wsdbm/Retailer1>}| {<http://db.uwaterloo.ca/~galuc/wsdbm/Retailer1>, <http://purl.org/goodrelations/offers>, <http://db.uwaterloo.ca/~galuc/wsdbm/Offer22>}| {<http://db.uwaterloo.ca/~galuc/wsdbm/Offer22>}|\n",
            "|{<http://db.uwaterloo.ca/~galuc/wsdbm/Retailer1>}|  {<http://db.uwaterloo.ca/~galuc/wsdbm/Retailer1>, <http://purl.org/goodrelations/offers>, <http://db.uwaterloo.ca/~galuc/wsdbm/Offer1>}|  {<http://db.uwaterloo.ca/~galuc/wsdbm/Offer1>}|\n",
            "|{<http://db.uwaterloo.ca/~galuc/wsdbm/Retailer1>}|  {<http://db.uwaterloo.ca/~galuc/wsdbm/Retailer1>, <http://purl.org/goodrelations/offers>, <http://db.uwaterloo.ca/~galuc/wsdbm/Offer5>}|  {<http://db.uwaterloo.ca/~galuc/wsdbm/Offer5>}|\n",
            "|{<http://db.uwaterloo.ca/~galuc/wsdbm/Retailer1>}| {<http://db.uwaterloo.ca/~galuc/wsdbm/Retailer1>, <http://purl.org/goodrelations/offers>, <http://db.uwaterloo.ca/~galuc/wsdbm/Offer13>}| {<http://db.uwaterloo.ca/~galuc/wsdbm/Offer13>}|\n",
            "|{<http://db.uwaterloo.ca/~galuc/wsdbm/Retailer1>}| {<http://db.uwaterloo.ca/~galuc/wsdbm/Retailer1>, <http://purl.org/goodrelations/offers>, <http://db.uwaterloo.ca/~galuc/wsdbm/Offer56>}| {<http://db.uwaterloo.ca/~galuc/wsdbm/Offer56>}|\n",
            "+-------------------------------------------------+-----------------------------------------------------------------------------------------------------------------------------------------+------------------------------------------------+\n",
            "only showing top 50 rows\n",
            "\n"
          ]
        }
      ]
    },
    {
      "cell_type": "code",
      "source": [
        "includes = graph.find(\"(s)-[p]->(o)\")\\\n",
        "  .filter(\"p.relationship='<http://purl.org/goodrelations/includes>'\") \n",
        "includes.show(50,truncate=200)"
      ],
      "metadata": {
        "id": "M674TeHZSn55",
        "outputId": "3dde5034-799a-40ed-cff7-feef84d94eb8",
        "colab": {
          "base_uri": "https://localhost:8080/"
        }
      },
      "execution_count": 41,
      "outputs": [
        {
          "output_type": "stream",
          "name": "stdout",
          "text": [
            "+------------------------------------------------+--------------------------------------------------------------------------------------------------------------------------------------------+--------------------------------------------------+\n",
            "|                                               s|                                                                                                                                           p|                                                 o|\n",
            "+------------------------------------------------+--------------------------------------------------------------------------------------------------------------------------------------------+--------------------------------------------------+\n",
            "| {<http://db.uwaterloo.ca/~galuc/wsdbm/Offer73>}| {<http://db.uwaterloo.ca/~galuc/wsdbm/Offer73>, <http://purl.org/goodrelations/includes>, <http://db.uwaterloo.ca/~galuc/wsdbm/Product105>}|{<http://db.uwaterloo.ca/~galuc/wsdbm/Product105>}|\n",
            "|{<http://db.uwaterloo.ca/~galuc/wsdbm/Offer148>}| {<http://db.uwaterloo.ca/~galuc/wsdbm/Offer148>, <http://purl.org/goodrelations/includes>, <http://db.uwaterloo.ca/~galuc/wsdbm/Product25>}| {<http://db.uwaterloo.ca/~galuc/wsdbm/Product25>}|\n",
            "|{<http://db.uwaterloo.ca/~galuc/wsdbm/Offer410>}| {<http://db.uwaterloo.ca/~galuc/wsdbm/Offer410>, <http://purl.org/goodrelations/includes>, <http://db.uwaterloo.ca/~galuc/wsdbm/Product33>}| {<http://db.uwaterloo.ca/~galuc/wsdbm/Product33>}|\n",
            "|{<http://db.uwaterloo.ca/~galuc/wsdbm/Offer427>}|{<http://db.uwaterloo.ca/~galuc/wsdbm/Offer427>, <http://purl.org/goodrelations/includes>, <http://db.uwaterloo.ca/~galuc/wsdbm/Product148>}|{<http://db.uwaterloo.ca/~galuc/wsdbm/Product148>}|\n",
            "|{<http://db.uwaterloo.ca/~galuc/wsdbm/Offer751>}|{<http://db.uwaterloo.ca/~galuc/wsdbm/Offer751>, <http://purl.org/goodrelations/includes>, <http://db.uwaterloo.ca/~galuc/wsdbm/Product179>}|{<http://db.uwaterloo.ca/~galuc/wsdbm/Product179>}|\n",
            "|  {<http://db.uwaterloo.ca/~galuc/wsdbm/Offer4>}|  {<http://db.uwaterloo.ca/~galuc/wsdbm/Offer4>, <http://purl.org/goodrelations/includes>, <http://db.uwaterloo.ca/~galuc/wsdbm/Product179>}|{<http://db.uwaterloo.ca/~galuc/wsdbm/Product179>}|\n",
            "|{<http://db.uwaterloo.ca/~galuc/wsdbm/Offer434>}|{<http://db.uwaterloo.ca/~galuc/wsdbm/Offer434>, <http://purl.org/goodrelations/includes>, <http://db.uwaterloo.ca/~galuc/wsdbm/Product145>}|{<http://db.uwaterloo.ca/~galuc/wsdbm/Product145>}|\n",
            "|{<http://db.uwaterloo.ca/~galuc/wsdbm/Offer580>}|{<http://db.uwaterloo.ca/~galuc/wsdbm/Offer580>, <http://purl.org/goodrelations/includes>, <http://db.uwaterloo.ca/~galuc/wsdbm/Product109>}|{<http://db.uwaterloo.ca/~galuc/wsdbm/Product109>}|\n",
            "|{<http://db.uwaterloo.ca/~galuc/wsdbm/Offer809>}| {<http://db.uwaterloo.ca/~galuc/wsdbm/Offer809>, <http://purl.org/goodrelations/includes>, <http://db.uwaterloo.ca/~galuc/wsdbm/Product19>}| {<http://db.uwaterloo.ca/~galuc/wsdbm/Product19>}|\n",
            "|{<http://db.uwaterloo.ca/~galuc/wsdbm/Offer897>}|{<http://db.uwaterloo.ca/~galuc/wsdbm/Offer897>, <http://purl.org/goodrelations/includes>, <http://db.uwaterloo.ca/~galuc/wsdbm/Product125>}|{<http://db.uwaterloo.ca/~galuc/wsdbm/Product125>}|\n",
            "|{<http://db.uwaterloo.ca/~galuc/wsdbm/Offer187>}|{<http://db.uwaterloo.ca/~galuc/wsdbm/Offer187>, <http://purl.org/goodrelations/includes>, <http://db.uwaterloo.ca/~galuc/wsdbm/Product216>}|{<http://db.uwaterloo.ca/~galuc/wsdbm/Product216>}|\n",
            "|{<http://db.uwaterloo.ca/~galuc/wsdbm/Offer216>}| {<http://db.uwaterloo.ca/~galuc/wsdbm/Offer216>, <http://purl.org/goodrelations/includes>, <http://db.uwaterloo.ca/~galuc/wsdbm/Product92>}| {<http://db.uwaterloo.ca/~galuc/wsdbm/Product92>}|\n",
            "|{<http://db.uwaterloo.ca/~galuc/wsdbm/Offer242>}| {<http://db.uwaterloo.ca/~galuc/wsdbm/Offer242>, <http://purl.org/goodrelations/includes>, <http://db.uwaterloo.ca/~galuc/wsdbm/Product25>}| {<http://db.uwaterloo.ca/~galuc/wsdbm/Product25>}|\n",
            "|{<http://db.uwaterloo.ca/~galuc/wsdbm/Offer277>}| {<http://db.uwaterloo.ca/~galuc/wsdbm/Offer277>, <http://purl.org/goodrelations/includes>, <http://db.uwaterloo.ca/~galuc/wsdbm/Product59>}| {<http://db.uwaterloo.ca/~galuc/wsdbm/Product59>}|\n",
            "|{<http://db.uwaterloo.ca/~galuc/wsdbm/Offer480>}|{<http://db.uwaterloo.ca/~galuc/wsdbm/Offer480>, <http://purl.org/goodrelations/includes>, <http://db.uwaterloo.ca/~galuc/wsdbm/Product236>}|{<http://db.uwaterloo.ca/~galuc/wsdbm/Product236>}|\n",
            "| {<http://db.uwaterloo.ca/~galuc/wsdbm/Offer42>}|   {<http://db.uwaterloo.ca/~galuc/wsdbm/Offer42>, <http://purl.org/goodrelations/includes>, <http://db.uwaterloo.ca/~galuc/wsdbm/Product7>}|  {<http://db.uwaterloo.ca/~galuc/wsdbm/Product7>}|\n",
            "|{<http://db.uwaterloo.ca/~galuc/wsdbm/Offer219>}|{<http://db.uwaterloo.ca/~galuc/wsdbm/Offer219>, <http://purl.org/goodrelations/includes>, <http://db.uwaterloo.ca/~galuc/wsdbm/Product124>}|{<http://db.uwaterloo.ca/~galuc/wsdbm/Product124>}|\n",
            "|{<http://db.uwaterloo.ca/~galuc/wsdbm/Offer400>}|{<http://db.uwaterloo.ca/~galuc/wsdbm/Offer400>, <http://purl.org/goodrelations/includes>, <http://db.uwaterloo.ca/~galuc/wsdbm/Product136>}|{<http://db.uwaterloo.ca/~galuc/wsdbm/Product136>}|\n",
            "|{<http://db.uwaterloo.ca/~galuc/wsdbm/Offer430>}| {<http://db.uwaterloo.ca/~galuc/wsdbm/Offer430>, <http://purl.org/goodrelations/includes>, <http://db.uwaterloo.ca/~galuc/wsdbm/Product28>}| {<http://db.uwaterloo.ca/~galuc/wsdbm/Product28>}|\n",
            "|{<http://db.uwaterloo.ca/~galuc/wsdbm/Offer609>}|{<http://db.uwaterloo.ca/~galuc/wsdbm/Offer609>, <http://purl.org/goodrelations/includes>, <http://db.uwaterloo.ca/~galuc/wsdbm/Product174>}|{<http://db.uwaterloo.ca/~galuc/wsdbm/Product174>}|\n",
            "|{<http://db.uwaterloo.ca/~galuc/wsdbm/Offer339>}| {<http://db.uwaterloo.ca/~galuc/wsdbm/Offer339>, <http://purl.org/goodrelations/includes>, <http://db.uwaterloo.ca/~galuc/wsdbm/Product13>}| {<http://db.uwaterloo.ca/~galuc/wsdbm/Product13>}|\n",
            "|{<http://db.uwaterloo.ca/~galuc/wsdbm/Offer519>}|{<http://db.uwaterloo.ca/~galuc/wsdbm/Offer519>, <http://purl.org/goodrelations/includes>, <http://db.uwaterloo.ca/~galuc/wsdbm/Product169>}|{<http://db.uwaterloo.ca/~galuc/wsdbm/Product169>}|\n",
            "|{<http://db.uwaterloo.ca/~galuc/wsdbm/Offer543>}|{<http://db.uwaterloo.ca/~galuc/wsdbm/Offer543>, <http://purl.org/goodrelations/includes>, <http://db.uwaterloo.ca/~galuc/wsdbm/Product205>}|{<http://db.uwaterloo.ca/~galuc/wsdbm/Product205>}|\n",
            "|{<http://db.uwaterloo.ca/~galuc/wsdbm/Offer211>}|{<http://db.uwaterloo.ca/~galuc/wsdbm/Offer211>, <http://purl.org/goodrelations/includes>, <http://db.uwaterloo.ca/~galuc/wsdbm/Product206>}|{<http://db.uwaterloo.ca/~galuc/wsdbm/Product206>}|\n",
            "|{<http://db.uwaterloo.ca/~galuc/wsdbm/Offer302>}|{<http://db.uwaterloo.ca/~galuc/wsdbm/Offer302>, <http://purl.org/goodrelations/includes>, <http://db.uwaterloo.ca/~galuc/wsdbm/Product226>}|{<http://db.uwaterloo.ca/~galuc/wsdbm/Product226>}|\n",
            "|{<http://db.uwaterloo.ca/~galuc/wsdbm/Offer334>}|{<http://db.uwaterloo.ca/~galuc/wsdbm/Offer334>, <http://purl.org/goodrelations/includes>, <http://db.uwaterloo.ca/~galuc/wsdbm/Product130>}|{<http://db.uwaterloo.ca/~galuc/wsdbm/Product130>}|\n",
            "|{<http://db.uwaterloo.ca/~galuc/wsdbm/Offer366>}|{<http://db.uwaterloo.ca/~galuc/wsdbm/Offer366>, <http://purl.org/goodrelations/includes>, <http://db.uwaterloo.ca/~galuc/wsdbm/Product220>}|{<http://db.uwaterloo.ca/~galuc/wsdbm/Product220>}|\n",
            "|{<http://db.uwaterloo.ca/~galuc/wsdbm/Offer492>}|{<http://db.uwaterloo.ca/~galuc/wsdbm/Offer492>, <http://purl.org/goodrelations/includes>, <http://db.uwaterloo.ca/~galuc/wsdbm/Product144>}|{<http://db.uwaterloo.ca/~galuc/wsdbm/Product144>}|\n",
            "|{<http://db.uwaterloo.ca/~galuc/wsdbm/Offer748>}| {<http://db.uwaterloo.ca/~galuc/wsdbm/Offer748>, <http://purl.org/goodrelations/includes>, <http://db.uwaterloo.ca/~galuc/wsdbm/Product88>}| {<http://db.uwaterloo.ca/~galuc/wsdbm/Product88>}|\n",
            "|{<http://db.uwaterloo.ca/~galuc/wsdbm/Offer778>}|{<http://db.uwaterloo.ca/~galuc/wsdbm/Offer778>, <http://purl.org/goodrelations/includes>, <http://db.uwaterloo.ca/~galuc/wsdbm/Product105>}|{<http://db.uwaterloo.ca/~galuc/wsdbm/Product105>}|\n",
            "|{<http://db.uwaterloo.ca/~galuc/wsdbm/Offer641>}|{<http://db.uwaterloo.ca/~galuc/wsdbm/Offer641>, <http://purl.org/goodrelations/includes>, <http://db.uwaterloo.ca/~galuc/wsdbm/Product166>}|{<http://db.uwaterloo.ca/~galuc/wsdbm/Product166>}|\n",
            "| {<http://db.uwaterloo.ca/~galuc/wsdbm/Offer88>}| {<http://db.uwaterloo.ca/~galuc/wsdbm/Offer88>, <http://purl.org/goodrelations/includes>, <http://db.uwaterloo.ca/~galuc/wsdbm/Product227>}|{<http://db.uwaterloo.ca/~galuc/wsdbm/Product227>}|\n",
            "|{<http://db.uwaterloo.ca/~galuc/wsdbm/Offer243>}|{<http://db.uwaterloo.ca/~galuc/wsdbm/Offer243>, <http://purl.org/goodrelations/includes>, <http://db.uwaterloo.ca/~galuc/wsdbm/Product163>}|{<http://db.uwaterloo.ca/~galuc/wsdbm/Product163>}|\n",
            "|{<http://db.uwaterloo.ca/~galuc/wsdbm/Offer250>}|{<http://db.uwaterloo.ca/~galuc/wsdbm/Offer250>, <http://purl.org/goodrelations/includes>, <http://db.uwaterloo.ca/~galuc/wsdbm/Product155>}|{<http://db.uwaterloo.ca/~galuc/wsdbm/Product155>}|\n",
            "|{<http://db.uwaterloo.ca/~galuc/wsdbm/Offer322>}|{<http://db.uwaterloo.ca/~galuc/wsdbm/Offer322>, <http://purl.org/goodrelations/includes>, <http://db.uwaterloo.ca/~galuc/wsdbm/Product237>}|{<http://db.uwaterloo.ca/~galuc/wsdbm/Product237>}|\n",
            "|{<http://db.uwaterloo.ca/~galuc/wsdbm/Offer491>}| {<http://db.uwaterloo.ca/~galuc/wsdbm/Offer491>, <http://purl.org/goodrelations/includes>, <http://db.uwaterloo.ca/~galuc/wsdbm/Product61>}| {<http://db.uwaterloo.ca/~galuc/wsdbm/Product61>}|\n",
            "|{<http://db.uwaterloo.ca/~galuc/wsdbm/Offer538>}|{<http://db.uwaterloo.ca/~galuc/wsdbm/Offer538>, <http://purl.org/goodrelations/includes>, <http://db.uwaterloo.ca/~galuc/wsdbm/Product190>}|{<http://db.uwaterloo.ca/~galuc/wsdbm/Product190>}|\n",
            "|{<http://db.uwaterloo.ca/~galuc/wsdbm/Offer553>}|  {<http://db.uwaterloo.ca/~galuc/wsdbm/Offer553>, <http://purl.org/goodrelations/includes>, <http://db.uwaterloo.ca/~galuc/wsdbm/Product3>}|  {<http://db.uwaterloo.ca/~galuc/wsdbm/Product3>}|\n",
            "|{<http://db.uwaterloo.ca/~galuc/wsdbm/Offer735>}|{<http://db.uwaterloo.ca/~galuc/wsdbm/Offer735>, <http://purl.org/goodrelations/includes>, <http://db.uwaterloo.ca/~galuc/wsdbm/Product114>}|{<http://db.uwaterloo.ca/~galuc/wsdbm/Product114>}|\n",
            "|  {<http://db.uwaterloo.ca/~galuc/wsdbm/Offer3>}|   {<http://db.uwaterloo.ca/~galuc/wsdbm/Offer3>, <http://purl.org/goodrelations/includes>, <http://db.uwaterloo.ca/~galuc/wsdbm/Product58>}| {<http://db.uwaterloo.ca/~galuc/wsdbm/Product58>}|\n",
            "| {<http://db.uwaterloo.ca/~galuc/wsdbm/Offer79>}| {<http://db.uwaterloo.ca/~galuc/wsdbm/Offer79>, <http://purl.org/goodrelations/includes>, <http://db.uwaterloo.ca/~galuc/wsdbm/Product137>}|{<http://db.uwaterloo.ca/~galuc/wsdbm/Product137>}|\n",
            "|{<http://db.uwaterloo.ca/~galuc/wsdbm/Offer266>}|{<http://db.uwaterloo.ca/~galuc/wsdbm/Offer266>, <http://purl.org/goodrelations/includes>, <http://db.uwaterloo.ca/~galuc/wsdbm/Product237>}|{<http://db.uwaterloo.ca/~galuc/wsdbm/Product237>}|\n",
            "|{<http://db.uwaterloo.ca/~galuc/wsdbm/Offer523>}|{<http://db.uwaterloo.ca/~galuc/wsdbm/Offer523>, <http://purl.org/goodrelations/includes>, <http://db.uwaterloo.ca/~galuc/wsdbm/Product114>}|{<http://db.uwaterloo.ca/~galuc/wsdbm/Product114>}|\n",
            "|{<http://db.uwaterloo.ca/~galuc/wsdbm/Offer165>}|{<http://db.uwaterloo.ca/~galuc/wsdbm/Offer165>, <http://purl.org/goodrelations/includes>, <http://db.uwaterloo.ca/~galuc/wsdbm/Product104>}|{<http://db.uwaterloo.ca/~galuc/wsdbm/Product104>}|\n",
            "|{<http://db.uwaterloo.ca/~galuc/wsdbm/Offer358>}| {<http://db.uwaterloo.ca/~galuc/wsdbm/Offer358>, <http://purl.org/goodrelations/includes>, <http://db.uwaterloo.ca/~galuc/wsdbm/Product83>}| {<http://db.uwaterloo.ca/~galuc/wsdbm/Product83>}|\n",
            "|{<http://db.uwaterloo.ca/~galuc/wsdbm/Offer376>}|{<http://db.uwaterloo.ca/~galuc/wsdbm/Offer376>, <http://purl.org/goodrelations/includes>, <http://db.uwaterloo.ca/~galuc/wsdbm/Product158>}|{<http://db.uwaterloo.ca/~galuc/wsdbm/Product158>}|\n",
            "|{<http://db.uwaterloo.ca/~galuc/wsdbm/Offer650>}|{<http://db.uwaterloo.ca/~galuc/wsdbm/Offer650>, <http://purl.org/goodrelations/includes>, <http://db.uwaterloo.ca/~galuc/wsdbm/Product189>}|{<http://db.uwaterloo.ca/~galuc/wsdbm/Product189>}|\n",
            "|{<http://db.uwaterloo.ca/~galuc/wsdbm/Offer817>}|{<http://db.uwaterloo.ca/~galuc/wsdbm/Offer817>, <http://purl.org/goodrelations/includes>, <http://db.uwaterloo.ca/~galuc/wsdbm/Product194>}|{<http://db.uwaterloo.ca/~galuc/wsdbm/Product194>}|\n",
            "|{<http://db.uwaterloo.ca/~galuc/wsdbm/Offer511>}|{<http://db.uwaterloo.ca/~galuc/wsdbm/Offer511>, <http://purl.org/goodrelations/includes>, <http://db.uwaterloo.ca/~galuc/wsdbm/Product142>}|{<http://db.uwaterloo.ca/~galuc/wsdbm/Product142>}|\n",
            "|{<http://db.uwaterloo.ca/~galuc/wsdbm/Offer598>}|{<http://db.uwaterloo.ca/~galuc/wsdbm/Offer598>, <http://purl.org/goodrelations/includes>, <http://db.uwaterloo.ca/~galuc/wsdbm/Product239>}|{<http://db.uwaterloo.ca/~galuc/wsdbm/Product239>}|\n",
            "+------------------------------------------------+--------------------------------------------------------------------------------------------------------------------------------------------+--------------------------------------------------+\n",
            "only showing top 50 rows\n",
            "\n"
          ]
        }
      ]
    },
    {
      "cell_type": "code",
      "source": [
        "chain4 = graph.find(\"(a)-[p1]->(b);(b)-[p2]->(c)\")\\\n",
        "  .filter(\"p1.relationship='<http://purl.org/goodrelations/offers>'\") \\\n",
        "  .filter(\"p2.relationship='<http://purl.org/goodrelations/includes>'\")\n",
        "chain4.show(10)"
      ],
      "metadata": {
        "id": "2HrJI0d5EsnZ",
        "outputId": "a94fcb90-43e7-4959-ad6b-fcf12387ed85",
        "colab": {
          "base_uri": "https://localhost:8080/"
        }
      },
      "execution_count": 42,
      "outputs": [
        {
          "output_type": "stream",
          "name": "stdout",
          "text": [
            "+--------------------+--------------------+--------------------+--------------------+--------------------+\n",
            "|                   a|                  p1|                   b|                  p2|                   c|\n",
            "+--------------------+--------------------+--------------------+--------------------+--------------------+\n",
            "|{<http://db.uwate...|{<http://db.uwate...|{<http://db.uwate...|{<http://db.uwate...|{<http://db.uwate...|\n",
            "|{<http://db.uwate...|{<http://db.uwate...|{<http://db.uwate...|{<http://db.uwate...|{<http://db.uwate...|\n",
            "|{<http://db.uwate...|{<http://db.uwate...|{<http://db.uwate...|{<http://db.uwate...|{<http://db.uwate...|\n",
            "|{<http://db.uwate...|{<http://db.uwate...|{<http://db.uwate...|{<http://db.uwate...|{<http://db.uwate...|\n",
            "|{<http://db.uwate...|{<http://db.uwate...|{<http://db.uwate...|{<http://db.uwate...|{<http://db.uwate...|\n",
            "|{<http://db.uwate...|{<http://db.uwate...|{<http://db.uwate...|{<http://db.uwate...|{<http://db.uwate...|\n",
            "|{<http://db.uwate...|{<http://db.uwate...|{<http://db.uwate...|{<http://db.uwate...|{<http://db.uwate...|\n",
            "|{<http://db.uwate...|{<http://db.uwate...|{<http://db.uwate...|{<http://db.uwate...|{<http://db.uwate...|\n",
            "|{<http://db.uwate...|{<http://db.uwate...|{<http://db.uwate...|{<http://db.uwate...|{<http://db.uwate...|\n",
            "|{<http://db.uwate...|{<http://db.uwate...|{<http://db.uwate...|{<http://db.uwate...|{<http://db.uwate...|\n",
            "+--------------------+--------------------+--------------------+--------------------+--------------------+\n",
            "only showing top 10 rows\n",
            "\n"
          ]
        }
      ]
    },
    {
      "cell_type": "code",
      "source": [
        "shared = graph.find(\"(a)-[p]->(b);(a1)-[p1]->(b)\") \\\n",
        "  .filter(\"p.relationship='<http://purl.org/goodrelations/offers>'\") \\\n",
        "  .filter(\"p1.relationship='<http://purl.org/goodrelations/offers>'\")\n",
        "shared.show(10,truncate=200)"
      ],
      "metadata": {
        "colab": {
          "base_uri": "https://localhost:8080/"
        },
        "id": "6QdI2Rhq9ILU",
        "outputId": "76ab0dc9-2621-4587-a43a-0abb43952b38"
      },
      "execution_count": 46,
      "outputs": [
        {
          "output_type": "stream",
          "name": "stderr",
          "text": [
            "/usr/local/lib/python3.7/dist-packages/pyspark/sql/dataframe.py:127: UserWarning: DataFrame constructor is internal. Do not directly use it.\n",
            "  warnings.warn(\"DataFrame constructor is internal. Do not directly use it.\")\n"
          ]
        },
        {
          "output_type": "stream",
          "name": "stdout",
          "text": [
            "+-------------------------------------------------+----------------------------------------------------------------------------------------------------------------------------------------+-----------------------------------------------+-------------------------------------------------+----------------------------------------------------------------------------------------------------------------------------------------+\n",
            "|                                                a|                                                                                                                                       p|                                              b|                                               a1|                                                                                                                                      p1|\n",
            "+-------------------------------------------------+----------------------------------------------------------------------------------------------------------------------------------------+-----------------------------------------------+-------------------------------------------------+----------------------------------------------------------------------------------------------------------------------------------------+\n",
            "|{<http://db.uwaterloo.ca/~galuc/wsdbm/Retailer2>}|{<http://db.uwaterloo.ca/~galuc/wsdbm/Retailer2>, <http://purl.org/goodrelations/offers>, <http://db.uwaterloo.ca/~galuc/wsdbm/Offer73>}|{<http://db.uwaterloo.ca/~galuc/wsdbm/Offer73>}|{<http://db.uwaterloo.ca/~galuc/wsdbm/Retailer0>}|{<http://db.uwaterloo.ca/~galuc/wsdbm/Retailer0>, <http://purl.org/goodrelations/offers>, <http://db.uwaterloo.ca/~galuc/wsdbm/Offer73>}|\n",
            "|{<http://db.uwaterloo.ca/~galuc/wsdbm/Retailer8>}|{<http://db.uwaterloo.ca/~galuc/wsdbm/Retailer8>, <http://purl.org/goodrelations/offers>, <http://db.uwaterloo.ca/~galuc/wsdbm/Offer73>}|{<http://db.uwaterloo.ca/~galuc/wsdbm/Offer73>}|{<http://db.uwaterloo.ca/~galuc/wsdbm/Retailer0>}|{<http://db.uwaterloo.ca/~galuc/wsdbm/Retailer0>, <http://purl.org/goodrelations/offers>, <http://db.uwaterloo.ca/~galuc/wsdbm/Offer73>}|\n",
            "|{<http://db.uwaterloo.ca/~galuc/wsdbm/Retailer0>}|{<http://db.uwaterloo.ca/~galuc/wsdbm/Retailer0>, <http://purl.org/goodrelations/offers>, <http://db.uwaterloo.ca/~galuc/wsdbm/Offer73>}|{<http://db.uwaterloo.ca/~galuc/wsdbm/Offer73>}|{<http://db.uwaterloo.ca/~galuc/wsdbm/Retailer0>}|{<http://db.uwaterloo.ca/~galuc/wsdbm/Retailer0>, <http://purl.org/goodrelations/offers>, <http://db.uwaterloo.ca/~galuc/wsdbm/Offer73>}|\n",
            "|{<http://db.uwaterloo.ca/~galuc/wsdbm/Retailer4>}|{<http://db.uwaterloo.ca/~galuc/wsdbm/Retailer4>, <http://purl.org/goodrelations/offers>, <http://db.uwaterloo.ca/~galuc/wsdbm/Offer73>}|{<http://db.uwaterloo.ca/~galuc/wsdbm/Offer73>}|{<http://db.uwaterloo.ca/~galuc/wsdbm/Retailer0>}|{<http://db.uwaterloo.ca/~galuc/wsdbm/Retailer0>, <http://purl.org/goodrelations/offers>, <http://db.uwaterloo.ca/~galuc/wsdbm/Offer73>}|\n",
            "|{<http://db.uwaterloo.ca/~galuc/wsdbm/Retailer4>}|{<http://db.uwaterloo.ca/~galuc/wsdbm/Retailer4>, <http://purl.org/goodrelations/offers>, <http://db.uwaterloo.ca/~galuc/wsdbm/Offer73>}|{<http://db.uwaterloo.ca/~galuc/wsdbm/Offer73>}|{<http://db.uwaterloo.ca/~galuc/wsdbm/Retailer0>}|{<http://db.uwaterloo.ca/~galuc/wsdbm/Retailer0>, <http://purl.org/goodrelations/offers>, <http://db.uwaterloo.ca/~galuc/wsdbm/Offer73>}|\n",
            "|{<http://db.uwaterloo.ca/~galuc/wsdbm/Retailer2>}|{<http://db.uwaterloo.ca/~galuc/wsdbm/Retailer2>, <http://purl.org/goodrelations/offers>, <http://db.uwaterloo.ca/~galuc/wsdbm/Offer73>}|{<http://db.uwaterloo.ca/~galuc/wsdbm/Offer73>}|{<http://db.uwaterloo.ca/~galuc/wsdbm/Retailer2>}|{<http://db.uwaterloo.ca/~galuc/wsdbm/Retailer2>, <http://purl.org/goodrelations/offers>, <http://db.uwaterloo.ca/~galuc/wsdbm/Offer73>}|\n",
            "|{<http://db.uwaterloo.ca/~galuc/wsdbm/Retailer8>}|{<http://db.uwaterloo.ca/~galuc/wsdbm/Retailer8>, <http://purl.org/goodrelations/offers>, <http://db.uwaterloo.ca/~galuc/wsdbm/Offer73>}|{<http://db.uwaterloo.ca/~galuc/wsdbm/Offer73>}|{<http://db.uwaterloo.ca/~galuc/wsdbm/Retailer2>}|{<http://db.uwaterloo.ca/~galuc/wsdbm/Retailer2>, <http://purl.org/goodrelations/offers>, <http://db.uwaterloo.ca/~galuc/wsdbm/Offer73>}|\n",
            "|{<http://db.uwaterloo.ca/~galuc/wsdbm/Retailer0>}|{<http://db.uwaterloo.ca/~galuc/wsdbm/Retailer0>, <http://purl.org/goodrelations/offers>, <http://db.uwaterloo.ca/~galuc/wsdbm/Offer73>}|{<http://db.uwaterloo.ca/~galuc/wsdbm/Offer73>}|{<http://db.uwaterloo.ca/~galuc/wsdbm/Retailer2>}|{<http://db.uwaterloo.ca/~galuc/wsdbm/Retailer2>, <http://purl.org/goodrelations/offers>, <http://db.uwaterloo.ca/~galuc/wsdbm/Offer73>}|\n",
            "|{<http://db.uwaterloo.ca/~galuc/wsdbm/Retailer4>}|{<http://db.uwaterloo.ca/~galuc/wsdbm/Retailer4>, <http://purl.org/goodrelations/offers>, <http://db.uwaterloo.ca/~galuc/wsdbm/Offer73>}|{<http://db.uwaterloo.ca/~galuc/wsdbm/Offer73>}|{<http://db.uwaterloo.ca/~galuc/wsdbm/Retailer2>}|{<http://db.uwaterloo.ca/~galuc/wsdbm/Retailer2>, <http://purl.org/goodrelations/offers>, <http://db.uwaterloo.ca/~galuc/wsdbm/Offer73>}|\n",
            "|{<http://db.uwaterloo.ca/~galuc/wsdbm/Retailer4>}|{<http://db.uwaterloo.ca/~galuc/wsdbm/Retailer4>, <http://purl.org/goodrelations/offers>, <http://db.uwaterloo.ca/~galuc/wsdbm/Offer73>}|{<http://db.uwaterloo.ca/~galuc/wsdbm/Offer73>}|{<http://db.uwaterloo.ca/~galuc/wsdbm/Retailer2>}|{<http://db.uwaterloo.ca/~galuc/wsdbm/Retailer2>, <http://purl.org/goodrelations/offers>, <http://db.uwaterloo.ca/~galuc/wsdbm/Offer73>}|\n",
            "+-------------------------------------------------+----------------------------------------------------------------------------------------------------------------------------------------+-----------------------------------------------+-------------------------------------------------+----------------------------------------------------------------------------------------------------------------------------------------+\n",
            "only showing top 10 rows\n",
            "\n"
          ]
        }
      ]
    },
    {
      "cell_type": "code",
      "source": [
        "#marche pas comme ça...\n",
        "ret2 = graph.filterVertices(\"id='<http://db.uwaterloo.ca/~galuc/wsdbm/Retailer2>'\")\n",
        "ret2.triplets.show(10)\n"
      ],
      "metadata": {
        "id": "VDV0E01kCU-T",
        "outputId": "479abf9f-2464-4fc4-93c8-fc7d605aed5c",
        "colab": {
          "base_uri": "https://localhost:8080/"
        }
      },
      "execution_count": 50,
      "outputs": [
        {
          "output_type": "stream",
          "name": "stdout",
          "text": [
            "+---+----+---+\n",
            "|src|edge|dst|\n",
            "+---+----+---+\n",
            "+---+----+---+\n",
            "\n"
          ]
        }
      ]
    }
  ]
}