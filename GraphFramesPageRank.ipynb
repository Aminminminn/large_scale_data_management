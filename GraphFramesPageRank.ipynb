{
  "nbformat": 4,
  "nbformat_minor": 0,
  "metadata": {
    "colab": {
      "provenance": [],
      "include_colab_link": true
    },
    "kernelspec": {
      "name": "python3",
      "display_name": "Python 3"
    },
    "language_info": {
      "name": "python"
    }
  },
  "cells": [
    {
      "cell_type": "markdown",
      "metadata": {
        "id": "view-in-github",
        "colab_type": "text"
      },
      "source": [
        "<a href=\"https://colab.research.google.com/github/momo54/large_scale_data_management/blob/main/GraphFramesPageRank.ipynb\" target=\"_parent\"><img src=\"https://colab.research.google.com/assets/colab-badge.svg\" alt=\"Open In Colab\"/></a>"
      ]
    },
    {
      "cell_type": "markdown",
      "source": [
        "! RDF and  GraphFrames\n",
        "\n",
        "GraphFrame is an additional package to perform graph processing in Spark. It is concurrent to GraphX, but available in Python.\n",
        "\n",
        "\n",
        "launching in a terminal\n",
        "\n",
        "```\n",
        "pyspark --packages graphframes:graphframes:0.8.1-spark3.0-s_2.12\n",
        "```\n",
        "\n",
        "Valid configuration are listed in:\n",
        "```\n",
        "https://spark-packages.org/package/graphframes/graphframes\n",
        "```\n"
      ],
      "metadata": {
        "id": "mWDwyWU7125d"
      }
    },
    {
      "cell_type": "code",
      "execution_count": 1,
      "metadata": {
        "colab": {
          "base_uri": "https://localhost:8080/"
        },
        "id": "4tTxN7y7FTRZ",
        "outputId": "23895d71-0dcf-4e8f-a090-2bcfd428ffeb"
      },
      "outputs": [
        {
          "output_type": "stream",
          "name": "stdout",
          "text": [
            "Looking in indexes: https://pypi.org/simple, https://us-python.pkg.dev/colab-wheels/public/simple/\n",
            "Requirement already satisfied: pyspark in /usr/local/lib/python3.7/dist-packages (3.3.1)\n",
            "Requirement already satisfied: py4j==0.10.9.5 in /usr/local/lib/python3.7/dist-packages (from pyspark) (0.10.9.5)\n"
          ]
        }
      ],
      "source": [
        "!pip install pyspark"
      ]
    },
    {
      "cell_type": "code",
      "source": [
        "!pip install graphframes"
      ],
      "metadata": {
        "colab": {
          "base_uri": "https://localhost:8080/"
        },
        "id": "EZdTiIlDFUE1",
        "outputId": "4c6f0ac0-dfeb-488c-93ea-c368b5353912"
      },
      "execution_count": 2,
      "outputs": [
        {
          "output_type": "stream",
          "name": "stdout",
          "text": [
            "Looking in indexes: https://pypi.org/simple, https://us-python.pkg.dev/colab-wheels/public/simple/\n",
            "Requirement already satisfied: graphframes in /usr/local/lib/python3.7/dist-packages (0.6)\n",
            "Requirement already satisfied: nose in /usr/local/lib/python3.7/dist-packages (from graphframes) (1.3.7)\n",
            "Requirement already satisfied: numpy in /usr/local/lib/python3.7/dist-packages (from graphframes) (1.21.6)\n"
          ]
        }
      ]
    },
    {
      "cell_type": "code",
      "source": [
        "!wget -nc https://repos.spark-packages.org/graphframes/graphframes/0.8.2-spark3.2-s_2.12/graphframes-0.8.2-spark3.2-s_2.12.jar\n",
        "!cp graphframes-0.8.2-spark3.2-s_2.12.jar /usr/local/lib/python3.6/dist-packages/jars"
      ],
      "metadata": {
        "colab": {
          "base_uri": "https://localhost:8080/"
        },
        "id": "kB0eCUPsft5y",
        "outputId": "a7f73e00-10d3-473e-b99e-48d89aaf544d"
      },
      "execution_count": 14,
      "outputs": [
        {
          "output_type": "stream",
          "name": "stdout",
          "text": [
            "File ‘graphframes-0.8.2-spark3.2-s_2.12.jar’ already there; not retrieving.\n",
            "\n"
          ]
        }
      ]
    },
    {
      "cell_type": "code",
      "source": [
        "from pyspark.sql import SparkSession\n",
        "from graphframes import GraphFrame\n",
        "\n",
        "spark = SparkSession.builder.appName(\"Basics\").getOrCreate()\n"
      ],
      "metadata": {
        "id": "e6wRKrwMFVix"
      },
      "execution_count": 13,
      "outputs": []
    },
    {
      "cell_type": "code",
      "source": [
        "spark = SparkSession.builder.master(\"local[*]\").config(\"spark.jars.packages\", \"graphframes:graphframes:0.8.2-spark3.2-s_2.12\").getOrCreate()  "
      ],
      "metadata": {
        "id": "n6qmTMbjFWzp"
      },
      "execution_count": 5,
      "outputs": []
    },
    {
      "cell_type": "code",
      "source": [
        "# checking that everything works...\n",
        "\n",
        "# Create a Vertex DataFrame with unique ID column \"id\"\n",
        "v = spark.createDataFrame([\n",
        "  (\"a\", \"Alice\", 34),\n",
        "  (\"b\", \"Bob\", 36),\n",
        "  (\"c\", \"Charlie\", 30),\n",
        "], [\"id\", \"name\", \"age\"])\n",
        "# Create an Edge DataFrame with \"src\" and \"dst\" columns\n",
        "e = spark.createDataFrame([\n",
        "  (\"a\", \"b\", \"friend\"),\n",
        "  (\"b\", \"c\", \"follow\"),\n",
        "  (\"c\", \"b\", \"follow\"),\n",
        "], [\"src\", \"dst\", \"relationship\"])\n",
        "# Create a GraphFrame\n",
        "from graphframes import *\n",
        "g = GraphFrame(v, e)\n",
        "\n",
        "# Query: Get in-degree of each vertex.\n",
        "g.inDegrees.show()\n",
        "\n",
        "# Query: Count the number of \"follow\" connections in the graph.\n",
        "print(g.edges.filter(\"relationship = 'follow'\").count())\n",
        "\n",
        "# Run PageRank algorithm, and show results.\n",
        "results = g.pageRank(resetProbability=0.01, maxIter=20)\n",
        "results.vertices.select(\"id\", \"pagerank\").show()\n"
      ],
      "metadata": {
        "id": "0q-i4-T_FtNR",
        "colab": {
          "base_uri": "https://localhost:8080/"
        },
        "outputId": "496a148a-8aaf-44a5-afb5-21933ded1c13"
      },
      "execution_count": 12,
      "outputs": [
        {
          "output_type": "stream",
          "name": "stdout",
          "text": [
            "+---+--------+\n",
            "| id|inDegree|\n",
            "+---+--------+\n",
            "|  b|       2|\n",
            "|  c|       1|\n",
            "+---+--------+\n",
            "\n",
            "2\n",
            "+---+------------------+\n",
            "| id|          pagerank|\n",
            "+---+------------------+\n",
            "|  c|1.8994109890559092|\n",
            "|  b|1.0905890109440908|\n",
            "|  a|              0.01|\n",
            "+---+------------------+\n",
            "\n"
          ]
        }
      ]
    },
    {
      "cell_type": "code",
      "source": [
        "e.printSchema()"
      ],
      "metadata": {
        "colab": {
          "base_uri": "https://localhost:8080/"
        },
        "id": "oRaoAxSoxrQ8",
        "outputId": "1516c079-eab5-49cd-9fc0-d60d9011cf36"
      },
      "execution_count": 19,
      "outputs": [
        {
          "output_type": "stream",
          "name": "stdout",
          "text": [
            "root\n",
            " |-- src: string (nullable = true)\n",
            " |-- dst: string (nullable = true)\n",
            " |-- relationship: string (nullable = true)\n",
            "\n"
          ]
        }
      ]
    },
    {
      "cell_type": "code",
      "source": [
        "# using a more realistic RDF graph (only triples)\n",
        "\n",
        "!wget -nc -q https://raw.githubusercontent.com/momo54/large_scale_data_management/main/small_page_links.nt"
      ],
      "metadata": {
        "id": "WZ4kD_Lbt7NW"
      },
      "execution_count": 15,
      "outputs": []
    },
    {
      "cell_type": "code",
      "source": [
        "from pyspark.sql.types import StructType,StringType\n",
        "schema=StructType() \\\n",
        "  .add(\"src\",StringType(),True) \\\n",
        "  .add(\"relationship\",StringType(),True) \\\n",
        "  .add(\"dst\",StringType(),True) \n",
        "\n",
        "# reading Triples\n",
        "# managing quads requires Reification :-/\n",
        "edges=spark.read.format(\"csv\") \\\n",
        "  .options(delimiter=\" \") \\\n",
        "  .schema(schema) \\\n",
        "  .load([\"multi.txt0.txt\"])\n",
        "#  .load([\"multi.txt0.txt\",\"catalog.txt0.txt\"])\n",
        "\n",
        "edges.take(1)\n",
        "\n",
        "#generating Vertices from Edges...\n",
        "vertices=edges.select('src') \\\n",
        "  .union(edges.select('dst')) \\\n",
        "  .distinct() \\\n",
        "  .withColumnRenamed('src', 'id')\n",
        "\n",
        "vertices.take(1)\n",
        "\n",
        "graph = GraphFrame(vertices, edges)\n",
        "\n",
        "# Query: Get in-degree of each vertex.\n",
        "graph.inDegrees.show()\n",
        "\n",
        "vertices.show(10)\n",
        "\n",
        "edges.select(\"relationship\").distinct().show(200)\n",
        "edges.filter(\"relationship='includes'\").show(200)"
      ],
      "metadata": {
        "colab": {
          "base_uri": "https://localhost:8080/"
        },
        "id": "VHPoN1rqv-Fl",
        "outputId": "3a194422-d3b0-4af1-8a40-0734969dad0e"
      },
      "execution_count": 105,
      "outputs": [
        {
          "output_type": "stream",
          "name": "stderr",
          "text": [
            "/usr/local/lib/python3.7/dist-packages/pyspark/sql/dataframe.py:149: UserWarning: DataFrame.sql_ctx is an internal property, and will be removed in future releases. Use DataFrame.sparkSession instead.\n",
            "  \"DataFrame.sql_ctx is an internal property, and will be removed \"\n",
            "/usr/local/lib/python3.7/dist-packages/pyspark/sql/dataframe.py:127: UserWarning: DataFrame constructor is internal. Do not directly use it.\n",
            "  warnings.warn(\"DataFrame constructor is internal. Do not directly use it.\")\n"
          ]
        },
        {
          "output_type": "stream",
          "name": "stdout",
          "text": [
            "+-----------------+--------+\n",
            "|               id|inDegree|\n",
            "+-----------------+--------+\n",
            "|        date_4143|       1|\n",
            "|     integer_2859|       1|\n",
            "|      string_1891|       1|\n",
            "|OtherProduct_1219|       1|\n",
            "|      string_1643|       1|\n",
            "|     integer_3390|       1|\n",
            "|     integer_2419|       1|\n",
            "|       Gender_728|       1|\n",
            "|      Country_677|       1|\n",
            "|        date_4033|       1|\n",
            "|      string_1471|       1|\n",
            "|        date_3716|       1|\n",
            "|      string_2240|       1|\n",
            "|     integer_3114|       1|\n",
            "|     integer_2728|       1|\n",
            "|     integer_3010|       1|\n",
            "|        date_4096|       2|\n",
            "|      string_1824|       1|\n",
            "|     integer_2451|       1|\n",
            "|      Country_671|       1|\n",
            "+-----------------+--------+\n",
            "only showing top 20 rows\n",
            "\n",
            "+-------------+\n",
            "|           id|\n",
            "+-------------+\n",
            "|   Offer_1264|\n",
            "|  Review_1362|\n",
            "|    User_1391|\n",
            "|Purchase_1342|\n",
            "|  Review_1364|\n",
            "|   Offer_1244|\n",
            "|  Review_1374|\n",
            "|   Offer_1238|\n",
            "|   Offer_1326|\n",
            "|Purchase_1336|\n",
            "+-------------+\n",
            "only showing top 10 rows\n",
            "\n",
            "+----------------+\n",
            "|    relationship|\n",
            "+----------------+\n",
            "|   makesPurchase|\n",
            "|            name|\n",
            "|    validThrough|\n",
            "|        jobTitle|\n",
            "|           title|\n",
            "|     description|\n",
            "|       validForm|\n",
            "|    purchaseDate|\n",
            "|    serialNumber|\n",
            "|        includes|\n",
            "|     purchaseFor|\n",
            "|      totalVotes|\n",
            "|       givenName|\n",
            "|        friendOf|\n",
            "|         follows|\n",
            "|           email|\n",
            "|      familyName|\n",
            "|     nationality|\n",
            "|          editor|\n",
            "|             age|\n",
            "|          userId|\n",
            "|            type|\n",
            "|            like|\n",
            "|       birthDate|\n",
            "|           price|\n",
            "|        location|\n",
            "|          gender|\n",
            "|        employee|\n",
            "|    contactPoint|\n",
            "|            text|\n",
            "| priceValidUntil|\n",
            "|eligibleQuantity|\n",
            "|          rating|\n",
            "|          offers|\n",
            "|       telephone|\n",
            "+----------------+\n",
            "\n",
            "+----------+------------+--------------------+\n",
            "|       src|relationship|                 dst|\n",
            "+----------+------------+--------------------+\n",
            "|Offer_1302|    includes|ClassicalMusicCon...|\n",
            "|Offer_1295|    includes|      MusicAlbum_731|\n",
            "|Offer_1297|    includes|      MusicAlbum_738|\n",
            "|Offer_1248|    includes|      MusicAlbum_746|\n",
            "|Offer_1307|    includes|      MusicAlbum_750|\n",
            "|Offer_1285|    includes|      MusicAlbum_753|\n",
            "|Offer_1286|    includes|      MusicAlbum_753|\n",
            "|Offer_1251|    includes|      MusicAlbum_754|\n",
            "|Offer_1329|    includes|      MusicAlbum_754|\n",
            "|Offer_1261|    includes|      MusicAlbum_758|\n",
            "|Offer_1260|    includes|      MusicAlbum_759|\n",
            "|Offer_1239|    includes|      MusicAlbum_759|\n",
            "|Offer_1236|    includes|      MusicAlbum_771|\n",
            "|Offer_1281|    includes|      MusicAlbum_782|\n",
            "|Offer_1293|    includes|      MusicAlbum_789|\n",
            "|Offer_1252|    includes|      MusicAlbum_793|\n",
            "|Offer_1237|    includes|      MusicAlbum_799|\n",
            "|Offer_1323|    includes|      MusicAlbum_800|\n",
            "|Offer_1316|    includes|      MusicAlbum_802|\n",
            "|Offer_1256|    includes|      MusicAlbum_803|\n",
            "|Offer_1312|    includes|      MusicAlbum_805|\n",
            "|Offer_1304|    includes|      MusicAlbum_809|\n",
            "|Offer_1234|    includes|      MusicAlbum_816|\n",
            "|Offer_1249|    includes|      MusicAlbum_816|\n",
            "|Offer_1253|    includes|      MusicAlbum_824|\n",
            "|Offer_1265|    includes|      MusicAlbum_826|\n",
            "|Offer_1243|    includes|           Movie_831|\n",
            "|Offer_1324|    includes|           Movie_835|\n",
            "|Offer_1300|    includes|           Movie_838|\n",
            "|Offer_1276|    includes|           Movie_852|\n",
            "|Offer_1325|    includes|           Movie_853|\n",
            "|Offer_1328|    includes|           Movie_855|\n",
            "|Offer_1306|    includes|           Movie_871|\n",
            "|Offer_1238|    includes|           Movie_883|\n",
            "|Offer_1310|    includes|           Movie_900|\n",
            "|Offer_1308|    includes|           Movie_921|\n",
            "|Offer_1319|    includes|           Movie_921|\n",
            "|Offer_1330|    includes|            Book_932|\n",
            "|Offer_1270|    includes|            Book_940|\n",
            "|Offer_1316|    includes|            Book_943|\n",
            "|Offer_1314|    includes|            Book_947|\n",
            "|Offer_1309|    includes|            Book_949|\n",
            "|Offer_1290|    includes|            Book_949|\n",
            "|Offer_1249|    includes|            Book_973|\n",
            "|Offer_1248|    includes|           Book_1013|\n",
            "|Offer_1294|    includes|           Book_1015|\n",
            "|Offer_1297|    includes|           Book_1016|\n",
            "|Offer_1256|    includes|           Book_1017|\n",
            "|Offer_1244|    includes|           Book_1030|\n",
            "|Offer_1317|    includes|    NewsArticle_1032|\n",
            "|Offer_1310|    includes|    NewsArticle_1052|\n",
            "|Offer_1288|    includes|    NewsArticle_1055|\n",
            "|Offer_1331|    includes|    NewsArticle_1061|\n",
            "|Offer_1327|    includes|    NewsArticle_1065|\n",
            "|Offer_1250|    includes|    NewsArticle_1066|\n",
            "|Offer_1297|    includes|    NewsArticle_1096|\n",
            "|Offer_1318|    includes|    NewsArticle_1103|\n",
            "|Offer_1237|    includes|    NewsArticle_1103|\n",
            "|Offer_1294|    includes|    NewsArticle_1114|\n",
            "|Offer_1267|    includes|    NewsArticle_1115|\n",
            "|Offer_1240|    includes|    NewsArticle_1126|\n",
            "|Offer_1232|    includes|    NewsArticle_1129|\n",
            "|Offer_1272|    includes|   OtherProduct_1133|\n",
            "|Offer_1245|    includes|   OtherProduct_1150|\n",
            "|Offer_1265|    includes|   OtherProduct_1151|\n",
            "|Offer_1300|    includes|   OtherProduct_1151|\n",
            "|Offer_1294|    includes|   OtherProduct_1163|\n",
            "|Offer_1289|    includes|   OtherProduct_1167|\n",
            "|Offer_1279|    includes|   OtherProduct_1170|\n",
            "|Offer_1290|    includes|   OtherProduct_1173|\n",
            "|Offer_1259|    includes|   OtherProduct_1179|\n",
            "|Offer_1307|    includes|   OtherProduct_1180|\n",
            "|Offer_1283|    includes|   OtherProduct_1182|\n",
            "|Offer_1264|    includes|   OtherProduct_1182|\n",
            "|Offer_1242|    includes|   OtherProduct_1183|\n",
            "|Offer_1305|    includes|   OtherProduct_1187|\n",
            "|Offer_1330|    includes|   OtherProduct_1195|\n",
            "|Offer_1236|    includes|   OtherProduct_1200|\n",
            "|Offer_1269|    includes|   OtherProduct_1206|\n",
            "|Offer_1240|    includes|   OtherProduct_1225|\n",
            "|Offer_1276|    includes|   OtherProduct_1227|\n",
            "+----------+------------+--------------------+\n",
            "\n"
          ]
        }
      ]
    },
    {
      "cell_type": "code",
      "source": [
        "subgraph=graph.filterEdges(\"relationship='includes'\").dropIsolatedVertices()\n",
        "subgraph.triplets.show(truncate=200)"
      ],
      "metadata": {
        "id": "KykUG2e_A6WA",
        "outputId": "6a42c864-65da-457c-a7b4-e585a07846f5",
        "colab": {
          "base_uri": "https://localhost:8080/"
        }
      },
      "execution_count": 106,
      "outputs": [
        {
          "output_type": "stream",
          "name": "stdout",
          "text": [
            "+------------+-------------------------------------------------+---------------------------+\n",
            "|         src|                                             edge|                        dst|\n",
            "+------------+-------------------------------------------------+---------------------------+\n",
            "|{Offer_1302}|{Offer_1302, includes, ClassicalMusicConcert_730}|{ClassicalMusicConcert_730}|\n",
            "|{Offer_1295}|           {Offer_1295, includes, MusicAlbum_731}|           {MusicAlbum_731}|\n",
            "|{Offer_1297}|           {Offer_1297, includes, MusicAlbum_738}|           {MusicAlbum_738}|\n",
            "|{Offer_1248}|           {Offer_1248, includes, MusicAlbum_746}|           {MusicAlbum_746}|\n",
            "|{Offer_1307}|           {Offer_1307, includes, MusicAlbum_750}|           {MusicAlbum_750}|\n",
            "|{Offer_1285}|           {Offer_1285, includes, MusicAlbum_753}|           {MusicAlbum_753}|\n",
            "|{Offer_1286}|           {Offer_1286, includes, MusicAlbum_753}|           {MusicAlbum_753}|\n",
            "|{Offer_1251}|           {Offer_1251, includes, MusicAlbum_754}|           {MusicAlbum_754}|\n",
            "|{Offer_1329}|           {Offer_1329, includes, MusicAlbum_754}|           {MusicAlbum_754}|\n",
            "|{Offer_1261}|           {Offer_1261, includes, MusicAlbum_758}|           {MusicAlbum_758}|\n",
            "|{Offer_1260}|           {Offer_1260, includes, MusicAlbum_759}|           {MusicAlbum_759}|\n",
            "|{Offer_1239}|           {Offer_1239, includes, MusicAlbum_759}|           {MusicAlbum_759}|\n",
            "|{Offer_1236}|           {Offer_1236, includes, MusicAlbum_771}|           {MusicAlbum_771}|\n",
            "|{Offer_1281}|           {Offer_1281, includes, MusicAlbum_782}|           {MusicAlbum_782}|\n",
            "|{Offer_1293}|           {Offer_1293, includes, MusicAlbum_789}|           {MusicAlbum_789}|\n",
            "|{Offer_1252}|           {Offer_1252, includes, MusicAlbum_793}|           {MusicAlbum_793}|\n",
            "|{Offer_1237}|           {Offer_1237, includes, MusicAlbum_799}|           {MusicAlbum_799}|\n",
            "|{Offer_1323}|           {Offer_1323, includes, MusicAlbum_800}|           {MusicAlbum_800}|\n",
            "|{Offer_1316}|           {Offer_1316, includes, MusicAlbum_802}|           {MusicAlbum_802}|\n",
            "|{Offer_1256}|           {Offer_1256, includes, MusicAlbum_803}|           {MusicAlbum_803}|\n",
            "+------------+-------------------------------------------------+---------------------------+\n",
            "only showing top 20 rows\n",
            "\n"
          ]
        }
      ]
    },
    {
      "cell_type": "code",
      "source": [
        "offers = graph.find(\"(s)-[p]->(o)\")\\\n",
        "  .filter(\"p.relationship='offers'\") \n",
        "offers.show(200,truncate=200)"
      ],
      "metadata": {
        "id": "Cw_lnKaESSjO",
        "outputId": "0332045a-ead3-422a-f23c-086d110044d7",
        "colab": {
          "base_uri": "https://localhost:8080/"
        }
      },
      "execution_count": 107,
      "outputs": [
        {
          "output_type": "stream",
          "name": "stdout",
          "text": [
            "+---------------+-----------------------------------+------------+\n",
            "|              s|                                  p|           o|\n",
            "+---------------+-----------------------------------+------------+\n",
            "|{Retailer_1231}|{Retailer_1231, offers, Offer_1242}|{Offer_1242}|\n",
            "|{Retailer_1231}|{Retailer_1231, offers, Offer_1242}|{Offer_1242}|\n",
            "|{Retailer_1231}|{Retailer_1231, offers, Offer_1255}|{Offer_1255}|\n",
            "|{Retailer_1231}|{Retailer_1231, offers, Offer_1260}|{Offer_1260}|\n",
            "|{Retailer_1231}|{Retailer_1231, offers, Offer_1268}|{Offer_1268}|\n",
            "|{Retailer_1231}|{Retailer_1231, offers, Offer_1272}|{Offer_1272}|\n",
            "|{Retailer_1231}|{Retailer_1231, offers, Offer_1278}|{Offer_1278}|\n",
            "|{Retailer_1231}|{Retailer_1231, offers, Offer_1282}|{Offer_1282}|\n",
            "|{Retailer_1231}|{Retailer_1231, offers, Offer_1282}|{Offer_1282}|\n",
            "|{Retailer_1231}|{Retailer_1231, offers, Offer_1284}|{Offer_1284}|\n",
            "|{Retailer_1231}|{Retailer_1231, offers, Offer_1296}|{Offer_1296}|\n",
            "|{Retailer_1231}|{Retailer_1231, offers, Offer_1299}|{Offer_1299}|\n",
            "|{Retailer_1231}|{Retailer_1231, offers, Offer_1304}|{Offer_1304}|\n",
            "|{Retailer_1231}|{Retailer_1231, offers, Offer_1305}|{Offer_1305}|\n",
            "|{Retailer_1231}|{Retailer_1231, offers, Offer_1305}|{Offer_1305}|\n",
            "|{Retailer_1231}|{Retailer_1231, offers, Offer_1309}|{Offer_1309}|\n",
            "|{Retailer_1231}|{Retailer_1231, offers, Offer_1311}|{Offer_1311}|\n",
            "+---------------+-----------------------------------+------------+\n",
            "\n"
          ]
        }
      ]
    },
    {
      "cell_type": "code",
      "source": [
        "includes = graph.find(\"(s)-[p]->(o)\")\\\n",
        "  .filter(\"p.relationship='includes'\") \n",
        "includes.show(200,truncate=200)"
      ],
      "metadata": {
        "id": "M674TeHZSn55",
        "outputId": "8fc6a899-74f3-488a-e508-ea6a8d2084be",
        "colab": {
          "base_uri": "https://localhost:8080/"
        }
      },
      "execution_count": 108,
      "outputs": [
        {
          "output_type": "stream",
          "name": "stdout",
          "text": [
            "+------------+-------------------------------------------------+---------------------------+\n",
            "|           s|                                                p|                          o|\n",
            "+------------+-------------------------------------------------+---------------------------+\n",
            "|{Offer_1302}|{Offer_1302, includes, ClassicalMusicConcert_730}|{ClassicalMusicConcert_730}|\n",
            "|{Offer_1295}|           {Offer_1295, includes, MusicAlbum_731}|           {MusicAlbum_731}|\n",
            "|{Offer_1297}|           {Offer_1297, includes, MusicAlbum_738}|           {MusicAlbum_738}|\n",
            "|{Offer_1248}|           {Offer_1248, includes, MusicAlbum_746}|           {MusicAlbum_746}|\n",
            "|{Offer_1307}|           {Offer_1307, includes, MusicAlbum_750}|           {MusicAlbum_750}|\n",
            "|{Offer_1285}|           {Offer_1285, includes, MusicAlbum_753}|           {MusicAlbum_753}|\n",
            "|{Offer_1286}|           {Offer_1286, includes, MusicAlbum_753}|           {MusicAlbum_753}|\n",
            "|{Offer_1251}|           {Offer_1251, includes, MusicAlbum_754}|           {MusicAlbum_754}|\n",
            "|{Offer_1329}|           {Offer_1329, includes, MusicAlbum_754}|           {MusicAlbum_754}|\n",
            "|{Offer_1261}|           {Offer_1261, includes, MusicAlbum_758}|           {MusicAlbum_758}|\n",
            "|{Offer_1260}|           {Offer_1260, includes, MusicAlbum_759}|           {MusicAlbum_759}|\n",
            "|{Offer_1239}|           {Offer_1239, includes, MusicAlbum_759}|           {MusicAlbum_759}|\n",
            "|{Offer_1236}|           {Offer_1236, includes, MusicAlbum_771}|           {MusicAlbum_771}|\n",
            "|{Offer_1281}|           {Offer_1281, includes, MusicAlbum_782}|           {MusicAlbum_782}|\n",
            "|{Offer_1293}|           {Offer_1293, includes, MusicAlbum_789}|           {MusicAlbum_789}|\n",
            "|{Offer_1252}|           {Offer_1252, includes, MusicAlbum_793}|           {MusicAlbum_793}|\n",
            "|{Offer_1237}|           {Offer_1237, includes, MusicAlbum_799}|           {MusicAlbum_799}|\n",
            "|{Offer_1323}|           {Offer_1323, includes, MusicAlbum_800}|           {MusicAlbum_800}|\n",
            "|{Offer_1316}|           {Offer_1316, includes, MusicAlbum_802}|           {MusicAlbum_802}|\n",
            "|{Offer_1256}|           {Offer_1256, includes, MusicAlbum_803}|           {MusicAlbum_803}|\n",
            "|{Offer_1312}|           {Offer_1312, includes, MusicAlbum_805}|           {MusicAlbum_805}|\n",
            "|{Offer_1304}|           {Offer_1304, includes, MusicAlbum_809}|           {MusicAlbum_809}|\n",
            "|{Offer_1234}|           {Offer_1234, includes, MusicAlbum_816}|           {MusicAlbum_816}|\n",
            "|{Offer_1249}|           {Offer_1249, includes, MusicAlbum_816}|           {MusicAlbum_816}|\n",
            "|{Offer_1253}|           {Offer_1253, includes, MusicAlbum_824}|           {MusicAlbum_824}|\n",
            "|{Offer_1265}|           {Offer_1265, includes, MusicAlbum_826}|           {MusicAlbum_826}|\n",
            "|{Offer_1243}|                {Offer_1243, includes, Movie_831}|                {Movie_831}|\n",
            "|{Offer_1324}|                {Offer_1324, includes, Movie_835}|                {Movie_835}|\n",
            "|{Offer_1300}|                {Offer_1300, includes, Movie_838}|                {Movie_838}|\n",
            "|{Offer_1276}|                {Offer_1276, includes, Movie_852}|                {Movie_852}|\n",
            "|{Offer_1325}|                {Offer_1325, includes, Movie_853}|                {Movie_853}|\n",
            "|{Offer_1328}|                {Offer_1328, includes, Movie_855}|                {Movie_855}|\n",
            "|{Offer_1306}|                {Offer_1306, includes, Movie_871}|                {Movie_871}|\n",
            "|{Offer_1238}|                {Offer_1238, includes, Movie_883}|                {Movie_883}|\n",
            "|{Offer_1310}|                {Offer_1310, includes, Movie_900}|                {Movie_900}|\n",
            "|{Offer_1308}|                {Offer_1308, includes, Movie_921}|                {Movie_921}|\n",
            "|{Offer_1319}|                {Offer_1319, includes, Movie_921}|                {Movie_921}|\n",
            "|{Offer_1330}|                 {Offer_1330, includes, Book_932}|                 {Book_932}|\n",
            "|{Offer_1270}|                 {Offer_1270, includes, Book_940}|                 {Book_940}|\n",
            "|{Offer_1316}|                 {Offer_1316, includes, Book_943}|                 {Book_943}|\n",
            "|{Offer_1314}|                 {Offer_1314, includes, Book_947}|                 {Book_947}|\n",
            "|{Offer_1309}|                 {Offer_1309, includes, Book_949}|                 {Book_949}|\n",
            "|{Offer_1290}|                 {Offer_1290, includes, Book_949}|                 {Book_949}|\n",
            "|{Offer_1249}|                 {Offer_1249, includes, Book_973}|                 {Book_973}|\n",
            "|{Offer_1248}|                {Offer_1248, includes, Book_1013}|                {Book_1013}|\n",
            "|{Offer_1294}|                {Offer_1294, includes, Book_1015}|                {Book_1015}|\n",
            "|{Offer_1297}|                {Offer_1297, includes, Book_1016}|                {Book_1016}|\n",
            "|{Offer_1256}|                {Offer_1256, includes, Book_1017}|                {Book_1017}|\n",
            "|{Offer_1244}|                {Offer_1244, includes, Book_1030}|                {Book_1030}|\n",
            "|{Offer_1317}|         {Offer_1317, includes, NewsArticle_1032}|         {NewsArticle_1032}|\n",
            "|{Offer_1310}|         {Offer_1310, includes, NewsArticle_1052}|         {NewsArticle_1052}|\n",
            "|{Offer_1288}|         {Offer_1288, includes, NewsArticle_1055}|         {NewsArticle_1055}|\n",
            "|{Offer_1331}|         {Offer_1331, includes, NewsArticle_1061}|         {NewsArticle_1061}|\n",
            "|{Offer_1327}|         {Offer_1327, includes, NewsArticle_1065}|         {NewsArticle_1065}|\n",
            "|{Offer_1250}|         {Offer_1250, includes, NewsArticle_1066}|         {NewsArticle_1066}|\n",
            "|{Offer_1297}|         {Offer_1297, includes, NewsArticle_1096}|         {NewsArticle_1096}|\n",
            "|{Offer_1318}|         {Offer_1318, includes, NewsArticle_1103}|         {NewsArticle_1103}|\n",
            "|{Offer_1237}|         {Offer_1237, includes, NewsArticle_1103}|         {NewsArticle_1103}|\n",
            "|{Offer_1294}|         {Offer_1294, includes, NewsArticle_1114}|         {NewsArticle_1114}|\n",
            "|{Offer_1267}|         {Offer_1267, includes, NewsArticle_1115}|         {NewsArticle_1115}|\n",
            "|{Offer_1240}|         {Offer_1240, includes, NewsArticle_1126}|         {NewsArticle_1126}|\n",
            "|{Offer_1232}|         {Offer_1232, includes, NewsArticle_1129}|         {NewsArticle_1129}|\n",
            "|{Offer_1272}|        {Offer_1272, includes, OtherProduct_1133}|        {OtherProduct_1133}|\n",
            "|{Offer_1245}|        {Offer_1245, includes, OtherProduct_1150}|        {OtherProduct_1150}|\n",
            "|{Offer_1265}|        {Offer_1265, includes, OtherProduct_1151}|        {OtherProduct_1151}|\n",
            "|{Offer_1300}|        {Offer_1300, includes, OtherProduct_1151}|        {OtherProduct_1151}|\n",
            "|{Offer_1294}|        {Offer_1294, includes, OtherProduct_1163}|        {OtherProduct_1163}|\n",
            "|{Offer_1289}|        {Offer_1289, includes, OtherProduct_1167}|        {OtherProduct_1167}|\n",
            "|{Offer_1279}|        {Offer_1279, includes, OtherProduct_1170}|        {OtherProduct_1170}|\n",
            "|{Offer_1290}|        {Offer_1290, includes, OtherProduct_1173}|        {OtherProduct_1173}|\n",
            "|{Offer_1259}|        {Offer_1259, includes, OtherProduct_1179}|        {OtherProduct_1179}|\n",
            "|{Offer_1307}|        {Offer_1307, includes, OtherProduct_1180}|        {OtherProduct_1180}|\n",
            "|{Offer_1283}|        {Offer_1283, includes, OtherProduct_1182}|        {OtherProduct_1182}|\n",
            "|{Offer_1264}|        {Offer_1264, includes, OtherProduct_1182}|        {OtherProduct_1182}|\n",
            "|{Offer_1242}|        {Offer_1242, includes, OtherProduct_1183}|        {OtherProduct_1183}|\n",
            "|{Offer_1305}|        {Offer_1305, includes, OtherProduct_1187}|        {OtherProduct_1187}|\n",
            "|{Offer_1330}|        {Offer_1330, includes, OtherProduct_1195}|        {OtherProduct_1195}|\n",
            "|{Offer_1236}|        {Offer_1236, includes, OtherProduct_1200}|        {OtherProduct_1200}|\n",
            "|{Offer_1269}|        {Offer_1269, includes, OtherProduct_1206}|        {OtherProduct_1206}|\n",
            "|{Offer_1240}|        {Offer_1240, includes, OtherProduct_1225}|        {OtherProduct_1225}|\n",
            "|{Offer_1276}|        {Offer_1276, includes, OtherProduct_1227}|        {OtherProduct_1227}|\n",
            "+------------+-------------------------------------------------+---------------------------+\n",
            "\n"
          ]
        }
      ]
    },
    {
      "cell_type": "code",
      "source": [
        "chain4 = graph.find(\"(a)-[offers]->(b);(b)-[includes]->(c)\")\\\n",
        "  .filter(\"offers.relationship='offers'\") \\\n",
        "  .filter(\"includes.relationship='includes'\")\n",
        "chain4.show(200)"
      ],
      "metadata": {
        "id": "2HrJI0d5EsnZ",
        "outputId": "054a4c72-8dba-43dd-e493-d9802b84a154",
        "colab": {
          "base_uri": "https://localhost:8080/"
        }
      },
      "execution_count": 109,
      "outputs": [
        {
          "output_type": "stream",
          "name": "stdout",
          "text": [
            "+---------------+--------------------+------------+--------------------+-------------------+\n",
            "|              a|              offers|           b|            includes|                  c|\n",
            "+---------------+--------------------+------------+--------------------+-------------------+\n",
            "|{Retailer_1231}|{Retailer_1231, o...|{Offer_1242}|{Offer_1242, incl...|{OtherProduct_1183}|\n",
            "|{Retailer_1231}|{Retailer_1231, o...|{Offer_1242}|{Offer_1242, incl...|{OtherProduct_1183}|\n",
            "|{Retailer_1231}|{Retailer_1231, o...|{Offer_1260}|{Offer_1260, incl...|   {MusicAlbum_759}|\n",
            "|{Retailer_1231}|{Retailer_1231, o...|{Offer_1272}|{Offer_1272, incl...|{OtherProduct_1133}|\n",
            "|{Retailer_1231}|{Retailer_1231, o...|{Offer_1304}|{Offer_1304, incl...|   {MusicAlbum_809}|\n",
            "|{Retailer_1231}|{Retailer_1231, o...|{Offer_1305}|{Offer_1305, incl...|{OtherProduct_1187}|\n",
            "|{Retailer_1231}|{Retailer_1231, o...|{Offer_1305}|{Offer_1305, incl...|{OtherProduct_1187}|\n",
            "|{Retailer_1231}|{Retailer_1231, o...|{Offer_1309}|{Offer_1309, incl...|         {Book_949}|\n",
            "+---------------+--------------------+------------+--------------------+-------------------+\n",
            "\n"
          ]
        }
      ]
    }
  ]
}