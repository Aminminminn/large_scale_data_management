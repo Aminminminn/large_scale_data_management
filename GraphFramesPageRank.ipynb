{
  "nbformat": 4,
  "nbformat_minor": 0,
  "metadata": {
    "colab": {
      "provenance": [],
      "include_colab_link": true
    },
    "kernelspec": {
      "name": "python3",
      "display_name": "Python 3"
    },
    "language_info": {
      "name": "python"
    }
  },
  "cells": [
    {
      "cell_type": "markdown",
      "metadata": {
        "id": "view-in-github",
        "colab_type": "text"
      },
      "source": [
        "<a href=\"https://colab.research.google.com/github/momo54/large_scale_data_management/blob/main/GraphFramesPageRank.ipynb\" target=\"_parent\"><img src=\"https://colab.research.google.com/assets/colab-badge.svg\" alt=\"Open In Colab\"/></a>"
      ]
    },
    {
      "cell_type": "markdown",
      "source": [
        "# RDF and  GraphFrames\n",
        "\n",
        "Interesting slides: \n",
        "* https://courses.cs.ut.ee/LTAT.06.005/2018_fall/uploads/Main/L12_2018.pdf\n",
        "* https://www.slideshare.net/SparkSummit/graphframes-graph-queries-in-spark-sql \n",
        "\n",
        "GraphFrame is an additional package to perform graph processing in Spark. It is concurrent to GraphX, but available in Python.\n",
        "\n",
        "\n",
        "launching in a terminal\n",
        "\n",
        "```\n",
        "pyspark --packages graphframes:graphframes:0.8.2-spark3.2-s_2.12\n",
        "\n",
        "from graphframes.examples import Graphs\n",
        "g = Graphs(sqlContext).friends()  # Get example graph\n",
        "\n",
        "# Display the vertex and edge DataFrames\n",
        "g.vertices.show()\n",
        "```\n",
        "\n",
        "Valid configuration are listed in:\n",
        "```\n",
        "https://spark-packages.org/package/graphframes/graphframes\n",
        "```\n"
      ],
      "metadata": {
        "id": "mWDwyWU7125d"
      }
    },
    {
      "cell_type": "code",
      "execution_count": 1,
      "metadata": {
        "colab": {
          "base_uri": "https://localhost:8080/"
        },
        "id": "4tTxN7y7FTRZ",
        "outputId": "10e98375-93f2-458b-a2dc-826675253ab4"
      },
      "outputs": [
        {
          "output_type": "stream",
          "name": "stdout",
          "text": [
            "Looking in indexes: https://pypi.org/simple, https://us-python.pkg.dev/colab-wheels/public/simple/\n",
            "Collecting pyspark\n",
            "  Downloading pyspark-3.3.1.tar.gz (281.4 MB)\n",
            "\u001b[K     |████████████████████████████████| 281.4 MB 54 kB/s \n",
            "\u001b[?25hCollecting py4j==0.10.9.5\n",
            "  Downloading py4j-0.10.9.5-py2.py3-none-any.whl (199 kB)\n",
            "\u001b[K     |████████████████████████████████| 199 kB 88.4 MB/s \n",
            "\u001b[?25hBuilding wheels for collected packages: pyspark\n",
            "  Building wheel for pyspark (setup.py) ... \u001b[?25l\u001b[?25hdone\n",
            "  Created wheel for pyspark: filename=pyspark-3.3.1-py2.py3-none-any.whl size=281845514 sha256=11aedcae2a7b815c499f2d806096cd044828c8491111dfdfae4728f2b8c5aef7\n",
            "  Stored in directory: /root/.cache/pip/wheels/42/59/f5/79a5bf931714dcd201b26025347785f087370a10a3329a899c\n",
            "Successfully built pyspark\n",
            "Installing collected packages: py4j, pyspark\n",
            "Successfully installed py4j-0.10.9.5 pyspark-3.3.1\n"
          ]
        }
      ],
      "source": [
        "!pip install pyspark"
      ]
    },
    {
      "cell_type": "code",
      "source": [
        "#visiblement faut pas faire ça !!\n",
        "#!pip install graphframes"
      ],
      "metadata": {
        "id": "EZdTiIlDFUE1"
      },
      "execution_count": null,
      "outputs": []
    },
    {
      "cell_type": "code",
      "source": [
        "!wget -nc https://repos.spark-packages.org/graphframes/graphframes/0.8.2-spark3.2-s_2.12/graphframes-0.8.2-spark3.2-s_2.12.jar\n",
        "!cp graphframes-0.8.2-spark3.2-s_2.12.jar /usr/local/lib/python3.7/dist-packages/pyspark/jars/\n",
        "!ls /usr/local/lib/python3.7/dist-packages/pyspark/jars/graph*"
      ],
      "metadata": {
        "colab": {
          "base_uri": "https://localhost:8080/"
        },
        "id": "kB0eCUPsft5y",
        "outputId": "cc5eaf08-63c1-4353-b63d-3c1e5e8674a1"
      },
      "execution_count": 2,
      "outputs": [
        {
          "output_type": "stream",
          "name": "stdout",
          "text": [
            "--2022-11-13 18:51:38--  https://repos.spark-packages.org/graphframes/graphframes/0.8.2-spark3.2-s_2.12/graphframes-0.8.2-spark3.2-s_2.12.jar\n",
            "Resolving repos.spark-packages.org (repos.spark-packages.org)... 13.226.39.66, 13.226.39.54, 13.226.39.5, ...\n",
            "Connecting to repos.spark-packages.org (repos.spark-packages.org)|13.226.39.66|:443... connected.\n",
            "HTTP request sent, awaiting response... 200 OK\n",
            "Length: 247880 (242K) [binary/octet-stream]\n",
            "Saving to: ‘graphframes-0.8.2-spark3.2-s_2.12.jar’\n",
            "\n",
            "\r          graphfram   0%[                    ]       0  --.-KB/s               \rgraphframes-0.8.2-s 100%[===================>] 242.07K  --.-KB/s    in 0.02s   \n",
            "\n",
            "2022-11-13 18:51:39 (11.2 MB/s) - ‘graphframes-0.8.2-spark3.2-s_2.12.jar’ saved [247880/247880]\n",
            "\n",
            "/usr/local/lib/python3.7/dist-packages/pyspark/jars/graphframes-0.8.2-spark3.2-s_2.12.jar\n"
          ]
        }
      ]
    },
    {
      "cell_type": "code",
      "source": [
        "from pyspark.sql import SparkSession\n",
        "\n",
        "spark = SparkSession.builder.config(\"spark.jars.packages\", \"graphframes:graphframes:0.8.2-spark3.2-s_2.12\").getOrCreate()  \n"
      ],
      "metadata": {
        "id": "e6wRKrwMFVix"
      },
      "execution_count": 3,
      "outputs": []
    },
    {
      "cell_type": "code",
      "source": [
        "# checking that everything works...\n",
        "\n",
        "# Create a Vertex DataFrame with unique ID column \"id\"\n",
        "v = spark.createDataFrame([\n",
        "  (\"a\", \"Alice\", 34),\n",
        "  (\"b\", \"Bob\", 36),\n",
        "  (\"c\", \"Charlie\", 30),\n",
        "], [\"id\", \"name\", \"age\"])\n",
        "# Create an Edge DataFrame with \"src\" and \"dst\" columns\n",
        "e = spark.createDataFrame([\n",
        "  (\"a\", \"b\", \"friend\"),\n",
        "  (\"b\", \"c\", \"follow\"),\n",
        "  (\"c\", \"b\", \"follow\"),\n",
        "], [\"src\", \"dst\", \"relationship\"])\n",
        "# Create a GraphFrame\n",
        "from graphframes import *\n",
        "g = GraphFrame(v, e)\n",
        "\n",
        "# Query: Get in-degree of each vertex.\n",
        "g.inDegrees.show()\n",
        "\n",
        "# Query: Count the number of \"follow\" connections in the graph.\n",
        "print(g.edges.filter(\"relationship = 'follow'\").count())\n",
        "\n",
        "# Run PageRank algorithm, and show results.\n",
        "results = g.pageRank(resetProbability=0.01, maxIter=20)\n",
        "results.vertices.select(\"id\", \"pagerank\").show()\n"
      ],
      "metadata": {
        "id": "0q-i4-T_FtNR",
        "colab": {
          "base_uri": "https://localhost:8080/"
        },
        "outputId": "41228948-c72a-4414-e4eb-390b41a6f863"
      },
      "execution_count": 4,
      "outputs": [
        {
          "output_type": "stream",
          "name": "stderr",
          "text": [
            "/usr/local/lib/python3.7/dist-packages/pyspark/sql/dataframe.py:149: UserWarning: DataFrame.sql_ctx is an internal property, and will be removed in future releases. Use DataFrame.sparkSession instead.\n",
            "  \"DataFrame.sql_ctx is an internal property, and will be removed \"\n",
            "/usr/local/lib/python3.7/dist-packages/pyspark/sql/dataframe.py:127: UserWarning: DataFrame constructor is internal. Do not directly use it.\n",
            "  warnings.warn(\"DataFrame constructor is internal. Do not directly use it.\")\n"
          ]
        },
        {
          "output_type": "stream",
          "name": "stdout",
          "text": [
            "+---+--------+\n",
            "| id|inDegree|\n",
            "+---+--------+\n",
            "|  b|       2|\n",
            "|  c|       1|\n",
            "+---+--------+\n",
            "\n",
            "2\n",
            "+---+------------------+\n",
            "| id|          pagerank|\n",
            "+---+------------------+\n",
            "|  c|1.8994109890559092|\n",
            "|  b|1.0905890109440908|\n",
            "|  a|              0.01|\n",
            "+---+------------------+\n",
            "\n"
          ]
        }
      ]
    },
    {
      "cell_type": "code",
      "source": [
        "e.printSchema()"
      ],
      "metadata": {
        "colab": {
          "base_uri": "https://localhost:8080/"
        },
        "id": "oRaoAxSoxrQ8",
        "outputId": "434e335f-644d-46d1-96ad-dc9ee34b457d"
      },
      "execution_count": 5,
      "outputs": [
        {
          "output_type": "stream",
          "name": "stdout",
          "text": [
            "root\n",
            " |-- src: string (nullable = true)\n",
            " |-- dst: string (nullable = true)\n",
            " |-- relationship: string (nullable = true)\n",
            "\n"
          ]
        }
      ]
    },
    {
      "cell_type": "code",
      "source": [
        "# using a more realistic RDF graph (only triples)\n",
        "\n",
        "#!wget -nc -q https://raw.githubusercontent.com/momo54/large_scale_data_management/main/small_page_links.nt\n",
        "!wget -nc https://raw.githubusercontent.com/momo54/large_scale_data_management/main/watdiv-100k.nt"
      ],
      "metadata": {
        "id": "WZ4kD_Lbt7NW",
        "colab": {
          "base_uri": "https://localhost:8080/"
        },
        "outputId": "4bd8ea3b-da50-428f-8776-4899bc5ef10a"
      },
      "execution_count": 6,
      "outputs": [
        {
          "output_type": "stream",
          "name": "stdout",
          "text": [
            "--2022-11-13 18:53:17--  https://raw.githubusercontent.com/momo54/large_scale_data_management/main/watdiv-100k.nt\n",
            "Resolving raw.githubusercontent.com (raw.githubusercontent.com)... 185.199.108.133, 185.199.109.133, 185.199.110.133, ...\n",
            "Connecting to raw.githubusercontent.com (raw.githubusercontent.com)|185.199.108.133|:443... connected.\n",
            "HTTP request sent, awaiting response... 200 OK\n",
            "Length: 15098125 (14M) [text/plain]\n",
            "Saving to: ‘watdiv-100k.nt’\n",
            "\n",
            "\rwatdiv-100k.nt        0%[                    ]       0  --.-KB/s               \rwatdiv-100k.nt      100%[===================>]  14.40M  --.-KB/s    in 0.05s   \n",
            "\n",
            "2022-11-13 18:53:17 (292 MB/s) - ‘watdiv-100k.nt’ saved [15098125/15098125]\n",
            "\n"
          ]
        }
      ]
    },
    {
      "cell_type": "code",
      "source": [
        "from pyspark.sql.types import StructType,StringType\n",
        "schema=StructType() \\\n",
        "  .add(\"src\",StringType(),True) \\\n",
        "  .add(\"relationship\",StringType(),True) \\\n",
        "  .add(\"dst\",StringType(),True) \n",
        "\n",
        "import re\n",
        "def parseTriple(line) :\n",
        "    \"\"\"Parses a urls pair string into urls pair.\"\"\"\n",
        "    parts = re.split(r'\\s+', line)\n",
        "    return parts[0], parts[1], parts[2]\n",
        "\n",
        "# reading Triples\n",
        "# delimiter and the . !! (grrr)\n",
        "# managing quads requires Reification :-/\n",
        "#edges=spark.read.format(\"csv\") \\\n",
        "#  .schema(schema) \\\n",
        "#  .load([\"watdiv-100k.nt\"])\n",
        "#  .load([\"multi.txt0.txt\",\"catalog.txt0.txt\"])\n",
        "\n",
        "lines=spark.read.text([\"watdiv-100k.nt\"]).rdd.map(lambda r: r[0])\n",
        "\n",
        "\n",
        "edges=lines.map(lambda x:parseTriple(x)).toDF([\"src\",\"relationship\",\"dst\"])\n",
        "\n",
        "\n",
        "#generating Vertices from Edges...\n",
        "vertices=edges.select('src') \\\n",
        "  .union(edges.select('dst')) \\\n",
        "  .distinct() \\\n",
        "  .withColumnRenamed('src', 'id')\n",
        "\n",
        "print(vertices.take(1))\n",
        "\n",
        "graph = GraphFrame(vertices, edges)\n",
        "\n",
        "\n",
        "vertices.show(10)\n",
        "\n",
        "edges.select(\"relationship\").distinct().show(100,truncate=200)\n",
        "edges.filter(\"relationship='<http://purl.org/goodrelations/includes>'\").show(10,truncate=200)"
      ],
      "metadata": {
        "colab": {
          "base_uri": "https://localhost:8080/"
        },
        "id": "VHPoN1rqv-Fl",
        "outputId": "512a5af4-ae93-498d-8ba3-4dbb0e0b3b97"
      },
      "execution_count": 7,
      "outputs": [
        {
          "output_type": "stream",
          "name": "stdout",
          "text": [
            "[Row(id='<http://db.uwaterloo.ca/~galuc/wsdbm/User0>')]\n",
            "+--------------------+\n",
            "|                  id|\n",
            "+--------------------+\n",
            "|<http://db.uwater...|\n",
            "|<http://db.uwater...|\n",
            "|<http://db.uwater...|\n",
            "|<http://db.uwater...|\n",
            "|<http://db.uwater...|\n",
            "|<http://db.uwater...|\n",
            "|<http://db.uwater...|\n",
            "|<http://db.uwater...|\n",
            "|<http://db.uwater...|\n",
            "|<http://db.uwater...|\n",
            "+--------------------+\n",
            "only showing top 10 rows\n",
            "\n",
            "+---------------------------------------------------+\n",
            "|                                       relationship|\n",
            "+---------------------------------------------------+\n",
            "|                        <http://schema.org/expires>|\n",
            "| <http://db.uwaterloo.ca/~galuc/wsdbm/purchaseDate>|\n",
            "|                <http://schema.org/aggregateRating>|\n",
            "|  <http://www.w3.org/1999/02/22-rdf-syntax-ns#type>|\n",
            "|                   <http://schema.org/contactPoint>|\n",
            "|   <http://db.uwaterloo.ca/~galuc/wsdbm/subscribes>|\n",
            "|                       <http://schema.org/employee>|\n",
            "|                       <http://schema.org/language>|\n",
            "|          <http://purl.org/goodrelations/validFrom>|\n",
            "|                      <http://schema.org/birthDate>|\n",
            "|               <http://purl.org/goodrelations/name>|\n",
            "|                <http://purl.org/dc/terms/Location>|\n",
            "|        <http://db.uwaterloo.ca/~galuc/wsdbm/likes>|\n",
            "|                      <http://schema.org/faxNumber>|\n",
            "|                        <http://schema.org/caption>|\n",
            "|                <http://schema.org/paymentAccepted>|\n",
            "|                       <http://schema.org/keywords>|\n",
            "|                             <http://ogp.me/ns#tag>|\n",
            "|                           <http://schema.org/text>|\n",
            "|                    <http://schema.org/nationality>|\n",
            "|                   <http://schema.org/openingHours>|\n",
            "|           <http://purl.org/goodrelations/includes>|\n",
            "|                 <http://purl.org/stuff/rev#rating>|\n",
            "|       <http://db.uwaterloo.ca/~galuc/wsdbm/gender>|\n",
            "|                 <http://schema.org/eligibleRegion>|\n",
            "|         <http://db.uwaterloo.ca/~galuc/wsdbm/hits>|\n",
            "|                <http://schema.org/priceValidUntil>|\n",
            "|                  <http://schema.org/contentRating>|\n",
            "|                      <http://schema.org/telephone>|\n",
            "|                  <http://purl.org/stuff/rev#title>|\n",
            "|                        <http://xmlns.com/foaf/age>|\n",
            "|     <http://db.uwaterloo.ca/~galuc/wsdbm/friendOf>|\n",
            "|                           <http://ogp.me/ns#title>|\n",
            "|                   <http://xmlns.com/foaf/homepage>|\n",
            "|   <http://www.geonames.org/ontology#parentCountry>|\n",
            "|                 <http://xmlns.com/foaf/familyName>|\n",
            "|                      <http://schema.org/legalName>|\n",
            "|             <http://purl.org/goodrelations/offers>|\n",
            "|        <http://purl.org/goodrelations/description>|\n",
            "|       <http://purl.org/goodrelations/validThrough>|\n",
            "|                       <http://schema.org/jobTitle>|\n",
            "|                            <http://schema.org/url>|\n",
            "|              <http://purl.org/goodrelations/price>|\n",
            "|             <http://purl.org/stuff/rev#totalVotes>|\n",
            "|                    <http://schema.org/description>|\n",
            "|                          <http://schema.org/email>|\n",
            "|                    <http://schema.org/contentSize>|\n",
            "|                  <http://xmlns.com/foaf/givenName>|\n",
            "|       <http://purl.org/goodrelations/serialNumber>|\n",
            "|     <http://db.uwaterloo.ca/~galuc/wsdbm/hasGenre>|\n",
            "|       <http://db.uwaterloo.ca/~galuc/wsdbm/userId>|\n",
            "|                   <http://purl.org/stuff/rev#text>|\n",
            "|               <http://schema.org/eligibleQuantity>|\n",
            "|                       <http://schema.org/producer>|\n",
            "|            <http://purl.org/ontology/mo/conductor>|\n",
            "|              <http://purl.org/ontology/mo/release>|\n",
            "|                        <http://schema.org/trailer>|\n",
            "|         <http://purl.org/ontology/mo/performed_in>|\n",
            "|                         <http://schema.org/author>|\n",
            "|            <http://purl.org/ontology/mo/performer>|\n",
            "|                       <http://schema.org/duration>|\n",
            "|              <http://purl.org/stuff/rev#hasReview>|\n",
            "|                  <http://schema.org/numberOfPages>|\n",
            "|                      <http://schema.org/printPage>|\n",
            "|               <http://purl.org/stuff/rev#reviewer>|\n",
            "|                          <http://schema.org/award>|\n",
            "|                   <http://schema.org/printEdition>|\n",
            "|                      <http://schema.org/publisher>|\n",
            "|                 <http://purl.org/ontology/mo/opus>|\n",
            "|               <http://purl.org/ontology/mo/artist>|\n",
            "|                    <http://schema.org/printColumn>|\n",
            "|                  <http://schema.org/datePublished>|\n",
            "|             <http://purl.org/ontology/mo/movement>|\n",
            "|  <http://db.uwaterloo.ca/~galuc/wsdbm/purchaseFor>|\n",
            "|             <http://purl.org/ontology/mo/producer>|\n",
            "|     <http://db.uwaterloo.ca/~galuc/wsdbm/composer>|\n",
            "|                       <http://schema.org/director>|\n",
            "|                          <http://schema.org/actor>|\n",
            "|<http://db.uwaterloo.ca/~galuc/wsdbm/makesPurchase>|\n",
            "|      <http://db.uwaterloo.ca/~galuc/wsdbm/follows>|\n",
            "|                      <http://schema.org/wordCount>|\n",
            "|                   <http://schema.org/printSection>|\n",
            "|        <http://purl.org/ontology/mo/record_number>|\n",
            "|                         <http://schema.org/editor>|\n",
            "|                    <http://schema.org/bookEdition>|\n",
            "|                           <http://schema.org/isbn>|\n",
            "+---------------------------------------------------+\n",
            "\n",
            "+--------------------------------------------+----------------------------------------+------------------------------------------------+\n",
            "|                                         src|                            relationship|                                             dst|\n",
            "+--------------------------------------------+----------------------------------------+------------------------------------------------+\n",
            "|<http://db.uwaterloo.ca/~galuc/wsdbm/Offer0>|<http://purl.org/goodrelations/includes>|<http://db.uwaterloo.ca/~galuc/wsdbm/Product223>|\n",
            "|<http://db.uwaterloo.ca/~galuc/wsdbm/Offer1>|<http://purl.org/goodrelations/includes>| <http://db.uwaterloo.ca/~galuc/wsdbm/Product12>|\n",
            "|<http://db.uwaterloo.ca/~galuc/wsdbm/Offer2>|<http://purl.org/goodrelations/includes>| <http://db.uwaterloo.ca/~galuc/wsdbm/Product27>|\n",
            "|<http://db.uwaterloo.ca/~galuc/wsdbm/Offer3>|<http://purl.org/goodrelations/includes>| <http://db.uwaterloo.ca/~galuc/wsdbm/Product58>|\n",
            "|<http://db.uwaterloo.ca/~galuc/wsdbm/Offer4>|<http://purl.org/goodrelations/includes>|<http://db.uwaterloo.ca/~galuc/wsdbm/Product179>|\n",
            "|<http://db.uwaterloo.ca/~galuc/wsdbm/Offer5>|<http://purl.org/goodrelations/includes>|  <http://db.uwaterloo.ca/~galuc/wsdbm/Product1>|\n",
            "|<http://db.uwaterloo.ca/~galuc/wsdbm/Offer6>|<http://purl.org/goodrelations/includes>| <http://db.uwaterloo.ca/~galuc/wsdbm/Product57>|\n",
            "|<http://db.uwaterloo.ca/~galuc/wsdbm/Offer7>|<http://purl.org/goodrelations/includes>|  <http://db.uwaterloo.ca/~galuc/wsdbm/Product1>|\n",
            "|<http://db.uwaterloo.ca/~galuc/wsdbm/Offer8>|<http://purl.org/goodrelations/includes>|<http://db.uwaterloo.ca/~galuc/wsdbm/Product135>|\n",
            "|<http://db.uwaterloo.ca/~galuc/wsdbm/Offer9>|<http://purl.org/goodrelations/includes>| <http://db.uwaterloo.ca/~galuc/wsdbm/Product28>|\n",
            "+--------------------------------------------+----------------------------------------+------------------------------------------------+\n",
            "only showing top 10 rows\n",
            "\n"
          ]
        }
      ]
    },
    {
      "cell_type": "code",
      "source": [
        "#subgraphs...\n",
        "subgraph=graph.filterEdges(\"relationship='<http://purl.org/goodrelations/includes>'\").dropIsolatedVertices()\n",
        "subgraph.triplets.show(truncate=200)"
      ],
      "metadata": {
        "id": "KykUG2e_A6WA",
        "outputId": "951db332-8238-482e-e377-8c74687e8660",
        "colab": {
          "base_uri": "https://localhost:8080/"
        }
      },
      "execution_count": 8,
      "outputs": [
        {
          "output_type": "stream",
          "name": "stdout",
          "text": [
            "+------------------------------------------------+--------------------------------------------------------------------------------------------------------------------------------------------+--------------------------------------------------+\n",
            "|                                             src|                                                                                                                                        edge|                                               dst|\n",
            "+------------------------------------------------+--------------------------------------------------------------------------------------------------------------------------------------------+--------------------------------------------------+\n",
            "| {<http://db.uwaterloo.ca/~galuc/wsdbm/Offer73>}| {<http://db.uwaterloo.ca/~galuc/wsdbm/Offer73>, <http://purl.org/goodrelations/includes>, <http://db.uwaterloo.ca/~galuc/wsdbm/Product105>}|{<http://db.uwaterloo.ca/~galuc/wsdbm/Product105>}|\n",
            "|{<http://db.uwaterloo.ca/~galuc/wsdbm/Offer148>}| {<http://db.uwaterloo.ca/~galuc/wsdbm/Offer148>, <http://purl.org/goodrelations/includes>, <http://db.uwaterloo.ca/~galuc/wsdbm/Product25>}| {<http://db.uwaterloo.ca/~galuc/wsdbm/Product25>}|\n",
            "|{<http://db.uwaterloo.ca/~galuc/wsdbm/Offer410>}| {<http://db.uwaterloo.ca/~galuc/wsdbm/Offer410>, <http://purl.org/goodrelations/includes>, <http://db.uwaterloo.ca/~galuc/wsdbm/Product33>}| {<http://db.uwaterloo.ca/~galuc/wsdbm/Product33>}|\n",
            "|{<http://db.uwaterloo.ca/~galuc/wsdbm/Offer427>}|{<http://db.uwaterloo.ca/~galuc/wsdbm/Offer427>, <http://purl.org/goodrelations/includes>, <http://db.uwaterloo.ca/~galuc/wsdbm/Product148>}|{<http://db.uwaterloo.ca/~galuc/wsdbm/Product148>}|\n",
            "|{<http://db.uwaterloo.ca/~galuc/wsdbm/Offer751>}|{<http://db.uwaterloo.ca/~galuc/wsdbm/Offer751>, <http://purl.org/goodrelations/includes>, <http://db.uwaterloo.ca/~galuc/wsdbm/Product179>}|{<http://db.uwaterloo.ca/~galuc/wsdbm/Product179>}|\n",
            "|  {<http://db.uwaterloo.ca/~galuc/wsdbm/Offer4>}|  {<http://db.uwaterloo.ca/~galuc/wsdbm/Offer4>, <http://purl.org/goodrelations/includes>, <http://db.uwaterloo.ca/~galuc/wsdbm/Product179>}|{<http://db.uwaterloo.ca/~galuc/wsdbm/Product179>}|\n",
            "|{<http://db.uwaterloo.ca/~galuc/wsdbm/Offer434>}|{<http://db.uwaterloo.ca/~galuc/wsdbm/Offer434>, <http://purl.org/goodrelations/includes>, <http://db.uwaterloo.ca/~galuc/wsdbm/Product145>}|{<http://db.uwaterloo.ca/~galuc/wsdbm/Product145>}|\n",
            "|{<http://db.uwaterloo.ca/~galuc/wsdbm/Offer580>}|{<http://db.uwaterloo.ca/~galuc/wsdbm/Offer580>, <http://purl.org/goodrelations/includes>, <http://db.uwaterloo.ca/~galuc/wsdbm/Product109>}|{<http://db.uwaterloo.ca/~galuc/wsdbm/Product109>}|\n",
            "|{<http://db.uwaterloo.ca/~galuc/wsdbm/Offer809>}| {<http://db.uwaterloo.ca/~galuc/wsdbm/Offer809>, <http://purl.org/goodrelations/includes>, <http://db.uwaterloo.ca/~galuc/wsdbm/Product19>}| {<http://db.uwaterloo.ca/~galuc/wsdbm/Product19>}|\n",
            "|{<http://db.uwaterloo.ca/~galuc/wsdbm/Offer897>}|{<http://db.uwaterloo.ca/~galuc/wsdbm/Offer897>, <http://purl.org/goodrelations/includes>, <http://db.uwaterloo.ca/~galuc/wsdbm/Product125>}|{<http://db.uwaterloo.ca/~galuc/wsdbm/Product125>}|\n",
            "|{<http://db.uwaterloo.ca/~galuc/wsdbm/Offer187>}|{<http://db.uwaterloo.ca/~galuc/wsdbm/Offer187>, <http://purl.org/goodrelations/includes>, <http://db.uwaterloo.ca/~galuc/wsdbm/Product216>}|{<http://db.uwaterloo.ca/~galuc/wsdbm/Product216>}|\n",
            "|{<http://db.uwaterloo.ca/~galuc/wsdbm/Offer216>}| {<http://db.uwaterloo.ca/~galuc/wsdbm/Offer216>, <http://purl.org/goodrelations/includes>, <http://db.uwaterloo.ca/~galuc/wsdbm/Product92>}| {<http://db.uwaterloo.ca/~galuc/wsdbm/Product92>}|\n",
            "|{<http://db.uwaterloo.ca/~galuc/wsdbm/Offer242>}| {<http://db.uwaterloo.ca/~galuc/wsdbm/Offer242>, <http://purl.org/goodrelations/includes>, <http://db.uwaterloo.ca/~galuc/wsdbm/Product25>}| {<http://db.uwaterloo.ca/~galuc/wsdbm/Product25>}|\n",
            "|{<http://db.uwaterloo.ca/~galuc/wsdbm/Offer277>}| {<http://db.uwaterloo.ca/~galuc/wsdbm/Offer277>, <http://purl.org/goodrelations/includes>, <http://db.uwaterloo.ca/~galuc/wsdbm/Product59>}| {<http://db.uwaterloo.ca/~galuc/wsdbm/Product59>}|\n",
            "|{<http://db.uwaterloo.ca/~galuc/wsdbm/Offer480>}|{<http://db.uwaterloo.ca/~galuc/wsdbm/Offer480>, <http://purl.org/goodrelations/includes>, <http://db.uwaterloo.ca/~galuc/wsdbm/Product236>}|{<http://db.uwaterloo.ca/~galuc/wsdbm/Product236>}|\n",
            "| {<http://db.uwaterloo.ca/~galuc/wsdbm/Offer42>}|   {<http://db.uwaterloo.ca/~galuc/wsdbm/Offer42>, <http://purl.org/goodrelations/includes>, <http://db.uwaterloo.ca/~galuc/wsdbm/Product7>}|  {<http://db.uwaterloo.ca/~galuc/wsdbm/Product7>}|\n",
            "|{<http://db.uwaterloo.ca/~galuc/wsdbm/Offer219>}|{<http://db.uwaterloo.ca/~galuc/wsdbm/Offer219>, <http://purl.org/goodrelations/includes>, <http://db.uwaterloo.ca/~galuc/wsdbm/Product124>}|{<http://db.uwaterloo.ca/~galuc/wsdbm/Product124>}|\n",
            "|{<http://db.uwaterloo.ca/~galuc/wsdbm/Offer400>}|{<http://db.uwaterloo.ca/~galuc/wsdbm/Offer400>, <http://purl.org/goodrelations/includes>, <http://db.uwaterloo.ca/~galuc/wsdbm/Product136>}|{<http://db.uwaterloo.ca/~galuc/wsdbm/Product136>}|\n",
            "|{<http://db.uwaterloo.ca/~galuc/wsdbm/Offer430>}| {<http://db.uwaterloo.ca/~galuc/wsdbm/Offer430>, <http://purl.org/goodrelations/includes>, <http://db.uwaterloo.ca/~galuc/wsdbm/Product28>}| {<http://db.uwaterloo.ca/~galuc/wsdbm/Product28>}|\n",
            "|{<http://db.uwaterloo.ca/~galuc/wsdbm/Offer609>}|{<http://db.uwaterloo.ca/~galuc/wsdbm/Offer609>, <http://purl.org/goodrelations/includes>, <http://db.uwaterloo.ca/~galuc/wsdbm/Product174>}|{<http://db.uwaterloo.ca/~galuc/wsdbm/Product174>}|\n",
            "+------------------------------------------------+--------------------------------------------------------------------------------------------------------------------------------------------+--------------------------------------------------+\n",
            "only showing top 20 rows\n",
            "\n"
          ]
        }
      ]
    },
    {
      "cell_type": "code",
      "source": [
        "offers = graph.find(\"(s)-[p]->(o)\")\\\n",
        "  .filter(\"p.relationship='<http://purl.org/goodrelations/offers>'\") \n",
        "offers.show(5,truncate=200)"
      ],
      "metadata": {
        "id": "Cw_lnKaESSjO",
        "outputId": "2b08f0bc-7ee0-4d2a-fc5e-7582c6acef95",
        "colab": {
          "base_uri": "https://localhost:8080/"
        }
      },
      "execution_count": 9,
      "outputs": [
        {
          "output_type": "stream",
          "name": "stdout",
          "text": [
            "+-------------------------------------------------+-----------------------------------------------------------------------------------------------------------------------------------------+------------------------------------------------+\n",
            "|                                                s|                                                                                                                                        p|                                               o|\n",
            "+-------------------------------------------------+-----------------------------------------------------------------------------------------------------------------------------------------+------------------------------------------------+\n",
            "|{<http://db.uwaterloo.ca/~galuc/wsdbm/Retailer1>}|{<http://db.uwaterloo.ca/~galuc/wsdbm/Retailer1>, <http://purl.org/goodrelations/offers>, <http://db.uwaterloo.ca/~galuc/wsdbm/Offer367>}|{<http://db.uwaterloo.ca/~galuc/wsdbm/Offer367>}|\n",
            "|{<http://db.uwaterloo.ca/~galuc/wsdbm/Retailer1>}|  {<http://db.uwaterloo.ca/~galuc/wsdbm/Retailer1>, <http://purl.org/goodrelations/offers>, <http://db.uwaterloo.ca/~galuc/wsdbm/Offer2>}|  {<http://db.uwaterloo.ca/~galuc/wsdbm/Offer2>}|\n",
            "|{<http://db.uwaterloo.ca/~galuc/wsdbm/Retailer1>}|  {<http://db.uwaterloo.ca/~galuc/wsdbm/Retailer1>, <http://purl.org/goodrelations/offers>, <http://db.uwaterloo.ca/~galuc/wsdbm/Offer2>}|  {<http://db.uwaterloo.ca/~galuc/wsdbm/Offer2>}|\n",
            "|{<http://db.uwaterloo.ca/~galuc/wsdbm/Retailer1>}|{<http://db.uwaterloo.ca/~galuc/wsdbm/Retailer1>, <http://purl.org/goodrelations/offers>, <http://db.uwaterloo.ca/~galuc/wsdbm/Offer138>}|{<http://db.uwaterloo.ca/~galuc/wsdbm/Offer138>}|\n",
            "|{<http://db.uwaterloo.ca/~galuc/wsdbm/Retailer1>}|  {<http://db.uwaterloo.ca/~galuc/wsdbm/Retailer1>, <http://purl.org/goodrelations/offers>, <http://db.uwaterloo.ca/~galuc/wsdbm/Offer2>}|  {<http://db.uwaterloo.ca/~galuc/wsdbm/Offer2>}|\n",
            "+-------------------------------------------------+-----------------------------------------------------------------------------------------------------------------------------------------+------------------------------------------------+\n",
            "only showing top 5 rows\n",
            "\n"
          ]
        }
      ]
    },
    {
      "cell_type": "code",
      "source": [
        "includes = graph.find(\"(s)-[p]->(o)\")\\\n",
        "  .filter(\"p.relationship='<http://purl.org/goodrelations/includes>'\") \n",
        "includes.show(5,truncate=200)"
      ],
      "metadata": {
        "id": "M674TeHZSn55",
        "outputId": "60638bea-ab6e-4444-911d-86f3d6fa8169",
        "colab": {
          "base_uri": "https://localhost:8080/"
        }
      },
      "execution_count": 10,
      "outputs": [
        {
          "output_type": "stream",
          "name": "stdout",
          "text": [
            "+------------------------------------------------+--------------------------------------------------------------------------------------------------------------------------------------------+--------------------------------------------------+\n",
            "|                                               s|                                                                                                                                           p|                                                 o|\n",
            "+------------------------------------------------+--------------------------------------------------------------------------------------------------------------------------------------------+--------------------------------------------------+\n",
            "| {<http://db.uwaterloo.ca/~galuc/wsdbm/Offer73>}| {<http://db.uwaterloo.ca/~galuc/wsdbm/Offer73>, <http://purl.org/goodrelations/includes>, <http://db.uwaterloo.ca/~galuc/wsdbm/Product105>}|{<http://db.uwaterloo.ca/~galuc/wsdbm/Product105>}|\n",
            "|{<http://db.uwaterloo.ca/~galuc/wsdbm/Offer148>}| {<http://db.uwaterloo.ca/~galuc/wsdbm/Offer148>, <http://purl.org/goodrelations/includes>, <http://db.uwaterloo.ca/~galuc/wsdbm/Product25>}| {<http://db.uwaterloo.ca/~galuc/wsdbm/Product25>}|\n",
            "|{<http://db.uwaterloo.ca/~galuc/wsdbm/Offer410>}| {<http://db.uwaterloo.ca/~galuc/wsdbm/Offer410>, <http://purl.org/goodrelations/includes>, <http://db.uwaterloo.ca/~galuc/wsdbm/Product33>}| {<http://db.uwaterloo.ca/~galuc/wsdbm/Product33>}|\n",
            "|{<http://db.uwaterloo.ca/~galuc/wsdbm/Offer427>}|{<http://db.uwaterloo.ca/~galuc/wsdbm/Offer427>, <http://purl.org/goodrelations/includes>, <http://db.uwaterloo.ca/~galuc/wsdbm/Product148>}|{<http://db.uwaterloo.ca/~galuc/wsdbm/Product148>}|\n",
            "|{<http://db.uwaterloo.ca/~galuc/wsdbm/Offer751>}|{<http://db.uwaterloo.ca/~galuc/wsdbm/Offer751>, <http://purl.org/goodrelations/includes>, <http://db.uwaterloo.ca/~galuc/wsdbm/Product179>}|{<http://db.uwaterloo.ca/~galuc/wsdbm/Product179>}|\n",
            "+------------------------------------------------+--------------------------------------------------------------------------------------------------------------------------------------------+--------------------------------------------------+\n",
            "only showing top 5 rows\n",
            "\n"
          ]
        }
      ]
    },
    {
      "cell_type": "code",
      "source": [
        "#pas mal ça...\n",
        "retailhop = graph.find(\"(a)-[p1]->(b);(b)-[p2]->(c)\")\\\n",
        "  .filter(\"instr(a.id,'Retailer') >0\") \\\n",
        "  .filter(\"p1.relationship='<http://purl.org/goodrelations/offers>'\") \\\n",
        "  .filter(\"p2.relationship='<http://purl.org/goodrelations/includes>'\")\n",
        "retailhop.show(10,truncate=200)"
      ],
      "metadata": {
        "id": "2HrJI0d5EsnZ",
        "outputId": "4a5ef45c-bf3e-4115-9c4a-bae6b890da9b",
        "colab": {
          "base_uri": "https://localhost:8080/"
        }
      },
      "execution_count": 22,
      "outputs": [
        {
          "output_type": "stream",
          "name": "stderr",
          "text": [
            "/usr/local/lib/python3.7/dist-packages/pyspark/sql/dataframe.py:127: UserWarning: DataFrame constructor is internal. Do not directly use it.\n",
            "  warnings.warn(\"DataFrame constructor is internal. Do not directly use it.\")\n"
          ]
        },
        {
          "output_type": "stream",
          "name": "stdout",
          "text": [
            "+-------------------------------------------------+-----------------------------------------------------------------------------------------------------------------------------------------+------------------------------------------------+--------------------------------------------------------------------------------------------------------------------------------------------+--------------------------------------------------+\n",
            "|                                                a|                                                                                                                                       p1|                                               b|                                                                                                                                          p2|                                                 c|\n",
            "+-------------------------------------------------+-----------------------------------------------------------------------------------------------------------------------------------------+------------------------------------------------+--------------------------------------------------------------------------------------------------------------------------------------------+--------------------------------------------------+\n",
            "|{<http://db.uwaterloo.ca/~galuc/wsdbm/Retailer2>}| {<http://db.uwaterloo.ca/~galuc/wsdbm/Retailer2>, <http://purl.org/goodrelations/offers>, <http://db.uwaterloo.ca/~galuc/wsdbm/Offer73>}| {<http://db.uwaterloo.ca/~galuc/wsdbm/Offer73>}| {<http://db.uwaterloo.ca/~galuc/wsdbm/Offer73>, <http://purl.org/goodrelations/includes>, <http://db.uwaterloo.ca/~galuc/wsdbm/Product105>}|{<http://db.uwaterloo.ca/~galuc/wsdbm/Product105>}|\n",
            "|{<http://db.uwaterloo.ca/~galuc/wsdbm/Retailer8>}| {<http://db.uwaterloo.ca/~galuc/wsdbm/Retailer8>, <http://purl.org/goodrelations/offers>, <http://db.uwaterloo.ca/~galuc/wsdbm/Offer73>}| {<http://db.uwaterloo.ca/~galuc/wsdbm/Offer73>}| {<http://db.uwaterloo.ca/~galuc/wsdbm/Offer73>, <http://purl.org/goodrelations/includes>, <http://db.uwaterloo.ca/~galuc/wsdbm/Product105>}|{<http://db.uwaterloo.ca/~galuc/wsdbm/Product105>}|\n",
            "|{<http://db.uwaterloo.ca/~galuc/wsdbm/Retailer0>}| {<http://db.uwaterloo.ca/~galuc/wsdbm/Retailer0>, <http://purl.org/goodrelations/offers>, <http://db.uwaterloo.ca/~galuc/wsdbm/Offer73>}| {<http://db.uwaterloo.ca/~galuc/wsdbm/Offer73>}| {<http://db.uwaterloo.ca/~galuc/wsdbm/Offer73>, <http://purl.org/goodrelations/includes>, <http://db.uwaterloo.ca/~galuc/wsdbm/Product105>}|{<http://db.uwaterloo.ca/~galuc/wsdbm/Product105>}|\n",
            "|{<http://db.uwaterloo.ca/~galuc/wsdbm/Retailer4>}| {<http://db.uwaterloo.ca/~galuc/wsdbm/Retailer4>, <http://purl.org/goodrelations/offers>, <http://db.uwaterloo.ca/~galuc/wsdbm/Offer73>}| {<http://db.uwaterloo.ca/~galuc/wsdbm/Offer73>}| {<http://db.uwaterloo.ca/~galuc/wsdbm/Offer73>, <http://purl.org/goodrelations/includes>, <http://db.uwaterloo.ca/~galuc/wsdbm/Product105>}|{<http://db.uwaterloo.ca/~galuc/wsdbm/Product105>}|\n",
            "|{<http://db.uwaterloo.ca/~galuc/wsdbm/Retailer4>}| {<http://db.uwaterloo.ca/~galuc/wsdbm/Retailer4>, <http://purl.org/goodrelations/offers>, <http://db.uwaterloo.ca/~galuc/wsdbm/Offer73>}| {<http://db.uwaterloo.ca/~galuc/wsdbm/Offer73>}| {<http://db.uwaterloo.ca/~galuc/wsdbm/Offer73>, <http://purl.org/goodrelations/includes>, <http://db.uwaterloo.ca/~galuc/wsdbm/Product105>}|{<http://db.uwaterloo.ca/~galuc/wsdbm/Product105>}|\n",
            "|{<http://db.uwaterloo.ca/~galuc/wsdbm/Retailer2>}|{<http://db.uwaterloo.ca/~galuc/wsdbm/Retailer2>, <http://purl.org/goodrelations/offers>, <http://db.uwaterloo.ca/~galuc/wsdbm/Offer410>}|{<http://db.uwaterloo.ca/~galuc/wsdbm/Offer410>}| {<http://db.uwaterloo.ca/~galuc/wsdbm/Offer410>, <http://purl.org/goodrelations/includes>, <http://db.uwaterloo.ca/~galuc/wsdbm/Product33>}| {<http://db.uwaterloo.ca/~galuc/wsdbm/Product33>}|\n",
            "|{<http://db.uwaterloo.ca/~galuc/wsdbm/Retailer6>}|{<http://db.uwaterloo.ca/~galuc/wsdbm/Retailer6>, <http://purl.org/goodrelations/offers>, <http://db.uwaterloo.ca/~galuc/wsdbm/Offer410>}|{<http://db.uwaterloo.ca/~galuc/wsdbm/Offer410>}| {<http://db.uwaterloo.ca/~galuc/wsdbm/Offer410>, <http://purl.org/goodrelations/includes>, <http://db.uwaterloo.ca/~galuc/wsdbm/Product33>}| {<http://db.uwaterloo.ca/~galuc/wsdbm/Product33>}|\n",
            "|{<http://db.uwaterloo.ca/~galuc/wsdbm/Retailer5>}|{<http://db.uwaterloo.ca/~galuc/wsdbm/Retailer5>, <http://purl.org/goodrelations/offers>, <http://db.uwaterloo.ca/~galuc/wsdbm/Offer410>}|{<http://db.uwaterloo.ca/~galuc/wsdbm/Offer410>}| {<http://db.uwaterloo.ca/~galuc/wsdbm/Offer410>, <http://purl.org/goodrelations/includes>, <http://db.uwaterloo.ca/~galuc/wsdbm/Product33>}| {<http://db.uwaterloo.ca/~galuc/wsdbm/Product33>}|\n",
            "|{<http://db.uwaterloo.ca/~galuc/wsdbm/Retailer7>}|{<http://db.uwaterloo.ca/~galuc/wsdbm/Retailer7>, <http://purl.org/goodrelations/offers>, <http://db.uwaterloo.ca/~galuc/wsdbm/Offer410>}|{<http://db.uwaterloo.ca/~galuc/wsdbm/Offer410>}| {<http://db.uwaterloo.ca/~galuc/wsdbm/Offer410>, <http://purl.org/goodrelations/includes>, <http://db.uwaterloo.ca/~galuc/wsdbm/Product33>}| {<http://db.uwaterloo.ca/~galuc/wsdbm/Product33>}|\n",
            "|{<http://db.uwaterloo.ca/~galuc/wsdbm/Retailer4>}|{<http://db.uwaterloo.ca/~galuc/wsdbm/Retailer4>, <http://purl.org/goodrelations/offers>, <http://db.uwaterloo.ca/~galuc/wsdbm/Offer427>}|{<http://db.uwaterloo.ca/~galuc/wsdbm/Offer427>}|{<http://db.uwaterloo.ca/~galuc/wsdbm/Offer427>, <http://purl.org/goodrelations/includes>, <http://db.uwaterloo.ca/~galuc/wsdbm/Product148>}|{<http://db.uwaterloo.ca/~galuc/wsdbm/Product148>}|\n",
            "+-------------------------------------------------+-----------------------------------------------------------------------------------------------------------------------------------------+------------------------------------------------+--------------------------------------------------------------------------------------------------------------------------------------------+--------------------------------------------------+\n",
            "only showing top 10 rows\n",
            "\n"
          ]
        }
      ]
    },
    {
      "cell_type": "code",
      "source": [
        "# offers shared by different retailer\n",
        "shared = graph.find(\"(a)-[p]->(b);(a1)-[p1]->(b)\") \\\n",
        "  .filter(\"p.relationship='<http://purl.org/goodrelations/offers>'\") \\\n",
        "  .filter(\"p1.relationship='<http://purl.org/goodrelations/offers>'\")\n",
        "shared.show(10,truncate=200)"
      ],
      "metadata": {
        "colab": {
          "base_uri": "https://localhost:8080/"
        },
        "id": "6QdI2Rhq9ILU",
        "outputId": "34689a36-f1cd-473e-b7ca-94407afd7466"
      },
      "execution_count": 12,
      "outputs": [
        {
          "output_type": "stream",
          "name": "stdout",
          "text": [
            "+-------------------------------------------------+----------------------------------------------------------------------------------------------------------------------------------------+-----------------------------------------------+-------------------------------------------------+----------------------------------------------------------------------------------------------------------------------------------------+\n",
            "|                                                a|                                                                                                                                       p|                                              b|                                               a1|                                                                                                                                      p1|\n",
            "+-------------------------------------------------+----------------------------------------------------------------------------------------------------------------------------------------+-----------------------------------------------+-------------------------------------------------+----------------------------------------------------------------------------------------------------------------------------------------+\n",
            "|{<http://db.uwaterloo.ca/~galuc/wsdbm/Retailer2>}|{<http://db.uwaterloo.ca/~galuc/wsdbm/Retailer2>, <http://purl.org/goodrelations/offers>, <http://db.uwaterloo.ca/~galuc/wsdbm/Offer73>}|{<http://db.uwaterloo.ca/~galuc/wsdbm/Offer73>}|{<http://db.uwaterloo.ca/~galuc/wsdbm/Retailer0>}|{<http://db.uwaterloo.ca/~galuc/wsdbm/Retailer0>, <http://purl.org/goodrelations/offers>, <http://db.uwaterloo.ca/~galuc/wsdbm/Offer73>}|\n",
            "|{<http://db.uwaterloo.ca/~galuc/wsdbm/Retailer8>}|{<http://db.uwaterloo.ca/~galuc/wsdbm/Retailer8>, <http://purl.org/goodrelations/offers>, <http://db.uwaterloo.ca/~galuc/wsdbm/Offer73>}|{<http://db.uwaterloo.ca/~galuc/wsdbm/Offer73>}|{<http://db.uwaterloo.ca/~galuc/wsdbm/Retailer0>}|{<http://db.uwaterloo.ca/~galuc/wsdbm/Retailer0>, <http://purl.org/goodrelations/offers>, <http://db.uwaterloo.ca/~galuc/wsdbm/Offer73>}|\n",
            "|{<http://db.uwaterloo.ca/~galuc/wsdbm/Retailer0>}|{<http://db.uwaterloo.ca/~galuc/wsdbm/Retailer0>, <http://purl.org/goodrelations/offers>, <http://db.uwaterloo.ca/~galuc/wsdbm/Offer73>}|{<http://db.uwaterloo.ca/~galuc/wsdbm/Offer73>}|{<http://db.uwaterloo.ca/~galuc/wsdbm/Retailer0>}|{<http://db.uwaterloo.ca/~galuc/wsdbm/Retailer0>, <http://purl.org/goodrelations/offers>, <http://db.uwaterloo.ca/~galuc/wsdbm/Offer73>}|\n",
            "|{<http://db.uwaterloo.ca/~galuc/wsdbm/Retailer4>}|{<http://db.uwaterloo.ca/~galuc/wsdbm/Retailer4>, <http://purl.org/goodrelations/offers>, <http://db.uwaterloo.ca/~galuc/wsdbm/Offer73>}|{<http://db.uwaterloo.ca/~galuc/wsdbm/Offer73>}|{<http://db.uwaterloo.ca/~galuc/wsdbm/Retailer0>}|{<http://db.uwaterloo.ca/~galuc/wsdbm/Retailer0>, <http://purl.org/goodrelations/offers>, <http://db.uwaterloo.ca/~galuc/wsdbm/Offer73>}|\n",
            "|{<http://db.uwaterloo.ca/~galuc/wsdbm/Retailer4>}|{<http://db.uwaterloo.ca/~galuc/wsdbm/Retailer4>, <http://purl.org/goodrelations/offers>, <http://db.uwaterloo.ca/~galuc/wsdbm/Offer73>}|{<http://db.uwaterloo.ca/~galuc/wsdbm/Offer73>}|{<http://db.uwaterloo.ca/~galuc/wsdbm/Retailer0>}|{<http://db.uwaterloo.ca/~galuc/wsdbm/Retailer0>, <http://purl.org/goodrelations/offers>, <http://db.uwaterloo.ca/~galuc/wsdbm/Offer73>}|\n",
            "|{<http://db.uwaterloo.ca/~galuc/wsdbm/Retailer2>}|{<http://db.uwaterloo.ca/~galuc/wsdbm/Retailer2>, <http://purl.org/goodrelations/offers>, <http://db.uwaterloo.ca/~galuc/wsdbm/Offer73>}|{<http://db.uwaterloo.ca/~galuc/wsdbm/Offer73>}|{<http://db.uwaterloo.ca/~galuc/wsdbm/Retailer2>}|{<http://db.uwaterloo.ca/~galuc/wsdbm/Retailer2>, <http://purl.org/goodrelations/offers>, <http://db.uwaterloo.ca/~galuc/wsdbm/Offer73>}|\n",
            "|{<http://db.uwaterloo.ca/~galuc/wsdbm/Retailer8>}|{<http://db.uwaterloo.ca/~galuc/wsdbm/Retailer8>, <http://purl.org/goodrelations/offers>, <http://db.uwaterloo.ca/~galuc/wsdbm/Offer73>}|{<http://db.uwaterloo.ca/~galuc/wsdbm/Offer73>}|{<http://db.uwaterloo.ca/~galuc/wsdbm/Retailer2>}|{<http://db.uwaterloo.ca/~galuc/wsdbm/Retailer2>, <http://purl.org/goodrelations/offers>, <http://db.uwaterloo.ca/~galuc/wsdbm/Offer73>}|\n",
            "|{<http://db.uwaterloo.ca/~galuc/wsdbm/Retailer0>}|{<http://db.uwaterloo.ca/~galuc/wsdbm/Retailer0>, <http://purl.org/goodrelations/offers>, <http://db.uwaterloo.ca/~galuc/wsdbm/Offer73>}|{<http://db.uwaterloo.ca/~galuc/wsdbm/Offer73>}|{<http://db.uwaterloo.ca/~galuc/wsdbm/Retailer2>}|{<http://db.uwaterloo.ca/~galuc/wsdbm/Retailer2>, <http://purl.org/goodrelations/offers>, <http://db.uwaterloo.ca/~galuc/wsdbm/Offer73>}|\n",
            "|{<http://db.uwaterloo.ca/~galuc/wsdbm/Retailer4>}|{<http://db.uwaterloo.ca/~galuc/wsdbm/Retailer4>, <http://purl.org/goodrelations/offers>, <http://db.uwaterloo.ca/~galuc/wsdbm/Offer73>}|{<http://db.uwaterloo.ca/~galuc/wsdbm/Offer73>}|{<http://db.uwaterloo.ca/~galuc/wsdbm/Retailer2>}|{<http://db.uwaterloo.ca/~galuc/wsdbm/Retailer2>, <http://purl.org/goodrelations/offers>, <http://db.uwaterloo.ca/~galuc/wsdbm/Offer73>}|\n",
            "|{<http://db.uwaterloo.ca/~galuc/wsdbm/Retailer4>}|{<http://db.uwaterloo.ca/~galuc/wsdbm/Retailer4>, <http://purl.org/goodrelations/offers>, <http://db.uwaterloo.ca/~galuc/wsdbm/Offer73>}|{<http://db.uwaterloo.ca/~galuc/wsdbm/Offer73>}|{<http://db.uwaterloo.ca/~galuc/wsdbm/Retailer2>}|{<http://db.uwaterloo.ca/~galuc/wsdbm/Retailer2>, <http://purl.org/goodrelations/offers>, <http://db.uwaterloo.ca/~galuc/wsdbm/Offer73>}|\n",
            "+-------------------------------------------------+----------------------------------------------------------------------------------------------------------------------------------------+-----------------------------------------------+-------------------------------------------------+----------------------------------------------------------------------------------------------------------------------------------------+\n",
            "only showing top 10 rows\n",
            "\n"
          ]
        }
      ]
    },
    {
      "cell_type": "code",
      "source": [
        "#marche pas comme ça...\n",
        "ret2 = graph.filterVertices(\"instr(id,'Retailer') >0\")\n",
        "ret2.vertices.show()\n",
        "\n",
        "\n",
        "\n"
      ],
      "metadata": {
        "id": "VDV0E01kCU-T",
        "outputId": "e1a16ccc-9480-43e6-8828-3d38e9cf13ab",
        "colab": {
          "base_uri": "https://localhost:8080/"
        }
      },
      "execution_count": 49,
      "outputs": [
        {
          "output_type": "stream",
          "name": "stdout",
          "text": [
            "+--------------------+\n",
            "|                  id|\n",
            "+--------------------+\n",
            "|<http://db.uwater...|\n",
            "|<http://db.uwater...|\n",
            "|<http://db.uwater...|\n",
            "|<http://db.uwater...|\n",
            "|<http://db.uwater...|\n",
            "|<http://db.uwater...|\n",
            "|<http://db.uwater...|\n",
            "|<http://db.uwater...|\n",
            "|<http://db.uwater...|\n",
            "|<http://db.uwater...|\n",
            "|<http://db.uwater...|\n",
            "|<http://db.uwater...|\n",
            "+--------------------+\n",
            "\n"
          ]
        }
      ]
    },
    {
      "cell_type": "code",
      "source": [
        "# Need to add a new column \"Name\" to every retailers...\n",
        "\n",
        "# from \"<http://db.uwaterloo.ca/~galuc/wsdbm/Retailer2>\"\n",
        "# to Retailer2\n",
        "def getRetName(retname):\n",
        "  return str(retname)[1:][:-1].rsplit('/', 1)[-1]  \n",
        "\n",
        "print(getRetName(\"<http://db.uwaterloo.ca/~galuc/wsdbm/Retailer2>\"))\n",
        "\n",
        "getRetNameUDF = udf(lambda z: getRetName(z))\n",
        "\n",
        "# Update Vertices\n",
        "updated_vertices = ret2.vertices.withColumn(\"name\", lit(getRetNameUDF(col(\"id\"))))\n",
        "\n",
        "\n",
        "updated_vertices.show()\n",
        "\n",
        "#ret3 = graph.vertices.filter(\"instr(id,'Retailer') >0\")\n",
        "#ret3.show(10,truncate=200)\n"
      ],
      "metadata": {
        "id": "uO4yPurLsTRu",
        "outputId": "fd3bfda4-17e7-45f1-826a-576f7f178e3e",
        "colab": {
          "base_uri": "https://localhost:8080/"
        }
      },
      "execution_count": 54,
      "outputs": [
        {
          "output_type": "stream",
          "name": "stdout",
          "text": [
            "Retailer2\n",
            "+--------------------+----------+\n",
            "|                  id|      name|\n",
            "+--------------------+----------+\n",
            "|<http://db.uwater...| Retailer1|\n",
            "|<http://db.uwater...|Retailer11|\n",
            "|<http://db.uwater...| Retailer7|\n",
            "|<http://db.uwater...| Retailer5|\n",
            "|<http://db.uwater...| Retailer9|\n",
            "|<http://db.uwater...| Retailer3|\n",
            "|<http://db.uwater...|Retailer10|\n",
            "|<http://db.uwater...| Retailer4|\n",
            "|<http://db.uwater...| Retailer0|\n",
            "|<http://db.uwater...| Retailer6|\n",
            "|<http://db.uwater...| Retailer8|\n",
            "|<http://db.uwater...| Retailer2|\n",
            "+--------------------+----------+\n",
            "\n"
          ]
        }
      ]
    },
    {
      "cell_type": "code",
      "source": [
        "from pyspark.sql.functions import *\n",
        "from graphframes.lib import AggregateMessages as AM\n",
        "\n",
        "msgToSrc=\"\"\n",
        "msgToDst=AM.src[str(id).rsplit('/', 1)[-1]]\n",
        "\n",
        "agg=ret2.aggregateMessages(\n",
        "    AM.msg.alias(\"inshop\"),\n",
        "    sendToSrc=msgToSrc,\n",
        "    sendToDst=msgToDst)\n",
        "agg.show()\n",
        "\n",
        "\n",
        "\n"
      ],
      "metadata": {
        "id": "9nxdG52biSpt",
        "outputId": "f1eb9133-388f-46e1-c3f0-17b27dcdef45",
        "colab": {
          "base_uri": "https://localhost:8080/",
          "height": 478
        }
      },
      "execution_count": 38,
      "outputs": [
        {
          "output_type": "error",
          "ename": "ParseException",
          "evalue": "ignored",
          "traceback": [
            "\u001b[0;31m---------------------------------------------------------------------------\u001b[0m",
            "\u001b[0;31mParseException\u001b[0m                            Traceback (most recent call last)",
            "\u001b[0;32m<ipython-input-38-be2fe65d46c5>\u001b[0m in \u001b[0;36m<module>\u001b[0;34m\u001b[0m\n\u001b[1;32m      8\u001b[0m     \u001b[0mAM\u001b[0m\u001b[0;34m.\u001b[0m\u001b[0mmsg\u001b[0m\u001b[0;34m.\u001b[0m\u001b[0malias\u001b[0m\u001b[0;34m(\u001b[0m\u001b[0;34m\"inshop\"\u001b[0m\u001b[0;34m)\u001b[0m\u001b[0;34m,\u001b[0m\u001b[0;34m\u001b[0m\u001b[0;34m\u001b[0m\u001b[0m\n\u001b[1;32m      9\u001b[0m     \u001b[0msendToSrc\u001b[0m\u001b[0;34m=\u001b[0m\u001b[0mmsgToSrc\u001b[0m\u001b[0;34m,\u001b[0m\u001b[0;34m\u001b[0m\u001b[0;34m\u001b[0m\u001b[0m\n\u001b[0;32m---> 10\u001b[0;31m     sendToDst=msgToDst)\n\u001b[0m\u001b[1;32m     11\u001b[0m \u001b[0magg\u001b[0m\u001b[0;34m.\u001b[0m\u001b[0mshow\u001b[0m\u001b[0;34m(\u001b[0m\u001b[0;34m)\u001b[0m\u001b[0;34m\u001b[0m\u001b[0;34m\u001b[0m\u001b[0m\n\u001b[1;32m     12\u001b[0m \u001b[0;34m\u001b[0m\u001b[0m\n",
            "\u001b[0;32m/tmp/spark-93918442-2b95-47d7-a0a6-353ef57280f0/userFiles-ee36a329-6e02-401d-9fc4-47d30bfe484c/graphframes_graphframes-0.8.2-spark3.2-s_2.12.jar/graphframes/graphframe.py\u001b[0m in \u001b[0;36maggregateMessages\u001b[0;34m(self, aggCol, sendToSrc, sendToDst)\u001b[0m\n\u001b[1;32m    292\u001b[0m                 \u001b[0mbuilder\u001b[0m\u001b[0;34m.\u001b[0m\u001b[0msendToSrc\u001b[0m\u001b[0;34m(\u001b[0m\u001b[0msendToSrc\u001b[0m\u001b[0;34m.\u001b[0m\u001b[0m_jc\u001b[0m\u001b[0;34m)\u001b[0m\u001b[0;34m\u001b[0m\u001b[0;34m\u001b[0m\u001b[0m\n\u001b[1;32m    293\u001b[0m             \u001b[0;32melif\u001b[0m \u001b[0misinstance\u001b[0m\u001b[0;34m(\u001b[0m\u001b[0msendToSrc\u001b[0m\u001b[0;34m,\u001b[0m \u001b[0mbasestring\u001b[0m\u001b[0;34m)\u001b[0m\u001b[0;34m:\u001b[0m\u001b[0;34m\u001b[0m\u001b[0;34m\u001b[0m\u001b[0m\n\u001b[0;32m--> 294\u001b[0;31m                 \u001b[0mbuilder\u001b[0m\u001b[0;34m.\u001b[0m\u001b[0msendToSrc\u001b[0m\u001b[0;34m(\u001b[0m\u001b[0msendToSrc\u001b[0m\u001b[0;34m)\u001b[0m\u001b[0;34m\u001b[0m\u001b[0;34m\u001b[0m\u001b[0m\n\u001b[0m\u001b[1;32m    295\u001b[0m             \u001b[0;32melse\u001b[0m\u001b[0;34m:\u001b[0m\u001b[0;34m\u001b[0m\u001b[0;34m\u001b[0m\u001b[0m\n\u001b[1;32m    296\u001b[0m                 \u001b[0;32mraise\u001b[0m \u001b[0mTypeError\u001b[0m\u001b[0;34m(\u001b[0m\u001b[0;34m\"Provide message either as `Column` or `str`\"\u001b[0m\u001b[0;34m)\u001b[0m\u001b[0;34m\u001b[0m\u001b[0;34m\u001b[0m\u001b[0m\n",
            "\u001b[0;32m/usr/local/lib/python3.7/dist-packages/py4j/java_gateway.py\u001b[0m in \u001b[0;36m__call__\u001b[0;34m(self, *args)\u001b[0m\n\u001b[1;32m   1320\u001b[0m         \u001b[0manswer\u001b[0m \u001b[0;34m=\u001b[0m \u001b[0mself\u001b[0m\u001b[0;34m.\u001b[0m\u001b[0mgateway_client\u001b[0m\u001b[0;34m.\u001b[0m\u001b[0msend_command\u001b[0m\u001b[0;34m(\u001b[0m\u001b[0mcommand\u001b[0m\u001b[0;34m)\u001b[0m\u001b[0;34m\u001b[0m\u001b[0;34m\u001b[0m\u001b[0m\n\u001b[1;32m   1321\u001b[0m         return_value = get_return_value(\n\u001b[0;32m-> 1322\u001b[0;31m             answer, self.gateway_client, self.target_id, self.name)\n\u001b[0m\u001b[1;32m   1323\u001b[0m \u001b[0;34m\u001b[0m\u001b[0m\n\u001b[1;32m   1324\u001b[0m         \u001b[0;32mfor\u001b[0m \u001b[0mtemp_arg\u001b[0m \u001b[0;32min\u001b[0m \u001b[0mtemp_args\u001b[0m\u001b[0;34m:\u001b[0m\u001b[0;34m\u001b[0m\u001b[0;34m\u001b[0m\u001b[0m\n",
            "\u001b[0;32m/usr/local/lib/python3.7/dist-packages/pyspark/sql/utils.py\u001b[0m in \u001b[0;36mdeco\u001b[0;34m(*a, **kw)\u001b[0m\n\u001b[1;32m    194\u001b[0m                 \u001b[0;31m# Hide where the exception came from that shows a non-Pythonic\u001b[0m\u001b[0;34m\u001b[0m\u001b[0;34m\u001b[0m\u001b[0;34m\u001b[0m\u001b[0m\n\u001b[1;32m    195\u001b[0m                 \u001b[0;31m# JVM exception message.\u001b[0m\u001b[0;34m\u001b[0m\u001b[0;34m\u001b[0m\u001b[0;34m\u001b[0m\u001b[0m\n\u001b[0;32m--> 196\u001b[0;31m                 \u001b[0;32mraise\u001b[0m \u001b[0mconverted\u001b[0m \u001b[0;32mfrom\u001b[0m \u001b[0;32mNone\u001b[0m\u001b[0;34m\u001b[0m\u001b[0;34m\u001b[0m\u001b[0m\n\u001b[0m\u001b[1;32m    197\u001b[0m             \u001b[0;32melse\u001b[0m\u001b[0;34m:\u001b[0m\u001b[0;34m\u001b[0m\u001b[0;34m\u001b[0m\u001b[0m\n\u001b[1;32m    198\u001b[0m                 \u001b[0;32mraise\u001b[0m\u001b[0;34m\u001b[0m\u001b[0;34m\u001b[0m\u001b[0m\n",
            "\u001b[0;31mParseException\u001b[0m: \nSyntax error, unexpected empty statement(line 1, pos 0)\n\n== SQL ==\n\n^^^\n"
          ]
        }
      ]
    },
    {
      "cell_type": "code",
      "source": [
        "#queryinng from retailers to products..\n",
        "#One way to do it...\n",
        "paths = graph.bfs(\"id = '<http://db.uwaterloo.ca/~galuc/wsdbm/Retailer2>'\", \\\n",
        "                  \"instr(id,'Product') >0\")\n",
        "paths.show(1000, truncate=200)"
      ],
      "metadata": {
        "colab": {
          "base_uri": "https://localhost:8080/"
        },
        "id": "hL7AJ5UJIbhA",
        "outputId": "b9e5fb55-4679-4cfb-e856-ee2fcc71e969"
      },
      "execution_count": 19,
      "outputs": [
        {
          "output_type": "stream",
          "name": "stdout",
          "text": [
            "+-------------------------------------------------+-----------------------------------------------------------------------------------------------------------------------------------------+------------------------------------------------+--------------------------------------------------------------------------------------------------------------------------------------------+--------------------------------------------------+\n",
            "|                                             from|                                                                                                                                       e0|                                              v1|                                                                                                                                          e1|                                                to|\n",
            "+-------------------------------------------------+-----------------------------------------------------------------------------------------------------------------------------------------+------------------------------------------------+--------------------------------------------------------------------------------------------------------------------------------------------+--------------------------------------------------+\n",
            "|{<http://db.uwaterloo.ca/~galuc/wsdbm/Retailer2>}|  {<http://db.uwaterloo.ca/~galuc/wsdbm/Retailer2>, <http://purl.org/goodrelations/offers>, <http://db.uwaterloo.ca/~galuc/wsdbm/Offer3>}|  {<http://db.uwaterloo.ca/~galuc/wsdbm/Offer3>}|   {<http://db.uwaterloo.ca/~galuc/wsdbm/Offer3>, <http://purl.org/goodrelations/includes>, <http://db.uwaterloo.ca/~galuc/wsdbm/Product58>}| {<http://db.uwaterloo.ca/~galuc/wsdbm/Product58>}|\n",
            "|{<http://db.uwaterloo.ca/~galuc/wsdbm/Retailer2>}|  {<http://db.uwaterloo.ca/~galuc/wsdbm/Retailer2>, <http://purl.org/goodrelations/offers>, <http://db.uwaterloo.ca/~galuc/wsdbm/Offer3>}|  {<http://db.uwaterloo.ca/~galuc/wsdbm/Offer3>}|   {<http://db.uwaterloo.ca/~galuc/wsdbm/Offer3>, <http://purl.org/goodrelations/includes>, <http://db.uwaterloo.ca/~galuc/wsdbm/Product58>}| {<http://db.uwaterloo.ca/~galuc/wsdbm/Product58>}|\n",
            "|{<http://db.uwaterloo.ca/~galuc/wsdbm/Retailer2>}|  {<http://db.uwaterloo.ca/~galuc/wsdbm/Retailer2>, <http://purl.org/goodrelations/offers>, <http://db.uwaterloo.ca/~galuc/wsdbm/Offer3>}|  {<http://db.uwaterloo.ca/~galuc/wsdbm/Offer3>}|   {<http://db.uwaterloo.ca/~galuc/wsdbm/Offer3>, <http://purl.org/goodrelations/includes>, <http://db.uwaterloo.ca/~galuc/wsdbm/Product58>}| {<http://db.uwaterloo.ca/~galuc/wsdbm/Product58>}|\n",
            "|{<http://db.uwaterloo.ca/~galuc/wsdbm/Retailer2>}|{<http://db.uwaterloo.ca/~galuc/wsdbm/Retailer2>, <http://purl.org/goodrelations/offers>, <http://db.uwaterloo.ca/~galuc/wsdbm/Offer233>}|{<http://db.uwaterloo.ca/~galuc/wsdbm/Offer233>}|{<http://db.uwaterloo.ca/~galuc/wsdbm/Offer233>, <http://purl.org/goodrelations/includes>, <http://db.uwaterloo.ca/~galuc/wsdbm/Product113>}|{<http://db.uwaterloo.ca/~galuc/wsdbm/Product113>}|\n",
            "|{<http://db.uwaterloo.ca/~galuc/wsdbm/Retailer2>}|{<http://db.uwaterloo.ca/~galuc/wsdbm/Retailer2>, <http://purl.org/goodrelations/offers>, <http://db.uwaterloo.ca/~galuc/wsdbm/Offer845>}|{<http://db.uwaterloo.ca/~galuc/wsdbm/Offer845>}|{<http://db.uwaterloo.ca/~galuc/wsdbm/Offer845>, <http://purl.org/goodrelations/includes>, <http://db.uwaterloo.ca/~galuc/wsdbm/Product113>}|{<http://db.uwaterloo.ca/~galuc/wsdbm/Product113>}|\n",
            "|{<http://db.uwaterloo.ca/~galuc/wsdbm/Retailer2>}| {<http://db.uwaterloo.ca/~galuc/wsdbm/Retailer2>, <http://purl.org/goodrelations/offers>, <http://db.uwaterloo.ca/~galuc/wsdbm/Offer25>}| {<http://db.uwaterloo.ca/~galuc/wsdbm/Offer25>}|  {<http://db.uwaterloo.ca/~galuc/wsdbm/Offer25>, <http://purl.org/goodrelations/includes>, <http://db.uwaterloo.ca/~galuc/wsdbm/Product54>}| {<http://db.uwaterloo.ca/~galuc/wsdbm/Product54>}|\n",
            "|{<http://db.uwaterloo.ca/~galuc/wsdbm/Retailer2>}|{<http://db.uwaterloo.ca/~galuc/wsdbm/Retailer2>, <http://purl.org/goodrelations/offers>, <http://db.uwaterloo.ca/~galuc/wsdbm/Offer410>}|{<http://db.uwaterloo.ca/~galuc/wsdbm/Offer410>}| {<http://db.uwaterloo.ca/~galuc/wsdbm/Offer410>, <http://purl.org/goodrelations/includes>, <http://db.uwaterloo.ca/~galuc/wsdbm/Product33>}| {<http://db.uwaterloo.ca/~galuc/wsdbm/Product33>}|\n",
            "|{<http://db.uwaterloo.ca/~galuc/wsdbm/Retailer2>}|{<http://db.uwaterloo.ca/~galuc/wsdbm/Retailer2>, <http://purl.org/goodrelations/offers>, <http://db.uwaterloo.ca/~galuc/wsdbm/Offer635>}|{<http://db.uwaterloo.ca/~galuc/wsdbm/Offer635>}|{<http://db.uwaterloo.ca/~galuc/wsdbm/Offer635>, <http://purl.org/goodrelations/includes>, <http://db.uwaterloo.ca/~galuc/wsdbm/Product231>}|{<http://db.uwaterloo.ca/~galuc/wsdbm/Product231>}|\n",
            "|{<http://db.uwaterloo.ca/~galuc/wsdbm/Retailer2>}|{<http://db.uwaterloo.ca/~galuc/wsdbm/Retailer2>, <http://purl.org/goodrelations/offers>, <http://db.uwaterloo.ca/~galuc/wsdbm/Offer453>}|{<http://db.uwaterloo.ca/~galuc/wsdbm/Offer453>}| {<http://db.uwaterloo.ca/~galuc/wsdbm/Offer453>, <http://purl.org/goodrelations/includes>, <http://db.uwaterloo.ca/~galuc/wsdbm/Product76>}| {<http://db.uwaterloo.ca/~galuc/wsdbm/Product76>}|\n",
            "|{<http://db.uwaterloo.ca/~galuc/wsdbm/Retailer2>}|{<http://db.uwaterloo.ca/~galuc/wsdbm/Retailer2>, <http://purl.org/goodrelations/offers>, <http://db.uwaterloo.ca/~galuc/wsdbm/Offer490>}|{<http://db.uwaterloo.ca/~galuc/wsdbm/Offer490>}|{<http://db.uwaterloo.ca/~galuc/wsdbm/Offer490>, <http://purl.org/goodrelations/includes>, <http://db.uwaterloo.ca/~galuc/wsdbm/Product231>}|{<http://db.uwaterloo.ca/~galuc/wsdbm/Product231>}|\n",
            "|{<http://db.uwaterloo.ca/~galuc/wsdbm/Retailer2>}|{<http://db.uwaterloo.ca/~galuc/wsdbm/Retailer2>, <http://purl.org/goodrelations/offers>, <http://db.uwaterloo.ca/~galuc/wsdbm/Offer194>}|{<http://db.uwaterloo.ca/~galuc/wsdbm/Offer194>}|{<http://db.uwaterloo.ca/~galuc/wsdbm/Offer194>, <http://purl.org/goodrelations/includes>, <http://db.uwaterloo.ca/~galuc/wsdbm/Product115>}|{<http://db.uwaterloo.ca/~galuc/wsdbm/Product115>}|\n",
            "|{<http://db.uwaterloo.ca/~galuc/wsdbm/Retailer2>}| {<http://db.uwaterloo.ca/~galuc/wsdbm/Retailer2>, <http://purl.org/goodrelations/offers>, <http://db.uwaterloo.ca/~galuc/wsdbm/Offer11>}| {<http://db.uwaterloo.ca/~galuc/wsdbm/Offer11>}|  {<http://db.uwaterloo.ca/~galuc/wsdbm/Offer11>, <http://purl.org/goodrelations/includes>, <http://db.uwaterloo.ca/~galuc/wsdbm/Product36>}| {<http://db.uwaterloo.ca/~galuc/wsdbm/Product36>}|\n",
            "|{<http://db.uwaterloo.ca/~galuc/wsdbm/Retailer2>}| {<http://db.uwaterloo.ca/~galuc/wsdbm/Retailer2>, <http://purl.org/goodrelations/offers>, <http://db.uwaterloo.ca/~galuc/wsdbm/Offer11>}| {<http://db.uwaterloo.ca/~galuc/wsdbm/Offer11>}|  {<http://db.uwaterloo.ca/~galuc/wsdbm/Offer11>, <http://purl.org/goodrelations/includes>, <http://db.uwaterloo.ca/~galuc/wsdbm/Product36>}| {<http://db.uwaterloo.ca/~galuc/wsdbm/Product36>}|\n",
            "|{<http://db.uwaterloo.ca/~galuc/wsdbm/Retailer2>}|{<http://db.uwaterloo.ca/~galuc/wsdbm/Retailer2>, <http://purl.org/goodrelations/offers>, <http://db.uwaterloo.ca/~galuc/wsdbm/Offer137>}|{<http://db.uwaterloo.ca/~galuc/wsdbm/Offer137>}| {<http://db.uwaterloo.ca/~galuc/wsdbm/Offer137>, <http://purl.org/goodrelations/includes>, <http://db.uwaterloo.ca/~galuc/wsdbm/Product73>}| {<http://db.uwaterloo.ca/~galuc/wsdbm/Product73>}|\n",
            "|{<http://db.uwaterloo.ca/~galuc/wsdbm/Retailer2>}| {<http://db.uwaterloo.ca/~galuc/wsdbm/Retailer2>, <http://purl.org/goodrelations/offers>, <http://db.uwaterloo.ca/~galuc/wsdbm/Offer82>}| {<http://db.uwaterloo.ca/~galuc/wsdbm/Offer82>}|  {<http://db.uwaterloo.ca/~galuc/wsdbm/Offer82>, <http://purl.org/goodrelations/includes>, <http://db.uwaterloo.ca/~galuc/wsdbm/Product50>}| {<http://db.uwaterloo.ca/~galuc/wsdbm/Product50>}|\n",
            "|{<http://db.uwaterloo.ca/~galuc/wsdbm/Retailer2>}|{<http://db.uwaterloo.ca/~galuc/wsdbm/Retailer2>, <http://purl.org/goodrelations/offers>, <http://db.uwaterloo.ca/~galuc/wsdbm/Offer378>}|{<http://db.uwaterloo.ca/~galuc/wsdbm/Offer378>}|{<http://db.uwaterloo.ca/~galuc/wsdbm/Offer378>, <http://purl.org/goodrelations/includes>, <http://db.uwaterloo.ca/~galuc/wsdbm/Product166>}|{<http://db.uwaterloo.ca/~galuc/wsdbm/Product166>}|\n",
            "|{<http://db.uwaterloo.ca/~galuc/wsdbm/Retailer2>}|  {<http://db.uwaterloo.ca/~galuc/wsdbm/Retailer2>, <http://purl.org/goodrelations/offers>, <http://db.uwaterloo.ca/~galuc/wsdbm/Offer9>}|  {<http://db.uwaterloo.ca/~galuc/wsdbm/Offer9>}|   {<http://db.uwaterloo.ca/~galuc/wsdbm/Offer9>, <http://purl.org/goodrelations/includes>, <http://db.uwaterloo.ca/~galuc/wsdbm/Product28>}| {<http://db.uwaterloo.ca/~galuc/wsdbm/Product28>}|\n",
            "|{<http://db.uwaterloo.ca/~galuc/wsdbm/Retailer2>}| {<http://db.uwaterloo.ca/~galuc/wsdbm/Retailer2>, <http://purl.org/goodrelations/offers>, <http://db.uwaterloo.ca/~galuc/wsdbm/Offer24>}| {<http://db.uwaterloo.ca/~galuc/wsdbm/Offer24>}| {<http://db.uwaterloo.ca/~galuc/wsdbm/Offer24>, <http://purl.org/goodrelations/includes>, <http://db.uwaterloo.ca/~galuc/wsdbm/Product245>}|{<http://db.uwaterloo.ca/~galuc/wsdbm/Product245>}|\n",
            "|{<http://db.uwaterloo.ca/~galuc/wsdbm/Retailer2>}|{<http://db.uwaterloo.ca/~galuc/wsdbm/Retailer2>, <http://purl.org/goodrelations/offers>, <http://db.uwaterloo.ca/~galuc/wsdbm/Offer173>}|{<http://db.uwaterloo.ca/~galuc/wsdbm/Offer173>}|{<http://db.uwaterloo.ca/~galuc/wsdbm/Offer173>, <http://purl.org/goodrelations/includes>, <http://db.uwaterloo.ca/~galuc/wsdbm/Product132>}|{<http://db.uwaterloo.ca/~galuc/wsdbm/Product132>}|\n",
            "|{<http://db.uwaterloo.ca/~galuc/wsdbm/Retailer2>}|{<http://db.uwaterloo.ca/~galuc/wsdbm/Retailer2>, <http://purl.org/goodrelations/offers>, <http://db.uwaterloo.ca/~galuc/wsdbm/Offer807>}|{<http://db.uwaterloo.ca/~galuc/wsdbm/Offer807>}|{<http://db.uwaterloo.ca/~galuc/wsdbm/Offer807>, <http://purl.org/goodrelations/includes>, <http://db.uwaterloo.ca/~galuc/wsdbm/Product232>}|{<http://db.uwaterloo.ca/~galuc/wsdbm/Product232>}|\n",
            "|{<http://db.uwaterloo.ca/~galuc/wsdbm/Retailer2>}| {<http://db.uwaterloo.ca/~galuc/wsdbm/Retailer2>, <http://purl.org/goodrelations/offers>, <http://db.uwaterloo.ca/~galuc/wsdbm/Offer69>}| {<http://db.uwaterloo.ca/~galuc/wsdbm/Offer69>}| {<http://db.uwaterloo.ca/~galuc/wsdbm/Offer69>, <http://purl.org/goodrelations/includes>, <http://db.uwaterloo.ca/~galuc/wsdbm/Product217>}|{<http://db.uwaterloo.ca/~galuc/wsdbm/Product217>}|\n",
            "|{<http://db.uwaterloo.ca/~galuc/wsdbm/Retailer2>}|{<http://db.uwaterloo.ca/~galuc/wsdbm/Retailer2>, <http://purl.org/goodrelations/offers>, <http://db.uwaterloo.ca/~galuc/wsdbm/Offer617>}|{<http://db.uwaterloo.ca/~galuc/wsdbm/Offer617>}|{<http://db.uwaterloo.ca/~galuc/wsdbm/Offer617>, <http://purl.org/goodrelations/includes>, <http://db.uwaterloo.ca/~galuc/wsdbm/Product217>}|{<http://db.uwaterloo.ca/~galuc/wsdbm/Product217>}|\n",
            "|{<http://db.uwaterloo.ca/~galuc/wsdbm/Retailer2>}|{<http://db.uwaterloo.ca/~galuc/wsdbm/Retailer2>, <http://purl.org/goodrelations/offers>, <http://db.uwaterloo.ca/~galuc/wsdbm/Offer670>}|{<http://db.uwaterloo.ca/~galuc/wsdbm/Offer670>}|{<http://db.uwaterloo.ca/~galuc/wsdbm/Offer670>, <http://purl.org/goodrelations/includes>, <http://db.uwaterloo.ca/~galuc/wsdbm/Product159>}|{<http://db.uwaterloo.ca/~galuc/wsdbm/Product159>}|\n",
            "|{<http://db.uwaterloo.ca/~galuc/wsdbm/Retailer2>}|{<http://db.uwaterloo.ca/~galuc/wsdbm/Retailer2>, <http://purl.org/goodrelations/offers>, <http://db.uwaterloo.ca/~galuc/wsdbm/Offer454>}|{<http://db.uwaterloo.ca/~galuc/wsdbm/Offer454>}|{<http://db.uwaterloo.ca/~galuc/wsdbm/Offer454>, <http://purl.org/goodrelations/includes>, <http://db.uwaterloo.ca/~galuc/wsdbm/Product159>}|{<http://db.uwaterloo.ca/~galuc/wsdbm/Product159>}|\n",
            "|{<http://db.uwaterloo.ca/~galuc/wsdbm/Retailer2>}| {<http://db.uwaterloo.ca/~galuc/wsdbm/Retailer2>, <http://purl.org/goodrelations/offers>, <http://db.uwaterloo.ca/~galuc/wsdbm/Offer46>}| {<http://db.uwaterloo.ca/~galuc/wsdbm/Offer46>}| {<http://db.uwaterloo.ca/~galuc/wsdbm/Offer46>, <http://purl.org/goodrelations/includes>, <http://db.uwaterloo.ca/~galuc/wsdbm/Product202>}|{<http://db.uwaterloo.ca/~galuc/wsdbm/Product202>}|\n",
            "|{<http://db.uwaterloo.ca/~galuc/wsdbm/Retailer2>}|{<http://db.uwaterloo.ca/~galuc/wsdbm/Retailer2>, <http://purl.org/goodrelations/offers>, <http://db.uwaterloo.ca/~galuc/wsdbm/Offer499>}|{<http://db.uwaterloo.ca/~galuc/wsdbm/Offer499>}| {<http://db.uwaterloo.ca/~galuc/wsdbm/Offer499>, <http://purl.org/goodrelations/includes>, <http://db.uwaterloo.ca/~galuc/wsdbm/Product53>}| {<http://db.uwaterloo.ca/~galuc/wsdbm/Product53>}|\n",
            "|{<http://db.uwaterloo.ca/~galuc/wsdbm/Retailer2>}|{<http://db.uwaterloo.ca/~galuc/wsdbm/Retailer2>, <http://purl.org/goodrelations/offers>, <http://db.uwaterloo.ca/~galuc/wsdbm/Offer406>}|{<http://db.uwaterloo.ca/~galuc/wsdbm/Offer406>}| {<http://db.uwaterloo.ca/~galuc/wsdbm/Offer406>, <http://purl.org/goodrelations/includes>, <http://db.uwaterloo.ca/~galuc/wsdbm/Product53>}| {<http://db.uwaterloo.ca/~galuc/wsdbm/Product53>}|\n",
            "|{<http://db.uwaterloo.ca/~galuc/wsdbm/Retailer2>}|        {<http://db.uwaterloo.ca/~galuc/wsdbm/Retailer2>, <http://schema.org/contactPoint>, <http://db.uwaterloo.ca/~galuc/wsdbm/User50>}|  {<http://db.uwaterloo.ca/~galuc/wsdbm/User50>}|{<http://db.uwaterloo.ca/~galuc/wsdbm/User50>, <http://db.uwaterloo.ca/~galuc/wsdbm/likes>, <http://db.uwaterloo.ca/~galuc/wsdbm/Product53>}| {<http://db.uwaterloo.ca/~galuc/wsdbm/Product53>}|\n",
            "|{<http://db.uwaterloo.ca/~galuc/wsdbm/Retailer2>}|{<http://db.uwaterloo.ca/~galuc/wsdbm/Retailer2>, <http://purl.org/goodrelations/offers>, <http://db.uwaterloo.ca/~galuc/wsdbm/Offer532>}|{<http://db.uwaterloo.ca/~galuc/wsdbm/Offer532>}|{<http://db.uwaterloo.ca/~galuc/wsdbm/Offer532>, <http://purl.org/goodrelations/includes>, <http://db.uwaterloo.ca/~galuc/wsdbm/Product221>}|{<http://db.uwaterloo.ca/~galuc/wsdbm/Product221>}|\n",
            "|{<http://db.uwaterloo.ca/~galuc/wsdbm/Retailer2>}|{<http://db.uwaterloo.ca/~galuc/wsdbm/Retailer2>, <http://purl.org/goodrelations/offers>, <http://db.uwaterloo.ca/~galuc/wsdbm/Offer511>}|{<http://db.uwaterloo.ca/~galuc/wsdbm/Offer511>}|{<http://db.uwaterloo.ca/~galuc/wsdbm/Offer511>, <http://purl.org/goodrelations/includes>, <http://db.uwaterloo.ca/~galuc/wsdbm/Product142>}|{<http://db.uwaterloo.ca/~galuc/wsdbm/Product142>}|\n",
            "|{<http://db.uwaterloo.ca/~galuc/wsdbm/Retailer2>}|{<http://db.uwaterloo.ca/~galuc/wsdbm/Retailer2>, <http://purl.org/goodrelations/offers>, <http://db.uwaterloo.ca/~galuc/wsdbm/Offer548>}|{<http://db.uwaterloo.ca/~galuc/wsdbm/Offer548>}|{<http://db.uwaterloo.ca/~galuc/wsdbm/Offer548>, <http://purl.org/goodrelations/includes>, <http://db.uwaterloo.ca/~galuc/wsdbm/Product121>}|{<http://db.uwaterloo.ca/~galuc/wsdbm/Product121>}|\n",
            "|{<http://db.uwaterloo.ca/~galuc/wsdbm/Retailer2>}|{<http://db.uwaterloo.ca/~galuc/wsdbm/Retailer2>, <http://purl.org/goodrelations/offers>, <http://db.uwaterloo.ca/~galuc/wsdbm/Offer548>}|{<http://db.uwaterloo.ca/~galuc/wsdbm/Offer548>}|{<http://db.uwaterloo.ca/~galuc/wsdbm/Offer548>, <http://purl.org/goodrelations/includes>, <http://db.uwaterloo.ca/~galuc/wsdbm/Product121>}|{<http://db.uwaterloo.ca/~galuc/wsdbm/Product121>}|\n",
            "|{<http://db.uwaterloo.ca/~galuc/wsdbm/Retailer2>}|{<http://db.uwaterloo.ca/~galuc/wsdbm/Retailer2>, <http://purl.org/goodrelations/offers>, <http://db.uwaterloo.ca/~galuc/wsdbm/Offer473>}|{<http://db.uwaterloo.ca/~galuc/wsdbm/Offer473>}|{<http://db.uwaterloo.ca/~galuc/wsdbm/Offer473>, <http://purl.org/goodrelations/includes>, <http://db.uwaterloo.ca/~galuc/wsdbm/Product121>}|{<http://db.uwaterloo.ca/~galuc/wsdbm/Product121>}|\n",
            "|{<http://db.uwaterloo.ca/~galuc/wsdbm/Retailer2>}|  {<http://db.uwaterloo.ca/~galuc/wsdbm/Retailer2>, <http://purl.org/goodrelations/offers>, <http://db.uwaterloo.ca/~galuc/wsdbm/Offer1>}|  {<http://db.uwaterloo.ca/~galuc/wsdbm/Offer1>}|   {<http://db.uwaterloo.ca/~galuc/wsdbm/Offer1>, <http://purl.org/goodrelations/includes>, <http://db.uwaterloo.ca/~galuc/wsdbm/Product12>}| {<http://db.uwaterloo.ca/~galuc/wsdbm/Product12>}|\n",
            "|{<http://db.uwaterloo.ca/~galuc/wsdbm/Retailer2>}|  {<http://db.uwaterloo.ca/~galuc/wsdbm/Retailer2>, <http://purl.org/goodrelations/offers>, <http://db.uwaterloo.ca/~galuc/wsdbm/Offer1>}|  {<http://db.uwaterloo.ca/~galuc/wsdbm/Offer1>}|   {<http://db.uwaterloo.ca/~galuc/wsdbm/Offer1>, <http://purl.org/goodrelations/includes>, <http://db.uwaterloo.ca/~galuc/wsdbm/Product12>}| {<http://db.uwaterloo.ca/~galuc/wsdbm/Product12>}|\n",
            "|{<http://db.uwaterloo.ca/~galuc/wsdbm/Retailer2>}|  {<http://db.uwaterloo.ca/~galuc/wsdbm/Retailer2>, <http://purl.org/goodrelations/offers>, <http://db.uwaterloo.ca/~galuc/wsdbm/Offer1>}|  {<http://db.uwaterloo.ca/~galuc/wsdbm/Offer1>}|   {<http://db.uwaterloo.ca/~galuc/wsdbm/Offer1>, <http://purl.org/goodrelations/includes>, <http://db.uwaterloo.ca/~galuc/wsdbm/Product12>}| {<http://db.uwaterloo.ca/~galuc/wsdbm/Product12>}|\n",
            "|{<http://db.uwaterloo.ca/~galuc/wsdbm/Retailer2>}|  {<http://db.uwaterloo.ca/~galuc/wsdbm/Retailer2>, <http://purl.org/goodrelations/offers>, <http://db.uwaterloo.ca/~galuc/wsdbm/Offer1>}|  {<http://db.uwaterloo.ca/~galuc/wsdbm/Offer1>}|   {<http://db.uwaterloo.ca/~galuc/wsdbm/Offer1>, <http://purl.org/goodrelations/includes>, <http://db.uwaterloo.ca/~galuc/wsdbm/Product12>}| {<http://db.uwaterloo.ca/~galuc/wsdbm/Product12>}|\n",
            "|{<http://db.uwaterloo.ca/~galuc/wsdbm/Retailer2>}|  {<http://db.uwaterloo.ca/~galuc/wsdbm/Retailer2>, <http://purl.org/goodrelations/offers>, <http://db.uwaterloo.ca/~galuc/wsdbm/Offer1>}|  {<http://db.uwaterloo.ca/~galuc/wsdbm/Offer1>}|   {<http://db.uwaterloo.ca/~galuc/wsdbm/Offer1>, <http://purl.org/goodrelations/includes>, <http://db.uwaterloo.ca/~galuc/wsdbm/Product12>}| {<http://db.uwaterloo.ca/~galuc/wsdbm/Product12>}|\n",
            "|{<http://db.uwaterloo.ca/~galuc/wsdbm/Retailer2>}|  {<http://db.uwaterloo.ca/~galuc/wsdbm/Retailer2>, <http://purl.org/goodrelations/offers>, <http://db.uwaterloo.ca/~galuc/wsdbm/Offer1>}|  {<http://db.uwaterloo.ca/~galuc/wsdbm/Offer1>}|   {<http://db.uwaterloo.ca/~galuc/wsdbm/Offer1>, <http://purl.org/goodrelations/includes>, <http://db.uwaterloo.ca/~galuc/wsdbm/Product12>}| {<http://db.uwaterloo.ca/~galuc/wsdbm/Product12>}|\n",
            "|{<http://db.uwaterloo.ca/~galuc/wsdbm/Retailer2>}|{<http://db.uwaterloo.ca/~galuc/wsdbm/Retailer2>, <http://purl.org/goodrelations/offers>, <http://db.uwaterloo.ca/~galuc/wsdbm/Offer580>}|{<http://db.uwaterloo.ca/~galuc/wsdbm/Offer580>}|{<http://db.uwaterloo.ca/~galuc/wsdbm/Offer580>, <http://purl.org/goodrelations/includes>, <http://db.uwaterloo.ca/~galuc/wsdbm/Product109>}|{<http://db.uwaterloo.ca/~galuc/wsdbm/Product109>}|\n",
            "|{<http://db.uwaterloo.ca/~galuc/wsdbm/Retailer2>}| {<http://db.uwaterloo.ca/~galuc/wsdbm/Retailer2>, <http://purl.org/goodrelations/offers>, <http://db.uwaterloo.ca/~galuc/wsdbm/Offer73>}| {<http://db.uwaterloo.ca/~galuc/wsdbm/Offer73>}| {<http://db.uwaterloo.ca/~galuc/wsdbm/Offer73>, <http://purl.org/goodrelations/includes>, <http://db.uwaterloo.ca/~galuc/wsdbm/Product105>}|{<http://db.uwaterloo.ca/~galuc/wsdbm/Product105>}|\n",
            "|{<http://db.uwaterloo.ca/~galuc/wsdbm/Retailer2>}|{<http://db.uwaterloo.ca/~galuc/wsdbm/Retailer2>, <http://purl.org/goodrelations/offers>, <http://db.uwaterloo.ca/~galuc/wsdbm/Offer302>}|{<http://db.uwaterloo.ca/~galuc/wsdbm/Offer302>}|{<http://db.uwaterloo.ca/~galuc/wsdbm/Offer302>, <http://purl.org/goodrelations/includes>, <http://db.uwaterloo.ca/~galuc/wsdbm/Product226>}|{<http://db.uwaterloo.ca/~galuc/wsdbm/Product226>}|\n",
            "|{<http://db.uwaterloo.ca/~galuc/wsdbm/Retailer2>}| {<http://db.uwaterloo.ca/~galuc/wsdbm/Retailer2>, <http://purl.org/goodrelations/offers>, <http://db.uwaterloo.ca/~galuc/wsdbm/Offer64>}| {<http://db.uwaterloo.ca/~galuc/wsdbm/Offer64>}|  {<http://db.uwaterloo.ca/~galuc/wsdbm/Offer64>, <http://purl.org/goodrelations/includes>, <http://db.uwaterloo.ca/~galuc/wsdbm/Product29>}| {<http://db.uwaterloo.ca/~galuc/wsdbm/Product29>}|\n",
            "|{<http://db.uwaterloo.ca/~galuc/wsdbm/Retailer2>}|{<http://db.uwaterloo.ca/~galuc/wsdbm/Retailer2>, <http://purl.org/goodrelations/offers>, <http://db.uwaterloo.ca/~galuc/wsdbm/Offer707>}|{<http://db.uwaterloo.ca/~galuc/wsdbm/Offer707>}| {<http://db.uwaterloo.ca/~galuc/wsdbm/Offer707>, <http://purl.org/goodrelations/includes>, <http://db.uwaterloo.ca/~galuc/wsdbm/Product63>}| {<http://db.uwaterloo.ca/~galuc/wsdbm/Product63>}|\n",
            "|{<http://db.uwaterloo.ca/~galuc/wsdbm/Retailer2>}|{<http://db.uwaterloo.ca/~galuc/wsdbm/Retailer2>, <http://purl.org/goodrelations/offers>, <http://db.uwaterloo.ca/~galuc/wsdbm/Offer376>}|{<http://db.uwaterloo.ca/~galuc/wsdbm/Offer376>}|{<http://db.uwaterloo.ca/~galuc/wsdbm/Offer376>, <http://purl.org/goodrelations/includes>, <http://db.uwaterloo.ca/~galuc/wsdbm/Product158>}|{<http://db.uwaterloo.ca/~galuc/wsdbm/Product158>}|\n",
            "|{<http://db.uwaterloo.ca/~galuc/wsdbm/Retailer2>}|{<http://db.uwaterloo.ca/~galuc/wsdbm/Retailer2>, <http://purl.org/goodrelations/offers>, <http://db.uwaterloo.ca/~galuc/wsdbm/Offer368>}|{<http://db.uwaterloo.ca/~galuc/wsdbm/Offer368>}|{<http://db.uwaterloo.ca/~galuc/wsdbm/Offer368>, <http://purl.org/goodrelations/includes>, <http://db.uwaterloo.ca/~galuc/wsdbm/Product158>}|{<http://db.uwaterloo.ca/~galuc/wsdbm/Product158>}|\n",
            "|{<http://db.uwaterloo.ca/~galuc/wsdbm/Retailer2>}|{<http://db.uwaterloo.ca/~galuc/wsdbm/Retailer2>, <http://purl.org/goodrelations/offers>, <http://db.uwaterloo.ca/~galuc/wsdbm/Offer304>}|{<http://db.uwaterloo.ca/~galuc/wsdbm/Offer304>}|{<http://db.uwaterloo.ca/~galuc/wsdbm/Offer304>, <http://purl.org/goodrelations/includes>, <http://db.uwaterloo.ca/~galuc/wsdbm/Product191>}|{<http://db.uwaterloo.ca/~galuc/wsdbm/Product191>}|\n",
            "|{<http://db.uwaterloo.ca/~galuc/wsdbm/Retailer2>}| {<http://db.uwaterloo.ca/~galuc/wsdbm/Retailer2>, <http://purl.org/goodrelations/offers>, <http://db.uwaterloo.ca/~galuc/wsdbm/Offer84>}| {<http://db.uwaterloo.ca/~galuc/wsdbm/Offer84>}| {<http://db.uwaterloo.ca/~galuc/wsdbm/Offer84>, <http://purl.org/goodrelations/includes>, <http://db.uwaterloo.ca/~galuc/wsdbm/Product158>}|{<http://db.uwaterloo.ca/~galuc/wsdbm/Product158>}|\n",
            "|{<http://db.uwaterloo.ca/~galuc/wsdbm/Retailer2>}|{<http://db.uwaterloo.ca/~galuc/wsdbm/Retailer2>, <http://purl.org/goodrelations/offers>, <http://db.uwaterloo.ca/~galuc/wsdbm/Offer392>}|{<http://db.uwaterloo.ca/~galuc/wsdbm/Offer392>}|{<http://db.uwaterloo.ca/~galuc/wsdbm/Offer392>, <http://purl.org/goodrelations/includes>, <http://db.uwaterloo.ca/~galuc/wsdbm/Product203>}|{<http://db.uwaterloo.ca/~galuc/wsdbm/Product203>}|\n",
            "|{<http://db.uwaterloo.ca/~galuc/wsdbm/Retailer2>}| {<http://db.uwaterloo.ca/~galuc/wsdbm/Retailer2>, <http://purl.org/goodrelations/offers>, <http://db.uwaterloo.ca/~galuc/wsdbm/Offer20>}| {<http://db.uwaterloo.ca/~galuc/wsdbm/Offer20>}| {<http://db.uwaterloo.ca/~galuc/wsdbm/Offer20>, <http://purl.org/goodrelations/includes>, <http://db.uwaterloo.ca/~galuc/wsdbm/Product171>}|{<http://db.uwaterloo.ca/~galuc/wsdbm/Product171>}|\n",
            "|{<http://db.uwaterloo.ca/~galuc/wsdbm/Retailer2>}|  {<http://db.uwaterloo.ca/~galuc/wsdbm/Retailer2>, <http://purl.org/goodrelations/offers>, <http://db.uwaterloo.ca/~galuc/wsdbm/Offer4>}|  {<http://db.uwaterloo.ca/~galuc/wsdbm/Offer4>}|  {<http://db.uwaterloo.ca/~galuc/wsdbm/Offer4>, <http://purl.org/goodrelations/includes>, <http://db.uwaterloo.ca/~galuc/wsdbm/Product179>}|{<http://db.uwaterloo.ca/~galuc/wsdbm/Product179>}|\n",
            "|{<http://db.uwaterloo.ca/~galuc/wsdbm/Retailer2>}|  {<http://db.uwaterloo.ca/~galuc/wsdbm/Retailer2>, <http://purl.org/goodrelations/offers>, <http://db.uwaterloo.ca/~galuc/wsdbm/Offer4>}|  {<http://db.uwaterloo.ca/~galuc/wsdbm/Offer4>}|  {<http://db.uwaterloo.ca/~galuc/wsdbm/Offer4>, <http://purl.org/goodrelations/includes>, <http://db.uwaterloo.ca/~galuc/wsdbm/Product179>}|{<http://db.uwaterloo.ca/~galuc/wsdbm/Product179>}|\n",
            "|{<http://db.uwaterloo.ca/~galuc/wsdbm/Retailer2>}|  {<http://db.uwaterloo.ca/~galuc/wsdbm/Retailer2>, <http://purl.org/goodrelations/offers>, <http://db.uwaterloo.ca/~galuc/wsdbm/Offer4>}|  {<http://db.uwaterloo.ca/~galuc/wsdbm/Offer4>}|  {<http://db.uwaterloo.ca/~galuc/wsdbm/Offer4>, <http://purl.org/goodrelations/includes>, <http://db.uwaterloo.ca/~galuc/wsdbm/Product179>}|{<http://db.uwaterloo.ca/~galuc/wsdbm/Product179>}|\n",
            "|{<http://db.uwaterloo.ca/~galuc/wsdbm/Retailer2>}|{<http://db.uwaterloo.ca/~galuc/wsdbm/Retailer2>, <http://purl.org/goodrelations/offers>, <http://db.uwaterloo.ca/~galuc/wsdbm/Offer409>}|{<http://db.uwaterloo.ca/~galuc/wsdbm/Offer409>}|{<http://db.uwaterloo.ca/~galuc/wsdbm/Offer409>, <http://purl.org/goodrelations/includes>, <http://db.uwaterloo.ca/~galuc/wsdbm/Product175>}|{<http://db.uwaterloo.ca/~galuc/wsdbm/Product175>}|\n",
            "|{<http://db.uwaterloo.ca/~galuc/wsdbm/Retailer2>}| {<http://db.uwaterloo.ca/~galuc/wsdbm/Retailer2>, <http://purl.org/goodrelations/offers>, <http://db.uwaterloo.ca/~galuc/wsdbm/Offer16>}| {<http://db.uwaterloo.ca/~galuc/wsdbm/Offer16>}| {<http://db.uwaterloo.ca/~galuc/wsdbm/Offer16>, <http://purl.org/goodrelations/includes>, <http://db.uwaterloo.ca/~galuc/wsdbm/Product175>}|{<http://db.uwaterloo.ca/~galuc/wsdbm/Product175>}|\n",
            "|{<http://db.uwaterloo.ca/~galuc/wsdbm/Retailer2>}|{<http://db.uwaterloo.ca/~galuc/wsdbm/Retailer2>, <http://purl.org/goodrelations/offers>, <http://db.uwaterloo.ca/~galuc/wsdbm/Offer447>}|{<http://db.uwaterloo.ca/~galuc/wsdbm/Offer447>}|{<http://db.uwaterloo.ca/~galuc/wsdbm/Offer447>, <http://purl.org/goodrelations/includes>, <http://db.uwaterloo.ca/~galuc/wsdbm/Product124>}|{<http://db.uwaterloo.ca/~galuc/wsdbm/Product124>}|\n",
            "|{<http://db.uwaterloo.ca/~galuc/wsdbm/Retailer2>}|{<http://db.uwaterloo.ca/~galuc/wsdbm/Retailer2>, <http://purl.org/goodrelations/offers>, <http://db.uwaterloo.ca/~galuc/wsdbm/Offer562>}|{<http://db.uwaterloo.ca/~galuc/wsdbm/Offer562>}|{<http://db.uwaterloo.ca/~galuc/wsdbm/Offer562>, <http://purl.org/goodrelations/includes>, <http://db.uwaterloo.ca/~galuc/wsdbm/Product136>}|{<http://db.uwaterloo.ca/~galuc/wsdbm/Product136>}|\n",
            "|{<http://db.uwaterloo.ca/~galuc/wsdbm/Retailer2>}|{<http://db.uwaterloo.ca/~galuc/wsdbm/Retailer2>, <http://purl.org/goodrelations/offers>, <http://db.uwaterloo.ca/~galuc/wsdbm/Offer342>}|{<http://db.uwaterloo.ca/~galuc/wsdbm/Offer342>}| {<http://db.uwaterloo.ca/~galuc/wsdbm/Offer342>, <http://purl.org/goodrelations/includes>, <http://db.uwaterloo.ca/~galuc/wsdbm/Product41>}| {<http://db.uwaterloo.ca/~galuc/wsdbm/Product41>}|\n",
            "|{<http://db.uwaterloo.ca/~galuc/wsdbm/Retailer2>}|{<http://db.uwaterloo.ca/~galuc/wsdbm/Retailer2>, <http://purl.org/goodrelations/offers>, <http://db.uwaterloo.ca/~galuc/wsdbm/Offer526>}|{<http://db.uwaterloo.ca/~galuc/wsdbm/Offer526>}|{<http://db.uwaterloo.ca/~galuc/wsdbm/Offer526>, <http://purl.org/goodrelations/includes>, <http://db.uwaterloo.ca/~galuc/wsdbm/Product182>}|{<http://db.uwaterloo.ca/~galuc/wsdbm/Product182>}|\n",
            "|{<http://db.uwaterloo.ca/~galuc/wsdbm/Retailer2>}|{<http://db.uwaterloo.ca/~galuc/wsdbm/Retailer2>, <http://purl.org/goodrelations/offers>, <http://db.uwaterloo.ca/~galuc/wsdbm/Offer567>}|{<http://db.uwaterloo.ca/~galuc/wsdbm/Offer567>}|{<http://db.uwaterloo.ca/~galuc/wsdbm/Offer567>, <http://purl.org/goodrelations/includes>, <http://db.uwaterloo.ca/~galuc/wsdbm/Product182>}|{<http://db.uwaterloo.ca/~galuc/wsdbm/Product182>}|\n",
            "|{<http://db.uwaterloo.ca/~galuc/wsdbm/Retailer2>}| {<http://db.uwaterloo.ca/~galuc/wsdbm/Retailer2>, <http://purl.org/goodrelations/offers>, <http://db.uwaterloo.ca/~galuc/wsdbm/Offer35>}| {<http://db.uwaterloo.ca/~galuc/wsdbm/Offer35>}| {<http://db.uwaterloo.ca/~galuc/wsdbm/Offer35>, <http://purl.org/goodrelations/includes>, <http://db.uwaterloo.ca/~galuc/wsdbm/Product143>}|{<http://db.uwaterloo.ca/~galuc/wsdbm/Product143>}|\n",
            "|{<http://db.uwaterloo.ca/~galuc/wsdbm/Retailer2>}|{<http://db.uwaterloo.ca/~galuc/wsdbm/Retailer2>, <http://purl.org/goodrelations/offers>, <http://db.uwaterloo.ca/~galuc/wsdbm/Offer488>}|{<http://db.uwaterloo.ca/~galuc/wsdbm/Offer488>}|{<http://db.uwaterloo.ca/~galuc/wsdbm/Offer488>, <http://purl.org/goodrelations/includes>, <http://db.uwaterloo.ca/~galuc/wsdbm/Product197>}|{<http://db.uwaterloo.ca/~galuc/wsdbm/Product197>}|\n",
            "|{<http://db.uwaterloo.ca/~galuc/wsdbm/Retailer2>}|{<http://db.uwaterloo.ca/~galuc/wsdbm/Retailer2>, <http://purl.org/goodrelations/offers>, <http://db.uwaterloo.ca/~galuc/wsdbm/Offer398>}|{<http://db.uwaterloo.ca/~galuc/wsdbm/Offer398>}|{<http://db.uwaterloo.ca/~galuc/wsdbm/Offer398>, <http://purl.org/goodrelations/includes>, <http://db.uwaterloo.ca/~galuc/wsdbm/Product116>}|{<http://db.uwaterloo.ca/~galuc/wsdbm/Product116>}|\n",
            "|{<http://db.uwaterloo.ca/~galuc/wsdbm/Retailer2>}|  {<http://db.uwaterloo.ca/~galuc/wsdbm/Retailer2>, <http://purl.org/goodrelations/offers>, <http://db.uwaterloo.ca/~galuc/wsdbm/Offer2>}|  {<http://db.uwaterloo.ca/~galuc/wsdbm/Offer2>}|   {<http://db.uwaterloo.ca/~galuc/wsdbm/Offer2>, <http://purl.org/goodrelations/includes>, <http://db.uwaterloo.ca/~galuc/wsdbm/Product27>}| {<http://db.uwaterloo.ca/~galuc/wsdbm/Product27>}|\n",
            "|{<http://db.uwaterloo.ca/~galuc/wsdbm/Retailer2>}|  {<http://db.uwaterloo.ca/~galuc/wsdbm/Retailer2>, <http://purl.org/goodrelations/offers>, <http://db.uwaterloo.ca/~galuc/wsdbm/Offer2>}|  {<http://db.uwaterloo.ca/~galuc/wsdbm/Offer2>}|   {<http://db.uwaterloo.ca/~galuc/wsdbm/Offer2>, <http://purl.org/goodrelations/includes>, <http://db.uwaterloo.ca/~galuc/wsdbm/Product27>}| {<http://db.uwaterloo.ca/~galuc/wsdbm/Product27>}|\n",
            "|{<http://db.uwaterloo.ca/~galuc/wsdbm/Retailer2>}|  {<http://db.uwaterloo.ca/~galuc/wsdbm/Retailer2>, <http://purl.org/goodrelations/offers>, <http://db.uwaterloo.ca/~galuc/wsdbm/Offer2>}|  {<http://db.uwaterloo.ca/~galuc/wsdbm/Offer2>}|   {<http://db.uwaterloo.ca/~galuc/wsdbm/Offer2>, <http://purl.org/goodrelations/includes>, <http://db.uwaterloo.ca/~galuc/wsdbm/Product27>}| {<http://db.uwaterloo.ca/~galuc/wsdbm/Product27>}|\n",
            "|{<http://db.uwaterloo.ca/~galuc/wsdbm/Retailer2>}|  {<http://db.uwaterloo.ca/~galuc/wsdbm/Retailer2>, <http://purl.org/goodrelations/offers>, <http://db.uwaterloo.ca/~galuc/wsdbm/Offer2>}|  {<http://db.uwaterloo.ca/~galuc/wsdbm/Offer2>}|   {<http://db.uwaterloo.ca/~galuc/wsdbm/Offer2>, <http://purl.org/goodrelations/includes>, <http://db.uwaterloo.ca/~galuc/wsdbm/Product27>}| {<http://db.uwaterloo.ca/~galuc/wsdbm/Product27>}|\n",
            "|{<http://db.uwaterloo.ca/~galuc/wsdbm/Retailer2>}|  {<http://db.uwaterloo.ca/~galuc/wsdbm/Retailer2>, <http://purl.org/goodrelations/offers>, <http://db.uwaterloo.ca/~galuc/wsdbm/Offer2>}|  {<http://db.uwaterloo.ca/~galuc/wsdbm/Offer2>}|   {<http://db.uwaterloo.ca/~galuc/wsdbm/Offer2>, <http://purl.org/goodrelations/includes>, <http://db.uwaterloo.ca/~galuc/wsdbm/Product27>}| {<http://db.uwaterloo.ca/~galuc/wsdbm/Product27>}|\n",
            "|{<http://db.uwaterloo.ca/~galuc/wsdbm/Retailer2>}|{<http://db.uwaterloo.ca/~galuc/wsdbm/Retailer2>, <http://purl.org/goodrelations/offers>, <http://db.uwaterloo.ca/~galuc/wsdbm/Offer332>}|{<http://db.uwaterloo.ca/~galuc/wsdbm/Offer332>}| {<http://db.uwaterloo.ca/~galuc/wsdbm/Offer332>, <http://purl.org/goodrelations/includes>, <http://db.uwaterloo.ca/~galuc/wsdbm/Product27>}| {<http://db.uwaterloo.ca/~galuc/wsdbm/Product27>}|\n",
            "|{<http://db.uwaterloo.ca/~galuc/wsdbm/Retailer2>}|{<http://db.uwaterloo.ca/~galuc/wsdbm/Retailer2>, <http://purl.org/goodrelations/offers>, <http://db.uwaterloo.ca/~galuc/wsdbm/Offer566>}|{<http://db.uwaterloo.ca/~galuc/wsdbm/Offer566>}| {<http://db.uwaterloo.ca/~galuc/wsdbm/Offer566>, <http://purl.org/goodrelations/includes>, <http://db.uwaterloo.ca/~galuc/wsdbm/Product47>}| {<http://db.uwaterloo.ca/~galuc/wsdbm/Product47>}|\n",
            "|{<http://db.uwaterloo.ca/~galuc/wsdbm/Retailer2>}|{<http://db.uwaterloo.ca/~galuc/wsdbm/Retailer2>, <http://purl.org/goodrelations/offers>, <http://db.uwaterloo.ca/~galuc/wsdbm/Offer221>}|{<http://db.uwaterloo.ca/~galuc/wsdbm/Offer221>}|{<http://db.uwaterloo.ca/~galuc/wsdbm/Offer221>, <http://purl.org/goodrelations/includes>, <http://db.uwaterloo.ca/~galuc/wsdbm/Product107>}|{<http://db.uwaterloo.ca/~galuc/wsdbm/Product107>}|\n",
            "|{<http://db.uwaterloo.ca/~galuc/wsdbm/Retailer2>}| {<http://db.uwaterloo.ca/~galuc/wsdbm/Retailer2>, <http://purl.org/goodrelations/offers>, <http://db.uwaterloo.ca/~galuc/wsdbm/Offer71>}| {<http://db.uwaterloo.ca/~galuc/wsdbm/Offer71>}| {<http://db.uwaterloo.ca/~galuc/wsdbm/Offer71>, <http://purl.org/goodrelations/includes>, <http://db.uwaterloo.ca/~galuc/wsdbm/Product107>}|{<http://db.uwaterloo.ca/~galuc/wsdbm/Product107>}|\n",
            "|{<http://db.uwaterloo.ca/~galuc/wsdbm/Retailer2>}|{<http://db.uwaterloo.ca/~galuc/wsdbm/Retailer2>, <http://purl.org/goodrelations/offers>, <http://db.uwaterloo.ca/~galuc/wsdbm/Offer754>}|{<http://db.uwaterloo.ca/~galuc/wsdbm/Offer754>}|{<http://db.uwaterloo.ca/~galuc/wsdbm/Offer754>, <http://purl.org/goodrelations/includes>, <http://db.uwaterloo.ca/~galuc/wsdbm/Product174>}|{<http://db.uwaterloo.ca/~galuc/wsdbm/Product174>}|\n",
            "|{<http://db.uwaterloo.ca/~galuc/wsdbm/Retailer2>}|{<http://db.uwaterloo.ca/~galuc/wsdbm/Retailer2>, <http://purl.org/goodrelations/offers>, <http://db.uwaterloo.ca/~galuc/wsdbm/Offer318>}|{<http://db.uwaterloo.ca/~galuc/wsdbm/Offer318>}|  {<http://db.uwaterloo.ca/~galuc/wsdbm/Offer318>, <http://purl.org/goodrelations/includes>, <http://db.uwaterloo.ca/~galuc/wsdbm/Product3>}|  {<http://db.uwaterloo.ca/~galuc/wsdbm/Product3>}|\n",
            "|{<http://db.uwaterloo.ca/~galuc/wsdbm/Retailer2>}|{<http://db.uwaterloo.ca/~galuc/wsdbm/Retailer2>, <http://purl.org/goodrelations/offers>, <http://db.uwaterloo.ca/~galuc/wsdbm/Offer104>}|{<http://db.uwaterloo.ca/~galuc/wsdbm/Offer104>}|{<http://db.uwaterloo.ca/~galuc/wsdbm/Offer104>, <http://purl.org/goodrelations/includes>, <http://db.uwaterloo.ca/~galuc/wsdbm/Product119>}|{<http://db.uwaterloo.ca/~galuc/wsdbm/Product119>}|\n",
            "|{<http://db.uwaterloo.ca/~galuc/wsdbm/Retailer2>}|{<http://db.uwaterloo.ca/~galuc/wsdbm/Retailer2>, <http://purl.org/goodrelations/offers>, <http://db.uwaterloo.ca/~galuc/wsdbm/Offer733>}|{<http://db.uwaterloo.ca/~galuc/wsdbm/Offer733>}|{<http://db.uwaterloo.ca/~galuc/wsdbm/Offer733>, <http://purl.org/goodrelations/includes>, <http://db.uwaterloo.ca/~galuc/wsdbm/Product208>}|{<http://db.uwaterloo.ca/~galuc/wsdbm/Product208>}|\n",
            "|{<http://db.uwaterloo.ca/~galuc/wsdbm/Retailer2>}|{<http://db.uwaterloo.ca/~galuc/wsdbm/Retailer2>, <http://purl.org/goodrelations/offers>, <http://db.uwaterloo.ca/~galuc/wsdbm/Offer483>}|{<http://db.uwaterloo.ca/~galuc/wsdbm/Offer483>}| {<http://db.uwaterloo.ca/~galuc/wsdbm/Offer483>, <http://purl.org/goodrelations/includes>, <http://db.uwaterloo.ca/~galuc/wsdbm/Product93>}| {<http://db.uwaterloo.ca/~galuc/wsdbm/Product93>}|\n",
            "|{<http://db.uwaterloo.ca/~galuc/wsdbm/Retailer2>}| {<http://db.uwaterloo.ca/~galuc/wsdbm/Retailer2>, <http://purl.org/goodrelations/offers>, <http://db.uwaterloo.ca/~galuc/wsdbm/Offer37>}| {<http://db.uwaterloo.ca/~galuc/wsdbm/Offer37>}| {<http://db.uwaterloo.ca/~galuc/wsdbm/Offer37>, <http://purl.org/goodrelations/includes>, <http://db.uwaterloo.ca/~galuc/wsdbm/Product151>}|{<http://db.uwaterloo.ca/~galuc/wsdbm/Product151>}|\n",
            "|{<http://db.uwaterloo.ca/~galuc/wsdbm/Retailer2>}|{<http://db.uwaterloo.ca/~galuc/wsdbm/Retailer2>, <http://purl.org/goodrelations/offers>, <http://db.uwaterloo.ca/~galuc/wsdbm/Offer699>}|{<http://db.uwaterloo.ca/~galuc/wsdbm/Offer699>}| {<http://db.uwaterloo.ca/~galuc/wsdbm/Offer699>, <http://purl.org/goodrelations/includes>, <http://db.uwaterloo.ca/~galuc/wsdbm/Product31>}| {<http://db.uwaterloo.ca/~galuc/wsdbm/Product31>}|\n",
            "|{<http://db.uwaterloo.ca/~galuc/wsdbm/Retailer2>}|        {<http://db.uwaterloo.ca/~galuc/wsdbm/Retailer2>, <http://schema.org/contactPoint>, <http://db.uwaterloo.ca/~galuc/wsdbm/User50>}|  {<http://db.uwaterloo.ca/~galuc/wsdbm/User50>}|{<http://db.uwaterloo.ca/~galuc/wsdbm/User50>, <http://db.uwaterloo.ca/~galuc/wsdbm/likes>, <http://db.uwaterloo.ca/~galuc/wsdbm/Product39>}| {<http://db.uwaterloo.ca/~galuc/wsdbm/Product39>}|\n",
            "|{<http://db.uwaterloo.ca/~galuc/wsdbm/Retailer2>}|{<http://db.uwaterloo.ca/~galuc/wsdbm/Retailer2>, <http://purl.org/goodrelations/offers>, <http://db.uwaterloo.ca/~galuc/wsdbm/Offer643>}|{<http://db.uwaterloo.ca/~galuc/wsdbm/Offer643>}|{<http://db.uwaterloo.ca/~galuc/wsdbm/Offer643>, <http://purl.org/goodrelations/includes>, <http://db.uwaterloo.ca/~galuc/wsdbm/Product210>}|{<http://db.uwaterloo.ca/~galuc/wsdbm/Product210>}|\n",
            "|{<http://db.uwaterloo.ca/~galuc/wsdbm/Retailer2>}|{<http://db.uwaterloo.ca/~galuc/wsdbm/Retailer2>, <http://purl.org/goodrelations/offers>, <http://db.uwaterloo.ca/~galuc/wsdbm/Offer285>}|{<http://db.uwaterloo.ca/~galuc/wsdbm/Offer285>}| {<http://db.uwaterloo.ca/~galuc/wsdbm/Offer285>, <http://purl.org/goodrelations/includes>, <http://db.uwaterloo.ca/~galuc/wsdbm/Product46>}| {<http://db.uwaterloo.ca/~galuc/wsdbm/Product46>}|\n",
            "|{<http://db.uwaterloo.ca/~galuc/wsdbm/Retailer2>}|{<http://db.uwaterloo.ca/~galuc/wsdbm/Retailer2>, <http://purl.org/goodrelations/offers>, <http://db.uwaterloo.ca/~galuc/wsdbm/Offer235>}|{<http://db.uwaterloo.ca/~galuc/wsdbm/Offer235>}| {<http://db.uwaterloo.ca/~galuc/wsdbm/Offer235>, <http://purl.org/goodrelations/includes>, <http://db.uwaterloo.ca/~galuc/wsdbm/Product46>}| {<http://db.uwaterloo.ca/~galuc/wsdbm/Product46>}|\n",
            "|{<http://db.uwaterloo.ca/~galuc/wsdbm/Retailer2>}| {<http://db.uwaterloo.ca/~galuc/wsdbm/Retailer2>, <http://purl.org/goodrelations/offers>, <http://db.uwaterloo.ca/~galuc/wsdbm/Offer85>}| {<http://db.uwaterloo.ca/~galuc/wsdbm/Offer85>}| {<http://db.uwaterloo.ca/~galuc/wsdbm/Offer85>, <http://purl.org/goodrelations/includes>, <http://db.uwaterloo.ca/~galuc/wsdbm/Product177>}|{<http://db.uwaterloo.ca/~galuc/wsdbm/Product177>}|\n",
            "|{<http://db.uwaterloo.ca/~galuc/wsdbm/Retailer2>}|  {<http://db.uwaterloo.ca/~galuc/wsdbm/Retailer2>, <http://purl.org/goodrelations/offers>, <http://db.uwaterloo.ca/~galuc/wsdbm/Offer6>}|  {<http://db.uwaterloo.ca/~galuc/wsdbm/Offer6>}|   {<http://db.uwaterloo.ca/~galuc/wsdbm/Offer6>, <http://purl.org/goodrelations/includes>, <http://db.uwaterloo.ca/~galuc/wsdbm/Product57>}| {<http://db.uwaterloo.ca/~galuc/wsdbm/Product57>}|\n",
            "|{<http://db.uwaterloo.ca/~galuc/wsdbm/Retailer2>}|  {<http://db.uwaterloo.ca/~galuc/wsdbm/Retailer2>, <http://purl.org/goodrelations/offers>, <http://db.uwaterloo.ca/~galuc/wsdbm/Offer6>}|  {<http://db.uwaterloo.ca/~galuc/wsdbm/Offer6>}|   {<http://db.uwaterloo.ca/~galuc/wsdbm/Offer6>, <http://purl.org/goodrelations/includes>, <http://db.uwaterloo.ca/~galuc/wsdbm/Product57>}| {<http://db.uwaterloo.ca/~galuc/wsdbm/Product57>}|\n",
            "|{<http://db.uwaterloo.ca/~galuc/wsdbm/Retailer2>}|  {<http://db.uwaterloo.ca/~galuc/wsdbm/Retailer2>, <http://purl.org/goodrelations/offers>, <http://db.uwaterloo.ca/~galuc/wsdbm/Offer6>}|  {<http://db.uwaterloo.ca/~galuc/wsdbm/Offer6>}|   {<http://db.uwaterloo.ca/~galuc/wsdbm/Offer6>, <http://purl.org/goodrelations/includes>, <http://db.uwaterloo.ca/~galuc/wsdbm/Product57>}| {<http://db.uwaterloo.ca/~galuc/wsdbm/Product57>}|\n",
            "|{<http://db.uwaterloo.ca/~galuc/wsdbm/Retailer2>}|  {<http://db.uwaterloo.ca/~galuc/wsdbm/Retailer2>, <http://purl.org/goodrelations/offers>, <http://db.uwaterloo.ca/~galuc/wsdbm/Offer6>}|  {<http://db.uwaterloo.ca/~galuc/wsdbm/Offer6>}|   {<http://db.uwaterloo.ca/~galuc/wsdbm/Offer6>, <http://purl.org/goodrelations/includes>, <http://db.uwaterloo.ca/~galuc/wsdbm/Product57>}| {<http://db.uwaterloo.ca/~galuc/wsdbm/Product57>}|\n",
            "|{<http://db.uwaterloo.ca/~galuc/wsdbm/Retailer2>}|{<http://db.uwaterloo.ca/~galuc/wsdbm/Retailer2>, <http://purl.org/goodrelations/offers>, <http://db.uwaterloo.ca/~galuc/wsdbm/Offer637>}|{<http://db.uwaterloo.ca/~galuc/wsdbm/Offer637>}|  {<http://db.uwaterloo.ca/~galuc/wsdbm/Offer637>, <http://purl.org/goodrelations/includes>, <http://db.uwaterloo.ca/~galuc/wsdbm/Product5>}|  {<http://db.uwaterloo.ca/~galuc/wsdbm/Product5>}|\n",
            "|{<http://db.uwaterloo.ca/~galuc/wsdbm/Retailer2>}|{<http://db.uwaterloo.ca/~galuc/wsdbm/Retailer2>, <http://purl.org/goodrelations/offers>, <http://db.uwaterloo.ca/~galuc/wsdbm/Offer737>}|{<http://db.uwaterloo.ca/~galuc/wsdbm/Offer737>}|{<http://db.uwaterloo.ca/~galuc/wsdbm/Offer737>, <http://purl.org/goodrelations/includes>, <http://db.uwaterloo.ca/~galuc/wsdbm/Product127>}|{<http://db.uwaterloo.ca/~galuc/wsdbm/Product127>}|\n",
            "|{<http://db.uwaterloo.ca/~galuc/wsdbm/Retailer2>}|{<http://db.uwaterloo.ca/~galuc/wsdbm/Retailer2>, <http://purl.org/goodrelations/offers>, <http://db.uwaterloo.ca/~galuc/wsdbm/Offer522>}|{<http://db.uwaterloo.ca/~galuc/wsdbm/Offer522>}|{<http://db.uwaterloo.ca/~galuc/wsdbm/Offer522>, <http://purl.org/goodrelations/includes>, <http://db.uwaterloo.ca/~galuc/wsdbm/Product156>}|{<http://db.uwaterloo.ca/~galuc/wsdbm/Product156>}|\n",
            "|{<http://db.uwaterloo.ca/~galuc/wsdbm/Retailer2>}|  {<http://db.uwaterloo.ca/~galuc/wsdbm/Retailer2>, <http://purl.org/goodrelations/offers>, <http://db.uwaterloo.ca/~galuc/wsdbm/Offer8>}|  {<http://db.uwaterloo.ca/~galuc/wsdbm/Offer8>}|  {<http://db.uwaterloo.ca/~galuc/wsdbm/Offer8>, <http://purl.org/goodrelations/includes>, <http://db.uwaterloo.ca/~galuc/wsdbm/Product135>}|{<http://db.uwaterloo.ca/~galuc/wsdbm/Product135>}|\n",
            "|{<http://db.uwaterloo.ca/~galuc/wsdbm/Retailer2>}|  {<http://db.uwaterloo.ca/~galuc/wsdbm/Retailer2>, <http://purl.org/goodrelations/offers>, <http://db.uwaterloo.ca/~galuc/wsdbm/Offer8>}|  {<http://db.uwaterloo.ca/~galuc/wsdbm/Offer8>}|  {<http://db.uwaterloo.ca/~galuc/wsdbm/Offer8>, <http://purl.org/goodrelations/includes>, <http://db.uwaterloo.ca/~galuc/wsdbm/Product135>}|{<http://db.uwaterloo.ca/~galuc/wsdbm/Product135>}|\n",
            "|{<http://db.uwaterloo.ca/~galuc/wsdbm/Retailer2>}|{<http://db.uwaterloo.ca/~galuc/wsdbm/Retailer2>, <http://purl.org/goodrelations/offers>, <http://db.uwaterloo.ca/~galuc/wsdbm/Offer651>}|{<http://db.uwaterloo.ca/~galuc/wsdbm/Offer651>}|{<http://db.uwaterloo.ca/~galuc/wsdbm/Offer651>, <http://purl.org/goodrelations/includes>, <http://db.uwaterloo.ca/~galuc/wsdbm/Product145>}|{<http://db.uwaterloo.ca/~galuc/wsdbm/Product145>}|\n",
            "|{<http://db.uwaterloo.ca/~galuc/wsdbm/Retailer2>}|  {<http://db.uwaterloo.ca/~galuc/wsdbm/Retailer2>, <http://purl.org/goodrelations/offers>, <http://db.uwaterloo.ca/~galuc/wsdbm/Offer5>}|  {<http://db.uwaterloo.ca/~galuc/wsdbm/Offer5>}|    {<http://db.uwaterloo.ca/~galuc/wsdbm/Offer5>, <http://purl.org/goodrelations/includes>, <http://db.uwaterloo.ca/~galuc/wsdbm/Product1>}|  {<http://db.uwaterloo.ca/~galuc/wsdbm/Product1>}|\n",
            "|{<http://db.uwaterloo.ca/~galuc/wsdbm/Retailer2>}| {<http://db.uwaterloo.ca/~galuc/wsdbm/Retailer2>, <http://purl.org/goodrelations/offers>, <http://db.uwaterloo.ca/~galuc/wsdbm/Offer22>}| {<http://db.uwaterloo.ca/~galuc/wsdbm/Offer22>}| {<http://db.uwaterloo.ca/~galuc/wsdbm/Offer22>, <http://purl.org/goodrelations/includes>, <http://db.uwaterloo.ca/~galuc/wsdbm/Product145>}|{<http://db.uwaterloo.ca/~galuc/wsdbm/Product145>}|\n",
            "|{<http://db.uwaterloo.ca/~galuc/wsdbm/Retailer2>}|{<http://db.uwaterloo.ca/~galuc/wsdbm/Retailer2>, <http://purl.org/goodrelations/offers>, <http://db.uwaterloo.ca/~galuc/wsdbm/Offer634>}|{<http://db.uwaterloo.ca/~galuc/wsdbm/Offer634>}|{<http://db.uwaterloo.ca/~galuc/wsdbm/Offer634>, <http://purl.org/goodrelations/includes>, <http://db.uwaterloo.ca/~galuc/wsdbm/Product145>}|{<http://db.uwaterloo.ca/~galuc/wsdbm/Product145>}|\n",
            "|{<http://db.uwaterloo.ca/~galuc/wsdbm/Retailer2>}| {<http://db.uwaterloo.ca/~galuc/wsdbm/Retailer2>, <http://purl.org/goodrelations/offers>, <http://db.uwaterloo.ca/~galuc/wsdbm/Offer41>}| {<http://db.uwaterloo.ca/~galuc/wsdbm/Offer41>}|  {<http://db.uwaterloo.ca/~galuc/wsdbm/Offer41>, <http://purl.org/goodrelations/includes>, <http://db.uwaterloo.ca/~galuc/wsdbm/Product88>}| {<http://db.uwaterloo.ca/~galuc/wsdbm/Product88>}|\n",
            "|{<http://db.uwaterloo.ca/~galuc/wsdbm/Retailer2>}|  {<http://db.uwaterloo.ca/~galuc/wsdbm/Retailer2>, <http://purl.org/goodrelations/offers>, <http://db.uwaterloo.ca/~galuc/wsdbm/Offer0>}|  {<http://db.uwaterloo.ca/~galuc/wsdbm/Offer0>}|  {<http://db.uwaterloo.ca/~galuc/wsdbm/Offer0>, <http://purl.org/goodrelations/includes>, <http://db.uwaterloo.ca/~galuc/wsdbm/Product223>}|{<http://db.uwaterloo.ca/~galuc/wsdbm/Product223>}|\n",
            "|{<http://db.uwaterloo.ca/~galuc/wsdbm/Retailer2>}|  {<http://db.uwaterloo.ca/~galuc/wsdbm/Retailer2>, <http://purl.org/goodrelations/offers>, <http://db.uwaterloo.ca/~galuc/wsdbm/Offer0>}|  {<http://db.uwaterloo.ca/~galuc/wsdbm/Offer0>}|  {<http://db.uwaterloo.ca/~galuc/wsdbm/Offer0>, <http://purl.org/goodrelations/includes>, <http://db.uwaterloo.ca/~galuc/wsdbm/Product223>}|{<http://db.uwaterloo.ca/~galuc/wsdbm/Product223>}|\n",
            "|{<http://db.uwaterloo.ca/~galuc/wsdbm/Retailer2>}|  {<http://db.uwaterloo.ca/~galuc/wsdbm/Retailer2>, <http://purl.org/goodrelations/offers>, <http://db.uwaterloo.ca/~galuc/wsdbm/Offer0>}|  {<http://db.uwaterloo.ca/~galuc/wsdbm/Offer0>}|  {<http://db.uwaterloo.ca/~galuc/wsdbm/Offer0>, <http://purl.org/goodrelations/includes>, <http://db.uwaterloo.ca/~galuc/wsdbm/Product223>}|{<http://db.uwaterloo.ca/~galuc/wsdbm/Product223>}|\n",
            "|{<http://db.uwaterloo.ca/~galuc/wsdbm/Retailer2>}|  {<http://db.uwaterloo.ca/~galuc/wsdbm/Retailer2>, <http://purl.org/goodrelations/offers>, <http://db.uwaterloo.ca/~galuc/wsdbm/Offer0>}|  {<http://db.uwaterloo.ca/~galuc/wsdbm/Offer0>}|  {<http://db.uwaterloo.ca/~galuc/wsdbm/Offer0>, <http://purl.org/goodrelations/includes>, <http://db.uwaterloo.ca/~galuc/wsdbm/Product223>}|{<http://db.uwaterloo.ca/~galuc/wsdbm/Product223>}|\n",
            "|{<http://db.uwaterloo.ca/~galuc/wsdbm/Retailer2>}|  {<http://db.uwaterloo.ca/~galuc/wsdbm/Retailer2>, <http://purl.org/goodrelations/offers>, <http://db.uwaterloo.ca/~galuc/wsdbm/Offer0>}|  {<http://db.uwaterloo.ca/~galuc/wsdbm/Offer0>}|  {<http://db.uwaterloo.ca/~galuc/wsdbm/Offer0>, <http://purl.org/goodrelations/includes>, <http://db.uwaterloo.ca/~galuc/wsdbm/Product223>}|{<http://db.uwaterloo.ca/~galuc/wsdbm/Product223>}|\n",
            "|{<http://db.uwaterloo.ca/~galuc/wsdbm/Retailer2>}|  {<http://db.uwaterloo.ca/~galuc/wsdbm/Retailer2>, <http://purl.org/goodrelations/offers>, <http://db.uwaterloo.ca/~galuc/wsdbm/Offer0>}|  {<http://db.uwaterloo.ca/~galuc/wsdbm/Offer0>}|  {<http://db.uwaterloo.ca/~galuc/wsdbm/Offer0>, <http://purl.org/goodrelations/includes>, <http://db.uwaterloo.ca/~galuc/wsdbm/Product223>}|{<http://db.uwaterloo.ca/~galuc/wsdbm/Product223>}|\n",
            "|{<http://db.uwaterloo.ca/~galuc/wsdbm/Retailer2>}|  {<http://db.uwaterloo.ca/~galuc/wsdbm/Retailer2>, <http://purl.org/goodrelations/offers>, <http://db.uwaterloo.ca/~galuc/wsdbm/Offer0>}|  {<http://db.uwaterloo.ca/~galuc/wsdbm/Offer0>}|  {<http://db.uwaterloo.ca/~galuc/wsdbm/Offer0>, <http://purl.org/goodrelations/includes>, <http://db.uwaterloo.ca/~galuc/wsdbm/Product223>}|{<http://db.uwaterloo.ca/~galuc/wsdbm/Product223>}|\n",
            "|{<http://db.uwaterloo.ca/~galuc/wsdbm/Retailer2>}|  {<http://db.uwaterloo.ca/~galuc/wsdbm/Retailer2>, <http://purl.org/goodrelations/offers>, <http://db.uwaterloo.ca/~galuc/wsdbm/Offer0>}|  {<http://db.uwaterloo.ca/~galuc/wsdbm/Offer0>}|  {<http://db.uwaterloo.ca/~galuc/wsdbm/Offer0>, <http://purl.org/goodrelations/includes>, <http://db.uwaterloo.ca/~galuc/wsdbm/Product223>}|{<http://db.uwaterloo.ca/~galuc/wsdbm/Product223>}|\n",
            "|{<http://db.uwaterloo.ca/~galuc/wsdbm/Retailer2>}|  {<http://db.uwaterloo.ca/~galuc/wsdbm/Retailer2>, <http://purl.org/goodrelations/offers>, <http://db.uwaterloo.ca/~galuc/wsdbm/Offer0>}|  {<http://db.uwaterloo.ca/~galuc/wsdbm/Offer0>}|  {<http://db.uwaterloo.ca/~galuc/wsdbm/Offer0>, <http://purl.org/goodrelations/includes>, <http://db.uwaterloo.ca/~galuc/wsdbm/Product223>}|{<http://db.uwaterloo.ca/~galuc/wsdbm/Product223>}|\n",
            "|{<http://db.uwaterloo.ca/~galuc/wsdbm/Retailer2>}|  {<http://db.uwaterloo.ca/~galuc/wsdbm/Retailer2>, <http://purl.org/goodrelations/offers>, <http://db.uwaterloo.ca/~galuc/wsdbm/Offer0>}|  {<http://db.uwaterloo.ca/~galuc/wsdbm/Offer0>}|  {<http://db.uwaterloo.ca/~galuc/wsdbm/Offer0>, <http://purl.org/goodrelations/includes>, <http://db.uwaterloo.ca/~galuc/wsdbm/Product223>}|{<http://db.uwaterloo.ca/~galuc/wsdbm/Product223>}|\n",
            "|{<http://db.uwaterloo.ca/~galuc/wsdbm/Retailer2>}|  {<http://db.uwaterloo.ca/~galuc/wsdbm/Retailer2>, <http://purl.org/goodrelations/offers>, <http://db.uwaterloo.ca/~galuc/wsdbm/Offer0>}|  {<http://db.uwaterloo.ca/~galuc/wsdbm/Offer0>}|  {<http://db.uwaterloo.ca/~galuc/wsdbm/Offer0>, <http://purl.org/goodrelations/includes>, <http://db.uwaterloo.ca/~galuc/wsdbm/Product223>}|{<http://db.uwaterloo.ca/~galuc/wsdbm/Product223>}|\n",
            "|{<http://db.uwaterloo.ca/~galuc/wsdbm/Retailer2>}|{<http://db.uwaterloo.ca/~galuc/wsdbm/Retailer2>, <http://purl.org/goodrelations/offers>, <http://db.uwaterloo.ca/~galuc/wsdbm/Offer361>}|{<http://db.uwaterloo.ca/~galuc/wsdbm/Offer361>}|{<http://db.uwaterloo.ca/~galuc/wsdbm/Offer361>, <http://purl.org/goodrelations/includes>, <http://db.uwaterloo.ca/~galuc/wsdbm/Product101>}|{<http://db.uwaterloo.ca/~galuc/wsdbm/Product101>}|\n",
            "|{<http://db.uwaterloo.ca/~galuc/wsdbm/Retailer2>}|{<http://db.uwaterloo.ca/~galuc/wsdbm/Retailer2>, <http://purl.org/goodrelations/offers>, <http://db.uwaterloo.ca/~galuc/wsdbm/Offer527>}|{<http://db.uwaterloo.ca/~galuc/wsdbm/Offer527>}|{<http://db.uwaterloo.ca/~galuc/wsdbm/Offer527>, <http://purl.org/goodrelations/includes>, <http://db.uwaterloo.ca/~galuc/wsdbm/Product101>}|{<http://db.uwaterloo.ca/~galuc/wsdbm/Product101>}|\n",
            "|{<http://db.uwaterloo.ca/~galuc/wsdbm/Retailer2>}|{<http://db.uwaterloo.ca/~galuc/wsdbm/Retailer2>, <http://purl.org/goodrelations/offers>, <http://db.uwaterloo.ca/~galuc/wsdbm/Offer255>}|{<http://db.uwaterloo.ca/~galuc/wsdbm/Offer255>}|{<http://db.uwaterloo.ca/~galuc/wsdbm/Offer255>, <http://purl.org/goodrelations/includes>, <http://db.uwaterloo.ca/~galuc/wsdbm/Product223>}|{<http://db.uwaterloo.ca/~galuc/wsdbm/Product223>}|\n",
            "|{<http://db.uwaterloo.ca/~galuc/wsdbm/Retailer2>}|{<http://db.uwaterloo.ca/~galuc/wsdbm/Retailer2>, <http://purl.org/goodrelations/offers>, <http://db.uwaterloo.ca/~galuc/wsdbm/Offer872>}|{<http://db.uwaterloo.ca/~galuc/wsdbm/Offer872>}|{<http://db.uwaterloo.ca/~galuc/wsdbm/Offer872>, <http://purl.org/goodrelations/includes>, <http://db.uwaterloo.ca/~galuc/wsdbm/Product219>}|{<http://db.uwaterloo.ca/~galuc/wsdbm/Product219>}|\n",
            "|{<http://db.uwaterloo.ca/~galuc/wsdbm/Retailer2>}|{<http://db.uwaterloo.ca/~galuc/wsdbm/Retailer2>, <http://purl.org/goodrelations/offers>, <http://db.uwaterloo.ca/~galuc/wsdbm/Offer393>}|{<http://db.uwaterloo.ca/~galuc/wsdbm/Offer393>}|{<http://db.uwaterloo.ca/~galuc/wsdbm/Offer393>, <http://purl.org/goodrelations/includes>, <http://db.uwaterloo.ca/~galuc/wsdbm/Product219>}|{<http://db.uwaterloo.ca/~galuc/wsdbm/Product219>}|\n",
            "|{<http://db.uwaterloo.ca/~galuc/wsdbm/Retailer2>}|{<http://db.uwaterloo.ca/~galuc/wsdbm/Retailer2>, <http://purl.org/goodrelations/offers>, <http://db.uwaterloo.ca/~galuc/wsdbm/Offer379>}|{<http://db.uwaterloo.ca/~galuc/wsdbm/Offer379>}| {<http://db.uwaterloo.ca/~galuc/wsdbm/Offer379>, <http://purl.org/goodrelations/includes>, <http://db.uwaterloo.ca/~galuc/wsdbm/Product24>}| {<http://db.uwaterloo.ca/~galuc/wsdbm/Product24>}|\n",
            "|{<http://db.uwaterloo.ca/~galuc/wsdbm/Retailer2>}|{<http://db.uwaterloo.ca/~galuc/wsdbm/Retailer2>, <http://purl.org/goodrelations/offers>, <http://db.uwaterloo.ca/~galuc/wsdbm/Offer647>}|{<http://db.uwaterloo.ca/~galuc/wsdbm/Offer647>}| {<http://db.uwaterloo.ca/~galuc/wsdbm/Offer647>, <http://purl.org/goodrelations/includes>, <http://db.uwaterloo.ca/~galuc/wsdbm/Product24>}| {<http://db.uwaterloo.ca/~galuc/wsdbm/Product24>}|\n",
            "|{<http://db.uwaterloo.ca/~galuc/wsdbm/Retailer2>}|{<http://db.uwaterloo.ca/~galuc/wsdbm/Retailer2>, <http://purl.org/goodrelations/offers>, <http://db.uwaterloo.ca/~galuc/wsdbm/Offer451>}|{<http://db.uwaterloo.ca/~galuc/wsdbm/Offer451>}|{<http://db.uwaterloo.ca/~galuc/wsdbm/Offer451>, <http://purl.org/goodrelations/includes>, <http://db.uwaterloo.ca/~galuc/wsdbm/Product186>}|{<http://db.uwaterloo.ca/~galuc/wsdbm/Product186>}|\n",
            "|{<http://db.uwaterloo.ca/~galuc/wsdbm/Retailer2>}|{<http://db.uwaterloo.ca/~galuc/wsdbm/Retailer2>, <http://purl.org/goodrelations/offers>, <http://db.uwaterloo.ca/~galuc/wsdbm/Offer451>}|{<http://db.uwaterloo.ca/~galuc/wsdbm/Offer451>}|{<http://db.uwaterloo.ca/~galuc/wsdbm/Offer451>, <http://purl.org/goodrelations/includes>, <http://db.uwaterloo.ca/~galuc/wsdbm/Product186>}|{<http://db.uwaterloo.ca/~galuc/wsdbm/Product186>}|\n",
            "|{<http://db.uwaterloo.ca/~galuc/wsdbm/Retailer2>}|{<http://db.uwaterloo.ca/~galuc/wsdbm/Retailer2>, <http://purl.org/goodrelations/offers>, <http://db.uwaterloo.ca/~galuc/wsdbm/Offer664>}|{<http://db.uwaterloo.ca/~galuc/wsdbm/Offer664>}|{<http://db.uwaterloo.ca/~galuc/wsdbm/Offer664>, <http://purl.org/goodrelations/includes>, <http://db.uwaterloo.ca/~galuc/wsdbm/Product146>}|{<http://db.uwaterloo.ca/~galuc/wsdbm/Product146>}|\n",
            "|{<http://db.uwaterloo.ca/~galuc/wsdbm/Retailer2>}|{<http://db.uwaterloo.ca/~galuc/wsdbm/Retailer2>, <http://purl.org/goodrelations/offers>, <http://db.uwaterloo.ca/~galuc/wsdbm/Offer694>}|{<http://db.uwaterloo.ca/~galuc/wsdbm/Offer694>}| {<http://db.uwaterloo.ca/~galuc/wsdbm/Offer694>, <http://purl.org/goodrelations/includes>, <http://db.uwaterloo.ca/~galuc/wsdbm/Product35>}| {<http://db.uwaterloo.ca/~galuc/wsdbm/Product35>}|\n",
            "|{<http://db.uwaterloo.ca/~galuc/wsdbm/Retailer2>}| {<http://db.uwaterloo.ca/~galuc/wsdbm/Retailer2>, <http://purl.org/goodrelations/offers>, <http://db.uwaterloo.ca/~galuc/wsdbm/Offer38>}| {<http://db.uwaterloo.ca/~galuc/wsdbm/Offer38>}| {<http://db.uwaterloo.ca/~galuc/wsdbm/Offer38>, <http://purl.org/goodrelations/includes>, <http://db.uwaterloo.ca/~galuc/wsdbm/Product104>}|{<http://db.uwaterloo.ca/~galuc/wsdbm/Product104>}|\n",
            "|{<http://db.uwaterloo.ca/~galuc/wsdbm/Retailer2>}| {<http://db.uwaterloo.ca/~galuc/wsdbm/Retailer2>, <http://purl.org/goodrelations/offers>, <http://db.uwaterloo.ca/~galuc/wsdbm/Offer38>}| {<http://db.uwaterloo.ca/~galuc/wsdbm/Offer38>}| {<http://db.uwaterloo.ca/~galuc/wsdbm/Offer38>, <http://purl.org/goodrelations/includes>, <http://db.uwaterloo.ca/~galuc/wsdbm/Product104>}|{<http://db.uwaterloo.ca/~galuc/wsdbm/Product104>}|\n",
            "|{<http://db.uwaterloo.ca/~galuc/wsdbm/Retailer2>}| {<http://db.uwaterloo.ca/~galuc/wsdbm/Retailer2>, <http://purl.org/goodrelations/offers>, <http://db.uwaterloo.ca/~galuc/wsdbm/Offer61>}| {<http://db.uwaterloo.ca/~galuc/wsdbm/Offer61>}| {<http://db.uwaterloo.ca/~galuc/wsdbm/Offer61>, <http://purl.org/goodrelations/includes>, <http://db.uwaterloo.ca/~galuc/wsdbm/Product104>}|{<http://db.uwaterloo.ca/~galuc/wsdbm/Product104>}|\n",
            "|{<http://db.uwaterloo.ca/~galuc/wsdbm/Retailer2>}|{<http://db.uwaterloo.ca/~galuc/wsdbm/Retailer2>, <http://purl.org/goodrelations/offers>, <http://db.uwaterloo.ca/~galuc/wsdbm/Offer295>}|{<http://db.uwaterloo.ca/~galuc/wsdbm/Offer295>}|{<http://db.uwaterloo.ca/~galuc/wsdbm/Offer295>, <http://purl.org/goodrelations/includes>, <http://db.uwaterloo.ca/~galuc/wsdbm/Product227>}|{<http://db.uwaterloo.ca/~galuc/wsdbm/Product227>}|\n",
            "+-------------------------------------------------+-----------------------------------------------------------------------------------------------------------------------------------------+------------------------------------------------+--------------------------------------------------------------------------------------------------------------------------------------------+--------------------------------------------------+\n",
            "\n"
          ]
        }
      ]
    },
    {
      "cell_type": "code",
      "source": [
        "#\n",
        "# Juste pour vérifier que cce genre de chose fonctionne vraiment...\n",
        "#\n",
        "\n",
        "from graphframes.examples import Graphs\n",
        "from pyspark.sql import SQLContext\n",
        "from pyspark.sql.functions import col, lit, when\n",
        "\n",
        "# ?? pas sur\n",
        "from functools import reduce\n",
        "\n",
        "sqlContext = SQLContext(spark.sparkContext)\n",
        "g = Graphs(sqlContext).friends()  # Get example graph\n",
        "\n",
        "chain4 = g.find(\"(a)-[ab]->(b); (b)-[bc]->(c); (c)-[cd]->(d)\")\n",
        "\n",
        "# Query on sequence, with state (cnt)\n",
        "#  (a) Define method for updating state given the next element of the motif.\n",
        "sumFriends =\\\n",
        "  lambda cnt,relationship: when(relationship == \"friend\", cnt+1).otherwise(cnt)\n",
        "#  (b) Use sequence operation to apply method to sequence of elements in motif.\n",
        "#      In this case, the elements are the 3 edges.\n",
        "condition =\\\n",
        "  reduce(lambda cnt,e: sumFriends(cnt, col(e).relationship), [\"ab\", \"bc\", \"cd\"], lit(0))\n",
        "#  (c) Apply filter to DataFrame.\n",
        "chainWith2Friends2 = chain4.where(condition >= 2)\n",
        "chainWith2Friends2.show()"
      ],
      "metadata": {
        "id": "rFM4QjzoeSL8",
        "outputId": "b8bd2fd8-c14c-41d7-9b54-b62b71cee01f",
        "colab": {
          "base_uri": "https://localhost:8080/"
        }
      },
      "execution_count": 16,
      "outputs": [
        {
          "output_type": "stream",
          "name": "stderr",
          "text": [
            "/usr/local/lib/python3.7/dist-packages/pyspark/sql/context.py:114: FutureWarning: Deprecated in 3.0.0. Use SparkSession.builder.getOrCreate() instead.\n",
            "  FutureWarning,\n"
          ]
        },
        {
          "output_type": "stream",
          "name": "stdout",
          "text": [
            "+---------------+--------------+--------------+--------------+--------------+--------------+----------------+\n",
            "|              a|            ab|             b|            bc|             c|            cd|               d|\n",
            "+---------------+--------------+--------------+--------------+--------------+--------------+----------------+\n",
            "|{e, Esther, 32}|{e, d, friend}|{d, David, 29}|{d, a, friend}|{a, Alice, 34}|{a, b, friend}|    {b, Bob, 36}|\n",
            "| {d, David, 29}|{d, a, friend}|{a, Alice, 34}|{a, b, friend}|  {b, Bob, 36}|{b, c, follow}|{c, Charlie, 30}|\n",
            "+---------------+--------------+--------------+--------------+--------------+--------------+----------------+\n",
            "\n"
          ]
        }
      ]
    },
    {
      "cell_type": "code",
      "source": [
        "#\n",
        "# possible to extract product ??\n",
        "\n",
        "# get types\n",
        "classes = graph.find(\"(s)-[p]->(o)\")\\\n",
        "  .filter(\"p.relationship='<http://www.w3.org/1999/02/22-rdf-syntax-ns#type>'\") \\\n",
        "  .select(\"o\") \\\n",
        "  .distinct() \n",
        "classes.show(100,truncate=200)"
      ],
      "metadata": {
        "id": "43aIu_vygLYZ",
        "outputId": "a619fcc5-196d-4811-95ea-328f6fe2fc58",
        "colab": {
          "base_uri": "https://localhost:8080/"
        }
      },
      "execution_count": 17,
      "outputs": [
        {
          "output_type": "stream",
          "name": "stdout",
          "text": [
            "+---------------------------------------------------------+\n",
            "|                                                        o|\n",
            "+---------------------------------------------------------+\n",
            "|          {<http://db.uwaterloo.ca/~galuc/wsdbm/Genre13>}|\n",
            "| {<http://db.uwaterloo.ca/~galuc/wsdbm/ProductCategory2>}|\n",
            "|           {<http://db.uwaterloo.ca/~galuc/wsdbm/Genre9>}|\n",
            "|          {<http://db.uwaterloo.ca/~galuc/wsdbm/Genre11>}|\n",
            "|          {<http://db.uwaterloo.ca/~galuc/wsdbm/Genre10>}|\n",
            "| {<http://db.uwaterloo.ca/~galuc/wsdbm/ProductCategory8>}|\n",
            "| {<http://db.uwaterloo.ca/~galuc/wsdbm/ProductCategory1>}|\n",
            "| {<http://db.uwaterloo.ca/~galuc/wsdbm/ProductCategory5>}|\n",
            "|{<http://db.uwaterloo.ca/~galuc/wsdbm/ProductCategory13>}|\n",
            "| {<http://db.uwaterloo.ca/~galuc/wsdbm/ProductCategory9>}|\n",
            "|           {<http://db.uwaterloo.ca/~galuc/wsdbm/Genre0>}|\n",
            "|           {<http://db.uwaterloo.ca/~galuc/wsdbm/Genre8>}|\n",
            "|           {<http://db.uwaterloo.ca/~galuc/wsdbm/Genre1>}|\n",
            "|           {<http://db.uwaterloo.ca/~galuc/wsdbm/Genre4>}|\n",
            "| {<http://db.uwaterloo.ca/~galuc/wsdbm/ProductCategory6>}|\n",
            "|{<http://db.uwaterloo.ca/~galuc/wsdbm/ProductCategory14>}|\n",
            "|            {<http://db.uwaterloo.ca/~galuc/wsdbm/Role2>}|\n",
            "|          {<http://db.uwaterloo.ca/~galuc/wsdbm/Genre20>}|\n",
            "|          {<http://db.uwaterloo.ca/~galuc/wsdbm/Genre16>}|\n",
            "| {<http://db.uwaterloo.ca/~galuc/wsdbm/ProductCategory4>}|\n",
            "|          {<http://db.uwaterloo.ca/~galuc/wsdbm/Genre19>}|\n",
            "|{<http://db.uwaterloo.ca/~galuc/wsdbm/ProductCategory11>}|\n",
            "|           {<http://db.uwaterloo.ca/~galuc/wsdbm/Genre2>}|\n",
            "|           {<http://db.uwaterloo.ca/~galuc/wsdbm/Genre6>}|\n",
            "|            {<http://db.uwaterloo.ca/~galuc/wsdbm/Role0>}|\n",
            "|            {<http://db.uwaterloo.ca/~galuc/wsdbm/Role1>}|\n",
            "|          {<http://db.uwaterloo.ca/~galuc/wsdbm/Genre17>}|\n",
            "|          {<http://db.uwaterloo.ca/~galuc/wsdbm/Genre15>}|\n",
            "|{<http://db.uwaterloo.ca/~galuc/wsdbm/ProductCategory10>}|\n",
            "|           {<http://db.uwaterloo.ca/~galuc/wsdbm/Genre7>}|\n",
            "| {<http://db.uwaterloo.ca/~galuc/wsdbm/ProductCategory0>}|\n",
            "|          {<http://db.uwaterloo.ca/~galuc/wsdbm/Genre18>}|\n",
            "|          {<http://db.uwaterloo.ca/~galuc/wsdbm/Genre14>}|\n",
            "|          {<http://db.uwaterloo.ca/~galuc/wsdbm/Genre12>}|\n",
            "|           {<http://db.uwaterloo.ca/~galuc/wsdbm/Genre5>}|\n",
            "|{<http://db.uwaterloo.ca/~galuc/wsdbm/ProductCategory12>}|\n",
            "| {<http://db.uwaterloo.ca/~galuc/wsdbm/ProductCategory7>}|\n",
            "|           {<http://db.uwaterloo.ca/~galuc/wsdbm/Genre3>}|\n",
            "| {<http://db.uwaterloo.ca/~galuc/wsdbm/ProductCategory3>}|\n",
            "+---------------------------------------------------------+\n",
            "\n"
          ]
        }
      ]
    },
    {
      "cell_type": "code",
      "source": [
        "#get entities products3\n",
        "\n",
        "products3 = graph.find(\"(s)-[p]->(o);(s)-[p1]->(o1)\")\\\n",
        "  .filter(\"p.relationship='<http://www.w3.org/1999/02/22-rdf-syntax-ns#type>'\") \\\n",
        "  .filter(\"o.id='<http://db.uwaterloo.ca/~galuc/wsdbm/ProductCategory3>'\") \\\n",
        "  .select(\"p1\") \n",
        "products3.show(100,truncate=200)"
      ],
      "metadata": {
        "id": "QdX4mbznhuit",
        "outputId": "7bb47090-858b-490f-aa89-aa2c0c19655f",
        "colab": {
          "base_uri": "https://localhost:8080/"
        }
      },
      "execution_count": 15,
      "outputs": [
        {
          "output_type": "stream",
          "name": "stdout",
          "text": [
            "+-------------------------------------------------------------------------------------------------------------------------------------------------------------+\n",
            "|                                                                                                                                                           p1|\n",
            "+-------------------------------------------------------------------------------------------------------------------------------------------------------------+\n",
            "|                                                                    {<http://db.uwaterloo.ca/~galuc/wsdbm/Product106>, <http://schema.org/caption>, \"wakener}|\n",
            "|                                                        {<http://db.uwaterloo.ca/~galuc/wsdbm/Product106>, <http://schema.org/description>, \"posthypophyseal}|\n",
            "|                                                                   {<http://db.uwaterloo.ca/~galuc/wsdbm/Product106>, <http://ogp.me/ns#title>, \"premunitory}|\n",
            "|{<http://db.uwaterloo.ca/~galuc/wsdbm/Product106>, <http://www.w3.org/1999/02/22-rdf-syntax-ns#type>, <http://db.uwaterloo.ca/~galuc/wsdbm/ProductCategory3>}|\n",
            "|         {<http://db.uwaterloo.ca/~galuc/wsdbm/Product106>, <http://db.uwaterloo.ca/~galuc/wsdbm/hasGenre>, <http://db.uwaterloo.ca/~galuc/wsdbm/SubGenre91>}|\n",
            "|         {<http://db.uwaterloo.ca/~galuc/wsdbm/Product106>, <http://db.uwaterloo.ca/~galuc/wsdbm/hasGenre>, <http://db.uwaterloo.ca/~galuc/wsdbm/SubGenre24>}|\n",
            "|                                                                 {<http://db.uwaterloo.ca/~galuc/wsdbm/Product106>, <http://schema.org/numberOfPages>, \"423\"}|\n",
            "|                                                                        {<http://db.uwaterloo.ca/~galuc/wsdbm/Product106>, <http://schema.org/isbn>, \"44765\"}|\n",
            "|                                {<http://db.uwaterloo.ca/~galuc/wsdbm/Product106>, <http://schema.org/author>, <http://db.uwaterloo.ca/~galuc/wsdbm/User761>}|\n",
            "|                            {<http://db.uwaterloo.ca/~galuc/wsdbm/Product106>, <http://schema.org/language>, <http://db.uwaterloo.ca/~galuc/wsdbm/Language2>}|\n",
            "|                           {<http://db.uwaterloo.ca/~galuc/wsdbm/Product106>, <http://schema.org/language>, <http://db.uwaterloo.ca/~galuc/wsdbm/Language13>}|\n",
            "|                            {<http://db.uwaterloo.ca/~galuc/wsdbm/Product106>, <http://schema.org/language>, <http://db.uwaterloo.ca/~galuc/wsdbm/Language7>}|\n",
            "|                                                                     {<http://db.uwaterloo.ca/~galuc/wsdbm/Product138>, <http://schema.org/text>, \"pastorium}|\n",
            "|                                                              {<http://db.uwaterloo.ca/~galuc/wsdbm/Product138>, <http://schema.org/keywords>, \"Brauneberger}|\n",
            "|                                                              {<http://db.uwaterloo.ca/~galuc/wsdbm/Product138>, <http://schema.org/description>, \"preheroic}|\n",
            "|                                                                {<http://db.uwaterloo.ca/~galuc/wsdbm/Product138>, <http://ogp.me/ns#title>, \"superspiritual}|\n",
            "|{<http://db.uwaterloo.ca/~galuc/wsdbm/Product138>, <http://www.w3.org/1999/02/22-rdf-syntax-ns#type>, <http://db.uwaterloo.ca/~galuc/wsdbm/ProductCategory3>}|\n",
            "|         {<http://db.uwaterloo.ca/~galuc/wsdbm/Product138>, <http://db.uwaterloo.ca/~galuc/wsdbm/hasGenre>, <http://db.uwaterloo.ca/~galuc/wsdbm/SubGenre40>}|\n",
            "|         {<http://db.uwaterloo.ca/~galuc/wsdbm/Product138>, <http://db.uwaterloo.ca/~galuc/wsdbm/hasGenre>, <http://db.uwaterloo.ca/~galuc/wsdbm/SubGenre52>}|\n",
            "|         {<http://db.uwaterloo.ca/~galuc/wsdbm/Product138>, <http://db.uwaterloo.ca/~galuc/wsdbm/hasGenre>, <http://db.uwaterloo.ca/~galuc/wsdbm/SubGenre88>}|\n",
            "|         {<http://db.uwaterloo.ca/~galuc/wsdbm/Product138>, <http://db.uwaterloo.ca/~galuc/wsdbm/hasGenre>, <http://db.uwaterloo.ca/~galuc/wsdbm/SubGenre23>}|\n",
            "|                                   {<http://db.uwaterloo.ca/~galuc/wsdbm/Product138>, <http://ogp.me/ns#tag>, <http://db.uwaterloo.ca/~galuc/wsdbm/Topic146>}|\n",
            "|                                    {<http://db.uwaterloo.ca/~galuc/wsdbm/Product138>, <http://ogp.me/ns#tag>, <http://db.uwaterloo.ca/~galuc/wsdbm/Topic72>}|\n",
            "|                                    {<http://db.uwaterloo.ca/~galuc/wsdbm/Product138>, <http://ogp.me/ns#tag>, <http://db.uwaterloo.ca/~galuc/wsdbm/Topic52>}|\n",
            "|                                    {<http://db.uwaterloo.ca/~galuc/wsdbm/Product138>, <http://ogp.me/ns#tag>, <http://db.uwaterloo.ca/~galuc/wsdbm/Topic76>}|\n",
            "|                                    {<http://db.uwaterloo.ca/~galuc/wsdbm/Product138>, <http://ogp.me/ns#tag>, <http://db.uwaterloo.ca/~galuc/wsdbm/Topic65>}|\n",
            "|                                     {<http://db.uwaterloo.ca/~galuc/wsdbm/Product138>, <http://ogp.me/ns#tag>, <http://db.uwaterloo.ca/~galuc/wsdbm/Topic8>}|\n",
            "|                                   {<http://db.uwaterloo.ca/~galuc/wsdbm/Product138>, <http://ogp.me/ns#tag>, <http://db.uwaterloo.ca/~galuc/wsdbm/Topic244>}|\n",
            "|                                    {<http://db.uwaterloo.ca/~galuc/wsdbm/Product138>, <http://ogp.me/ns#tag>, <http://db.uwaterloo.ca/~galuc/wsdbm/Topic51>}|\n",
            "|                                   {<http://db.uwaterloo.ca/~galuc/wsdbm/Product138>, <http://ogp.me/ns#tag>, <http://db.uwaterloo.ca/~galuc/wsdbm/Topic187>}|\n",
            "|                                    {<http://db.uwaterloo.ca/~galuc/wsdbm/Product138>, <http://ogp.me/ns#tag>, <http://db.uwaterloo.ca/~galuc/wsdbm/Topic52>}|\n",
            "|                                    {<http://db.uwaterloo.ca/~galuc/wsdbm/Product138>, <http://ogp.me/ns#tag>, <http://db.uwaterloo.ca/~galuc/wsdbm/Topic64>}|\n",
            "|                                   {<http://db.uwaterloo.ca/~galuc/wsdbm/Product138>, <http://ogp.me/ns#tag>, <http://db.uwaterloo.ca/~galuc/wsdbm/Topic184>}|\n",
            "|                                   {<http://db.uwaterloo.ca/~galuc/wsdbm/Product138>, <http://ogp.me/ns#tag>, <http://db.uwaterloo.ca/~galuc/wsdbm/Topic155>}|\n",
            "|                                                                        {<http://db.uwaterloo.ca/~galuc/wsdbm/Product138>, <http://schema.org/isbn>, \"56993\"}|\n",
            "|                                {<http://db.uwaterloo.ca/~galuc/wsdbm/Product138>, <http://schema.org/author>, <http://db.uwaterloo.ca/~galuc/wsdbm/User196>}|\n",
            "|                                {<http://db.uwaterloo.ca/~galuc/wsdbm/Product138>, <http://schema.org/author>, <http://db.uwaterloo.ca/~galuc/wsdbm/User504>}|\n",
            "|                                {<http://db.uwaterloo.ca/~galuc/wsdbm/Product138>, <http://schema.org/author>, <http://db.uwaterloo.ca/~galuc/wsdbm/User913>}|\n",
            "|                                                                  {<http://db.uwaterloo.ca/~galuc/wsdbm/Product147>, <http://schema.org/caption>, \"Malpighia}|\n",
            "|                                                                    {<http://db.uwaterloo.ca/~galuc/wsdbm/Product147>, <http://ogp.me/ns#title>, \"epiphysary}|\n",
            "|{<http://db.uwaterloo.ca/~galuc/wsdbm/Product147>, <http://www.w3.org/1999/02/22-rdf-syntax-ns#type>, <http://db.uwaterloo.ca/~galuc/wsdbm/ProductCategory3>}|\n",
            "|         {<http://db.uwaterloo.ca/~galuc/wsdbm/Product147>, <http://db.uwaterloo.ca/~galuc/wsdbm/hasGenre>, <http://db.uwaterloo.ca/~galuc/wsdbm/SubGenre35>}|\n",
            "|         {<http://db.uwaterloo.ca/~galuc/wsdbm/Product147>, <http://db.uwaterloo.ca/~galuc/wsdbm/hasGenre>, <http://db.uwaterloo.ca/~galuc/wsdbm/SubGenre74>}|\n",
            "|                                                                        {<http://db.uwaterloo.ca/~galuc/wsdbm/Product147>, <http://schema.org/isbn>, \"50922\"}|\n",
            "|                                                                     {<http://db.uwaterloo.ca/~galuc/wsdbm/Product150>, <http://schema.org/text>, \"shearbill}|\n",
            "|                                                                 {<http://db.uwaterloo.ca/~galuc/wsdbm/Product150>, <http://schema.org/keywords>, \"tensional}|\n",
            "|                                                                    {<http://db.uwaterloo.ca/~galuc/wsdbm/Product150>, <http://ogp.me/ns#title>, \"sauceplate}|\n",
            "|{<http://db.uwaterloo.ca/~galuc/wsdbm/Product150>, <http://www.w3.org/1999/02/22-rdf-syntax-ns#type>, <http://db.uwaterloo.ca/~galuc/wsdbm/ProductCategory3>}|\n",
            "|         {<http://db.uwaterloo.ca/~galuc/wsdbm/Product150>, <http://db.uwaterloo.ca/~galuc/wsdbm/hasGenre>, <http://db.uwaterloo.ca/~galuc/wsdbm/SubGenre94>}|\n",
            "|         {<http://db.uwaterloo.ca/~galuc/wsdbm/Product150>, <http://db.uwaterloo.ca/~galuc/wsdbm/hasGenre>, <http://db.uwaterloo.ca/~galuc/wsdbm/SubGenre94>}|\n",
            "|         {<http://db.uwaterloo.ca/~galuc/wsdbm/Product150>, <http://db.uwaterloo.ca/~galuc/wsdbm/hasGenre>, <http://db.uwaterloo.ca/~galuc/wsdbm/SubGenre83>}|\n",
            "|        {<http://db.uwaterloo.ca/~galuc/wsdbm/Product150>, <http://db.uwaterloo.ca/~galuc/wsdbm/hasGenre>, <http://db.uwaterloo.ca/~galuc/wsdbm/SubGenre123>}|\n",
            "|                                    {<http://db.uwaterloo.ca/~galuc/wsdbm/Product150>, <http://ogp.me/ns#tag>, <http://db.uwaterloo.ca/~galuc/wsdbm/Topic83>}|\n",
            "|                                   {<http://db.uwaterloo.ca/~galuc/wsdbm/Product150>, <http://ogp.me/ns#tag>, <http://db.uwaterloo.ca/~galuc/wsdbm/Topic146>}|\n",
            "|                                   {<http://db.uwaterloo.ca/~galuc/wsdbm/Product150>, <http://ogp.me/ns#tag>, <http://db.uwaterloo.ca/~galuc/wsdbm/Topic203>}|\n",
            "|                     {<http://db.uwaterloo.ca/~galuc/wsdbm/Product150>, <http://purl.org/stuff/rev#hasReview>, <http://db.uwaterloo.ca/~galuc/wsdbm/Review8>}|\n",
            "|                  {<http://db.uwaterloo.ca/~galuc/wsdbm/Product150>, <http://purl.org/stuff/rev#hasReview>, <http://db.uwaterloo.ca/~galuc/wsdbm/Review1242>}|\n",
            "|                  {<http://db.uwaterloo.ca/~galuc/wsdbm/Product150>, <http://purl.org/stuff/rev#hasReview>, <http://db.uwaterloo.ca/~galuc/wsdbm/Review1249>}|\n",
            "|                  {<http://db.uwaterloo.ca/~galuc/wsdbm/Product150>, <http://purl.org/stuff/rev#hasReview>, <http://db.uwaterloo.ca/~galuc/wsdbm/Review1391>}|\n",
            "|                   {<http://db.uwaterloo.ca/~galuc/wsdbm/Product150>, <http://purl.org/stuff/rev#hasReview>, <http://db.uwaterloo.ca/~galuc/wsdbm/Review712>}|\n",
            "|                   {<http://db.uwaterloo.ca/~galuc/wsdbm/Product150>, <http://purl.org/stuff/rev#hasReview>, <http://db.uwaterloo.ca/~galuc/wsdbm/Review384>}|\n",
            "|                  {<http://db.uwaterloo.ca/~galuc/wsdbm/Product150>, <http://purl.org/stuff/rev#hasReview>, <http://db.uwaterloo.ca/~galuc/wsdbm/Review1251>}|\n",
            "|                   {<http://db.uwaterloo.ca/~galuc/wsdbm/Product150>, <http://purl.org/stuff/rev#hasReview>, <http://db.uwaterloo.ca/~galuc/wsdbm/Review586>}|\n",
            "|                  {<http://db.uwaterloo.ca/~galuc/wsdbm/Product150>, <http://purl.org/stuff/rev#hasReview>, <http://db.uwaterloo.ca/~galuc/wsdbm/Review1315>}|\n",
            "|                  {<http://db.uwaterloo.ca/~galuc/wsdbm/Product150>, <http://purl.org/stuff/rev#hasReview>, <http://db.uwaterloo.ca/~galuc/wsdbm/Review1029>}|\n",
            "|                   {<http://db.uwaterloo.ca/~galuc/wsdbm/Product150>, <http://purl.org/stuff/rev#hasReview>, <http://db.uwaterloo.ca/~galuc/wsdbm/Review490>}|\n",
            "|                   {<http://db.uwaterloo.ca/~galuc/wsdbm/Product150>, <http://purl.org/stuff/rev#hasReview>, <http://db.uwaterloo.ca/~galuc/wsdbm/Review456>}|\n",
            "|                  {<http://db.uwaterloo.ca/~galuc/wsdbm/Product150>, <http://purl.org/stuff/rev#hasReview>, <http://db.uwaterloo.ca/~galuc/wsdbm/Review1278>}|\n",
            "|                  {<http://db.uwaterloo.ca/~galuc/wsdbm/Product150>, <http://purl.org/stuff/rev#hasReview>, <http://db.uwaterloo.ca/~galuc/wsdbm/Review1341>}|\n",
            "|                   {<http://db.uwaterloo.ca/~galuc/wsdbm/Product150>, <http://purl.org/stuff/rev#hasReview>, <http://db.uwaterloo.ca/~galuc/wsdbm/Review807>}|\n",
            "|                   {<http://db.uwaterloo.ca/~galuc/wsdbm/Product150>, <http://purl.org/stuff/rev#hasReview>, <http://db.uwaterloo.ca/~galuc/wsdbm/Review533>}|\n",
            "|                  {<http://db.uwaterloo.ca/~galuc/wsdbm/Product150>, <http://purl.org/stuff/rev#hasReview>, <http://db.uwaterloo.ca/~galuc/wsdbm/Review1373>}|\n",
            "|                   {<http://db.uwaterloo.ca/~galuc/wsdbm/Product150>, <http://purl.org/stuff/rev#hasReview>, <http://db.uwaterloo.ca/~galuc/wsdbm/Review637>}|\n",
            "|                   {<http://db.uwaterloo.ca/~galuc/wsdbm/Product150>, <http://purl.org/stuff/rev#hasReview>, <http://db.uwaterloo.ca/~galuc/wsdbm/Review129>}|\n",
            "|                  {<http://db.uwaterloo.ca/~galuc/wsdbm/Product150>, <http://purl.org/stuff/rev#hasReview>, <http://db.uwaterloo.ca/~galuc/wsdbm/Review1009>}|\n",
            "|                   {<http://db.uwaterloo.ca/~galuc/wsdbm/Product150>, <http://purl.org/stuff/rev#hasReview>, <http://db.uwaterloo.ca/~galuc/wsdbm/Review840>}|\n",
            "|                   {<http://db.uwaterloo.ca/~galuc/wsdbm/Product150>, <http://purl.org/stuff/rev#hasReview>, <http://db.uwaterloo.ca/~galuc/wsdbm/Review826>}|\n",
            "|                   {<http://db.uwaterloo.ca/~galuc/wsdbm/Product150>, <http://purl.org/stuff/rev#hasReview>, <http://db.uwaterloo.ca/~galuc/wsdbm/Review466>}|\n",
            "|                   {<http://db.uwaterloo.ca/~galuc/wsdbm/Product150>, <http://purl.org/stuff/rev#hasReview>, <http://db.uwaterloo.ca/~galuc/wsdbm/Review164>}|\n",
            "|                   {<http://db.uwaterloo.ca/~galuc/wsdbm/Product150>, <http://purl.org/stuff/rev#hasReview>, <http://db.uwaterloo.ca/~galuc/wsdbm/Review643>}|\n",
            "|                   {<http://db.uwaterloo.ca/~galuc/wsdbm/Product150>, <http://purl.org/stuff/rev#hasReview>, <http://db.uwaterloo.ca/~galuc/wsdbm/Review623>}|\n",
            "|                   {<http://db.uwaterloo.ca/~galuc/wsdbm/Product150>, <http://purl.org/stuff/rev#hasReview>, <http://db.uwaterloo.ca/~galuc/wsdbm/Review277>}|\n",
            "|                   {<http://db.uwaterloo.ca/~galuc/wsdbm/Product150>, <http://purl.org/stuff/rev#hasReview>, <http://db.uwaterloo.ca/~galuc/wsdbm/Review220>}|\n",
            "|                   {<http://db.uwaterloo.ca/~galuc/wsdbm/Product150>, <http://purl.org/stuff/rev#hasReview>, <http://db.uwaterloo.ca/~galuc/wsdbm/Review348>}|\n",
            "|                   {<http://db.uwaterloo.ca/~galuc/wsdbm/Product150>, <http://purl.org/stuff/rev#hasReview>, <http://db.uwaterloo.ca/~galuc/wsdbm/Review155>}|\n",
            "|                                                                         {<http://db.uwaterloo.ca/~galuc/wsdbm/Product150>, <http://schema.org/isbn>, \"5410\"}|\n",
            "|                                {<http://db.uwaterloo.ca/~galuc/wsdbm/Product150>, <http://schema.org/author>, <http://db.uwaterloo.ca/~galuc/wsdbm/User524>}|\n",
            "|                                {<http://db.uwaterloo.ca/~galuc/wsdbm/Product150>, <http://schema.org/author>, <http://db.uwaterloo.ca/~galuc/wsdbm/User561>}|\n",
            "|                                {<http://db.uwaterloo.ca/~galuc/wsdbm/Product150>, <http://schema.org/author>, <http://db.uwaterloo.ca/~galuc/wsdbm/User300>}|\n",
            "|                                {<http://db.uwaterloo.ca/~galuc/wsdbm/Product150>, <http://schema.org/editor>, <http://db.uwaterloo.ca/~galuc/wsdbm/User502>}|\n",
            "|                                {<http://db.uwaterloo.ca/~galuc/wsdbm/Product150>, <http://schema.org/editor>, <http://db.uwaterloo.ca/~galuc/wsdbm/User265>}|\n",
            "|                                 {<http://db.uwaterloo.ca/~galuc/wsdbm/Product150>, <http://schema.org/editor>, <http://db.uwaterloo.ca/~galuc/wsdbm/User78>}|\n",
            "|                                                                        {<http://db.uwaterloo.ca/~galuc/wsdbm/Product16>, <http://ogp.me/ns#title>, \"shaster}|\n",
            "| {<http://db.uwaterloo.ca/~galuc/wsdbm/Product16>, <http://www.w3.org/1999/02/22-rdf-syntax-ns#type>, <http://db.uwaterloo.ca/~galuc/wsdbm/ProductCategory3>}|\n",
            "|         {<http://db.uwaterloo.ca/~galuc/wsdbm/Product16>, <http://db.uwaterloo.ca/~galuc/wsdbm/hasGenre>, <http://db.uwaterloo.ca/~galuc/wsdbm/SubGenre106>}|\n",
            "|          {<http://db.uwaterloo.ca/~galuc/wsdbm/Product16>, <http://db.uwaterloo.ca/~galuc/wsdbm/hasGenre>, <http://db.uwaterloo.ca/~galuc/wsdbm/SubGenre90>}|\n",
            "|          {<http://db.uwaterloo.ca/~galuc/wsdbm/Product16>, <http://db.uwaterloo.ca/~galuc/wsdbm/hasGenre>, <http://db.uwaterloo.ca/~galuc/wsdbm/SubGenre80>}|\n",
            "|                                     {<http://db.uwaterloo.ca/~galuc/wsdbm/Product16>, <http://ogp.me/ns#tag>, <http://db.uwaterloo.ca/~galuc/wsdbm/Topic21>}|\n",
            "|                                    {<http://db.uwaterloo.ca/~galuc/wsdbm/Product16>, <http://ogp.me/ns#tag>, <http://db.uwaterloo.ca/~galuc/wsdbm/Topic243>}|\n",
            "|                                    {<http://db.uwaterloo.ca/~galuc/wsdbm/Product16>, <http://ogp.me/ns#tag>, <http://db.uwaterloo.ca/~galuc/wsdbm/Topic247>}|\n",
            "+-------------------------------------------------------------------------------------------------------------------------------------------------------------+\n",
            "only showing top 100 rows\n",
            "\n"
          ]
        }
      ]
    },
    {
      "cell_type": "code",
      "source": [
        "# curious to see what label propagation returns...\n",
        "result = graph.labelPropagation(maxIter=5)\n",
        "result.select(\"id\", \"label\").show()"
      ],
      "metadata": {
        "id": "IY4h5wcpd1ru",
        "outputId": "7705df14-3465-47c1-89d7-8398cc1e9675",
        "colab": {
          "base_uri": "https://localhost:8080/"
        }
      },
      "execution_count": 25,
      "outputs": [
        {
          "output_type": "stream",
          "name": "stderr",
          "text": [
            "/usr/local/lib/python3.7/dist-packages/pyspark/sql/dataframe.py:127: UserWarning: DataFrame constructor is internal. Do not directly use it.\n",
            "  warnings.warn(\"DataFrame constructor is internal. Do not directly use it.\")\n"
          ]
        },
        {
          "output_type": "stream",
          "name": "stdout",
          "text": [
            "+--------------------+-------------+\n",
            "|                  id|        label|\n",
            "+--------------------+-------------+\n",
            "|<http://db.uwater...| 335007449145|\n",
            "|<http://db.uwater...| 738734374991|\n",
            "|<http://db.uwater...| 738734374991|\n",
            "|<http://db.uwater...| 738734374991|\n",
            "|<http://db.uwater...| 403726925863|\n",
            "|<http://db.uwater...| 996432412672|\n",
            "|<http://db.uwater...| 369367187489|\n",
            "|<http://db.uwater...|1477468749836|\n",
            "|<http://db.uwater...| 738734374991|\n",
            "|<http://db.uwater...| 549755813933|\n",
            "|<http://db.uwater...| 738734374991|\n",
            "|<http://db.uwater...| 738734374991|\n",
            "|<http://db.uwater...| 790273982509|\n",
            "|<http://db.uwater...| 738734374991|\n",
            "|<http://db.uwater...| 738734374991|\n",
            "|<http://db.uwater...| 566935683122|\n",
            "|<http://db.uwater...| 738734374991|\n",
            "|<http://db.uwater...| 738734374991|\n",
            "|<http://db.uwater...|1606317768740|\n",
            "|<http://db.uwater...| 721554505773|\n",
            "+--------------------+-------------+\n",
            "only showing top 20 rows\n",
            "\n"
          ]
        }
      ]
    },
    {
      "cell_type": "code",
      "source": [
        "result.select(\"id\",\"label\").show(truncate=200)"
      ],
      "metadata": {
        "id": "1C-jMA_BfRlY",
        "outputId": "b97035de-f1c9-46d4-f7bd-e28ce25e0af7",
        "colab": {
          "base_uri": "https://localhost:8080/"
        }
      },
      "execution_count": 26,
      "outputs": [
        {
          "output_type": "stream",
          "name": "stdout",
          "text": [
            "+--------------------------------------------------+-------------+\n",
            "|                                                id|        label|\n",
            "+--------------------------------------------------+-------------+\n",
            "|      <http://db.uwaterloo.ca/~galuc/wsdbm/User98>| 738734374991|\n",
            "|     <http://db.uwaterloo.ca/~galuc/wsdbm/User122>| 738734374991|\n",
            "|     <http://db.uwaterloo.ca/~galuc/wsdbm/User352>| 738734374991|\n",
            "|     <http://db.uwaterloo.ca/~galuc/wsdbm/User475>| 738734374991|\n",
            "|     <http://db.uwaterloo.ca/~galuc/wsdbm/User604>| 738734374991|\n",
            "|     <http://db.uwaterloo.ca/~galuc/wsdbm/User785>| 738734374991|\n",
            "|    <http://db.uwaterloo.ca/~galuc/wsdbm/Review50>| 257698037800|\n",
            "|   <http://db.uwaterloo.ca/~galuc/wsdbm/Review143>|1477468749836|\n",
            "|   <http://db.uwaterloo.ca/~galuc/wsdbm/Review555>| 738734374991|\n",
            "|   <http://db.uwaterloo.ca/~galuc/wsdbm/Review593>| 738734374991|\n",
            "|   <http://db.uwaterloo.ca/~galuc/wsdbm/Review681>| 738734374991|\n",
            "|   <http://db.uwaterloo.ca/~galuc/wsdbm/Review780>|1460288880690|\n",
            "|   <http://db.uwaterloo.ca/~galuc/wsdbm/Review856>| 738734374991|\n",
            "|  <http://db.uwaterloo.ca/~galuc/wsdbm/Review1131>| 549755813888|\n",
            "| <http://db.uwaterloo.ca/~galuc/wsdbm/Purchase545>|1546188226626|\n",
            "| <http://db.uwaterloo.ca/~galuc/wsdbm/Purchase973>| 738734374991|\n",
            "|<http://db.uwaterloo.ca/~galuc/wsdbm/Purchase1177>| 309237645354|\n",
            "|     <http://db.uwaterloo.ca/~galuc/wsdbm/Offer73>|1606317768740|\n",
            "|    <http://db.uwaterloo.ca/~galuc/wsdbm/Offer148>| 292057776142|\n",
            "|    <http://db.uwaterloo.ca/~galuc/wsdbm/Offer410>| 249108103209|\n",
            "+--------------------------------------------------+-------------+\n",
            "only showing top 20 rows\n",
            "\n"
          ]
        }
      ]
    }
  ]
}