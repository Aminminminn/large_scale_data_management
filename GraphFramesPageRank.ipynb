{
  "nbformat": 4,
  "nbformat_minor": 0,
  "metadata": {
    "colab": {
      "provenance": [],
      "include_colab_link": true
    },
    "kernelspec": {
      "name": "python3",
      "display_name": "Python 3"
    },
    "language_info": {
      "name": "python"
    }
  },
  "cells": [
    {
      "cell_type": "markdown",
      "metadata": {
        "id": "view-in-github",
        "colab_type": "text"
      },
      "source": [
        "<a href=\"https://colab.research.google.com/github/momo54/large_scale_data_management/blob/main/GraphFramesPageRank.ipynb\" target=\"_parent\"><img src=\"https://colab.research.google.com/assets/colab-badge.svg\" alt=\"Open In Colab\"/></a>"
      ]
    },
    {
      "cell_type": "markdown",
      "source": [
        "! RDF and  GraphFrames\n",
        "\n",
        "GraphFrame is an additional package to perform graph processing in Spark. It is concurrent to GraphX, but available in Python.\n",
        "\n",
        "\n",
        "launching in a terminal\n",
        "\n",
        "```\n",
        "pyspark --packages graphframes:graphframes:0.8.1-spark3.0-s_2.12\n",
        "```\n",
        "\n",
        "Valid configuration are listed in:\n",
        "```\n",
        "https://spark-packages.org/package/graphframes/graphframes\n",
        "```\n"
      ],
      "metadata": {
        "id": "mWDwyWU7125d"
      }
    },
    {
      "cell_type": "code",
      "execution_count": 1,
      "metadata": {
        "colab": {
          "base_uri": "https://localhost:8080/"
        },
        "id": "4tTxN7y7FTRZ",
        "outputId": "23895d71-0dcf-4e8f-a090-2bcfd428ffeb"
      },
      "outputs": [
        {
          "output_type": "stream",
          "name": "stdout",
          "text": [
            "Looking in indexes: https://pypi.org/simple, https://us-python.pkg.dev/colab-wheels/public/simple/\n",
            "Requirement already satisfied: pyspark in /usr/local/lib/python3.7/dist-packages (3.3.1)\n",
            "Requirement already satisfied: py4j==0.10.9.5 in /usr/local/lib/python3.7/dist-packages (from pyspark) (0.10.9.5)\n"
          ]
        }
      ],
      "source": [
        "!pip install pyspark"
      ]
    },
    {
      "cell_type": "code",
      "source": [
        "!pip install graphframes"
      ],
      "metadata": {
        "colab": {
          "base_uri": "https://localhost:8080/"
        },
        "id": "EZdTiIlDFUE1",
        "outputId": "4c6f0ac0-dfeb-488c-93ea-c368b5353912"
      },
      "execution_count": 2,
      "outputs": [
        {
          "output_type": "stream",
          "name": "stdout",
          "text": [
            "Looking in indexes: https://pypi.org/simple, https://us-python.pkg.dev/colab-wheels/public/simple/\n",
            "Requirement already satisfied: graphframes in /usr/local/lib/python3.7/dist-packages (0.6)\n",
            "Requirement already satisfied: nose in /usr/local/lib/python3.7/dist-packages (from graphframes) (1.3.7)\n",
            "Requirement already satisfied: numpy in /usr/local/lib/python3.7/dist-packages (from graphframes) (1.21.6)\n"
          ]
        }
      ]
    },
    {
      "cell_type": "code",
      "source": [
        "!wget -nc https://repos.spark-packages.org/graphframes/graphframes/0.8.2-spark3.2-s_2.12/graphframes-0.8.2-spark3.2-s_2.12.jar\n",
        "!cp graphframes-0.8.2-spark3.2-s_2.12.jar /usr/local/lib/python3.6/dist-packages/jars"
      ],
      "metadata": {
        "colab": {
          "base_uri": "https://localhost:8080/"
        },
        "id": "kB0eCUPsft5y",
        "outputId": "a7f73e00-10d3-473e-b99e-48d89aaf544d"
      },
      "execution_count": 14,
      "outputs": [
        {
          "output_type": "stream",
          "name": "stdout",
          "text": [
            "File ‘graphframes-0.8.2-spark3.2-s_2.12.jar’ already there; not retrieving.\n",
            "\n"
          ]
        }
      ]
    },
    {
      "cell_type": "code",
      "source": [
        "from pyspark.sql import SparkSession\n",
        "from graphframes import GraphFrame\n",
        "\n",
        "spark = SparkSession.builder.appName(\"Basics\").getOrCreate()\n"
      ],
      "metadata": {
        "id": "e6wRKrwMFVix"
      },
      "execution_count": 13,
      "outputs": []
    },
    {
      "cell_type": "code",
      "source": [
        "spark = SparkSession.builder.master(\"local[*]\").config(\"spark.jars.packages\", \"graphframes:graphframes:0.8.2-spark3.2-s_2.12\").getOrCreate()  "
      ],
      "metadata": {
        "id": "n6qmTMbjFWzp"
      },
      "execution_count": 5,
      "outputs": []
    },
    {
      "cell_type": "code",
      "source": [
        "# checking that everything works...\n",
        "\n",
        "# Create a Vertex DataFrame with unique ID column \"id\"\n",
        "v = spark.createDataFrame([\n",
        "  (\"a\", \"Alice\", 34),\n",
        "  (\"b\", \"Bob\", 36),\n",
        "  (\"c\", \"Charlie\", 30),\n",
        "], [\"id\", \"name\", \"age\"])\n",
        "# Create an Edge DataFrame with \"src\" and \"dst\" columns\n",
        "e = spark.createDataFrame([\n",
        "  (\"a\", \"b\", \"friend\"),\n",
        "  (\"b\", \"c\", \"follow\"),\n",
        "  (\"c\", \"b\", \"follow\"),\n",
        "], [\"src\", \"dst\", \"relationship\"])\n",
        "# Create a GraphFrame\n",
        "from graphframes import *\n",
        "g = GraphFrame(v, e)\n",
        "\n",
        "# Query: Get in-degree of each vertex.\n",
        "g.inDegrees.show()\n",
        "\n",
        "# Query: Count the number of \"follow\" connections in the graph.\n",
        "print(g.edges.filter(\"relationship = 'follow'\").count())\n",
        "\n",
        "# Run PageRank algorithm, and show results.\n",
        "results = g.pageRank(resetProbability=0.01, maxIter=20)\n",
        "results.vertices.select(\"id\", \"pagerank\").show()\n"
      ],
      "metadata": {
        "id": "0q-i4-T_FtNR",
        "colab": {
          "base_uri": "https://localhost:8080/"
        },
        "outputId": "496a148a-8aaf-44a5-afb5-21933ded1c13"
      },
      "execution_count": 12,
      "outputs": [
        {
          "output_type": "stream",
          "name": "stdout",
          "text": [
            "+---+--------+\n",
            "| id|inDegree|\n",
            "+---+--------+\n",
            "|  b|       2|\n",
            "|  c|       1|\n",
            "+---+--------+\n",
            "\n",
            "2\n",
            "+---+------------------+\n",
            "| id|          pagerank|\n",
            "+---+------------------+\n",
            "|  c|1.8994109890559092|\n",
            "|  b|1.0905890109440908|\n",
            "|  a|              0.01|\n",
            "+---+------------------+\n",
            "\n"
          ]
        }
      ]
    },
    {
      "cell_type": "code",
      "source": [
        "e.printSchema()"
      ],
      "metadata": {
        "id": "oRaoAxSoxrQ8",
        "outputId": "1516c079-eab5-49cd-9fc0-d60d9011cf36",
        "colab": {
          "base_uri": "https://localhost:8080/"
        }
      },
      "execution_count": 19,
      "outputs": [
        {
          "output_type": "stream",
          "name": "stdout",
          "text": [
            "root\n",
            " |-- src: string (nullable = true)\n",
            " |-- dst: string (nullable = true)\n",
            " |-- relationship: string (nullable = true)\n",
            "\n"
          ]
        }
      ]
    },
    {
      "cell_type": "code",
      "source": [
        "# using a more realistic RDF graph (only triples)\n",
        "\n",
        "!wget -nc -q https://raw.githubusercontent.com/momo54/large_scale_data_management/main/small_page_links.nt"
      ],
      "metadata": {
        "id": "WZ4kD_Lbt7NW"
      },
      "execution_count": 15,
      "outputs": []
    },
    {
      "cell_type": "code",
      "source": [
        "from pyspark.sql.types import StructType,StringType\n",
        "schema=StructType() \\\n",
        "  .add(\"src\",StringType(),True) \\\n",
        "  .add(\"relationship\",StringType(),True) \\\n",
        "  .add(\"dst\",StringType(),True) \n",
        "\n",
        "# reading Triples\n",
        "# managing quads requires Reification :-/\n",
        "edges=spark.read.format(\"csv\") \\\n",
        "  .options(delimiter=\" \") \\\n",
        "  .schema(schema) \\\n",
        "  .load([\"multi.txt0.txt\",\"catalog.txt0.txt\"])\n",
        "\n",
        "edges.take(1)\n",
        "\n",
        "#generating Vertices from Edges...\n",
        "vertices=edges.select('src') \\\n",
        "  .union(edges.select('dst')) \\\n",
        "  .withColumnRenamed('src', 'id')\n",
        "\n",
        "vertices.take(1)\n",
        "\n",
        "graph = GraphFrame(vertices, edges)\n",
        "\n",
        "# Query: Get in-degree of each vertex.\n",
        "graph.inDegrees.show()"
      ],
      "metadata": {
        "id": "VHPoN1rqv-Fl",
        "outputId": "262c91be-dd75-4f60-b30f-49dcf83da3f6",
        "colab": {
          "base_uri": "https://localhost:8080/"
        }
      },
      "execution_count": 27,
      "outputs": [
        {
          "output_type": "stream",
          "name": "stdout",
          "text": [
            "+-------------+--------+\n",
            "|           id|inDegree|\n",
            "+-------------+--------+\n",
            "| string_30778|       5|\n",
            "| string_31272|       7|\n",
            "| string_30882|       4|\n",
            "|integer_32572|       7|\n",
            "| string_31579|       7|\n",
            "|integer_32509|       4|\n",
            "|integer_32238|       5|\n",
            "|integer_32591|       3|\n",
            "|integer_32313|       4|\n",
            "|   date_33185|       2|\n",
            "|    Topic_308|       2|\n",
            "|   User_27610|       1|\n",
            "|     City_606|       1|\n",
            "|   User_26491|       1|\n",
            "|   User_28534|       3|\n",
            "|   User_29145|       3|\n",
            "|   User_25927|       2|\n",
            "|    Topic_204|       1|\n",
            "|Website_16323|       4|\n",
            "|   User_27484|       4|\n",
            "+-------------+--------+\n",
            "only showing top 20 rows\n",
            "\n"
          ]
        }
      ]
    }
  ]
}