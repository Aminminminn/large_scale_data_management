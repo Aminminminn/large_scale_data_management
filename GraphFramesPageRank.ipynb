{
  "nbformat": 4,
  "nbformat_minor": 0,
  "metadata": {
    "colab": {
      "provenance": [],
      "include_colab_link": true
    },
    "kernelspec": {
      "name": "python3",
      "display_name": "Python 3"
    },
    "language_info": {
      "name": "python"
    }
  },
  "cells": [
    {
      "cell_type": "markdown",
      "metadata": {
        "id": "view-in-github",
        "colab_type": "text"
      },
      "source": [
        "<a href=\"https://colab.research.google.com/github/momo54/large_scale_data_management/blob/main/GraphFramesPageRank.ipynb\" target=\"_parent\"><img src=\"https://colab.research.google.com/assets/colab-badge.svg\" alt=\"Open In Colab\"/></a>"
      ]
    },
    {
      "cell_type": "markdown",
      "source": [
        "# RDF and  GraphFrames\n",
        "\n",
        "Interesting slides: \n",
        "* https://courses.cs.ut.ee/LTAT.06.005/2018_fall/uploads/Main/L12_2018.pdf\n",
        "* https://www.slideshare.net/SparkSummit/graphframes-graph-queries-in-spark-sql \n",
        "\n",
        "GraphFrame is an additional package to perform graph processing in Spark. It is concurrent to GraphX, but available in Python.\n",
        "\n",
        "\n",
        "launching in a terminal\n",
        "\n",
        "```\n",
        "pyspark --packages graphframes:graphframes:0.8.2-spark3.2-s_2.12\n",
        "\n",
        "from graphframes.examples import Graphs\n",
        "g = Graphs(sqlContext).friends()  # Get example graph\n",
        "\n",
        "# Display the vertex and edge DataFrames\n",
        "g.vertices.show()\n",
        "```\n",
        "\n",
        "Valid configuration are listed in:\n",
        "```\n",
        "https://spark-packages.org/package/graphframes/graphframes\n",
        "```\n"
      ],
      "metadata": {
        "id": "mWDwyWU7125d"
      }
    },
    {
      "cell_type": "code",
      "execution_count": 1,
      "metadata": {
        "colab": {
          "base_uri": "https://localhost:8080/"
        },
        "id": "4tTxN7y7FTRZ",
        "outputId": "e18aa0a5-6bae-44ca-b472-e5b71918f0db"
      },
      "outputs": [
        {
          "output_type": "stream",
          "name": "stdout",
          "text": [
            "Looking in indexes: https://pypi.org/simple, https://us-python.pkg.dev/colab-wheels/public/simple/\n",
            "Collecting pyspark\n",
            "  Downloading pyspark-3.3.1.tar.gz (281.4 MB)\n",
            "\u001b[K     |████████████████████████████████| 281.4 MB 41 kB/s \n",
            "\u001b[?25hCollecting py4j==0.10.9.5\n",
            "  Downloading py4j-0.10.9.5-py2.py3-none-any.whl (199 kB)\n",
            "\u001b[K     |████████████████████████████████| 199 kB 47.5 MB/s \n",
            "\u001b[?25hBuilding wheels for collected packages: pyspark\n",
            "  Building wheel for pyspark (setup.py) ... \u001b[?25l\u001b[?25hdone\n",
            "  Created wheel for pyspark: filename=pyspark-3.3.1-py2.py3-none-any.whl size=281845513 sha256=67b94c11a598a057cd933f975fde45253d5cf1267237c923452046806a543398\n",
            "  Stored in directory: /root/.cache/pip/wheels/42/59/f5/79a5bf931714dcd201b26025347785f087370a10a3329a899c\n",
            "Successfully built pyspark\n",
            "Installing collected packages: py4j, pyspark\n",
            "Successfully installed py4j-0.10.9.5 pyspark-3.3.1\n"
          ]
        }
      ],
      "source": [
        "!pip install pyspark"
      ]
    },
    {
      "cell_type": "code",
      "source": [
        "#visiblement faut pas faire ça !!\n",
        "#!pip install graphframes"
      ],
      "metadata": {
        "id": "EZdTiIlDFUE1"
      },
      "execution_count": 2,
      "outputs": []
    },
    {
      "cell_type": "code",
      "source": [
        "!wget -nc https://repos.spark-packages.org/graphframes/graphframes/0.8.2-spark3.2-s_2.12/graphframes-0.8.2-spark3.2-s_2.12.jar\n",
        "!cp graphframes-0.8.2-spark3.2-s_2.12.jar /usr/local/lib/python3.7/dist-packages/pyspark/jars/\n",
        "!ls /usr/local/lib/python3.7/dist-packages/pyspark/jars/graph*"
      ],
      "metadata": {
        "colab": {
          "base_uri": "https://localhost:8080/"
        },
        "id": "kB0eCUPsft5y",
        "outputId": "94d1a463-ad91-4aa6-fef9-3bf2bd7a55d5"
      },
      "execution_count": 3,
      "outputs": [
        {
          "output_type": "stream",
          "name": "stdout",
          "text": [
            "--2022-10-31 17:35:53--  https://repos.spark-packages.org/graphframes/graphframes/0.8.2-spark3.2-s_2.12/graphframes-0.8.2-spark3.2-s_2.12.jar\n",
            "Resolving repos.spark-packages.org (repos.spark-packages.org)... 13.226.228.36, 13.226.228.104, 13.226.228.25, ...\n",
            "Connecting to repos.spark-packages.org (repos.spark-packages.org)|13.226.228.36|:443... connected.\n",
            "HTTP request sent, awaiting response... 200 OK\n",
            "Length: 247880 (242K) [binary/octet-stream]\n",
            "Saving to: ‘graphframes-0.8.2-spark3.2-s_2.12.jar’\n",
            "\n",
            "\r          graphfram   0%[                    ]       0  --.-KB/s               \rgraphframes-0.8.2-s 100%[===================>] 242.07K  --.-KB/s    in 0.03s   \n",
            "\n",
            "2022-10-31 17:35:53 (8.23 MB/s) - ‘graphframes-0.8.2-spark3.2-s_2.12.jar’ saved [247880/247880]\n",
            "\n",
            "/usr/local/lib/python3.7/dist-packages/pyspark/jars/graphframes-0.8.2-spark3.2-s_2.12.jar\n"
          ]
        }
      ]
    },
    {
      "cell_type": "code",
      "source": [
        "from pyspark.sql import SparkSession\n",
        "\n",
        "spark = SparkSession.builder.config(\"spark.jars.packages\", \"graphframes:graphframes:0.8.2-spark3.2-s_2.12\").getOrCreate()  \n"
      ],
      "metadata": {
        "id": "e6wRKrwMFVix"
      },
      "execution_count": 5,
      "outputs": []
    },
    {
      "cell_type": "code",
      "source": [
        "# checking that everything works...\n",
        "\n",
        "# Create a Vertex DataFrame with unique ID column \"id\"\n",
        "v = spark.createDataFrame([\n",
        "  (\"a\", \"Alice\", 34),\n",
        "  (\"b\", \"Bob\", 36),\n",
        "  (\"c\", \"Charlie\", 30),\n",
        "], [\"id\", \"name\", \"age\"])\n",
        "# Create an Edge DataFrame with \"src\" and \"dst\" columns\n",
        "e = spark.createDataFrame([\n",
        "  (\"a\", \"b\", \"friend\"),\n",
        "  (\"b\", \"c\", \"follow\"),\n",
        "  (\"c\", \"b\", \"follow\"),\n",
        "], [\"src\", \"dst\", \"relationship\"])\n",
        "# Create a GraphFrame\n",
        "from graphframes import *\n",
        "g = GraphFrame(v, e)\n",
        "\n",
        "# Query: Get in-degree of each vertex.\n",
        "g.inDegrees.show()\n",
        "\n",
        "# Query: Count the number of \"follow\" connections in the graph.\n",
        "print(g.edges.filter(\"relationship = 'follow'\").count())\n",
        "\n",
        "# Run PageRank algorithm, and show results.\n",
        "results = g.pageRank(resetProbability=0.01, maxIter=20)\n",
        "results.vertices.select(\"id\", \"pagerank\").show()\n"
      ],
      "metadata": {
        "id": "0q-i4-T_FtNR",
        "colab": {
          "base_uri": "https://localhost:8080/"
        },
        "outputId": "9d57193e-b95c-4b8b-bb15-d84a3bce2198"
      },
      "execution_count": 6,
      "outputs": [
        {
          "output_type": "stream",
          "name": "stderr",
          "text": [
            "/usr/local/lib/python3.7/dist-packages/pyspark/sql/dataframe.py:149: UserWarning: DataFrame.sql_ctx is an internal property, and will be removed in future releases. Use DataFrame.sparkSession instead.\n",
            "  \"DataFrame.sql_ctx is an internal property, and will be removed \"\n",
            "/usr/local/lib/python3.7/dist-packages/pyspark/sql/dataframe.py:127: UserWarning: DataFrame constructor is internal. Do not directly use it.\n",
            "  warnings.warn(\"DataFrame constructor is internal. Do not directly use it.\")\n"
          ]
        },
        {
          "output_type": "stream",
          "name": "stdout",
          "text": [
            "+---+--------+\n",
            "| id|inDegree|\n",
            "+---+--------+\n",
            "|  b|       2|\n",
            "|  c|       1|\n",
            "+---+--------+\n",
            "\n",
            "2\n",
            "+---+------------------+\n",
            "| id|          pagerank|\n",
            "+---+------------------+\n",
            "|  c|1.8994109890559092|\n",
            "|  b|1.0905890109440908|\n",
            "|  a|              0.01|\n",
            "+---+------------------+\n",
            "\n"
          ]
        }
      ]
    },
    {
      "cell_type": "code",
      "source": [
        "e.printSchema()"
      ],
      "metadata": {
        "colab": {
          "base_uri": "https://localhost:8080/"
        },
        "id": "oRaoAxSoxrQ8",
        "outputId": "ea570aab-ac37-4581-d668-f246ece7d695"
      },
      "execution_count": 7,
      "outputs": [
        {
          "output_type": "stream",
          "name": "stdout",
          "text": [
            "root\n",
            " |-- src: string (nullable = true)\n",
            " |-- dst: string (nullable = true)\n",
            " |-- relationship: string (nullable = true)\n",
            "\n"
          ]
        }
      ]
    },
    {
      "cell_type": "code",
      "source": [
        "# using a more realistic RDF graph (only triples)\n",
        "\n",
        "#!wget -nc -q https://raw.githubusercontent.com/momo54/large_scale_data_management/main/small_page_links.nt\n",
        "!wget -nc https://raw.githubusercontent.com/momo54/large_scale_data_management/main/watdiv-100k.nt"
      ],
      "metadata": {
        "id": "WZ4kD_Lbt7NW",
        "colab": {
          "base_uri": "https://localhost:8080/"
        },
        "outputId": "95b8fb09-745e-4668-d24a-aacd0fa51c01"
      },
      "execution_count": 8,
      "outputs": [
        {
          "output_type": "stream",
          "name": "stdout",
          "text": [
            "--2022-10-31 17:37:49--  https://raw.githubusercontent.com/momo54/large_scale_data_management/main/watdiv-100k.nt\n",
            "Resolving raw.githubusercontent.com (raw.githubusercontent.com)... 185.199.111.133, 185.199.109.133, 185.199.108.133, ...\n",
            "Connecting to raw.githubusercontent.com (raw.githubusercontent.com)|185.199.111.133|:443... connected.\n",
            "HTTP request sent, awaiting response... 200 OK\n",
            "Length: 15098125 (14M) [text/plain]\n",
            "Saving to: ‘watdiv-100k.nt’\n",
            "\n",
            "watdiv-100k.nt      100%[===================>]  14.40M  --.-KB/s    in 0.08s   \n",
            "\n",
            "2022-10-31 17:37:49 (184 MB/s) - ‘watdiv-100k.nt’ saved [15098125/15098125]\n",
            "\n"
          ]
        }
      ]
    },
    {
      "cell_type": "code",
      "source": [
        "from pyspark.sql.types import StructType,StringType\n",
        "schema=StructType() \\\n",
        "  .add(\"src\",StringType(),True) \\\n",
        "  .add(\"relationship\",StringType(),True) \\\n",
        "  .add(\"dst\",StringType(),True) \n",
        "\n",
        "import re\n",
        "def parseTriple(line) :\n",
        "    \"\"\"Parses a urls pair string into urls pair.\"\"\"\n",
        "    parts = re.split(r'\\s+', line)\n",
        "    return parts[0], parts[1], parts[2]\n",
        "\n",
        "# reading Triples\n",
        "# delimiter and the . !! (grrr)\n",
        "# managing quads requires Reification :-/\n",
        "#edges=spark.read.format(\"csv\") \\\n",
        "#  .schema(schema) \\\n",
        "#  .load([\"watdiv-100k.nt\"])\n",
        "#  .load([\"multi.txt0.txt\",\"catalog.txt0.txt\"])\n",
        "\n",
        "lines=spark.read.text([\"watdiv-100k.nt\"]).rdd.map(lambda r: r[0])\n",
        "\n",
        "\n",
        "edges=lines.map(lambda x:parseTriple(x)).toDF([\"src\",\"relationship\",\"dst\"])\n",
        "\n",
        "\n",
        "#generating Vertices from Edges...\n",
        "vertices=edges.select('src') \\\n",
        "  .union(edges.select('dst')) \\\n",
        "  .distinct() \\\n",
        "  .withColumnRenamed('src', 'id')\n",
        "\n",
        "print(vertices.take(1))\n",
        "\n",
        "graph = GraphFrame(vertices, edges)\n",
        "\n",
        "\n",
        "vertices.show(10)\n",
        "\n",
        "edges.select(\"relationship\").distinct().show(100,truncate=200)\n",
        "edges.filter(\"relationship='<http://purl.org/goodrelations/includes>'\").show(10,truncate=200)"
      ],
      "metadata": {
        "colab": {
          "base_uri": "https://localhost:8080/"
        },
        "id": "VHPoN1rqv-Fl",
        "outputId": "5e62472c-027a-4bac-d45b-98ce0894a44c"
      },
      "execution_count": 9,
      "outputs": [
        {
          "output_type": "stream",
          "name": "stdout",
          "text": [
            "[Row(id='<http://db.uwaterloo.ca/~galuc/wsdbm/User0>')]\n",
            "+--------------------+\n",
            "|                  id|\n",
            "+--------------------+\n",
            "|<http://db.uwater...|\n",
            "|<http://db.uwater...|\n",
            "|<http://db.uwater...|\n",
            "|<http://db.uwater...|\n",
            "|<http://db.uwater...|\n",
            "|<http://db.uwater...|\n",
            "|<http://db.uwater...|\n",
            "|<http://db.uwater...|\n",
            "|<http://db.uwater...|\n",
            "|<http://db.uwater...|\n",
            "+--------------------+\n",
            "only showing top 10 rows\n",
            "\n",
            "+---------------------------------------------------+\n",
            "|                                       relationship|\n",
            "+---------------------------------------------------+\n",
            "|                        <http://schema.org/expires>|\n",
            "| <http://db.uwaterloo.ca/~galuc/wsdbm/purchaseDate>|\n",
            "|                <http://schema.org/aggregateRating>|\n",
            "|  <http://www.w3.org/1999/02/22-rdf-syntax-ns#type>|\n",
            "|                   <http://schema.org/contactPoint>|\n",
            "|   <http://db.uwaterloo.ca/~galuc/wsdbm/subscribes>|\n",
            "|                       <http://schema.org/employee>|\n",
            "|                       <http://schema.org/language>|\n",
            "|          <http://purl.org/goodrelations/validFrom>|\n",
            "|                      <http://schema.org/birthDate>|\n",
            "|               <http://purl.org/goodrelations/name>|\n",
            "|                <http://purl.org/dc/terms/Location>|\n",
            "|        <http://db.uwaterloo.ca/~galuc/wsdbm/likes>|\n",
            "|                      <http://schema.org/faxNumber>|\n",
            "|                        <http://schema.org/caption>|\n",
            "|                <http://schema.org/paymentAccepted>|\n",
            "|                       <http://schema.org/keywords>|\n",
            "|                             <http://ogp.me/ns#tag>|\n",
            "|                           <http://schema.org/text>|\n",
            "|                    <http://schema.org/nationality>|\n",
            "|                   <http://schema.org/openingHours>|\n",
            "|           <http://purl.org/goodrelations/includes>|\n",
            "|                 <http://purl.org/stuff/rev#rating>|\n",
            "|       <http://db.uwaterloo.ca/~galuc/wsdbm/gender>|\n",
            "|                 <http://schema.org/eligibleRegion>|\n",
            "|         <http://db.uwaterloo.ca/~galuc/wsdbm/hits>|\n",
            "|                <http://schema.org/priceValidUntil>|\n",
            "|                  <http://schema.org/contentRating>|\n",
            "|                      <http://schema.org/telephone>|\n",
            "|                  <http://purl.org/stuff/rev#title>|\n",
            "|                        <http://xmlns.com/foaf/age>|\n",
            "|     <http://db.uwaterloo.ca/~galuc/wsdbm/friendOf>|\n",
            "|                           <http://ogp.me/ns#title>|\n",
            "|                   <http://xmlns.com/foaf/homepage>|\n",
            "|   <http://www.geonames.org/ontology#parentCountry>|\n",
            "|                 <http://xmlns.com/foaf/familyName>|\n",
            "|                      <http://schema.org/legalName>|\n",
            "|             <http://purl.org/goodrelations/offers>|\n",
            "|        <http://purl.org/goodrelations/description>|\n",
            "|       <http://purl.org/goodrelations/validThrough>|\n",
            "|                       <http://schema.org/jobTitle>|\n",
            "|                            <http://schema.org/url>|\n",
            "|              <http://purl.org/goodrelations/price>|\n",
            "|             <http://purl.org/stuff/rev#totalVotes>|\n",
            "|                    <http://schema.org/description>|\n",
            "|                          <http://schema.org/email>|\n",
            "|                    <http://schema.org/contentSize>|\n",
            "|                  <http://xmlns.com/foaf/givenName>|\n",
            "|       <http://purl.org/goodrelations/serialNumber>|\n",
            "|     <http://db.uwaterloo.ca/~galuc/wsdbm/hasGenre>|\n",
            "|       <http://db.uwaterloo.ca/~galuc/wsdbm/userId>|\n",
            "|                   <http://purl.org/stuff/rev#text>|\n",
            "|               <http://schema.org/eligibleQuantity>|\n",
            "|                       <http://schema.org/producer>|\n",
            "|            <http://purl.org/ontology/mo/conductor>|\n",
            "|              <http://purl.org/ontology/mo/release>|\n",
            "|                        <http://schema.org/trailer>|\n",
            "|         <http://purl.org/ontology/mo/performed_in>|\n",
            "|                         <http://schema.org/author>|\n",
            "|            <http://purl.org/ontology/mo/performer>|\n",
            "|                       <http://schema.org/duration>|\n",
            "|              <http://purl.org/stuff/rev#hasReview>|\n",
            "|                  <http://schema.org/numberOfPages>|\n",
            "|                      <http://schema.org/printPage>|\n",
            "|               <http://purl.org/stuff/rev#reviewer>|\n",
            "|                          <http://schema.org/award>|\n",
            "|                   <http://schema.org/printEdition>|\n",
            "|                      <http://schema.org/publisher>|\n",
            "|                 <http://purl.org/ontology/mo/opus>|\n",
            "|               <http://purl.org/ontology/mo/artist>|\n",
            "|                    <http://schema.org/printColumn>|\n",
            "|                  <http://schema.org/datePublished>|\n",
            "|             <http://purl.org/ontology/mo/movement>|\n",
            "|  <http://db.uwaterloo.ca/~galuc/wsdbm/purchaseFor>|\n",
            "|             <http://purl.org/ontology/mo/producer>|\n",
            "|     <http://db.uwaterloo.ca/~galuc/wsdbm/composer>|\n",
            "|                       <http://schema.org/director>|\n",
            "|                          <http://schema.org/actor>|\n",
            "|<http://db.uwaterloo.ca/~galuc/wsdbm/makesPurchase>|\n",
            "|      <http://db.uwaterloo.ca/~galuc/wsdbm/follows>|\n",
            "|                      <http://schema.org/wordCount>|\n",
            "|                   <http://schema.org/printSection>|\n",
            "|        <http://purl.org/ontology/mo/record_number>|\n",
            "|                         <http://schema.org/editor>|\n",
            "|                    <http://schema.org/bookEdition>|\n",
            "|                           <http://schema.org/isbn>|\n",
            "+---------------------------------------------------+\n",
            "\n",
            "+--------------------------------------------+----------------------------------------+------------------------------------------------+\n",
            "|                                         src|                            relationship|                                             dst|\n",
            "+--------------------------------------------+----------------------------------------+------------------------------------------------+\n",
            "|<http://db.uwaterloo.ca/~galuc/wsdbm/Offer0>|<http://purl.org/goodrelations/includes>|<http://db.uwaterloo.ca/~galuc/wsdbm/Product223>|\n",
            "|<http://db.uwaterloo.ca/~galuc/wsdbm/Offer1>|<http://purl.org/goodrelations/includes>| <http://db.uwaterloo.ca/~galuc/wsdbm/Product12>|\n",
            "|<http://db.uwaterloo.ca/~galuc/wsdbm/Offer2>|<http://purl.org/goodrelations/includes>| <http://db.uwaterloo.ca/~galuc/wsdbm/Product27>|\n",
            "|<http://db.uwaterloo.ca/~galuc/wsdbm/Offer3>|<http://purl.org/goodrelations/includes>| <http://db.uwaterloo.ca/~galuc/wsdbm/Product58>|\n",
            "|<http://db.uwaterloo.ca/~galuc/wsdbm/Offer4>|<http://purl.org/goodrelations/includes>|<http://db.uwaterloo.ca/~galuc/wsdbm/Product179>|\n",
            "|<http://db.uwaterloo.ca/~galuc/wsdbm/Offer5>|<http://purl.org/goodrelations/includes>|  <http://db.uwaterloo.ca/~galuc/wsdbm/Product1>|\n",
            "|<http://db.uwaterloo.ca/~galuc/wsdbm/Offer6>|<http://purl.org/goodrelations/includes>| <http://db.uwaterloo.ca/~galuc/wsdbm/Product57>|\n",
            "|<http://db.uwaterloo.ca/~galuc/wsdbm/Offer7>|<http://purl.org/goodrelations/includes>|  <http://db.uwaterloo.ca/~galuc/wsdbm/Product1>|\n",
            "|<http://db.uwaterloo.ca/~galuc/wsdbm/Offer8>|<http://purl.org/goodrelations/includes>|<http://db.uwaterloo.ca/~galuc/wsdbm/Product135>|\n",
            "|<http://db.uwaterloo.ca/~galuc/wsdbm/Offer9>|<http://purl.org/goodrelations/includes>| <http://db.uwaterloo.ca/~galuc/wsdbm/Product28>|\n",
            "+--------------------------------------------+----------------------------------------+------------------------------------------------+\n",
            "only showing top 10 rows\n",
            "\n"
          ]
        }
      ]
    },
    {
      "cell_type": "code",
      "source": [
        "#subgraphs...\n",
        "subgraph=graph.filterEdges(\"relationship='<http://purl.org/goodrelations/includes>'\").dropIsolatedVertices()\n",
        "subgraph.triplets.show(truncate=200)"
      ],
      "metadata": {
        "id": "KykUG2e_A6WA",
        "outputId": "fbbfaa10-afc0-4f66-ccfb-efd946f4567c",
        "colab": {
          "base_uri": "https://localhost:8080/"
        }
      },
      "execution_count": 10,
      "outputs": [
        {
          "output_type": "stream",
          "name": "stdout",
          "text": [
            "+------------------------------------------------+--------------------------------------------------------------------------------------------------------------------------------------------+--------------------------------------------------+\n",
            "|                                             src|                                                                                                                                        edge|                                               dst|\n",
            "+------------------------------------------------+--------------------------------------------------------------------------------------------------------------------------------------------+--------------------------------------------------+\n",
            "| {<http://db.uwaterloo.ca/~galuc/wsdbm/Offer73>}| {<http://db.uwaterloo.ca/~galuc/wsdbm/Offer73>, <http://purl.org/goodrelations/includes>, <http://db.uwaterloo.ca/~galuc/wsdbm/Product105>}|{<http://db.uwaterloo.ca/~galuc/wsdbm/Product105>}|\n",
            "|{<http://db.uwaterloo.ca/~galuc/wsdbm/Offer148>}| {<http://db.uwaterloo.ca/~galuc/wsdbm/Offer148>, <http://purl.org/goodrelations/includes>, <http://db.uwaterloo.ca/~galuc/wsdbm/Product25>}| {<http://db.uwaterloo.ca/~galuc/wsdbm/Product25>}|\n",
            "|{<http://db.uwaterloo.ca/~galuc/wsdbm/Offer410>}| {<http://db.uwaterloo.ca/~galuc/wsdbm/Offer410>, <http://purl.org/goodrelations/includes>, <http://db.uwaterloo.ca/~galuc/wsdbm/Product33>}| {<http://db.uwaterloo.ca/~galuc/wsdbm/Product33>}|\n",
            "|{<http://db.uwaterloo.ca/~galuc/wsdbm/Offer427>}|{<http://db.uwaterloo.ca/~galuc/wsdbm/Offer427>, <http://purl.org/goodrelations/includes>, <http://db.uwaterloo.ca/~galuc/wsdbm/Product148>}|{<http://db.uwaterloo.ca/~galuc/wsdbm/Product148>}|\n",
            "|{<http://db.uwaterloo.ca/~galuc/wsdbm/Offer751>}|{<http://db.uwaterloo.ca/~galuc/wsdbm/Offer751>, <http://purl.org/goodrelations/includes>, <http://db.uwaterloo.ca/~galuc/wsdbm/Product179>}|{<http://db.uwaterloo.ca/~galuc/wsdbm/Product179>}|\n",
            "|  {<http://db.uwaterloo.ca/~galuc/wsdbm/Offer4>}|  {<http://db.uwaterloo.ca/~galuc/wsdbm/Offer4>, <http://purl.org/goodrelations/includes>, <http://db.uwaterloo.ca/~galuc/wsdbm/Product179>}|{<http://db.uwaterloo.ca/~galuc/wsdbm/Product179>}|\n",
            "|{<http://db.uwaterloo.ca/~galuc/wsdbm/Offer434>}|{<http://db.uwaterloo.ca/~galuc/wsdbm/Offer434>, <http://purl.org/goodrelations/includes>, <http://db.uwaterloo.ca/~galuc/wsdbm/Product145>}|{<http://db.uwaterloo.ca/~galuc/wsdbm/Product145>}|\n",
            "|{<http://db.uwaterloo.ca/~galuc/wsdbm/Offer580>}|{<http://db.uwaterloo.ca/~galuc/wsdbm/Offer580>, <http://purl.org/goodrelations/includes>, <http://db.uwaterloo.ca/~galuc/wsdbm/Product109>}|{<http://db.uwaterloo.ca/~galuc/wsdbm/Product109>}|\n",
            "|{<http://db.uwaterloo.ca/~galuc/wsdbm/Offer809>}| {<http://db.uwaterloo.ca/~galuc/wsdbm/Offer809>, <http://purl.org/goodrelations/includes>, <http://db.uwaterloo.ca/~galuc/wsdbm/Product19>}| {<http://db.uwaterloo.ca/~galuc/wsdbm/Product19>}|\n",
            "|{<http://db.uwaterloo.ca/~galuc/wsdbm/Offer897>}|{<http://db.uwaterloo.ca/~galuc/wsdbm/Offer897>, <http://purl.org/goodrelations/includes>, <http://db.uwaterloo.ca/~galuc/wsdbm/Product125>}|{<http://db.uwaterloo.ca/~galuc/wsdbm/Product125>}|\n",
            "|{<http://db.uwaterloo.ca/~galuc/wsdbm/Offer187>}|{<http://db.uwaterloo.ca/~galuc/wsdbm/Offer187>, <http://purl.org/goodrelations/includes>, <http://db.uwaterloo.ca/~galuc/wsdbm/Product216>}|{<http://db.uwaterloo.ca/~galuc/wsdbm/Product216>}|\n",
            "|{<http://db.uwaterloo.ca/~galuc/wsdbm/Offer216>}| {<http://db.uwaterloo.ca/~galuc/wsdbm/Offer216>, <http://purl.org/goodrelations/includes>, <http://db.uwaterloo.ca/~galuc/wsdbm/Product92>}| {<http://db.uwaterloo.ca/~galuc/wsdbm/Product92>}|\n",
            "|{<http://db.uwaterloo.ca/~galuc/wsdbm/Offer242>}| {<http://db.uwaterloo.ca/~galuc/wsdbm/Offer242>, <http://purl.org/goodrelations/includes>, <http://db.uwaterloo.ca/~galuc/wsdbm/Product25>}| {<http://db.uwaterloo.ca/~galuc/wsdbm/Product25>}|\n",
            "|{<http://db.uwaterloo.ca/~galuc/wsdbm/Offer277>}| {<http://db.uwaterloo.ca/~galuc/wsdbm/Offer277>, <http://purl.org/goodrelations/includes>, <http://db.uwaterloo.ca/~galuc/wsdbm/Product59>}| {<http://db.uwaterloo.ca/~galuc/wsdbm/Product59>}|\n",
            "|{<http://db.uwaterloo.ca/~galuc/wsdbm/Offer480>}|{<http://db.uwaterloo.ca/~galuc/wsdbm/Offer480>, <http://purl.org/goodrelations/includes>, <http://db.uwaterloo.ca/~galuc/wsdbm/Product236>}|{<http://db.uwaterloo.ca/~galuc/wsdbm/Product236>}|\n",
            "| {<http://db.uwaterloo.ca/~galuc/wsdbm/Offer42>}|   {<http://db.uwaterloo.ca/~galuc/wsdbm/Offer42>, <http://purl.org/goodrelations/includes>, <http://db.uwaterloo.ca/~galuc/wsdbm/Product7>}|  {<http://db.uwaterloo.ca/~galuc/wsdbm/Product7>}|\n",
            "|{<http://db.uwaterloo.ca/~galuc/wsdbm/Offer219>}|{<http://db.uwaterloo.ca/~galuc/wsdbm/Offer219>, <http://purl.org/goodrelations/includes>, <http://db.uwaterloo.ca/~galuc/wsdbm/Product124>}|{<http://db.uwaterloo.ca/~galuc/wsdbm/Product124>}|\n",
            "|{<http://db.uwaterloo.ca/~galuc/wsdbm/Offer400>}|{<http://db.uwaterloo.ca/~galuc/wsdbm/Offer400>, <http://purl.org/goodrelations/includes>, <http://db.uwaterloo.ca/~galuc/wsdbm/Product136>}|{<http://db.uwaterloo.ca/~galuc/wsdbm/Product136>}|\n",
            "|{<http://db.uwaterloo.ca/~galuc/wsdbm/Offer430>}| {<http://db.uwaterloo.ca/~galuc/wsdbm/Offer430>, <http://purl.org/goodrelations/includes>, <http://db.uwaterloo.ca/~galuc/wsdbm/Product28>}| {<http://db.uwaterloo.ca/~galuc/wsdbm/Product28>}|\n",
            "|{<http://db.uwaterloo.ca/~galuc/wsdbm/Offer609>}|{<http://db.uwaterloo.ca/~galuc/wsdbm/Offer609>, <http://purl.org/goodrelations/includes>, <http://db.uwaterloo.ca/~galuc/wsdbm/Product174>}|{<http://db.uwaterloo.ca/~galuc/wsdbm/Product174>}|\n",
            "+------------------------------------------------+--------------------------------------------------------------------------------------------------------------------------------------------+--------------------------------------------------+\n",
            "only showing top 20 rows\n",
            "\n"
          ]
        }
      ]
    },
    {
      "cell_type": "code",
      "source": [
        "offers = graph.find(\"(s)-[p]->(o)\")\\\n",
        "  .filter(\"p.relationship='<http://purl.org/goodrelations/offers>'\") \n",
        "offers.show(5,truncate=200)"
      ],
      "metadata": {
        "id": "Cw_lnKaESSjO",
        "outputId": "d77303d1-f510-4501-9869-3364eeef0a3c",
        "colab": {
          "base_uri": "https://localhost:8080/"
        }
      },
      "execution_count": 14,
      "outputs": [
        {
          "output_type": "stream",
          "name": "stdout",
          "text": [
            "+-------------------------------------------------+-----------------------------------------------------------------------------------------------------------------------------------------+------------------------------------------------+\n",
            "|                                                s|                                                                                                                                        p|                                               o|\n",
            "+-------------------------------------------------+-----------------------------------------------------------------------------------------------------------------------------------------+------------------------------------------------+\n",
            "|{<http://db.uwaterloo.ca/~galuc/wsdbm/Retailer1>}|{<http://db.uwaterloo.ca/~galuc/wsdbm/Retailer1>, <http://purl.org/goodrelations/offers>, <http://db.uwaterloo.ca/~galuc/wsdbm/Offer367>}|{<http://db.uwaterloo.ca/~galuc/wsdbm/Offer367>}|\n",
            "|{<http://db.uwaterloo.ca/~galuc/wsdbm/Retailer1>}|  {<http://db.uwaterloo.ca/~galuc/wsdbm/Retailer1>, <http://purl.org/goodrelations/offers>, <http://db.uwaterloo.ca/~galuc/wsdbm/Offer2>}|  {<http://db.uwaterloo.ca/~galuc/wsdbm/Offer2>}|\n",
            "|{<http://db.uwaterloo.ca/~galuc/wsdbm/Retailer1>}|  {<http://db.uwaterloo.ca/~galuc/wsdbm/Retailer1>, <http://purl.org/goodrelations/offers>, <http://db.uwaterloo.ca/~galuc/wsdbm/Offer2>}|  {<http://db.uwaterloo.ca/~galuc/wsdbm/Offer2>}|\n",
            "|{<http://db.uwaterloo.ca/~galuc/wsdbm/Retailer1>}|{<http://db.uwaterloo.ca/~galuc/wsdbm/Retailer1>, <http://purl.org/goodrelations/offers>, <http://db.uwaterloo.ca/~galuc/wsdbm/Offer138>}|{<http://db.uwaterloo.ca/~galuc/wsdbm/Offer138>}|\n",
            "|{<http://db.uwaterloo.ca/~galuc/wsdbm/Retailer1>}|  {<http://db.uwaterloo.ca/~galuc/wsdbm/Retailer1>, <http://purl.org/goodrelations/offers>, <http://db.uwaterloo.ca/~galuc/wsdbm/Offer2>}|  {<http://db.uwaterloo.ca/~galuc/wsdbm/Offer2>}|\n",
            "+-------------------------------------------------+-----------------------------------------------------------------------------------------------------------------------------------------+------------------------------------------------+\n",
            "only showing top 5 rows\n",
            "\n"
          ]
        }
      ]
    },
    {
      "cell_type": "code",
      "source": [
        "includes = graph.find(\"(s)-[p]->(o)\")\\\n",
        "  .filter(\"p.relationship='<http://purl.org/goodrelations/includes>'\") \n",
        "includes.show(5,truncate=200)"
      ],
      "metadata": {
        "id": "M674TeHZSn55",
        "outputId": "0e2e396f-2782-44a1-daf7-57bb918e6fdb",
        "colab": {
          "base_uri": "https://localhost:8080/"
        }
      },
      "execution_count": 13,
      "outputs": [
        {
          "output_type": "stream",
          "name": "stdout",
          "text": [
            "+------------------------------------------------+--------------------------------------------------------------------------------------------------------------------------------------------+--------------------------------------------------+\n",
            "|                                               s|                                                                                                                                           p|                                                 o|\n",
            "+------------------------------------------------+--------------------------------------------------------------------------------------------------------------------------------------------+--------------------------------------------------+\n",
            "| {<http://db.uwaterloo.ca/~galuc/wsdbm/Offer73>}| {<http://db.uwaterloo.ca/~galuc/wsdbm/Offer73>, <http://purl.org/goodrelations/includes>, <http://db.uwaterloo.ca/~galuc/wsdbm/Product105>}|{<http://db.uwaterloo.ca/~galuc/wsdbm/Product105>}|\n",
            "|{<http://db.uwaterloo.ca/~galuc/wsdbm/Offer148>}| {<http://db.uwaterloo.ca/~galuc/wsdbm/Offer148>, <http://purl.org/goodrelations/includes>, <http://db.uwaterloo.ca/~galuc/wsdbm/Product25>}| {<http://db.uwaterloo.ca/~galuc/wsdbm/Product25>}|\n",
            "|{<http://db.uwaterloo.ca/~galuc/wsdbm/Offer410>}| {<http://db.uwaterloo.ca/~galuc/wsdbm/Offer410>, <http://purl.org/goodrelations/includes>, <http://db.uwaterloo.ca/~galuc/wsdbm/Product33>}| {<http://db.uwaterloo.ca/~galuc/wsdbm/Product33>}|\n",
            "|{<http://db.uwaterloo.ca/~galuc/wsdbm/Offer427>}|{<http://db.uwaterloo.ca/~galuc/wsdbm/Offer427>, <http://purl.org/goodrelations/includes>, <http://db.uwaterloo.ca/~galuc/wsdbm/Product148>}|{<http://db.uwaterloo.ca/~galuc/wsdbm/Product148>}|\n",
            "|{<http://db.uwaterloo.ca/~galuc/wsdbm/Offer751>}|{<http://db.uwaterloo.ca/~galuc/wsdbm/Offer751>, <http://purl.org/goodrelations/includes>, <http://db.uwaterloo.ca/~galuc/wsdbm/Product179>}|{<http://db.uwaterloo.ca/~galuc/wsdbm/Product179>}|\n",
            "+------------------------------------------------+--------------------------------------------------------------------------------------------------------------------------------------------+--------------------------------------------------+\n",
            "only showing top 5 rows\n",
            "\n"
          ]
        }
      ]
    },
    {
      "cell_type": "code",
      "source": [
        "chain2 = graph.find(\"(a)-[p1]->(b);(b)-[p2]->(c)\")\\\n",
        "  .filter(\"p1.relationship='<http://purl.org/goodrelations/offers>'\") \\\n",
        "  .filter(\"p2.relationship='<http://purl.org/goodrelations/includes>'\")\n",
        "chain2.show(10)"
      ],
      "metadata": {
        "id": "2HrJI0d5EsnZ",
        "outputId": "1051ddaf-10f9-45e3-c039-62eb62276489",
        "colab": {
          "base_uri": "https://localhost:8080/"
        }
      },
      "execution_count": 44,
      "outputs": [
        {
          "output_type": "stream",
          "name": "stderr",
          "text": [
            "/usr/local/lib/python3.7/dist-packages/pyspark/sql/dataframe.py:127: UserWarning: DataFrame constructor is internal. Do not directly use it.\n",
            "  warnings.warn(\"DataFrame constructor is internal. Do not directly use it.\")\n"
          ]
        },
        {
          "output_type": "stream",
          "name": "stdout",
          "text": [
            "+--------------------+--------------------+--------------------+--------------------+--------------------+\n",
            "|                   a|                  p1|                   b|                  p2|                   c|\n",
            "+--------------------+--------------------+--------------------+--------------------+--------------------+\n",
            "|{<http://db.uwate...|{<http://db.uwate...|{<http://db.uwate...|{<http://db.uwate...|{<http://db.uwate...|\n",
            "|{<http://db.uwate...|{<http://db.uwate...|{<http://db.uwate...|{<http://db.uwate...|{<http://db.uwate...|\n",
            "|{<http://db.uwate...|{<http://db.uwate...|{<http://db.uwate...|{<http://db.uwate...|{<http://db.uwate...|\n",
            "|{<http://db.uwate...|{<http://db.uwate...|{<http://db.uwate...|{<http://db.uwate...|{<http://db.uwate...|\n",
            "|{<http://db.uwate...|{<http://db.uwate...|{<http://db.uwate...|{<http://db.uwate...|{<http://db.uwate...|\n",
            "|{<http://db.uwate...|{<http://db.uwate...|{<http://db.uwate...|{<http://db.uwate...|{<http://db.uwate...|\n",
            "|{<http://db.uwate...|{<http://db.uwate...|{<http://db.uwate...|{<http://db.uwate...|{<http://db.uwate...|\n",
            "|{<http://db.uwate...|{<http://db.uwate...|{<http://db.uwate...|{<http://db.uwate...|{<http://db.uwate...|\n",
            "|{<http://db.uwate...|{<http://db.uwate...|{<http://db.uwate...|{<http://db.uwate...|{<http://db.uwate...|\n",
            "|{<http://db.uwate...|{<http://db.uwate...|{<http://db.uwate...|{<http://db.uwate...|{<http://db.uwate...|\n",
            "+--------------------+--------------------+--------------------+--------------------+--------------------+\n",
            "only showing top 10 rows\n",
            "\n"
          ]
        }
      ]
    },
    {
      "cell_type": "code",
      "source": [
        "# offers shared by different retailer\n",
        "shared = graph.find(\"(a)-[p]->(b);(a1)-[p1]->(b)\") \\\n",
        "  .filter(\"p.relationship='<http://purl.org/goodrelations/offers>'\") \\\n",
        "  .filter(\"p1.relationship='<http://purl.org/goodrelations/offers>'\")\n",
        "shared.show(10,truncate=200)"
      ],
      "metadata": {
        "colab": {
          "base_uri": "https://localhost:8080/"
        },
        "id": "6QdI2Rhq9ILU",
        "outputId": "44260550-80ef-458d-be25-4e33d7f77a07"
      },
      "execution_count": 16,
      "outputs": [
        {
          "output_type": "stream",
          "name": "stdout",
          "text": [
            "+-------------------------------------------------+----------------------------------------------------------------------------------------------------------------------------------------+-----------------------------------------------+-------------------------------------------------+----------------------------------------------------------------------------------------------------------------------------------------+\n",
            "|                                                a|                                                                                                                                       p|                                              b|                                               a1|                                                                                                                                      p1|\n",
            "+-------------------------------------------------+----------------------------------------------------------------------------------------------------------------------------------------+-----------------------------------------------+-------------------------------------------------+----------------------------------------------------------------------------------------------------------------------------------------+\n",
            "|{<http://db.uwaterloo.ca/~galuc/wsdbm/Retailer2>}|{<http://db.uwaterloo.ca/~galuc/wsdbm/Retailer2>, <http://purl.org/goodrelations/offers>, <http://db.uwaterloo.ca/~galuc/wsdbm/Offer73>}|{<http://db.uwaterloo.ca/~galuc/wsdbm/Offer73>}|{<http://db.uwaterloo.ca/~galuc/wsdbm/Retailer0>}|{<http://db.uwaterloo.ca/~galuc/wsdbm/Retailer0>, <http://purl.org/goodrelations/offers>, <http://db.uwaterloo.ca/~galuc/wsdbm/Offer73>}|\n",
            "|{<http://db.uwaterloo.ca/~galuc/wsdbm/Retailer8>}|{<http://db.uwaterloo.ca/~galuc/wsdbm/Retailer8>, <http://purl.org/goodrelations/offers>, <http://db.uwaterloo.ca/~galuc/wsdbm/Offer73>}|{<http://db.uwaterloo.ca/~galuc/wsdbm/Offer73>}|{<http://db.uwaterloo.ca/~galuc/wsdbm/Retailer0>}|{<http://db.uwaterloo.ca/~galuc/wsdbm/Retailer0>, <http://purl.org/goodrelations/offers>, <http://db.uwaterloo.ca/~galuc/wsdbm/Offer73>}|\n",
            "|{<http://db.uwaterloo.ca/~galuc/wsdbm/Retailer0>}|{<http://db.uwaterloo.ca/~galuc/wsdbm/Retailer0>, <http://purl.org/goodrelations/offers>, <http://db.uwaterloo.ca/~galuc/wsdbm/Offer73>}|{<http://db.uwaterloo.ca/~galuc/wsdbm/Offer73>}|{<http://db.uwaterloo.ca/~galuc/wsdbm/Retailer0>}|{<http://db.uwaterloo.ca/~galuc/wsdbm/Retailer0>, <http://purl.org/goodrelations/offers>, <http://db.uwaterloo.ca/~galuc/wsdbm/Offer73>}|\n",
            "|{<http://db.uwaterloo.ca/~galuc/wsdbm/Retailer4>}|{<http://db.uwaterloo.ca/~galuc/wsdbm/Retailer4>, <http://purl.org/goodrelations/offers>, <http://db.uwaterloo.ca/~galuc/wsdbm/Offer73>}|{<http://db.uwaterloo.ca/~galuc/wsdbm/Offer73>}|{<http://db.uwaterloo.ca/~galuc/wsdbm/Retailer0>}|{<http://db.uwaterloo.ca/~galuc/wsdbm/Retailer0>, <http://purl.org/goodrelations/offers>, <http://db.uwaterloo.ca/~galuc/wsdbm/Offer73>}|\n",
            "|{<http://db.uwaterloo.ca/~galuc/wsdbm/Retailer4>}|{<http://db.uwaterloo.ca/~galuc/wsdbm/Retailer4>, <http://purl.org/goodrelations/offers>, <http://db.uwaterloo.ca/~galuc/wsdbm/Offer73>}|{<http://db.uwaterloo.ca/~galuc/wsdbm/Offer73>}|{<http://db.uwaterloo.ca/~galuc/wsdbm/Retailer0>}|{<http://db.uwaterloo.ca/~galuc/wsdbm/Retailer0>, <http://purl.org/goodrelations/offers>, <http://db.uwaterloo.ca/~galuc/wsdbm/Offer73>}|\n",
            "|{<http://db.uwaterloo.ca/~galuc/wsdbm/Retailer2>}|{<http://db.uwaterloo.ca/~galuc/wsdbm/Retailer2>, <http://purl.org/goodrelations/offers>, <http://db.uwaterloo.ca/~galuc/wsdbm/Offer73>}|{<http://db.uwaterloo.ca/~galuc/wsdbm/Offer73>}|{<http://db.uwaterloo.ca/~galuc/wsdbm/Retailer2>}|{<http://db.uwaterloo.ca/~galuc/wsdbm/Retailer2>, <http://purl.org/goodrelations/offers>, <http://db.uwaterloo.ca/~galuc/wsdbm/Offer73>}|\n",
            "|{<http://db.uwaterloo.ca/~galuc/wsdbm/Retailer8>}|{<http://db.uwaterloo.ca/~galuc/wsdbm/Retailer8>, <http://purl.org/goodrelations/offers>, <http://db.uwaterloo.ca/~galuc/wsdbm/Offer73>}|{<http://db.uwaterloo.ca/~galuc/wsdbm/Offer73>}|{<http://db.uwaterloo.ca/~galuc/wsdbm/Retailer2>}|{<http://db.uwaterloo.ca/~galuc/wsdbm/Retailer2>, <http://purl.org/goodrelations/offers>, <http://db.uwaterloo.ca/~galuc/wsdbm/Offer73>}|\n",
            "|{<http://db.uwaterloo.ca/~galuc/wsdbm/Retailer0>}|{<http://db.uwaterloo.ca/~galuc/wsdbm/Retailer0>, <http://purl.org/goodrelations/offers>, <http://db.uwaterloo.ca/~galuc/wsdbm/Offer73>}|{<http://db.uwaterloo.ca/~galuc/wsdbm/Offer73>}|{<http://db.uwaterloo.ca/~galuc/wsdbm/Retailer2>}|{<http://db.uwaterloo.ca/~galuc/wsdbm/Retailer2>, <http://purl.org/goodrelations/offers>, <http://db.uwaterloo.ca/~galuc/wsdbm/Offer73>}|\n",
            "|{<http://db.uwaterloo.ca/~galuc/wsdbm/Retailer4>}|{<http://db.uwaterloo.ca/~galuc/wsdbm/Retailer4>, <http://purl.org/goodrelations/offers>, <http://db.uwaterloo.ca/~galuc/wsdbm/Offer73>}|{<http://db.uwaterloo.ca/~galuc/wsdbm/Offer73>}|{<http://db.uwaterloo.ca/~galuc/wsdbm/Retailer2>}|{<http://db.uwaterloo.ca/~galuc/wsdbm/Retailer2>, <http://purl.org/goodrelations/offers>, <http://db.uwaterloo.ca/~galuc/wsdbm/Offer73>}|\n",
            "|{<http://db.uwaterloo.ca/~galuc/wsdbm/Retailer4>}|{<http://db.uwaterloo.ca/~galuc/wsdbm/Retailer4>, <http://purl.org/goodrelations/offers>, <http://db.uwaterloo.ca/~galuc/wsdbm/Offer73>}|{<http://db.uwaterloo.ca/~galuc/wsdbm/Offer73>}|{<http://db.uwaterloo.ca/~galuc/wsdbm/Retailer2>}|{<http://db.uwaterloo.ca/~galuc/wsdbm/Retailer2>, <http://purl.org/goodrelations/offers>, <http://db.uwaterloo.ca/~galuc/wsdbm/Offer73>}|\n",
            "+-------------------------------------------------+----------------------------------------------------------------------------------------------------------------------------------------+-----------------------------------------------+-------------------------------------------------+----------------------------------------------------------------------------------------------------------------------------------------+\n",
            "only showing top 10 rows\n",
            "\n"
          ]
        }
      ]
    },
    {
      "cell_type": "code",
      "source": [
        "#marche pas comme ça...\n",
        "ret2 = graph.filterVertices(\"id=='<http://db.uwaterloo.ca/~galuc/wsdbm/Retailer2>'\")\n",
        "ret2.triplets.show(10)\n"
      ],
      "metadata": {
        "id": "VDV0E01kCU-T",
        "outputId": "df3fec04-1148-4a9c-de0d-58dc87456ec4",
        "colab": {
          "base_uri": "https://localhost:8080/"
        }
      },
      "execution_count": 39,
      "outputs": [
        {
          "output_type": "stream",
          "name": "stderr",
          "text": [
            "/usr/local/lib/python3.7/dist-packages/pyspark/sql/dataframe.py:149: UserWarning: DataFrame.sql_ctx is an internal property, and will be removed in future releases. Use DataFrame.sparkSession instead.\n",
            "  \"DataFrame.sql_ctx is an internal property, and will be removed \"\n"
          ]
        },
        {
          "output_type": "stream",
          "name": "stdout",
          "text": [
            "+---+----+---+\n",
            "|src|edge|dst|\n",
            "+---+----+---+\n",
            "+---+----+---+\n",
            "\n"
          ]
        }
      ]
    },
    {
      "cell_type": "code",
      "source": [
        "#queryinng from retailers to products..\n",
        "#One way to do it...\n",
        "paths = graph.bfs(\"id = '<http://db.uwaterloo.ca/~galuc/wsdbm/Retailer2>'\", \\\n",
        "                  \"instr(id,'Product') >0\")\n",
        "paths.show(truncate=200)"
      ],
      "metadata": {
        "colab": {
          "base_uri": "https://localhost:8080/"
        },
        "id": "hL7AJ5UJIbhA",
        "outputId": "a47617f7-78ed-47a7-a3d8-3ae08223b3a6"
      },
      "execution_count": 38,
      "outputs": [
        {
          "output_type": "stream",
          "name": "stdout",
          "text": [
            "+-------------------------------------------------+-----------------------------------------------------------------------------------------------------------------------------------------+------------------------------------------------+--------------------------------------------------------------------------------------------------------------------------------------------+--------------------------------------------------+\n",
            "|                                             from|                                                                                                                                       e0|                                              v1|                                                                                                                                          e1|                                                to|\n",
            "+-------------------------------------------------+-----------------------------------------------------------------------------------------------------------------------------------------+------------------------------------------------+--------------------------------------------------------------------------------------------------------------------------------------------+--------------------------------------------------+\n",
            "|{<http://db.uwaterloo.ca/~galuc/wsdbm/Retailer2>}|  {<http://db.uwaterloo.ca/~galuc/wsdbm/Retailer2>, <http://purl.org/goodrelations/offers>, <http://db.uwaterloo.ca/~galuc/wsdbm/Offer3>}|  {<http://db.uwaterloo.ca/~galuc/wsdbm/Offer3>}|   {<http://db.uwaterloo.ca/~galuc/wsdbm/Offer3>, <http://purl.org/goodrelations/includes>, <http://db.uwaterloo.ca/~galuc/wsdbm/Product58>}| {<http://db.uwaterloo.ca/~galuc/wsdbm/Product58>}|\n",
            "|{<http://db.uwaterloo.ca/~galuc/wsdbm/Retailer2>}|  {<http://db.uwaterloo.ca/~galuc/wsdbm/Retailer2>, <http://purl.org/goodrelations/offers>, <http://db.uwaterloo.ca/~galuc/wsdbm/Offer3>}|  {<http://db.uwaterloo.ca/~galuc/wsdbm/Offer3>}|   {<http://db.uwaterloo.ca/~galuc/wsdbm/Offer3>, <http://purl.org/goodrelations/includes>, <http://db.uwaterloo.ca/~galuc/wsdbm/Product58>}| {<http://db.uwaterloo.ca/~galuc/wsdbm/Product58>}|\n",
            "|{<http://db.uwaterloo.ca/~galuc/wsdbm/Retailer2>}|  {<http://db.uwaterloo.ca/~galuc/wsdbm/Retailer2>, <http://purl.org/goodrelations/offers>, <http://db.uwaterloo.ca/~galuc/wsdbm/Offer3>}|  {<http://db.uwaterloo.ca/~galuc/wsdbm/Offer3>}|   {<http://db.uwaterloo.ca/~galuc/wsdbm/Offer3>, <http://purl.org/goodrelations/includes>, <http://db.uwaterloo.ca/~galuc/wsdbm/Product58>}| {<http://db.uwaterloo.ca/~galuc/wsdbm/Product58>}|\n",
            "|{<http://db.uwaterloo.ca/~galuc/wsdbm/Retailer2>}|{<http://db.uwaterloo.ca/~galuc/wsdbm/Retailer2>, <http://purl.org/goodrelations/offers>, <http://db.uwaterloo.ca/~galuc/wsdbm/Offer233>}|{<http://db.uwaterloo.ca/~galuc/wsdbm/Offer233>}|{<http://db.uwaterloo.ca/~galuc/wsdbm/Offer233>, <http://purl.org/goodrelations/includes>, <http://db.uwaterloo.ca/~galuc/wsdbm/Product113>}|{<http://db.uwaterloo.ca/~galuc/wsdbm/Product113>}|\n",
            "|{<http://db.uwaterloo.ca/~galuc/wsdbm/Retailer2>}|{<http://db.uwaterloo.ca/~galuc/wsdbm/Retailer2>, <http://purl.org/goodrelations/offers>, <http://db.uwaterloo.ca/~galuc/wsdbm/Offer845>}|{<http://db.uwaterloo.ca/~galuc/wsdbm/Offer845>}|{<http://db.uwaterloo.ca/~galuc/wsdbm/Offer845>, <http://purl.org/goodrelations/includes>, <http://db.uwaterloo.ca/~galuc/wsdbm/Product113>}|{<http://db.uwaterloo.ca/~galuc/wsdbm/Product113>}|\n",
            "|{<http://db.uwaterloo.ca/~galuc/wsdbm/Retailer2>}| {<http://db.uwaterloo.ca/~galuc/wsdbm/Retailer2>, <http://purl.org/goodrelations/offers>, <http://db.uwaterloo.ca/~galuc/wsdbm/Offer25>}| {<http://db.uwaterloo.ca/~galuc/wsdbm/Offer25>}|  {<http://db.uwaterloo.ca/~galuc/wsdbm/Offer25>, <http://purl.org/goodrelations/includes>, <http://db.uwaterloo.ca/~galuc/wsdbm/Product54>}| {<http://db.uwaterloo.ca/~galuc/wsdbm/Product54>}|\n",
            "|{<http://db.uwaterloo.ca/~galuc/wsdbm/Retailer2>}|{<http://db.uwaterloo.ca/~galuc/wsdbm/Retailer2>, <http://purl.org/goodrelations/offers>, <http://db.uwaterloo.ca/~galuc/wsdbm/Offer410>}|{<http://db.uwaterloo.ca/~galuc/wsdbm/Offer410>}| {<http://db.uwaterloo.ca/~galuc/wsdbm/Offer410>, <http://purl.org/goodrelations/includes>, <http://db.uwaterloo.ca/~galuc/wsdbm/Product33>}| {<http://db.uwaterloo.ca/~galuc/wsdbm/Product33>}|\n",
            "|{<http://db.uwaterloo.ca/~galuc/wsdbm/Retailer2>}|{<http://db.uwaterloo.ca/~galuc/wsdbm/Retailer2>, <http://purl.org/goodrelations/offers>, <http://db.uwaterloo.ca/~galuc/wsdbm/Offer635>}|{<http://db.uwaterloo.ca/~galuc/wsdbm/Offer635>}|{<http://db.uwaterloo.ca/~galuc/wsdbm/Offer635>, <http://purl.org/goodrelations/includes>, <http://db.uwaterloo.ca/~galuc/wsdbm/Product231>}|{<http://db.uwaterloo.ca/~galuc/wsdbm/Product231>}|\n",
            "|{<http://db.uwaterloo.ca/~galuc/wsdbm/Retailer2>}|{<http://db.uwaterloo.ca/~galuc/wsdbm/Retailer2>, <http://purl.org/goodrelations/offers>, <http://db.uwaterloo.ca/~galuc/wsdbm/Offer453>}|{<http://db.uwaterloo.ca/~galuc/wsdbm/Offer453>}| {<http://db.uwaterloo.ca/~galuc/wsdbm/Offer453>, <http://purl.org/goodrelations/includes>, <http://db.uwaterloo.ca/~galuc/wsdbm/Product76>}| {<http://db.uwaterloo.ca/~galuc/wsdbm/Product76>}|\n",
            "|{<http://db.uwaterloo.ca/~galuc/wsdbm/Retailer2>}|{<http://db.uwaterloo.ca/~galuc/wsdbm/Retailer2>, <http://purl.org/goodrelations/offers>, <http://db.uwaterloo.ca/~galuc/wsdbm/Offer490>}|{<http://db.uwaterloo.ca/~galuc/wsdbm/Offer490>}|{<http://db.uwaterloo.ca/~galuc/wsdbm/Offer490>, <http://purl.org/goodrelations/includes>, <http://db.uwaterloo.ca/~galuc/wsdbm/Product231>}|{<http://db.uwaterloo.ca/~galuc/wsdbm/Product231>}|\n",
            "|{<http://db.uwaterloo.ca/~galuc/wsdbm/Retailer2>}|{<http://db.uwaterloo.ca/~galuc/wsdbm/Retailer2>, <http://purl.org/goodrelations/offers>, <http://db.uwaterloo.ca/~galuc/wsdbm/Offer194>}|{<http://db.uwaterloo.ca/~galuc/wsdbm/Offer194>}|{<http://db.uwaterloo.ca/~galuc/wsdbm/Offer194>, <http://purl.org/goodrelations/includes>, <http://db.uwaterloo.ca/~galuc/wsdbm/Product115>}|{<http://db.uwaterloo.ca/~galuc/wsdbm/Product115>}|\n",
            "|{<http://db.uwaterloo.ca/~galuc/wsdbm/Retailer2>}| {<http://db.uwaterloo.ca/~galuc/wsdbm/Retailer2>, <http://purl.org/goodrelations/offers>, <http://db.uwaterloo.ca/~galuc/wsdbm/Offer11>}| {<http://db.uwaterloo.ca/~galuc/wsdbm/Offer11>}|  {<http://db.uwaterloo.ca/~galuc/wsdbm/Offer11>, <http://purl.org/goodrelations/includes>, <http://db.uwaterloo.ca/~galuc/wsdbm/Product36>}| {<http://db.uwaterloo.ca/~galuc/wsdbm/Product36>}|\n",
            "|{<http://db.uwaterloo.ca/~galuc/wsdbm/Retailer2>}| {<http://db.uwaterloo.ca/~galuc/wsdbm/Retailer2>, <http://purl.org/goodrelations/offers>, <http://db.uwaterloo.ca/~galuc/wsdbm/Offer11>}| {<http://db.uwaterloo.ca/~galuc/wsdbm/Offer11>}|  {<http://db.uwaterloo.ca/~galuc/wsdbm/Offer11>, <http://purl.org/goodrelations/includes>, <http://db.uwaterloo.ca/~galuc/wsdbm/Product36>}| {<http://db.uwaterloo.ca/~galuc/wsdbm/Product36>}|\n",
            "|{<http://db.uwaterloo.ca/~galuc/wsdbm/Retailer2>}|{<http://db.uwaterloo.ca/~galuc/wsdbm/Retailer2>, <http://purl.org/goodrelations/offers>, <http://db.uwaterloo.ca/~galuc/wsdbm/Offer137>}|{<http://db.uwaterloo.ca/~galuc/wsdbm/Offer137>}| {<http://db.uwaterloo.ca/~galuc/wsdbm/Offer137>, <http://purl.org/goodrelations/includes>, <http://db.uwaterloo.ca/~galuc/wsdbm/Product73>}| {<http://db.uwaterloo.ca/~galuc/wsdbm/Product73>}|\n",
            "|{<http://db.uwaterloo.ca/~galuc/wsdbm/Retailer2>}| {<http://db.uwaterloo.ca/~galuc/wsdbm/Retailer2>, <http://purl.org/goodrelations/offers>, <http://db.uwaterloo.ca/~galuc/wsdbm/Offer82>}| {<http://db.uwaterloo.ca/~galuc/wsdbm/Offer82>}|  {<http://db.uwaterloo.ca/~galuc/wsdbm/Offer82>, <http://purl.org/goodrelations/includes>, <http://db.uwaterloo.ca/~galuc/wsdbm/Product50>}| {<http://db.uwaterloo.ca/~galuc/wsdbm/Product50>}|\n",
            "|{<http://db.uwaterloo.ca/~galuc/wsdbm/Retailer2>}|{<http://db.uwaterloo.ca/~galuc/wsdbm/Retailer2>, <http://purl.org/goodrelations/offers>, <http://db.uwaterloo.ca/~galuc/wsdbm/Offer378>}|{<http://db.uwaterloo.ca/~galuc/wsdbm/Offer378>}|{<http://db.uwaterloo.ca/~galuc/wsdbm/Offer378>, <http://purl.org/goodrelations/includes>, <http://db.uwaterloo.ca/~galuc/wsdbm/Product166>}|{<http://db.uwaterloo.ca/~galuc/wsdbm/Product166>}|\n",
            "|{<http://db.uwaterloo.ca/~galuc/wsdbm/Retailer2>}|  {<http://db.uwaterloo.ca/~galuc/wsdbm/Retailer2>, <http://purl.org/goodrelations/offers>, <http://db.uwaterloo.ca/~galuc/wsdbm/Offer9>}|  {<http://db.uwaterloo.ca/~galuc/wsdbm/Offer9>}|   {<http://db.uwaterloo.ca/~galuc/wsdbm/Offer9>, <http://purl.org/goodrelations/includes>, <http://db.uwaterloo.ca/~galuc/wsdbm/Product28>}| {<http://db.uwaterloo.ca/~galuc/wsdbm/Product28>}|\n",
            "|{<http://db.uwaterloo.ca/~galuc/wsdbm/Retailer2>}| {<http://db.uwaterloo.ca/~galuc/wsdbm/Retailer2>, <http://purl.org/goodrelations/offers>, <http://db.uwaterloo.ca/~galuc/wsdbm/Offer24>}| {<http://db.uwaterloo.ca/~galuc/wsdbm/Offer24>}| {<http://db.uwaterloo.ca/~galuc/wsdbm/Offer24>, <http://purl.org/goodrelations/includes>, <http://db.uwaterloo.ca/~galuc/wsdbm/Product245>}|{<http://db.uwaterloo.ca/~galuc/wsdbm/Product245>}|\n",
            "|{<http://db.uwaterloo.ca/~galuc/wsdbm/Retailer2>}|{<http://db.uwaterloo.ca/~galuc/wsdbm/Retailer2>, <http://purl.org/goodrelations/offers>, <http://db.uwaterloo.ca/~galuc/wsdbm/Offer173>}|{<http://db.uwaterloo.ca/~galuc/wsdbm/Offer173>}|{<http://db.uwaterloo.ca/~galuc/wsdbm/Offer173>, <http://purl.org/goodrelations/includes>, <http://db.uwaterloo.ca/~galuc/wsdbm/Product132>}|{<http://db.uwaterloo.ca/~galuc/wsdbm/Product132>}|\n",
            "|{<http://db.uwaterloo.ca/~galuc/wsdbm/Retailer2>}|{<http://db.uwaterloo.ca/~galuc/wsdbm/Retailer2>, <http://purl.org/goodrelations/offers>, <http://db.uwaterloo.ca/~galuc/wsdbm/Offer807>}|{<http://db.uwaterloo.ca/~galuc/wsdbm/Offer807>}|{<http://db.uwaterloo.ca/~galuc/wsdbm/Offer807>, <http://purl.org/goodrelations/includes>, <http://db.uwaterloo.ca/~galuc/wsdbm/Product232>}|{<http://db.uwaterloo.ca/~galuc/wsdbm/Product232>}|\n",
            "+-------------------------------------------------+-----------------------------------------------------------------------------------------------------------------------------------------+------------------------------------------------+--------------------------------------------------------------------------------------------------------------------------------------------+--------------------------------------------------+\n",
            "only showing top 20 rows\n",
            "\n"
          ]
        }
      ]
    },
    {
      "cell_type": "code",
      "source": [
        "#\n",
        "# Juste pour vérifier que cce genre de chose fonctionne vraiment...\n",
        "#\n",
        "\n",
        "from graphframes.examples import Graphs\n",
        "from pyspark.sql import SQLContext\n",
        "from pyspark.sql.functions import col, lit, when\n",
        "\n",
        "# ?? pas sur\n",
        "from functools import reduce\n",
        "\n",
        "sqlContext = SQLContext(spark.sparkContext)\n",
        "g = Graphs(sqlContext).friends()  # Get example graph\n",
        "\n",
        "chain4 = g.find(\"(a)-[ab]->(b); (b)-[bc]->(c); (c)-[cd]->(d)\")\n",
        "\n",
        "# Query on sequence, with state (cnt)\n",
        "#  (a) Define method for updating state given the next element of the motif.\n",
        "sumFriends =\\\n",
        "  lambda cnt,relationship: when(relationship == \"friend\", cnt+1).otherwise(cnt)\n",
        "#  (b) Use sequence operation to apply method to sequence of elements in motif.\n",
        "#      In this case, the elements are the 3 edges.\n",
        "condition =\\\n",
        "  reduce(lambda cnt,e: sumFriends(cnt, col(e).relationship), [\"ab\", \"bc\", \"cd\"], lit(0))\n",
        "#  (c) Apply filter to DataFrame.\n",
        "chainWith2Friends2 = chain4.where(condition >= 2)\n",
        "chainWith2Friends2.show()"
      ],
      "metadata": {
        "id": "rFM4QjzoeSL8",
        "outputId": "caa999d2-8506-4fa4-ac09-7e1ebc1099fd",
        "colab": {
          "base_uri": "https://localhost:8080/"
        }
      },
      "execution_count": 48,
      "outputs": [
        {
          "output_type": "stream",
          "name": "stdout",
          "text": [
            "+---------------+--------------+--------------+--------------+--------------+--------------+----------------+\n",
            "|              a|            ab|             b|            bc|             c|            cd|               d|\n",
            "+---------------+--------------+--------------+--------------+--------------+--------------+----------------+\n",
            "|{e, Esther, 32}|{e, d, friend}|{d, David, 29}|{d, a, friend}|{a, Alice, 34}|{a, b, friend}|    {b, Bob, 36}|\n",
            "| {d, David, 29}|{d, a, friend}|{a, Alice, 34}|{a, b, friend}|  {b, Bob, 36}|{b, c, follow}|{c, Charlie, 30}|\n",
            "+---------------+--------------+--------------+--------------+--------------+--------------+----------------+\n",
            "\n"
          ]
        }
      ]
    },
    {
      "cell_type": "code",
      "source": [
        "#\n",
        "# possible to extract product ??\n",
        "\n",
        "# get types\n",
        "classes = graph.find(\"(s)-[p]->(o)\")\\\n",
        "  .filter(\"p.relationship='<http://www.w3.org/1999/02/22-rdf-syntax-ns#type>'\") \\\n",
        "  .select(\"o\") \\\n",
        "  .distinct() \n",
        "classes.show(100,truncate=200)"
      ],
      "metadata": {
        "id": "43aIu_vygLYZ",
        "outputId": "73dc0cf0-3eb8-47ae-8db2-1eced40b6cc4",
        "colab": {
          "base_uri": "https://localhost:8080/"
        }
      },
      "execution_count": 55,
      "outputs": [
        {
          "output_type": "stream",
          "name": "stdout",
          "text": [
            "+---------------------------------------------------------+\n",
            "|                                                        o|\n",
            "+---------------------------------------------------------+\n",
            "|          {<http://db.uwaterloo.ca/~galuc/wsdbm/Genre13>}|\n",
            "| {<http://db.uwaterloo.ca/~galuc/wsdbm/ProductCategory2>}|\n",
            "|           {<http://db.uwaterloo.ca/~galuc/wsdbm/Genre9>}|\n",
            "|          {<http://db.uwaterloo.ca/~galuc/wsdbm/Genre11>}|\n",
            "|          {<http://db.uwaterloo.ca/~galuc/wsdbm/Genre10>}|\n",
            "| {<http://db.uwaterloo.ca/~galuc/wsdbm/ProductCategory8>}|\n",
            "| {<http://db.uwaterloo.ca/~galuc/wsdbm/ProductCategory1>}|\n",
            "| {<http://db.uwaterloo.ca/~galuc/wsdbm/ProductCategory5>}|\n",
            "|{<http://db.uwaterloo.ca/~galuc/wsdbm/ProductCategory13>}|\n",
            "| {<http://db.uwaterloo.ca/~galuc/wsdbm/ProductCategory9>}|\n",
            "|           {<http://db.uwaterloo.ca/~galuc/wsdbm/Genre0>}|\n",
            "|           {<http://db.uwaterloo.ca/~galuc/wsdbm/Genre8>}|\n",
            "|           {<http://db.uwaterloo.ca/~galuc/wsdbm/Genre1>}|\n",
            "|           {<http://db.uwaterloo.ca/~galuc/wsdbm/Genre4>}|\n",
            "| {<http://db.uwaterloo.ca/~galuc/wsdbm/ProductCategory6>}|\n",
            "|{<http://db.uwaterloo.ca/~galuc/wsdbm/ProductCategory14>}|\n",
            "|            {<http://db.uwaterloo.ca/~galuc/wsdbm/Role2>}|\n",
            "|          {<http://db.uwaterloo.ca/~galuc/wsdbm/Genre20>}|\n",
            "|          {<http://db.uwaterloo.ca/~galuc/wsdbm/Genre16>}|\n",
            "| {<http://db.uwaterloo.ca/~galuc/wsdbm/ProductCategory4>}|\n",
            "|          {<http://db.uwaterloo.ca/~galuc/wsdbm/Genre19>}|\n",
            "|{<http://db.uwaterloo.ca/~galuc/wsdbm/ProductCategory11>}|\n",
            "|           {<http://db.uwaterloo.ca/~galuc/wsdbm/Genre2>}|\n",
            "|           {<http://db.uwaterloo.ca/~galuc/wsdbm/Genre6>}|\n",
            "|            {<http://db.uwaterloo.ca/~galuc/wsdbm/Role0>}|\n",
            "|            {<http://db.uwaterloo.ca/~galuc/wsdbm/Role1>}|\n",
            "|          {<http://db.uwaterloo.ca/~galuc/wsdbm/Genre17>}|\n",
            "|          {<http://db.uwaterloo.ca/~galuc/wsdbm/Genre15>}|\n",
            "|{<http://db.uwaterloo.ca/~galuc/wsdbm/ProductCategory10>}|\n",
            "|           {<http://db.uwaterloo.ca/~galuc/wsdbm/Genre7>}|\n",
            "| {<http://db.uwaterloo.ca/~galuc/wsdbm/ProductCategory0>}|\n",
            "|          {<http://db.uwaterloo.ca/~galuc/wsdbm/Genre18>}|\n",
            "|          {<http://db.uwaterloo.ca/~galuc/wsdbm/Genre14>}|\n",
            "|          {<http://db.uwaterloo.ca/~galuc/wsdbm/Genre12>}|\n",
            "|           {<http://db.uwaterloo.ca/~galuc/wsdbm/Genre5>}|\n",
            "|{<http://db.uwaterloo.ca/~galuc/wsdbm/ProductCategory12>}|\n",
            "| {<http://db.uwaterloo.ca/~galuc/wsdbm/ProductCategory7>}|\n",
            "|           {<http://db.uwaterloo.ca/~galuc/wsdbm/Genre3>}|\n",
            "| {<http://db.uwaterloo.ca/~galuc/wsdbm/ProductCategory3>}|\n",
            "+---------------------------------------------------------+\n",
            "\n"
          ]
        }
      ]
    },
    {
      "cell_type": "code",
      "source": [
        "#get entities products3\n",
        "\n",
        "products3 = graph.find(\"(s)-[p]->(o);(s)-[p1]->(o1)\")\\\n",
        "  .filter(\"p.relationship='<http://www.w3.org/1999/02/22-rdf-syntax-ns#type>'\") \\\n",
        "  .filter(\"o.id='<http://db.uwaterloo.ca/~galuc/wsdbm/ProductCategory3>'\") \\\n",
        "  .select(\"p1\") \n",
        "products3.show(100,truncate=200)"
      ],
      "metadata": {
        "id": "QdX4mbznhuit",
        "outputId": "fc2cebdf-c64a-4e9d-ec7b-5640b3c2301c",
        "colab": {
          "base_uri": "https://localhost:8080/"
        }
      },
      "execution_count": 60,
      "outputs": [
        {
          "output_type": "stream",
          "name": "stdout",
          "text": [
            "+-------------------------------------------------------------------------------------------------------------------------------------------------------------+\n",
            "|                                                                                                                                                           p1|\n",
            "+-------------------------------------------------------------------------------------------------------------------------------------------------------------+\n",
            "|                                                                    {<http://db.uwaterloo.ca/~galuc/wsdbm/Product106>, <http://schema.org/caption>, \"wakener}|\n",
            "|                                                        {<http://db.uwaterloo.ca/~galuc/wsdbm/Product106>, <http://schema.org/description>, \"posthypophyseal}|\n",
            "|                                                                   {<http://db.uwaterloo.ca/~galuc/wsdbm/Product106>, <http://ogp.me/ns#title>, \"premunitory}|\n",
            "|{<http://db.uwaterloo.ca/~galuc/wsdbm/Product106>, <http://www.w3.org/1999/02/22-rdf-syntax-ns#type>, <http://db.uwaterloo.ca/~galuc/wsdbm/ProductCategory3>}|\n",
            "|         {<http://db.uwaterloo.ca/~galuc/wsdbm/Product106>, <http://db.uwaterloo.ca/~galuc/wsdbm/hasGenre>, <http://db.uwaterloo.ca/~galuc/wsdbm/SubGenre91>}|\n",
            "|         {<http://db.uwaterloo.ca/~galuc/wsdbm/Product106>, <http://db.uwaterloo.ca/~galuc/wsdbm/hasGenre>, <http://db.uwaterloo.ca/~galuc/wsdbm/SubGenre24>}|\n",
            "|                                                                 {<http://db.uwaterloo.ca/~galuc/wsdbm/Product106>, <http://schema.org/numberOfPages>, \"423\"}|\n",
            "|                                                                        {<http://db.uwaterloo.ca/~galuc/wsdbm/Product106>, <http://schema.org/isbn>, \"44765\"}|\n",
            "|                                {<http://db.uwaterloo.ca/~galuc/wsdbm/Product106>, <http://schema.org/author>, <http://db.uwaterloo.ca/~galuc/wsdbm/User761>}|\n",
            "|                            {<http://db.uwaterloo.ca/~galuc/wsdbm/Product106>, <http://schema.org/language>, <http://db.uwaterloo.ca/~galuc/wsdbm/Language2>}|\n",
            "|                           {<http://db.uwaterloo.ca/~galuc/wsdbm/Product106>, <http://schema.org/language>, <http://db.uwaterloo.ca/~galuc/wsdbm/Language13>}|\n",
            "|                            {<http://db.uwaterloo.ca/~galuc/wsdbm/Product106>, <http://schema.org/language>, <http://db.uwaterloo.ca/~galuc/wsdbm/Language7>}|\n",
            "|                                                                     {<http://db.uwaterloo.ca/~galuc/wsdbm/Product138>, <http://schema.org/text>, \"pastorium}|\n",
            "|                                                              {<http://db.uwaterloo.ca/~galuc/wsdbm/Product138>, <http://schema.org/keywords>, \"Brauneberger}|\n",
            "|                                                              {<http://db.uwaterloo.ca/~galuc/wsdbm/Product138>, <http://schema.org/description>, \"preheroic}|\n",
            "|                                                                {<http://db.uwaterloo.ca/~galuc/wsdbm/Product138>, <http://ogp.me/ns#title>, \"superspiritual}|\n",
            "|{<http://db.uwaterloo.ca/~galuc/wsdbm/Product138>, <http://www.w3.org/1999/02/22-rdf-syntax-ns#type>, <http://db.uwaterloo.ca/~galuc/wsdbm/ProductCategory3>}|\n",
            "|         {<http://db.uwaterloo.ca/~galuc/wsdbm/Product138>, <http://db.uwaterloo.ca/~galuc/wsdbm/hasGenre>, <http://db.uwaterloo.ca/~galuc/wsdbm/SubGenre40>}|\n",
            "|         {<http://db.uwaterloo.ca/~galuc/wsdbm/Product138>, <http://db.uwaterloo.ca/~galuc/wsdbm/hasGenre>, <http://db.uwaterloo.ca/~galuc/wsdbm/SubGenre52>}|\n",
            "|         {<http://db.uwaterloo.ca/~galuc/wsdbm/Product138>, <http://db.uwaterloo.ca/~galuc/wsdbm/hasGenre>, <http://db.uwaterloo.ca/~galuc/wsdbm/SubGenre88>}|\n",
            "|         {<http://db.uwaterloo.ca/~galuc/wsdbm/Product138>, <http://db.uwaterloo.ca/~galuc/wsdbm/hasGenre>, <http://db.uwaterloo.ca/~galuc/wsdbm/SubGenre23>}|\n",
            "|                                   {<http://db.uwaterloo.ca/~galuc/wsdbm/Product138>, <http://ogp.me/ns#tag>, <http://db.uwaterloo.ca/~galuc/wsdbm/Topic146>}|\n",
            "|                                    {<http://db.uwaterloo.ca/~galuc/wsdbm/Product138>, <http://ogp.me/ns#tag>, <http://db.uwaterloo.ca/~galuc/wsdbm/Topic72>}|\n",
            "|                                    {<http://db.uwaterloo.ca/~galuc/wsdbm/Product138>, <http://ogp.me/ns#tag>, <http://db.uwaterloo.ca/~galuc/wsdbm/Topic52>}|\n",
            "|                                    {<http://db.uwaterloo.ca/~galuc/wsdbm/Product138>, <http://ogp.me/ns#tag>, <http://db.uwaterloo.ca/~galuc/wsdbm/Topic76>}|\n",
            "|                                    {<http://db.uwaterloo.ca/~galuc/wsdbm/Product138>, <http://ogp.me/ns#tag>, <http://db.uwaterloo.ca/~galuc/wsdbm/Topic65>}|\n",
            "|                                     {<http://db.uwaterloo.ca/~galuc/wsdbm/Product138>, <http://ogp.me/ns#tag>, <http://db.uwaterloo.ca/~galuc/wsdbm/Topic8>}|\n",
            "|                                   {<http://db.uwaterloo.ca/~galuc/wsdbm/Product138>, <http://ogp.me/ns#tag>, <http://db.uwaterloo.ca/~galuc/wsdbm/Topic244>}|\n",
            "|                                    {<http://db.uwaterloo.ca/~galuc/wsdbm/Product138>, <http://ogp.me/ns#tag>, <http://db.uwaterloo.ca/~galuc/wsdbm/Topic51>}|\n",
            "|                                   {<http://db.uwaterloo.ca/~galuc/wsdbm/Product138>, <http://ogp.me/ns#tag>, <http://db.uwaterloo.ca/~galuc/wsdbm/Topic187>}|\n",
            "|                                    {<http://db.uwaterloo.ca/~galuc/wsdbm/Product138>, <http://ogp.me/ns#tag>, <http://db.uwaterloo.ca/~galuc/wsdbm/Topic52>}|\n",
            "|                                    {<http://db.uwaterloo.ca/~galuc/wsdbm/Product138>, <http://ogp.me/ns#tag>, <http://db.uwaterloo.ca/~galuc/wsdbm/Topic64>}|\n",
            "|                                   {<http://db.uwaterloo.ca/~galuc/wsdbm/Product138>, <http://ogp.me/ns#tag>, <http://db.uwaterloo.ca/~galuc/wsdbm/Topic184>}|\n",
            "|                                   {<http://db.uwaterloo.ca/~galuc/wsdbm/Product138>, <http://ogp.me/ns#tag>, <http://db.uwaterloo.ca/~galuc/wsdbm/Topic155>}|\n",
            "|                                                                        {<http://db.uwaterloo.ca/~galuc/wsdbm/Product138>, <http://schema.org/isbn>, \"56993\"}|\n",
            "|                                {<http://db.uwaterloo.ca/~galuc/wsdbm/Product138>, <http://schema.org/author>, <http://db.uwaterloo.ca/~galuc/wsdbm/User196>}|\n",
            "|                                {<http://db.uwaterloo.ca/~galuc/wsdbm/Product138>, <http://schema.org/author>, <http://db.uwaterloo.ca/~galuc/wsdbm/User504>}|\n",
            "|                                {<http://db.uwaterloo.ca/~galuc/wsdbm/Product138>, <http://schema.org/author>, <http://db.uwaterloo.ca/~galuc/wsdbm/User913>}|\n",
            "|                                                                  {<http://db.uwaterloo.ca/~galuc/wsdbm/Product147>, <http://schema.org/caption>, \"Malpighia}|\n",
            "|                                                                    {<http://db.uwaterloo.ca/~galuc/wsdbm/Product147>, <http://ogp.me/ns#title>, \"epiphysary}|\n",
            "|{<http://db.uwaterloo.ca/~galuc/wsdbm/Product147>, <http://www.w3.org/1999/02/22-rdf-syntax-ns#type>, <http://db.uwaterloo.ca/~galuc/wsdbm/ProductCategory3>}|\n",
            "|         {<http://db.uwaterloo.ca/~galuc/wsdbm/Product147>, <http://db.uwaterloo.ca/~galuc/wsdbm/hasGenre>, <http://db.uwaterloo.ca/~galuc/wsdbm/SubGenre35>}|\n",
            "|         {<http://db.uwaterloo.ca/~galuc/wsdbm/Product147>, <http://db.uwaterloo.ca/~galuc/wsdbm/hasGenre>, <http://db.uwaterloo.ca/~galuc/wsdbm/SubGenre74>}|\n",
            "|                                                                        {<http://db.uwaterloo.ca/~galuc/wsdbm/Product147>, <http://schema.org/isbn>, \"50922\"}|\n",
            "|                                                                     {<http://db.uwaterloo.ca/~galuc/wsdbm/Product150>, <http://schema.org/text>, \"shearbill}|\n",
            "|                                                                 {<http://db.uwaterloo.ca/~galuc/wsdbm/Product150>, <http://schema.org/keywords>, \"tensional}|\n",
            "|                                                                    {<http://db.uwaterloo.ca/~galuc/wsdbm/Product150>, <http://ogp.me/ns#title>, \"sauceplate}|\n",
            "|{<http://db.uwaterloo.ca/~galuc/wsdbm/Product150>, <http://www.w3.org/1999/02/22-rdf-syntax-ns#type>, <http://db.uwaterloo.ca/~galuc/wsdbm/ProductCategory3>}|\n",
            "|         {<http://db.uwaterloo.ca/~galuc/wsdbm/Product150>, <http://db.uwaterloo.ca/~galuc/wsdbm/hasGenre>, <http://db.uwaterloo.ca/~galuc/wsdbm/SubGenre94>}|\n",
            "|         {<http://db.uwaterloo.ca/~galuc/wsdbm/Product150>, <http://db.uwaterloo.ca/~galuc/wsdbm/hasGenre>, <http://db.uwaterloo.ca/~galuc/wsdbm/SubGenre94>}|\n",
            "|         {<http://db.uwaterloo.ca/~galuc/wsdbm/Product150>, <http://db.uwaterloo.ca/~galuc/wsdbm/hasGenre>, <http://db.uwaterloo.ca/~galuc/wsdbm/SubGenre83>}|\n",
            "|        {<http://db.uwaterloo.ca/~galuc/wsdbm/Product150>, <http://db.uwaterloo.ca/~galuc/wsdbm/hasGenre>, <http://db.uwaterloo.ca/~galuc/wsdbm/SubGenre123>}|\n",
            "|                                    {<http://db.uwaterloo.ca/~galuc/wsdbm/Product150>, <http://ogp.me/ns#tag>, <http://db.uwaterloo.ca/~galuc/wsdbm/Topic83>}|\n",
            "|                                   {<http://db.uwaterloo.ca/~galuc/wsdbm/Product150>, <http://ogp.me/ns#tag>, <http://db.uwaterloo.ca/~galuc/wsdbm/Topic146>}|\n",
            "|                                   {<http://db.uwaterloo.ca/~galuc/wsdbm/Product150>, <http://ogp.me/ns#tag>, <http://db.uwaterloo.ca/~galuc/wsdbm/Topic203>}|\n",
            "|                     {<http://db.uwaterloo.ca/~galuc/wsdbm/Product150>, <http://purl.org/stuff/rev#hasReview>, <http://db.uwaterloo.ca/~galuc/wsdbm/Review8>}|\n",
            "|                  {<http://db.uwaterloo.ca/~galuc/wsdbm/Product150>, <http://purl.org/stuff/rev#hasReview>, <http://db.uwaterloo.ca/~galuc/wsdbm/Review1242>}|\n",
            "|                  {<http://db.uwaterloo.ca/~galuc/wsdbm/Product150>, <http://purl.org/stuff/rev#hasReview>, <http://db.uwaterloo.ca/~galuc/wsdbm/Review1249>}|\n",
            "|                  {<http://db.uwaterloo.ca/~galuc/wsdbm/Product150>, <http://purl.org/stuff/rev#hasReview>, <http://db.uwaterloo.ca/~galuc/wsdbm/Review1391>}|\n",
            "|                   {<http://db.uwaterloo.ca/~galuc/wsdbm/Product150>, <http://purl.org/stuff/rev#hasReview>, <http://db.uwaterloo.ca/~galuc/wsdbm/Review712>}|\n",
            "|                   {<http://db.uwaterloo.ca/~galuc/wsdbm/Product150>, <http://purl.org/stuff/rev#hasReview>, <http://db.uwaterloo.ca/~galuc/wsdbm/Review384>}|\n",
            "|                  {<http://db.uwaterloo.ca/~galuc/wsdbm/Product150>, <http://purl.org/stuff/rev#hasReview>, <http://db.uwaterloo.ca/~galuc/wsdbm/Review1251>}|\n",
            "|                   {<http://db.uwaterloo.ca/~galuc/wsdbm/Product150>, <http://purl.org/stuff/rev#hasReview>, <http://db.uwaterloo.ca/~galuc/wsdbm/Review586>}|\n",
            "|                  {<http://db.uwaterloo.ca/~galuc/wsdbm/Product150>, <http://purl.org/stuff/rev#hasReview>, <http://db.uwaterloo.ca/~galuc/wsdbm/Review1315>}|\n",
            "|                  {<http://db.uwaterloo.ca/~galuc/wsdbm/Product150>, <http://purl.org/stuff/rev#hasReview>, <http://db.uwaterloo.ca/~galuc/wsdbm/Review1029>}|\n",
            "|                   {<http://db.uwaterloo.ca/~galuc/wsdbm/Product150>, <http://purl.org/stuff/rev#hasReview>, <http://db.uwaterloo.ca/~galuc/wsdbm/Review490>}|\n",
            "|                   {<http://db.uwaterloo.ca/~galuc/wsdbm/Product150>, <http://purl.org/stuff/rev#hasReview>, <http://db.uwaterloo.ca/~galuc/wsdbm/Review456>}|\n",
            "|                  {<http://db.uwaterloo.ca/~galuc/wsdbm/Product150>, <http://purl.org/stuff/rev#hasReview>, <http://db.uwaterloo.ca/~galuc/wsdbm/Review1278>}|\n",
            "|                  {<http://db.uwaterloo.ca/~galuc/wsdbm/Product150>, <http://purl.org/stuff/rev#hasReview>, <http://db.uwaterloo.ca/~galuc/wsdbm/Review1341>}|\n",
            "|                   {<http://db.uwaterloo.ca/~galuc/wsdbm/Product150>, <http://purl.org/stuff/rev#hasReview>, <http://db.uwaterloo.ca/~galuc/wsdbm/Review807>}|\n",
            "|                   {<http://db.uwaterloo.ca/~galuc/wsdbm/Product150>, <http://purl.org/stuff/rev#hasReview>, <http://db.uwaterloo.ca/~galuc/wsdbm/Review533>}|\n",
            "|                  {<http://db.uwaterloo.ca/~galuc/wsdbm/Product150>, <http://purl.org/stuff/rev#hasReview>, <http://db.uwaterloo.ca/~galuc/wsdbm/Review1373>}|\n",
            "|                   {<http://db.uwaterloo.ca/~galuc/wsdbm/Product150>, <http://purl.org/stuff/rev#hasReview>, <http://db.uwaterloo.ca/~galuc/wsdbm/Review637>}|\n",
            "|                   {<http://db.uwaterloo.ca/~galuc/wsdbm/Product150>, <http://purl.org/stuff/rev#hasReview>, <http://db.uwaterloo.ca/~galuc/wsdbm/Review129>}|\n",
            "|                  {<http://db.uwaterloo.ca/~galuc/wsdbm/Product150>, <http://purl.org/stuff/rev#hasReview>, <http://db.uwaterloo.ca/~galuc/wsdbm/Review1009>}|\n",
            "|                   {<http://db.uwaterloo.ca/~galuc/wsdbm/Product150>, <http://purl.org/stuff/rev#hasReview>, <http://db.uwaterloo.ca/~galuc/wsdbm/Review840>}|\n",
            "|                   {<http://db.uwaterloo.ca/~galuc/wsdbm/Product150>, <http://purl.org/stuff/rev#hasReview>, <http://db.uwaterloo.ca/~galuc/wsdbm/Review826>}|\n",
            "|                   {<http://db.uwaterloo.ca/~galuc/wsdbm/Product150>, <http://purl.org/stuff/rev#hasReview>, <http://db.uwaterloo.ca/~galuc/wsdbm/Review466>}|\n",
            "|                   {<http://db.uwaterloo.ca/~galuc/wsdbm/Product150>, <http://purl.org/stuff/rev#hasReview>, <http://db.uwaterloo.ca/~galuc/wsdbm/Review164>}|\n",
            "|                   {<http://db.uwaterloo.ca/~galuc/wsdbm/Product150>, <http://purl.org/stuff/rev#hasReview>, <http://db.uwaterloo.ca/~galuc/wsdbm/Review643>}|\n",
            "|                   {<http://db.uwaterloo.ca/~galuc/wsdbm/Product150>, <http://purl.org/stuff/rev#hasReview>, <http://db.uwaterloo.ca/~galuc/wsdbm/Review623>}|\n",
            "|                   {<http://db.uwaterloo.ca/~galuc/wsdbm/Product150>, <http://purl.org/stuff/rev#hasReview>, <http://db.uwaterloo.ca/~galuc/wsdbm/Review277>}|\n",
            "|                   {<http://db.uwaterloo.ca/~galuc/wsdbm/Product150>, <http://purl.org/stuff/rev#hasReview>, <http://db.uwaterloo.ca/~galuc/wsdbm/Review220>}|\n",
            "|                   {<http://db.uwaterloo.ca/~galuc/wsdbm/Product150>, <http://purl.org/stuff/rev#hasReview>, <http://db.uwaterloo.ca/~galuc/wsdbm/Review348>}|\n",
            "|                   {<http://db.uwaterloo.ca/~galuc/wsdbm/Product150>, <http://purl.org/stuff/rev#hasReview>, <http://db.uwaterloo.ca/~galuc/wsdbm/Review155>}|\n",
            "|                                                                         {<http://db.uwaterloo.ca/~galuc/wsdbm/Product150>, <http://schema.org/isbn>, \"5410\"}|\n",
            "|                                {<http://db.uwaterloo.ca/~galuc/wsdbm/Product150>, <http://schema.org/author>, <http://db.uwaterloo.ca/~galuc/wsdbm/User524>}|\n",
            "|                                {<http://db.uwaterloo.ca/~galuc/wsdbm/Product150>, <http://schema.org/author>, <http://db.uwaterloo.ca/~galuc/wsdbm/User561>}|\n",
            "|                                {<http://db.uwaterloo.ca/~galuc/wsdbm/Product150>, <http://schema.org/author>, <http://db.uwaterloo.ca/~galuc/wsdbm/User300>}|\n",
            "|                                {<http://db.uwaterloo.ca/~galuc/wsdbm/Product150>, <http://schema.org/editor>, <http://db.uwaterloo.ca/~galuc/wsdbm/User502>}|\n",
            "|                                {<http://db.uwaterloo.ca/~galuc/wsdbm/Product150>, <http://schema.org/editor>, <http://db.uwaterloo.ca/~galuc/wsdbm/User265>}|\n",
            "|                                 {<http://db.uwaterloo.ca/~galuc/wsdbm/Product150>, <http://schema.org/editor>, <http://db.uwaterloo.ca/~galuc/wsdbm/User78>}|\n",
            "|                                                                        {<http://db.uwaterloo.ca/~galuc/wsdbm/Product16>, <http://ogp.me/ns#title>, \"shaster}|\n",
            "| {<http://db.uwaterloo.ca/~galuc/wsdbm/Product16>, <http://www.w3.org/1999/02/22-rdf-syntax-ns#type>, <http://db.uwaterloo.ca/~galuc/wsdbm/ProductCategory3>}|\n",
            "|         {<http://db.uwaterloo.ca/~galuc/wsdbm/Product16>, <http://db.uwaterloo.ca/~galuc/wsdbm/hasGenre>, <http://db.uwaterloo.ca/~galuc/wsdbm/SubGenre106>}|\n",
            "|          {<http://db.uwaterloo.ca/~galuc/wsdbm/Product16>, <http://db.uwaterloo.ca/~galuc/wsdbm/hasGenre>, <http://db.uwaterloo.ca/~galuc/wsdbm/SubGenre90>}|\n",
            "|          {<http://db.uwaterloo.ca/~galuc/wsdbm/Product16>, <http://db.uwaterloo.ca/~galuc/wsdbm/hasGenre>, <http://db.uwaterloo.ca/~galuc/wsdbm/SubGenre80>}|\n",
            "|                                     {<http://db.uwaterloo.ca/~galuc/wsdbm/Product16>, <http://ogp.me/ns#tag>, <http://db.uwaterloo.ca/~galuc/wsdbm/Topic21>}|\n",
            "|                                    {<http://db.uwaterloo.ca/~galuc/wsdbm/Product16>, <http://ogp.me/ns#tag>, <http://db.uwaterloo.ca/~galuc/wsdbm/Topic243>}|\n",
            "|                                    {<http://db.uwaterloo.ca/~galuc/wsdbm/Product16>, <http://ogp.me/ns#tag>, <http://db.uwaterloo.ca/~galuc/wsdbm/Topic247>}|\n",
            "+-------------------------------------------------------------------------------------------------------------------------------------------------------------+\n",
            "only showing top 100 rows\n",
            "\n"
          ]
        }
      ]
    }
  ]
}