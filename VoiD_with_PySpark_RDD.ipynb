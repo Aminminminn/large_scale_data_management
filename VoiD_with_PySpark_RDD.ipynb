{
  "nbformat": 4,
  "nbformat_minor": 0,
  "metadata": {
    "colab": {
      "provenance": [],
      "collapsed_sections": [],
      "authorship_tag": "ABX9TyN24LQPUwU9bOWqROw0biAJ",
      "include_colab_link": true
    },
    "kernelspec": {
      "name": "python3",
      "display_name": "Python 3"
    },
    "language_info": {
      "name": "python"
    }
  },
  "cells": [
    {
      "cell_type": "markdown",
      "metadata": {
        "id": "view-in-github",
        "colab_type": "text"
      },
      "source": [
        "<a href=\"https://colab.research.google.com/github/momo54/large_scale_data_management/blob/main/VoiD_with_PySpark_RDD.ipynb\" target=\"_parent\"><img src=\"https://colab.research.google.com/assets/colab-badge.svg\" alt=\"Open In Colab\"/></a>"
      ]
    },
    {
      "cell_type": "markdown",
      "source": [
        "\n",
        "\n",
        "# Installing SPARK for Playing\n"
      ],
      "metadata": {
        "id": "rA7z32t7e1-U"
      }
    },
    {
      "cell_type": "code",
      "source": [
        "!pip install pyspark"
      ],
      "metadata": {
        "colab": {
          "base_uri": "https://localhost:8080/"
        },
        "id": "O-trb2SQbXlG",
        "outputId": "daec19f4-9bce-41fa-d4c6-a34e2c203dcf"
      },
      "execution_count": 3,
      "outputs": [
        {
          "output_type": "stream",
          "name": "stdout",
          "text": [
            "Looking in indexes: https://pypi.org/simple, https://us-python.pkg.dev/colab-wheels/public/simple/\n",
            "Collecting pyspark\n",
            "  Downloading pyspark-3.3.0.tar.gz (281.3 MB)\n",
            "\u001b[K     |████████████████████████████████| 281.3 MB 59 kB/s \n",
            "\u001b[?25hCollecting py4j==0.10.9.5\n",
            "  Downloading py4j-0.10.9.5-py2.py3-none-any.whl (199 kB)\n",
            "\u001b[K     |████████████████████████████████| 199 kB 46.3 MB/s \n",
            "\u001b[?25hBuilding wheels for collected packages: pyspark\n",
            "  Building wheel for pyspark (setup.py) ... \u001b[?25l\u001b[?25hdone\n",
            "  Created wheel for pyspark: filename=pyspark-3.3.0-py2.py3-none-any.whl size=281764026 sha256=3bc7355e758553fafe186e6fc89d75784d523f2f728da78d94908e5ea76c6ec3\n",
            "  Stored in directory: /root/.cache/pip/wheels/7a/8e/1b/f73a52650d2e5f337708d9f6a1750d451a7349a867f928b885\n",
            "Successfully built pyspark\n",
            "Installing collected packages: py4j, pyspark\n",
            "Successfully installed py4j-0.10.9.5 pyspark-3.3.0\n"
          ]
        }
      ]
    },
    {
      "cell_type": "code",
      "source": [
        "!pip install -q findspark\n",
        "import findspark\n",
        "findspark.init()\n"
      ],
      "metadata": {
        "id": "hXxKUhrWbqeo"
      },
      "execution_count": 4,
      "outputs": []
    },
    {
      "cell_type": "markdown",
      "source": [
        "# SPARK Installed... Start playing"
      ],
      "metadata": {
        "id": "0cUONB2qekaq"
      }
    },
    {
      "cell_type": "code",
      "source": [
        "from pyspark.sql import SparkSession\n",
        "spark = SparkSession.builder\\\n",
        "        .master(\"local\")\\\n",
        "        .appName(\"Colab\")\\\n",
        "        .config('spark.ui.port', '4050')\\\n",
        "        .getOrCreate()"
      ],
      "metadata": {
        "id": "nIOiyuKYbwpD"
      },
      "execution_count": 5,
      "outputs": []
    },
    {
      "cell_type": "code",
      "source": [
        "!wget -q https://storage.googleapis.com/public_lddm_data/small_page_links.nt\n",
        "!ls\n",
        "!wget -q \"https://data.dws.informatik.uni-mannheim.de/structureddata/2021-12/quads/classspecific/schema_Mountain/part_0.gz\"\n",
        "!ls"
      ],
      "metadata": {
        "colab": {
          "base_uri": "https://localhost:8080/"
        },
        "id": "l3hT1MN1cLUX",
        "outputId": "d9cd56bf-dc8d-41f5-bbce-976a88d14c45"
      },
      "execution_count": 6,
      "outputs": [
        {
          "output_type": "stream",
          "name": "stdout",
          "text": [
            "sample_data  small_page_links.nt\n",
            "part_0.gz  sample_data\tsmall_page_links.nt\n"
          ]
        }
      ]
    },
    {
      "cell_type": "code",
      "source": [
        "lines = spark.read.text(\"part_0.gz\").rdd.map(lambda r: r[0])\n",
        "\n"
      ],
      "metadata": {
        "id": "ipEyiQNgddZt"
      },
      "execution_count": 7,
      "outputs": []
    },
    {
      "cell_type": "code",
      "source": [
        "lines.take(5)"
      ],
      "metadata": {
        "colab": {
          "base_uri": "https://localhost:8080/"
        },
        "id": "t2m1GJP-djds",
        "outputId": "2ade3db9-c393-4a0e-8506-b7f617e4c69c"
      },
      "execution_count": 8,
      "outputs": [
        {
          "output_type": "execute_result",
          "data": {
            "text/plain": [
              "['_:nb53a24408607424384c1357880ce1bc7xb0 <http://www.w3.org/1999/02/22-rdf-syntax-ns#type> <http://schema.org/Mountain> <https://peakery.com/dragontail-peak-washington/>   .',\n",
              " '_:nb53a24408607424384c1357880ce1bc7xb0 <http://schema.org/additionalProperty> _:nb53a24408607424384c1357880ce1bc7xb1 <https://peakery.com/dragontail-peak-washington/>   .',\n",
              " '_:nb53a24408607424384c1357880ce1bc7xb0 <http://schema.org/additionalProperty> _:nb53a24408607424384c1357880ce1bc7xb2 <https://peakery.com/dragontail-peak-washington/>   .',\n",
              " '_:nb53a24408607424384c1357880ce1bc7xb0 <http://schema.org/additionalProperty> _:nb53a24408607424384c1357880ce1bc7xb3 <https://peakery.com/dragontail-peak-washington/>   .',\n",
              " '_:nb53a24408607424384c1357880ce1bc7xb0 <http://schema.org/additionalProperty> _:nb53a24408607424384c1357880ce1bc7xb4 <https://peakery.com/dragontail-peak-washington/>   .']"
            ]
          },
          "metadata": {},
          "execution_count": 8
        }
      ]
    },
    {
      "cell_type": "code",
      "source": [
        "lines.count()"
      ],
      "metadata": {
        "colab": {
          "base_uri": "https://localhost:8080/"
        },
        "id": "98abFy-tdpV9",
        "outputId": "912c598c-6c47-4502-878d-77be86fe86e7"
      },
      "execution_count": 9,
      "outputs": [
        {
          "output_type": "execute_result",
          "data": {
            "text/plain": [
              "2113514"
            ]
          },
          "metadata": {},
          "execution_count": 9
        }
      ]
    },
    {
      "cell_type": "code",
      "source": [
        "import re\n",
        "def parseTriple(line) :\n",
        "    \"\"\"Parses a urls pair string into urls pair.\"\"\"\n",
        "    parts = re.split(r'\\s+', line)\n",
        "    return parts[0], parts[1], parts[2],parts[3]\n",
        "triples=lines.map(lambda x:parseTriple(x))\n",
        "print(triples.count())\n",
        "triples.take(1)"
      ],
      "metadata": {
        "colab": {
          "base_uri": "https://localhost:8080/"
        },
        "id": "OL8aSA_GjSQJ",
        "outputId": "0dc9b887-55cd-45cb-cadb-905c3b575bb7"
      },
      "execution_count": 10,
      "outputs": [
        {
          "output_type": "stream",
          "name": "stdout",
          "text": [
            "2113514\n"
          ]
        },
        {
          "output_type": "execute_result",
          "data": {
            "text/plain": [
              "[('_:nb53a24408607424384c1357880ce1bc7xb0',\n",
              "  '<http://www.w3.org/1999/02/22-rdf-syntax-ns#type>',\n",
              "  '<http://schema.org/Mountain>',\n",
              "  '<https://peakery.com/dragontail-peak-washington/>')]"
            ]
          },
          "metadata": {},
          "execution_count": 10
        }
      ]
    },
    {
      "cell_type": "markdown",
      "source": [
        "# Exercice: Computing the VoiD for the Nt File with PySpark RDD\n",
        "\n",
        "Write RDD PySpark for the following queries (your can ignore the construct statement, just compute the select part...)\n",
        "\n",
        "- QB1 CONSTRUCT { <D> v:triples ?x }\n",
        "WHERE { SELECT (COUNT(*) AS ?x) WHERE { ?s ?p ?o } }\n",
        "\n",
        "- QB2 CONSTRUCT { <D> v:classes ?x }\n",
        "WHERE { SELECT (COUNT(DISTINCT ?o) AS ?x) WHERE { ?s a ?o } }\n",
        "\n",
        "- QB3 CONSTRUCT { <D> v:properties ?x }\n",
        "WHERE { SELECT (COUNT(DISTINCT ?p) AS ?x) WHERE { ?s ?p ?o } }\n",
        "\n",
        "- QB4 CONSTRUCT { <D> v:distinctSubjects ?x }\n",
        "WHERE { SELECT (COUNT(DISTINCT ?s) AS ?x) WHERE { ?s ?p ?o } }\n",
        "\n",
        "- QB5 CONSTRUCT { <D> v:distinctObjects ?x }\n",
        "WHERE { SELECT (COUNT(DISTINCT ?o) AS ?x) WHERE { ?s ?p ?o } }"
      ],
      "metadata": {
        "id": "jdXPbI9LfGYT"
      }
    },
    {
      "cell_type": "code",
      "source": [
        "print(triples.map(lambda x: x[0]).distinct().count())\n",
        "print(triples.map(lambda x: x[1]).distinct().count())\n",
        "print(triples.map(lambda x: x[2]).distinct().count())\n",
        "print(triples.filter(lambda x: x[1]==\"<http://www.w3.org/1999/02/22-rdf-syntax-ns#type>\").map(lambda x: x[2]).distinct().count())\n"
      ],
      "metadata": {
        "id": "i7Zn5QkkhWhV",
        "outputId": "8ce2fdb0-986b-40c6-b926-8d0cc4b91cb8",
        "colab": {
          "base_uri": "https://localhost:8080/"
        }
      },
      "execution_count": 11,
      "outputs": [
        {
          "output_type": "stream",
          "name": "stdout",
          "text": [
            "487829\n",
            "253\n",
            "829323\n",
            "304\n"
          ]
        }
      ]
    },
    {
      "cell_type": "markdown",
      "source": [
        "- QC1 CONSTRUCT { <D> v:classPartition [ v:class ?c ] } WHERE { ?s a ?c }\n",
        "\n",
        "- QC2 CONSTRUCT { <D> v:classPartition [ v:class ?c ; v:triples ?x ] }\n",
        "WHERE { SELECT (COUNT(?p) AS ?x) ?c WHERE { ?s a ?c ; ?p ?o } GROUP BY ?c }\n",
        "- QC3 CONSTRUCT { <D> v:classPartition [ v:class ?c ; v:classes ?x ] }\n",
        "WHERE { SELECT (COUNT(DISTINCT ?d) AS ?x) ?c WHERE { ?s a ?c , ?d } GROUP BY ?c }\n",
        "- QC4 CONSTRUCT { <D> v:classPartition [ v:class ?c ; v:properties ?x ] }\n",
        "WHERE { SELECT (COUNT(DISTINCT ?p) AS ?x) ?c WHERE { ?s a ?c ; ?p ?o } GROUP BY ?c } \n",
        "- QC5 CONSTRUCT { <D> v:classPartition [ v:class ?c ; v:distinctSubjects ?x ] }\n",
        "WHERE { SELECT (COUNT(DISTINCT ?s) AS ?x) ?c WHERE { ?s a ?c } GROUP BY ?c }\n",
        "- QC6 CONSTRUCT { <D> v:classPartition [ v:class ?c ; v:distinctObjects ?x ] }\n",
        "WHERE { SELECT (COUNT(DISTINCT ?o) AS ?x) ?c WHERE { ?s a ?c ; ?p ?o } GROUP BY ?c }\n",
        "\n",
        "READ the DOC !! https://spark.apache.org/docs/latest/rdd-programming-guide.html#rdd-operations "
      ],
      "metadata": {
        "id": "S1Ap0MclgvfK"
      }
    },
    {
      "cell_type": "code",
      "source": [
        "## testing operators \n",
        "## hmm join consider only pairs !!\n",
        "sc=spark.sparkContext\n",
        "x = sc.parallelize([(\"a\", 1,\"x\"), (\"b\", 4,\"y\")])\n",
        "y = sc.parallelize([(\"a\", 2,\"z\"), (\"a\", 3,\"w\")])\n",
        "sorted(x.join(y).collect())\n"
      ],
      "metadata": {
        "id": "JIOGT_Pp9eKI",
        "outputId": "01daa7fb-a2ce-460e-bc15-9dd0761b1863",
        "colab": {
          "base_uri": "https://localhost:8080/"
        }
      },
      "execution_count": 33,
      "outputs": [
        {
          "output_type": "execute_result",
          "data": {
            "text/plain": [
              "[('a', (1, 2)), ('a', (1, 3))]"
            ]
          },
          "metadata": {},
          "execution_count": 33
        }
      ]
    },
    {
      "cell_type": "code",
      "source": [
        "## keyby\n",
        "print(sc.parallelize(range(0,3)).collect())\n",
        "sc.parallelize(range(0,3)).keyBy(lambda x: x*x).collect()"
      ],
      "metadata": {
        "id": "KsaNYL10-qQl",
        "outputId": "8a9c939d-87e2-47ea-9422-bed344d6d429",
        "colab": {
          "base_uri": "https://localhost:8080/"
        }
      },
      "execution_count": 34,
      "outputs": [
        {
          "output_type": "stream",
          "name": "stdout",
          "text": [
            "[0, 1, 2]\n"
          ]
        },
        {
          "output_type": "execute_result",
          "data": {
            "text/plain": [
              "[(0, 0), (1, 1), (4, 2)]"
            ]
          },
          "metadata": {},
          "execution_count": 34
        }
      ]
    },
    {
      "cell_type": "code",
      "source": [
        "# testing simple GC2 on simple data\n",
        "\n",
        "#simple data\n",
        "data=sc.parallelize([(\"s1\",\"a\",\"prof\"),(\"s1\",\"name\",\"pascal\"),(\"s2\",\"a\",\"prof\"),(\"s2\",\"name\",\"hala\"),(\"s3\",\"a\",\"student\"),(\"s3\",\"name\",\"tom\")])\n",
        "\n",
        "# \n",
        "# select count(?p) where {\n",
        "#    ?s a ?c . #tp1\n",
        "#    ?s ?p ?o #tp2\n",
        "#} groupby ?c\n",
        "\n",
        "tp1=data.filter(lambda x: x[1]==\"a\").keyBy(lambda x: x[0])\n",
        "tp2=data.keyBy(lambda x:x[0])\n",
        "bgp=tp1.join(tp2).values()\n",
        "print(\"tp1 . tp2:\",bgp.mapValues(list).collect())\n",
        "\n",
        "groupby=bgp.keyBy(lambda x: x[0][2]).groupByKey()\n",
        "print(\"goupby ?c:\",groupby.mapValues(list).collect())\n",
        "\n",
        "#keep only unique predicate in the bag\n",
        "# list(dict.fromkeys -> eliminate duplicate in a python list\n",
        "gbp=groupby.mapValues(lambda x: list(dict.fromkeys(list(map(lambda bag: bag[1][1],x)))))\n",
        "print(\"goupby ?c projection:\",gbp.collect())\n",
        "\n",
        "# remember avoid collect on real execution...\n",
        "print(\"final:\",gbp.mapValues(lambda x: len(x)).collect())\n",
        "\n",
        "\n",
        "\n"
      ],
      "metadata": {
        "id": "-3x4epj1_1en",
        "outputId": "590e97f1-6c5b-4adb-f8eb-10df7d3fbd97",
        "colab": {
          "base_uri": "https://localhost:8080/"
        }
      },
      "execution_count": 31,
      "outputs": [
        {
          "output_type": "stream",
          "name": "stdout",
          "text": [
            "tp1 . tp2: [(('s1', 'a', 'prof'), ['s1', 'a', 'prof']), (('s1', 'a', 'prof'), ['s1', 'name', 'pascal']), (('s3', 'a', 'student'), ['s3', 'a', 'student']), (('s3', 'a', 'student'), ['s3', 'name', 'tom']), (('s2', 'a', 'prof'), ['s2', 'a', 'prof']), (('s2', 'a', 'prof'), ['s2', 'name', 'hala'])]\n",
            "goupby ?c: [('student', [(('s3', 'a', 'student'), ('s3', 'a', 'student')), (('s3', 'a', 'student'), ('s3', 'name', 'tom'))]), ('prof', [(('s1', 'a', 'prof'), ('s1', 'a', 'prof')), (('s1', 'a', 'prof'), ('s1', 'name', 'pascal')), (('s2', 'a', 'prof'), ('s2', 'a', 'prof')), (('s2', 'a', 'prof'), ('s2', 'name', 'hala'))])]\n",
            "goupby ?c projection: [('student', ['a', 'name']), ('prof', ['a', 'name'])]\n",
            "final: [('student', 2), ('prof', 2)]\n"
          ]
        }
      ]
    },
    {
      "cell_type": "code",
      "source": [
        "#QC2 for real now...\n",
        "\n",
        "tp1=triples.filter(lambda x: x[1]==\"<http://www.w3.org/1999/02/22-rdf-syntax-ns#type>\").keyBy(lambda x: x[0])\n",
        "tp2=triples.keyBy(lambda x:x[0])\n",
        "bgp=tp1.join(tp2).values()\n",
        "\n",
        "groupby=bgp.keyBy(lambda x: x[0][2]).groupByKey()\n",
        "\n",
        "#keep only unique predicate in the bag\n",
        "gbp=groupby.mapValues(lambda x: list(dict.fromkeys(list(map(lambda bag: bag[1][1],x)))))\n",
        "\n",
        "# remember avoid collect on real execution...\n",
        "gbp.mapValues(lambda x: len(x)).collect()\n"
      ],
      "metadata": {
        "id": "God-8HdrhYUa",
        "outputId": "4c105f4a-5ef4-4206-d913-2310467ffb4c",
        "colab": {
          "base_uri": "https://localhost:8080/"
        }
      },
      "execution_count": 35,
      "outputs": [
        {
          "output_type": "execute_result",
          "data": {
            "text/plain": [
              "[('<https://schema.org/DefenceEstablishment>', 10),\n",
              " ('<https://schema.org/House>', 11),\n",
              " ('<https://schema.org/JewelryStore>', 3),\n",
              " ('<http://schema.org/Campground>', 14),\n",
              " ('<http://schema.org/Photograph>', 8),\n",
              " ('<http://schema.org/FastFoodRestaurant>', 11),\n",
              " ('<https://stmartin.suedlicheweinstrasse.de/st-martin/sehenswuerdigkeiten/infosystem/Kalmit_Maikammer/ImageObject>',\n",
              "  1),\n",
              " ('<http://schema.org/LakeBodyOfWater>', 7),\n",
              " ('<http://schema.org/BoatTrip>', 3),\n",
              " ('<http://schema.org/Brand>', 2),\n",
              " ('<https://schema.org/BusStop>', 11),\n",
              " ('<https://schema.org/SkiResort>', 9),\n",
              " ('<http://schema.org/park>', 2),\n",
              " ('<http://schema.org/Website>', 2),\n",
              " ('<http://schema.org/GroceryStore>', 9),\n",
              " ('<http://schema.org/LocalBusiness>', 21),\n",
              " ('<https://schema.org/ComputerStore>', 3),\n",
              " ('<https://schema.org/Campground>', 11),\n",
              " ('<http://schema.org/VeterinaryCare>', 8),\n",
              " ('<http://schema.org/BedAndBreakfast>', 8),\n",
              " ('<http://schema.org/NewsArticle>', 11),\n",
              " ('<https://schema.org/AmusementPark>', 11),\n",
              " ('<https://schema.org/BikeStore>', 3),\n",
              " ('<http://schema.org/Organization>', 16),\n",
              " ('<http://www.w3.org/2002/07/owl#Thing>', 50),\n",
              " ('<https://schema.org/Residence>', 11),\n",
              " ('<https://schema.org/TireShop>', 3),\n",
              " ('<http://schema.org/LocationFeatureSpecification>', 3),\n",
              " ('<https://schema.org/RiverBodyOfWater>', 11),\n",
              " ('<http://schema.org/Product>', 9),\n",
              " ('<https://schema.org/GroceryStore>', 10),\n",
              " ('<http://schema.org/AutomatedTeller>', 6),\n",
              " ('<http://schema.org/GeoCoordinates>', 7),\n",
              " ('<https://schema.org/Park>', 11),\n",
              " ('<http://schema.org/Map>', 2),\n",
              " ('<https://schema.org/BeautySalon>', 3),\n",
              " ('<http://schema.org/LodgingBusiness>', 16),\n",
              " ('<http://schema.org/PoliceStation>', 8),\n",
              " ('<https://schema.org/InsuranceAgency>', 3),\n",
              " ('<http://schema.org/Pond>', 8),\n",
              " ('<http://schema.org/Landform>', 8),\n",
              " ('<http://schema.org/BankOrCreditUnion>', 8),\n",
              " ('<http://schema.org/Cemetery>', 14),\n",
              " ('<https://maps.kernvalley.us/NGO>', 1),\n",
              " ('<https://schema.org/BarOrPub>', 10),\n",
              " ('<http://schema.org/OpeningHoursSpecification>', 4),\n",
              " ('<https://schema.org/ClothingStore>', 4),\n",
              " ('<https://schema.org/TouristInformationCenter>', 3),\n",
              " ('<https://schema.org/BoatTerminal>', 4),\n",
              " ('<http://schema.org/CafeOrCoffeeShop>', 9),\n",
              " ('<https://schema.org/MusicStore>', 3),\n",
              " ('<http://schema.org/ReadAction>', 2),\n",
              " ('<https://schema.org/AutoWash>', 4),\n",
              " ('<https://schema.org/Church>', 11),\n",
              " ('<https://schema.org/Pharmacy>', 3),\n",
              " ('<https://schema.org/HardwareStore>', 10),\n",
              " ('<http://schema.org/Article>', 19),\n",
              " ('<https://schema.org/Organization>', 8),\n",
              " ('<https://schema.org/Canal>', 11),\n",
              " ('<http://schema.org/Tourist%20Destination>', 8),\n",
              " ('<http://schema.org/ConvenienceStore>', 8),\n",
              " ('<http://schema.org/ContactPoint>', 6),\n",
              " ('<http://schema.org/TireShop>', 8),\n",
              " ('<https://schema.org/Casino>', 4),\n",
              " ('<https://schema.org/Dentist>', 3),\n",
              " ('<http://schema.org/Motel>', 16),\n",
              " ('<https://schema.org/ArtGallery>', 4),\n",
              " ('<https://schema.org/StadiumOrArena>', 11),\n",
              " ('<https://schema.org/HairSalon>', 3),\n",
              " ('<https://schema.org/Synagogue>', 5),\n",
              " ('<https://schema.org/Volcano>', 11),\n",
              " ('<https://schema.org/AutoRepair>', 3),\n",
              " ('<https://schema.org/LocalBusiness>', 5),\n",
              " ('<http://schema.org/HVACBusiness>', 9),\n",
              " ('<http://schema.org/PostOffice>', 8),\n",
              " ('<https://schema.org/Cemetery>', 11),\n",
              " ('<https://schema.org/Resort>', 11),\n",
              " ('<http://schema.org/SearchAction>', 3),\n",
              " ('<https://schema.org/CityHall>', 10),\n",
              " ('<https://schema.org/Mountain>', 19),\n",
              " ('<https://schema.org/Store>', 6),\n",
              " ('<https://schema.org/Locksmith>', 3),\n",
              " ('<http://schema.org/CivicStructure>', 3),\n",
              " ('<https://schema.org/AdministrativeArea>', 12),\n",
              " ('<http://dbpedia.org/ontology/NaturalPlace>', 50),\n",
              " ('<http://schema.org/HardwareStore>', 10),\n",
              " ('<http://schema.org/CatholicChurch>', 3),\n",
              " ('<http://schema.org/EmergencyService>', 6),\n",
              " ('<http://schema.org/Resort>', 9),\n",
              " ('<https://schema.org/BowlingAlley>', 3),\n",
              " ('<http://schema.org/AutoPartsStore>', 9),\n",
              " ('<http://schema.org/AggregateRating>', 8),\n",
              " ('<https://schema.org/LandmarksOrHistoricalBuildings>', 11),\n",
              " ('<http://schema.org/FoodEstablishment>', 15),\n",
              " ('<http://schema.org/TouristAttraction>', 33),\n",
              " ('<http://schema.org/ListItem>', 7),\n",
              " ('<https://schema.org/Place>', 12),\n",
              " ('<http://schema.org/place>', 4),\n",
              " ('<https://schema.org/GasStation>', 11),\n",
              " ('<https://schema.org/TravelAction>', 6),\n",
              " ('<http://schema.org/AnimalShelter>', 9),\n",
              " ('<https://schema.org/Airport>', 11),\n",
              " ('<http://schema.org/Answer>', 2),\n",
              " ('<http://schema.org/WPHeader>', 1),\n",
              " ('<https://schema.org/EventVenue>', 3),\n",
              " ('<https://schema.org/SportsActivityLocation>', 11),\n",
              " ('<https://schema.org/Zoo>', 5),\n",
              " ('<https://schema.org/CafeOrCoffeeShop>', 11),\n",
              " ('<https://schema.org/SportingGoodsStore>', 4),\n",
              " ('<https://schema.org/ConvenienceStore>', 11),\n",
              " ('<http://schema.org/Church>', 12),\n",
              " ('<http://schema.org/GeoShape>', 2),\n",
              " ('<https://schema.org/Hospital>', 11),\n",
              " ('<http://dbpedia.org/ontology/Location>', 50),\n",
              " ('<http://schema.org/HighSchool>', 8),\n",
              " ('<https://schema.org/GeoCoordinates>', 4),\n",
              " ('<https://schema.org/ShoppingCenter>', 10),\n",
              " ('<http://schema.org/Winery>', 11),\n",
              " ('<http://schema.org/Mosque>', 3),\n",
              " ('<https://schema.org/AutoRental>', 3),\n",
              " ('<https://schema.org/PerformingArtsTheater>', 6),\n",
              " ('<http://schema.org/Museum>', 18),\n",
              " ('<http://schema.org/Preschool>', 8),\n",
              " ('<https://schema.org/LakeBodyOfWater>', 11),\n",
              " ('<http://schema.org/Blog>', 9),\n",
              " ('<https://schema.org/Restaurant>', 10),\n",
              " ('<http://schema.org/Store>', 11),\n",
              " ('<https://schema.org/PawnShop>', 3),\n",
              " ('<https://schema.org/PostOffice>', 11),\n",
              " ('<http://schema.org/PropertyValue>', 3),\n",
              " ('<http://schema.org/ExerciseAction>', 10),\n",
              " ('<https://schema.org/MedicalBusiness>', 3),\n",
              " ('<https://schema.org/AutoDealer>', 4),\n",
              " ('<https://schema.org/IceCreamShop>', 3),\n",
              " ('<https://schema.org/FireStation>', 10),\n",
              " ('<http://schema.org/Hospital>', 10),\n",
              " ('<http://schema.org/Blogposting>', 14),\n",
              " ('<http://schema.org/TravelAction>', 16),\n",
              " ('<https://schema.org/BusStation>', 10),\n",
              " ('<http://schema.org/BarOrPub>', 19),\n",
              " ('<http://schema.org/CommentAction>', 3),\n",
              " ('<http://schema.org/RiverBodyofWater>', 9),\n",
              " ('<https://schema.org/PoliceStation>', 11),\n",
              " ('<https://schema.org/Apartment>', 3),\n",
              " ('<https://schema.org/Museum>', 11),\n",
              " ('<http://schema.org/Florist>', 11),\n",
              " ('<http://schema.org/civicstructure>', 3),\n",
              " ('<https://schema.org/BookStore>', 3),\n",
              " ('<http://schema.org/OfficeEquipmentStore>', 9),\n",
              " ('<http://schema.org/Park>', 17),\n",
              " ('<http://schema.org/EducationalOrganization>', 11),\n",
              " ('<http://schema.org/Language>', 3),\n",
              " ('<http://schema.org/WPFooter>', 2),\n",
              " ('<https://schema.org/GolfCourse>', 6),\n",
              " ('<https://schema.org/Attorney>', 3),\n",
              " ('<https://schema.org/HobbyShop>', 3),\n",
              " ('<https://schema.org/RealEstateAgent>', 3),\n",
              " ('<https://schema.org/NightClub>', 3),\n",
              " ('<http://schema.org/EntryPoint>', 2),\n",
              " ('<https://schema.org/DaySpa>', 10),\n",
              " ('<https://schema.org/Mosque>', 10),\n",
              " ('<https://schema.org/Waterfall>', 11),\n",
              " ('<http://schema.org/Review>', 11),\n",
              " ('<https://schema.org/GovernmentOffice>', 11),\n",
              " ('<https://schema.org/HealthClub>', 3),\n",
              " ('<http://schema.org/InteractionCounter>', 4),\n",
              " ('<http://schema.org/GovernmentBuilding>', 6),\n",
              " ('<http://schema.org/SearchResultsPage>', 1),\n",
              " ('<http://schema.org/SiteNavigationElement>', 3),\n",
              " ('<http://schema.org/WPAdBlock>', 1),\n",
              " ('<http://schema.org/WPSideBar>', 2),\n",
              " ('<https://schema.org/City>', 11),\n",
              " ('<https://schema.org/MobilePhoneStore>', 3),\n",
              " ('<https://schema.org/RadioStation>', 9),\n",
              " ('<http://schema.org/BuddhistTemple>', 3),\n",
              " ('<http://schema.org/NGO>', 11),\n",
              " ('<https://schema.org/Distillery>', 6),\n",
              " ('<https://schema.org/Quotation>', 3),\n",
              " ('<http://schema.org/AdministrativeArea>', 12),\n",
              " ('<http://schema.org/FireStation>', 8),\n",
              " ('<https://schema.org/State>', 11),\n",
              " ('<http://schema.org/Event>', 11),\n",
              " ('<https://schema.org/ShoeStore>', 3),\n",
              " ('<https://schema.org/TaxiStand>', 3),\n",
              " ('<https://schema.org/TennisComplex>', 4),\n",
              " ('<http://schema.org/TouristTrip>', 7),\n",
              " ('<http://www.wikidata.org/entity/Q8502>', 50),\n",
              " ('<https://schema.org/TouristAttraction>', 11),\n",
              " ('<http://schema.org/BodyOfWater>', 7),\n",
              " ('<https://schema.org/Courthouse>', 10),\n",
              " ('<https://schema.org/DepartmentStore>', 4),\n",
              " ('<https://schema.org/LiquorStore>', 3),\n",
              " ('<https://schema.org/RVPark>', 3),\n",
              " ('<http://schema.org/Country>', 3),\n",
              " ('<http://schema.org/ImageObject>', 17),\n",
              " ('<http://schema.org/LandmarksOrHistoricalBuildings>', 14),\n",
              " ('<http://schema.org/ImageGallery>', 6),\n",
              " ('<https://schema.org/Brewery>', 4),\n",
              " ('<https://schema.org/Landform>', 12),\n",
              " ('<https://schema.org/ListItem>', 5),\n",
              " ('<https://schema.org/PlaceOfWorship>', 11),\n",
              " ('<https://schema.org/DryCleaningOrLaundry>', 3),\n",
              " ('<https://schema.org/FastFoodRestaurant>', 10),\n",
              " ('<http://schema.org/FAQPage>', 9),\n",
              " ('<https://schema.org/FurnitureStore>', 3),\n",
              " ('<https://schema.org/GardenStore>', 3),\n",
              " ('<https://schema.org/TravelAgency>', 3),\n",
              " ('<http://schema.org/Restaurant>', 20),\n",
              " ('<http://schema.org/SelfStorage>', 9),\n",
              " ('<http://www.schema.org/SiteNavigationElement>', 3),\n",
              " ('<http://schema.org/PostalAddress>', 13),\n",
              " ('<https://schema.org/Hostel>', 6),\n",
              " ('<https://schema.org/WebPage>', 3),\n",
              " ('<https://schema.org/Winery>', 3),\n",
              " ('<http://schema.org/QuantitativeValue>', 2),\n",
              " ('<https://schema.org/AnimalShelter>', 5),\n",
              " ('<http://dbpedia.org/ontology/Mountain>', 50),\n",
              " ('<https://schema.org/HinduTemple>', 6),\n",
              " ('<https://schema.org/Reservoir>', 11),\n",
              " ('<http://dbpedia.org/ontology/Place>', 50),\n",
              " ('<http://schema.org/Question>', 3),\n",
              " ('<https://schema.org/School>', 11),\n",
              " ('<http://schema.org/mountain>', 4),\n",
              " ('<https://schema.org/BodyOfWater>', 11),\n",
              " ('<https://schema.org/Physician>', 3),\n",
              " ('<https://schema.org/TrainStation>', 11),\n",
              " ('<http://schema.org/BreadcrumbList>', 2),\n",
              " ('<http://schema.org/ExercisePlan>', 2),\n",
              " ('<http://schema.org/CollectionPage>', 5),\n",
              " ('<http://schema.org/SportsActivityLocation>', 9),\n",
              " ('<https://schema.org/EmergencyService>', 10),\n",
              " ('<https://schema.org/LodgingBusiness>', 10),\n",
              " ('<https://schema.org/Pond>', 11),\n",
              " ('<http://schema.org/ElementarySchool>', 8),\n",
              " ('<https://schema.org/BuddhistTemple>', 11),\n",
              " ('<http://data-vocabulary.org/Breadcrumb>', 3),\n",
              " ('<http://schema.org/School>', 8),\n",
              " ('<https://schema.org/Hotel>', 11),\n",
              " ('<https://schema.org/ChildCare>', 3),\n",
              " ('<https://schema.org/Playground>', 10),\n",
              " ('<http://schema.org/Person>', 12),\n",
              " ('<https://schema.org/AutoPartsStore>', 3),\n",
              " ('<https://schema.org/SubwayStation>', 6),\n",
              " ('<http://schema.org/RealEstateAgent>', 10),\n",
              " ('<https://schema.org/Beach>', 11),\n",
              " ('<https://schema.org/PetStore>', 3),\n",
              " ('<http://schema.org/GasStation>', 10),\n",
              " ('<https://schema.org/Map>', 2),\n",
              " ('<http://schema.org/AutoRepair>', 9),\n",
              " ('<http://schema.org/Place>', 65),\n",
              " ('<http://schema.org/Volcano>', 5),\n",
              " ('<http://www.w3.org/2003/01/geo/wgs84_pos#SpatialThing>', 50),\n",
              " ('<http://schema.org/Pharmacy>', 9),\n",
              " ('<https://schema.org/Plumber>', 3),\n",
              " ('<https://schema.org/GovernmentBuilding>', 11),\n",
              " ('<https://schema.org/InternetCafe>', 3),\n",
              " ('<https://schema.org/ParkingFacility>', 10),\n",
              " ('<http://schema.org/Audience>', 3),\n",
              " ('<https://schema.org/ApartmentComplex>', 6),\n",
              " ('<https://schema.org/Bridge>', 11),\n",
              " ('<https://stmartin.suedlicheweinstrasse.de/st-martin/sehenswuerdigkeiten/infosystem/Hochberggipfel-mit-Steinernem-Koeppel_St-Martin/ImageObject>',\n",
              "  1),\n",
              " ('<http://schema.org/Hotel>', 15),\n",
              " ('<http://schema.org/Rating>', 5),\n",
              " ('<https://schema.org/Person>', 3),\n",
              " ('<https://schema.org/ElectronicsStore>', 3),\n",
              " ('<http://schema.org/VideoObject>', 7),\n",
              " ('<https://schema.org/EducationalOrganization>', 6),\n",
              " ('<https://schema.org/ImageObject>', 7),\n",
              " ('<https://schema.org/BreadcrumbList>', 2),\n",
              " ('<http://schema.org/Offer>', 11),\n",
              " ('<http://schema.org/propertyValue>', 3),\n",
              " ('<https://schema.org/EmploymentAgency>', 3),\n",
              " ('<http://schema.org/NewsMediaOrganization>', 10),\n",
              " ('<http://schema.org/FinancialService>', 7),\n",
              " ('<http://schema.org/CreativeWork>', 3),\n",
              " ('<http://schema.org/Mountain>', 93),\n",
              " ('<https://schema.org/BankOrCreditUnion>', 11),\n",
              " ('<https://schema.org/DonateAction>', 2),\n",
              " ('<http://schema.org/ItemList>', 13),\n",
              " ('<https://schema.org/CivicStructure>', 4),\n",
              " ('<https://schema.org/CollegeOrUniversity>', 11),\n",
              " ('<https://schema.org/MotorcycleDealer>', 11),\n",
              " ('<http://schema.org/TouristDestination>', 18),\n",
              " ('<https://schema.org/Country>', 2),\n",
              " ('<https://schema.org/HomeAndConstructionBusiness>', 3),\n",
              " ('<http://schema.org/WebPage>', 13),\n",
              " ('<https://schema.org/Nursing>', 3),\n",
              " ('<https://schema.org/AutomotiveBusiness>', 4),\n",
              " ('<http://schema.org/SkiResort>', 18),\n",
              " ('<http://schema.org/Waterfall>', 10),\n",
              " ('<http://schema.org/BowlingAlley>', 13),\n",
              " ('<http://schema.org/RiverBodyOfWater>', 8),\n",
              " ('<https://schema.org/Bakery>', 4),\n",
              " ('<https://schema.org/MovieTheater>', 10),\n",
              " ('<http://schema.org/Library>', 8),\n",
              " ('<https://schema.org/Library>', 5),\n",
              " ('<https://schema.org/MedicalClinic>', 10),\n",
              " ('<http://schema.org/City>', 9),\n",
              " ('<http://schema.org/ParkingFacility>', 5),\n",
              " ('<http://schema.org/WebSite>', 9),\n",
              " ('<https://schema.org/Motel>', 10),\n",
              " ('<https://schema.org/WholesaleStore>', 3),\n",
              " ('<http://schema.org/Bridge>', 3),\n",
              " ('<https://schema.org/Emergency>', 3)]"
            ]
          },
          "metadata": {},
          "execution_count": 35
        }
      ]
    },
    {
      "cell_type": "markdown",
      "source": [
        "- QD1 CONSTRUCT { <D> v:propertyPartition [ v:property ?p ] } WHERE { ?s ?p ?o }\n",
        "- QD2 CONSTRUCT { <D> v:propertyPartition [ v:property ?p ; v:triples ?x ] }\n",
        "WHERE { SELECT (COUNT(?o) AS ?x) ?p WHERE { ?s ?p ?o } GROUP BY ?p }\n",
        "- QD3 CONSTRUCT { <D> v:propertyPartition [ v:property ?p ; v:distinctSubjects ?x ] }\n",
        "WHERE { SELECT (COUNT(DISTINCT ?s) AS ?x) ?p WHERE { ?s ?p ?o } GROUP BY ?p }\n",
        "- QD4 CONSTRUCT { <D> v:propertyPartition [ v:property ?p ; v:distinctObjects ?x ] }\n",
        "WHERE { SELECT (COUNT(DISTINCT ?o) AS ?x) ?p WHERE { ?s ?p ?o } GROUP BY ?p }"
      ],
      "metadata": {
        "id": "97ZjTj6Fg-zD"
      }
    },
    {
      "cell_type": "code",
      "source": [
        "Your code ??"
      ],
      "metadata": {
        "id": "89F_wX_1haKB"
      },
      "execution_count": null,
      "outputs": []
    },
    {
      "cell_type": "markdown",
      "source": [
        "- QE1 CONSTRUCT { <D> v:classPartition [ v:class ?c ; v:propertyPartition [ v:property ?p ] ] }\n",
        "WHERE { ?s a ?c ; ?p ?o }\n",
        "- QE2 CONSTRUCT { <D> v:classPartition [ v:class ?c\n",
        "v:propertyPartition [ v:property ?p ; v:triples ?x ] ] }\n",
        "WHERE { SELECT (COUNT(?o) AS ?x) ?p WHERE { ?s a ?c ; ?p ?o } GROUP BY ?c ?p }\n",
        "- QE3 CONSTRUCT { <D> v:classPartition [ v:class ?c ;\n",
        "v:propertyPartition [ v:distinctSubjects ?x ] ] }\n",
        "WHERE { SELECT (COUNT(DISTINCT ?s) AS ?x) ?c ?p WHERE { ?s a ?c ; ?p ?o } GROUP BY ?c ?p }\n",
        "- QE4 CONSTRUCT { <D> v:classPartition [ v:class ?c ;\n",
        "v:propertyPartition [ v:distinctObjects ?x ; v:property ?p ] ] }\n",
        "WHERE { SELECT (COUNT(DISTINCT ?o) AS ?x) ?c ?p WHERE { ?s a ?c ; ?p ?o } GROUP BY ?c ?p }"
      ],
      "metadata": {
        "id": "mxe3xkJfhNxR"
      }
    },
    {
      "cell_type": "code",
      "source": [
        "Your code"
      ],
      "metadata": {
        "id": "qv8Qjo00hbrv"
      },
      "execution_count": null,
      "outputs": []
    },
    {
      "cell_type": "markdown",
      "source": [
        "# Same Exercice with PySpark SQL\n",
        "\n"
      ],
      "metadata": {
        "id": "Li1TEohMhx6T"
      }
    },
    {
      "cell_type": "code",
      "source": [
        "from pyspark.sql import Row\n",
        "spo=triples.map(lambda x: Row(subject=x[0],predicate=x[1],object=x[2]))\n",
        "df=spark.createDataFrame(spo)\n",
        "df.createOrReplaceTempView(\"SPO\")\n",
        "df.show()\n",
        "\n"
      ],
      "metadata": {
        "colab": {
          "base_uri": "https://localhost:8080/"
        },
        "id": "aFnWNjqBh5k2",
        "outputId": "2105b986-c29c-4dce-9bc3-f2066472a624"
      },
      "execution_count": null,
      "outputs": [
        {
          "output_type": "stream",
          "name": "stdout",
          "text": [
            "+--------------------+--------------------+--------------------+\n",
            "|             subject|           predicate|              object|\n",
            "+--------------------+--------------------+--------------------+\n",
            "|<http://dbpedia.o...|<http://dbpedia.o...|<http://dbpedia.o...|\n",
            "|<http://dbpedia.o...|<http://dbpedia.o...|<http://dbpedia.o...|\n",
            "|<http://dbpedia.o...|<http://dbpedia.o...|<http://dbpedia.o...|\n",
            "|<http://dbpedia.o...|<http://dbpedia.o...|<http://dbpedia.o...|\n",
            "|<http://dbpedia.o...|<http://dbpedia.o...|<http://dbpedia.o...|\n",
            "|<http://dbpedia.o...|<http://dbpedia.o...|<http://dbpedia.o...|\n",
            "|<http://dbpedia.o...|<http://dbpedia.o...|<http://dbpedia.o...|\n",
            "|<http://dbpedia.o...|<http://dbpedia.o...|<http://dbpedia.o...|\n",
            "|<http://dbpedia.o...|<http://dbpedia.o...|<http://dbpedia.o...|\n",
            "|<http://dbpedia.o...|<http://dbpedia.o...|<http://dbpedia.o...|\n",
            "|<http://dbpedia.o...|<http://dbpedia.o...|<http://dbpedia.o...|\n",
            "|<http://dbpedia.o...|<http://dbpedia.o...|<http://dbpedia.o...|\n",
            "|<http://dbpedia.o...|<http://dbpedia.o...|<http://dbpedia.o...|\n",
            "|<http://dbpedia.o...|<http://dbpedia.o...|<http://dbpedia.o...|\n",
            "|<http://dbpedia.o...|<http://dbpedia.o...|<http://dbpedia.o...|\n",
            "|<http://dbpedia.o...|<http://dbpedia.o...|<http://dbpedia.o...|\n",
            "|<http://dbpedia.o...|<http://dbpedia.o...|<http://dbpedia.o...|\n",
            "|<http://dbpedia.o...|<http://dbpedia.o...|<http://dbpedia.o...|\n",
            "|<http://dbpedia.o...|<http://dbpedia.o...|<http://dbpedia.o...|\n",
            "|<http://dbpedia.o...|<http://dbpedia.o...|<http://dbpedia.o...|\n",
            "+--------------------+--------------------+--------------------+\n",
            "only showing top 20 rows\n",
            "\n"
          ]
        }
      ]
    },
    {
      "cell_type": "code",
      "source": [
        "\n",
        "result=spark.sql(\"select subject from SPO\")\n",
        "result.show()"
      ],
      "metadata": {
        "colab": {
          "base_uri": "https://localhost:8080/"
        },
        "id": "yLIpbyfykQ-Q",
        "outputId": "cccecf83-f4b3-4438-a6e7-35dab5b91919"
      },
      "execution_count": null,
      "outputs": [
        {
          "output_type": "stream",
          "name": "stdout",
          "text": [
            "+--------------------+\n",
            "|             subject|\n",
            "+--------------------+\n",
            "|<http://dbpedia.o...|\n",
            "|<http://dbpedia.o...|\n",
            "|<http://dbpedia.o...|\n",
            "|<http://dbpedia.o...|\n",
            "|<http://dbpedia.o...|\n",
            "|<http://dbpedia.o...|\n",
            "|<http://dbpedia.o...|\n",
            "|<http://dbpedia.o...|\n",
            "|<http://dbpedia.o...|\n",
            "|<http://dbpedia.o...|\n",
            "|<http://dbpedia.o...|\n",
            "|<http://dbpedia.o...|\n",
            "|<http://dbpedia.o...|\n",
            "|<http://dbpedia.o...|\n",
            "|<http://dbpedia.o...|\n",
            "|<http://dbpedia.o...|\n",
            "|<http://dbpedia.o...|\n",
            "|<http://dbpedia.o...|\n",
            "|<http://dbpedia.o...|\n",
            "|<http://dbpedia.o...|\n",
            "+--------------------+\n",
            "only showing top 20 rows\n",
            "\n"
          ]
        }
      ]
    },
    {
      "cell_type": "markdown",
      "source": [
        "Write SQL PySpark for the following queries (your can ignore the construct statement, just compute the select part...)\n",
        "\n",
        "QB1 CONSTRUCT { v:triples ?x } WHERE { SELECT (COUNT(*) AS ?x) WHERE { ?s ?p ?o } }\n",
        "\n",
        "QB2 CONSTRUCT { v:classes ?x } WHERE { SELECT (COUNT(DISTINCT ?o) AS ?x) WHERE { ?s a ?o } }\n",
        "\n",
        "QB3 CONSTRUCT { v:properties ?x } WHERE { SELECT (COUNT(DISTINCT ?p) AS ?x) WHERE { ?s ?p ?o } }\n",
        "\n",
        "QB4 CONSTRUCT { v:distinctSubjects ?x } WHERE { SELECT (COUNT(DISTINCT ?s) AS ?x) WHERE { ?s ?p ?o } }\n",
        "\n",
        "QB5 CONSTRUCT { v:distinctObjects ?x } WHERE { SELECT (COUNT(DISTINCT ?o) AS ?x) WHERE { ?s ?p ?o } }"
      ],
      "metadata": {
        "id": "pjK-ux6WnBum"
      }
    },
    {
      "cell_type": "code",
      "source": [
        "Your Code"
      ],
      "metadata": {
        "id": "nXTYMJYCiIuK"
      },
      "execution_count": null,
      "outputs": []
    }
  ]
}