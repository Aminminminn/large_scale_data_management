{
  "nbformat": 4,
  "nbformat_minor": 0,
  "metadata": {
    "colab": {
      "provenance": [],
      "collapsed_sections": [],
      "authorship_tag": "ABX9TyP6F1KR8OIaigWKKaX+wBUA",
      "include_colab_link": true
    },
    "kernelspec": {
      "name": "python3",
      "display_name": "Python 3"
    },
    "language_info": {
      "name": "python"
    }
  },
  "cells": [
    {
      "cell_type": "markdown",
      "metadata": {
        "id": "view-in-github",
        "colab_type": "text"
      },
      "source": [
        "<a href=\"https://colab.research.google.com/github/momo54/large_scale_data_management/blob/main/VoiD_with_PySpark_RDD.ipynb\" target=\"_parent\"><img src=\"https://colab.research.google.com/assets/colab-badge.svg\" alt=\"Open In Colab\"/></a>"
      ]
    },
    {
      "cell_type": "markdown",
      "source": [
        "\n",
        "\n",
        "# Installing SPARK for Playing\n"
      ],
      "metadata": {
        "id": "rA7z32t7e1-U"
      }
    },
    {
      "cell_type": "code",
      "source": [
        "!pip install pyspark"
      ],
      "metadata": {
        "colab": {
          "base_uri": "https://localhost:8080/"
        },
        "id": "O-trb2SQbXlG",
        "outputId": "8e308522-a03b-4725-d243-6bf12a960a42"
      },
      "execution_count": 1,
      "outputs": [
        {
          "output_type": "stream",
          "name": "stdout",
          "text": [
            "Looking in indexes: https://pypi.org/simple, https://us-python.pkg.dev/colab-wheels/public/simple/\n",
            "Requirement already satisfied: pyspark in /usr/local/lib/python3.7/dist-packages (3.3.0)\n",
            "Requirement already satisfied: py4j==0.10.9.5 in /usr/local/lib/python3.7/dist-packages (from pyspark) (0.10.9.5)\n"
          ]
        }
      ]
    },
    {
      "cell_type": "code",
      "source": [
        "!pip install -q findspark\n",
        "import findspark\n",
        "findspark.init()\n"
      ],
      "metadata": {
        "id": "hXxKUhrWbqeo"
      },
      "execution_count": 2,
      "outputs": []
    },
    {
      "cell_type": "markdown",
      "source": [
        "# SPARK Installed... Start playing"
      ],
      "metadata": {
        "id": "0cUONB2qekaq"
      }
    },
    {
      "cell_type": "code",
      "source": [
        "from pyspark.sql import SparkSession\n",
        "spark = SparkSession.builder\\\n",
        "        .master(\"local\")\\\n",
        "        .appName(\"Colab\")\\\n",
        "        .config('spark.ui.port', '4050')\\\n",
        "        .getOrCreate()"
      ],
      "metadata": {
        "id": "nIOiyuKYbwpD"
      },
      "execution_count": 3,
      "outputs": []
    },
    {
      "cell_type": "code",
      "source": [
        "!wget -q https://storage.googleapis.com/public_lddm_data/small_page_links.nt\n",
        "!ls\n"
      ],
      "metadata": {
        "colab": {
          "base_uri": "https://localhost:8080/"
        },
        "id": "l3hT1MN1cLUX",
        "outputId": "84cac70a-cb8d-4905-ac17-c6ab6f1327cf"
      },
      "execution_count": 6,
      "outputs": [
        {
          "output_type": "stream",
          "name": "stdout",
          "text": [
            "sample_data\t     small_page_links.nt.1\n",
            "small_page_links.nt  spark-3.3.0-bin-hadoop3.tgz\n"
          ]
        }
      ]
    },
    {
      "cell_type": "code",
      "source": [
        "lines = spark.read.text(\"small_page_links.nt\").rdd.map(lambda r: r[0])\n"
      ],
      "metadata": {
        "id": "ipEyiQNgddZt"
      },
      "execution_count": 7,
      "outputs": []
    },
    {
      "cell_type": "code",
      "source": [
        "lines.take(5)"
      ],
      "metadata": {
        "colab": {
          "base_uri": "https://localhost:8080/"
        },
        "id": "t2m1GJP-djds",
        "outputId": "fcea125f-fecd-4e61-df02-e4a0fc291eaf"
      },
      "execution_count": 8,
      "outputs": [
        {
          "output_type": "execute_result",
          "data": {
            "text/plain": [
              "['<http://dbpedia.org/resource/AfghanistanHistory> <http://dbpedia.org/property/wikilink> <http://dbpedia.org/resource/History_of_Afghanistan> .',\n",
              " '<http://dbpedia.org/resource/AfghanistanGeography> <http://dbpedia.org/property/wikilink> <http://dbpedia.org/resource/Geography_of_Afghanistan> .',\n",
              " '<http://dbpedia.org/resource/AccessibleComputing> <http://dbpedia.org/property/wikilink> <http://dbpedia.org/resource/Computer_accessibility> .',\n",
              " '<http://dbpedia.org/resource/AfghanistanPeople> <http://dbpedia.org/property/wikilink> <http://dbpedia.org/resource/Demography_of_Afghanistan> .',\n",
              " '<http://dbpedia.org/resource/AfghanistanCommunications> <http://dbpedia.org/property/wikilink> <http://dbpedia.org/resource/Communications_in_Afghanistan> .']"
            ]
          },
          "metadata": {},
          "execution_count": 8
        }
      ]
    },
    {
      "cell_type": "code",
      "source": [
        "lines.count()"
      ],
      "metadata": {
        "colab": {
          "base_uri": "https://localhost:8080/"
        },
        "id": "98abFy-tdpV9",
        "outputId": "18804c7c-4609-4a18-ee05-94bad17d3c86"
      },
      "execution_count": 9,
      "outputs": [
        {
          "output_type": "execute_result",
          "data": {
            "text/plain": [
              "100000"
            ]
          },
          "metadata": {},
          "execution_count": 9
        }
      ]
    },
    {
      "cell_type": "code",
      "source": [
        "import re\n",
        "def parseTriple(line) :\n",
        "    \"\"\"Parses a urls pair string into urls pair.\"\"\"\n",
        "    parts = re.split(r'\\s+', line)\n",
        "    return parts[0], parts[1], parts[2]\n",
        "triples=lines.map(lambda x:parseTriple(x))\n",
        "triples.count()\n",
        "triples.take(1)"
      ],
      "metadata": {
        "colab": {
          "base_uri": "https://localhost:8080/"
        },
        "id": "OL8aSA_GjSQJ",
        "outputId": "bec6c597-f00c-4cb3-c680-e536dd407240"
      },
      "execution_count": 15,
      "outputs": [
        {
          "output_type": "execute_result",
          "data": {
            "text/plain": [
              "[('<http://dbpedia.org/resource/AfghanistanHistory>',\n",
              "  '<http://dbpedia.org/property/wikilink>',\n",
              "  '<http://dbpedia.org/resource/History_of_Afghanistan>')]"
            ]
          },
          "metadata": {},
          "execution_count": 15
        }
      ]
    },
    {
      "cell_type": "markdown",
      "source": [
        "# Exercice: Computing the VoiD for the Nt File with PySpark RDD\n",
        "\n",
        "Write RDD PySpark for the following queries (your can ignore the construct statement, just compute the select part...)\n",
        "\n",
        "- QB1 CONSTRUCT { <D> v:triples ?x }\n",
        "WHERE { SELECT (COUNT(*) AS ?x) WHERE { ?s ?p ?o } }\n",
        "\n",
        "- QB2 CONSTRUCT { <D> v:classes ?x }\n",
        "WHERE { SELECT (COUNT(DISTINCT ?o) AS ?x) WHERE { ?s a ?o } }\n",
        "\n",
        "- QB3 CONSTRUCT { <D> v:properties ?x }\n",
        "WHERE { SELECT (COUNT(DISTINCT ?p) AS ?x) WHERE { ?s ?p ?o } }\n",
        "\n",
        "- QB4 CONSTRUCT { <D> v:distinctSubjects ?x }\n",
        "WHERE { SELECT (COUNT(DISTINCT ?s) AS ?x) WHERE { ?s ?p ?o } }\n",
        "\n",
        "- QB5 CONSTRUCT { <D> v:distinctObjects ?x }\n",
        "WHERE { SELECT (COUNT(DISTINCT ?o) AS ?x) WHERE { ?s ?p ?o } }"
      ],
      "metadata": {
        "id": "jdXPbI9LfGYT"
      }
    },
    {
      "cell_type": "code",
      "source": [
        "your code ??"
      ],
      "metadata": {
        "id": "i7Zn5QkkhWhV"
      },
      "execution_count": null,
      "outputs": []
    },
    {
      "cell_type": "markdown",
      "source": [
        "- QC1 CONSTRUCT { <D> v:classPartition [ v:class ?c ] } WHERE { ?s a ?c }\n",
        "\n",
        "- QC2 CONSTRUCT { <D> v:classPartition [ v:class ?c ; v:triples ?x ] }\n",
        "WHERE { SELECT (COUNT(?p) AS ?x) ?c WHERE { ?s a ?c ; ?p ?o } GROUP BY ?c }\n",
        "- QC3 CONSTRUCT { <D> v:classPartition [ v:class ?c ; v:classes ?x ] }\n",
        "WHERE { SELECT (COUNT(DISTINCT ?d) AS ?x) ?c WHERE { ?s a ?c , ?d } GROUP BY ?c }\n",
        "- QC4 CONSTRUCT { <D> v:classPartition [ v:class ?c ; v:properties ?x ] }\n",
        "WHERE { SELECT (COUNT(DISTINCT ?p) AS ?x) ?c WHERE { ?s a ?c ; ?p ?o } GROUP BY ?c } \n",
        "- QC5 CONSTRUCT { <D> v:classPartition [ v:class ?c ; v:distinctSubjects ?x ] }\n",
        "WHERE { SELECT (COUNT(DISTINCT ?s) AS ?x) ?c WHERE { ?s a ?c } GROUP BY ?c }\n",
        "- QC6 CONSTRUCT { <D> v:classPartition [ v:class ?c ; v:distinctObjects ?x ] }\n",
        "WHERE { SELECT (COUNT(DISTINCT ?o) AS ?x) ?c WHERE { ?s a ?c ; ?p ?o } GROUP BY ?c }"
      ],
      "metadata": {
        "id": "S1Ap0MclgvfK"
      }
    },
    {
      "cell_type": "code",
      "source": [
        "Your code ??"
      ],
      "metadata": {
        "id": "God-8HdrhYUa"
      },
      "execution_count": null,
      "outputs": []
    },
    {
      "cell_type": "markdown",
      "source": [
        "- QD1 CONSTRUCT { <D> v:propertyPartition [ v:property ?p ] } WHERE { ?s ?p ?o }\n",
        "- QD2 CONSTRUCT { <D> v:propertyPartition [ v:property ?p ; v:triples ?x ] }\n",
        "WHERE { SELECT (COUNT(?o) AS ?x) ?p WHERE { ?s ?p ?o } GROUP BY ?p }\n",
        "- QD3 CONSTRUCT { <D> v:propertyPartition [ v:property ?p ; v:distinctSubjects ?x ] }\n",
        "WHERE { SELECT (COUNT(DISTINCT ?s) AS ?x) ?p WHERE { ?s ?p ?o } GROUP BY ?p }\n",
        "- QD4 CONSTRUCT { <D> v:propertyPartition [ v:property ?p ; v:distinctObjects ?x ] }\n",
        "WHERE { SELECT (COUNT(DISTINCT ?o) AS ?x) ?p WHERE { ?s ?p ?o } GROUP BY ?p }"
      ],
      "metadata": {
        "id": "97ZjTj6Fg-zD"
      }
    },
    {
      "cell_type": "code",
      "source": [
        "Your code ??"
      ],
      "metadata": {
        "id": "89F_wX_1haKB"
      },
      "execution_count": null,
      "outputs": []
    },
    {
      "cell_type": "markdown",
      "source": [
        "- QE1 CONSTRUCT { <D> v:classPartition [ v:class ?c ; v:propertyPartition [ v:property ?p ] ] }\n",
        "WHERE { ?s a ?c ; ?p ?o }\n",
        "- QE2 CONSTRUCT { <D> v:classPartition [ v:class ?c\n",
        "v:propertyPartition [ v:property ?p ; v:triples ?x ] ] }\n",
        "WHERE { SELECT (COUNT(?o) AS ?x) ?p WHERE { ?s a ?c ; ?p ?o } GROUP BY ?c ?p }\n",
        "- QE3 CONSTRUCT { <D> v:classPartition [ v:class ?c ;\n",
        "v:propertyPartition [ v:distinctSubjects ?x ] ] }\n",
        "WHERE { SELECT (COUNT(DISTINCT ?s) AS ?x) ?c ?p WHERE { ?s a ?c ; ?p ?o } GROUP BY ?c ?p }\n",
        "- QE4 CONSTRUCT { <D> v:classPartition [ v:class ?c ;\n",
        "v:propertyPartition [ v:distinctObjects ?x ; v:property ?p ] ] }\n",
        "WHERE { SELECT (COUNT(DISTINCT ?o) AS ?x) ?c ?p WHERE { ?s a ?c ; ?p ?o } GROUP BY ?c ?p }"
      ],
      "metadata": {
        "id": "mxe3xkJfhNxR"
      }
    },
    {
      "cell_type": "code",
      "source": [
        "Your code"
      ],
      "metadata": {
        "id": "qv8Qjo00hbrv"
      },
      "execution_count": null,
      "outputs": []
    },
    {
      "cell_type": "markdown",
      "source": [
        "# Same Exercice with PySpark SQL\n",
        "\n"
      ],
      "metadata": {
        "id": "Li1TEohMhx6T"
      }
    },
    {
      "cell_type": "code",
      "source": [
        "from pyspark.sql import Row\n",
        "spo=triples.map(lambda x: Row(subject=x[0],predicate=x[1],object=x[2]))\n",
        "df=spark.createDataFrame(spo)\n",
        "df.createOrReplaceTempView(\"SPO\")\n",
        "df.show()\n",
        "\n"
      ],
      "metadata": {
        "colab": {
          "base_uri": "https://localhost:8080/"
        },
        "id": "aFnWNjqBh5k2",
        "outputId": "2105b986-c29c-4dce-9bc3-f2066472a624"
      },
      "execution_count": 23,
      "outputs": [
        {
          "output_type": "stream",
          "name": "stdout",
          "text": [
            "+--------------------+--------------------+--------------------+\n",
            "|             subject|           predicate|              object|\n",
            "+--------------------+--------------------+--------------------+\n",
            "|<http://dbpedia.o...|<http://dbpedia.o...|<http://dbpedia.o...|\n",
            "|<http://dbpedia.o...|<http://dbpedia.o...|<http://dbpedia.o...|\n",
            "|<http://dbpedia.o...|<http://dbpedia.o...|<http://dbpedia.o...|\n",
            "|<http://dbpedia.o...|<http://dbpedia.o...|<http://dbpedia.o...|\n",
            "|<http://dbpedia.o...|<http://dbpedia.o...|<http://dbpedia.o...|\n",
            "|<http://dbpedia.o...|<http://dbpedia.o...|<http://dbpedia.o...|\n",
            "|<http://dbpedia.o...|<http://dbpedia.o...|<http://dbpedia.o...|\n",
            "|<http://dbpedia.o...|<http://dbpedia.o...|<http://dbpedia.o...|\n",
            "|<http://dbpedia.o...|<http://dbpedia.o...|<http://dbpedia.o...|\n",
            "|<http://dbpedia.o...|<http://dbpedia.o...|<http://dbpedia.o...|\n",
            "|<http://dbpedia.o...|<http://dbpedia.o...|<http://dbpedia.o...|\n",
            "|<http://dbpedia.o...|<http://dbpedia.o...|<http://dbpedia.o...|\n",
            "|<http://dbpedia.o...|<http://dbpedia.o...|<http://dbpedia.o...|\n",
            "|<http://dbpedia.o...|<http://dbpedia.o...|<http://dbpedia.o...|\n",
            "|<http://dbpedia.o...|<http://dbpedia.o...|<http://dbpedia.o...|\n",
            "|<http://dbpedia.o...|<http://dbpedia.o...|<http://dbpedia.o...|\n",
            "|<http://dbpedia.o...|<http://dbpedia.o...|<http://dbpedia.o...|\n",
            "|<http://dbpedia.o...|<http://dbpedia.o...|<http://dbpedia.o...|\n",
            "|<http://dbpedia.o...|<http://dbpedia.o...|<http://dbpedia.o...|\n",
            "|<http://dbpedia.o...|<http://dbpedia.o...|<http://dbpedia.o...|\n",
            "+--------------------+--------------------+--------------------+\n",
            "only showing top 20 rows\n",
            "\n"
          ]
        }
      ]
    },
    {
      "cell_type": "code",
      "source": [
        "\n",
        "result=spark.sql(\"select subject from SPO\")\n",
        "result.show()"
      ],
      "metadata": {
        "colab": {
          "base_uri": "https://localhost:8080/"
        },
        "id": "yLIpbyfykQ-Q",
        "outputId": "cccecf83-f4b3-4438-a6e7-35dab5b91919"
      },
      "execution_count": 25,
      "outputs": [
        {
          "output_type": "stream",
          "name": "stdout",
          "text": [
            "+--------------------+\n",
            "|             subject|\n",
            "+--------------------+\n",
            "|<http://dbpedia.o...|\n",
            "|<http://dbpedia.o...|\n",
            "|<http://dbpedia.o...|\n",
            "|<http://dbpedia.o...|\n",
            "|<http://dbpedia.o...|\n",
            "|<http://dbpedia.o...|\n",
            "|<http://dbpedia.o...|\n",
            "|<http://dbpedia.o...|\n",
            "|<http://dbpedia.o...|\n",
            "|<http://dbpedia.o...|\n",
            "|<http://dbpedia.o...|\n",
            "|<http://dbpedia.o...|\n",
            "|<http://dbpedia.o...|\n",
            "|<http://dbpedia.o...|\n",
            "|<http://dbpedia.o...|\n",
            "|<http://dbpedia.o...|\n",
            "|<http://dbpedia.o...|\n",
            "|<http://dbpedia.o...|\n",
            "|<http://dbpedia.o...|\n",
            "|<http://dbpedia.o...|\n",
            "+--------------------+\n",
            "only showing top 20 rows\n",
            "\n"
          ]
        }
      ]
    },
    {
      "cell_type": "markdown",
      "source": [
        "Write SQL PySpark for the following queries (your can ignore the construct statement, just compute the select part...)\n",
        "\n",
        "QB1 CONSTRUCT { v:triples ?x } WHERE { SELECT (COUNT(*) AS ?x) WHERE { ?s ?p ?o } }\n",
        "\n",
        "QB2 CONSTRUCT { v:classes ?x } WHERE { SELECT (COUNT(DISTINCT ?o) AS ?x) WHERE { ?s a ?o } }\n",
        "\n",
        "QB3 CONSTRUCT { v:properties ?x } WHERE { SELECT (COUNT(DISTINCT ?p) AS ?x) WHERE { ?s ?p ?o } }\n",
        "\n",
        "QB4 CONSTRUCT { v:distinctSubjects ?x } WHERE { SELECT (COUNT(DISTINCT ?s) AS ?x) WHERE { ?s ?p ?o } }\n",
        "\n",
        "QB5 CONSTRUCT { v:distinctObjects ?x } WHERE { SELECT (COUNT(DISTINCT ?o) AS ?x) WHERE { ?s ?p ?o } }"
      ],
      "metadata": {
        "id": "pjK-ux6WnBum"
      }
    },
    {
      "cell_type": "code",
      "source": [
        "Your Code"
      ],
      "metadata": {
        "id": "nXTYMJYCiIuK"
      },
      "execution_count": null,
      "outputs": []
    }
  ]
}