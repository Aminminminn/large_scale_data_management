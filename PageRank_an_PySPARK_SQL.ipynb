{
  "nbformat": 4,
  "nbformat_minor": 0,
  "metadata": {
    "colab": {
      "provenance": [],
      "authorship_tag": "ABX9TyMHtGAEqIhlA7CTACqv9n3q",
      "include_colab_link": true
    },
    "kernelspec": {
      "name": "python3",
      "display_name": "Python 3"
    },
    "language_info": {
      "name": "python"
    }
  },
  "cells": [
    {
      "cell_type": "markdown",
      "metadata": {
        "id": "view-in-github",
        "colab_type": "text"
      },
      "source": [
        "<a href=\"https://colab.research.google.com/github/momo54/large_scale_data_management/blob/main/PageRank_an_PySPARK_SQL.ipynb\" target=\"_parent\"><img src=\"https://colab.research.google.com/assets/colab-badge.svg\" alt=\"Open In Colab\"/></a>"
      ]
    },
    {
      "cell_type": "code",
      "source": [
        "!pip install pyspark"
      ],
      "metadata": {
        "colab": {
          "base_uri": "https://localhost:8080/"
        },
        "id": "iJTFdC0vVqiY",
        "outputId": "4da38c4e-44b6-433c-8b19-de9732bcecb8"
      },
      "execution_count": null,
      "outputs": [
        {
          "output_type": "stream",
          "name": "stdout",
          "text": [
            "Collecting pyspark\n",
            "  Downloading pyspark-3.5.0.tar.gz (316.9 MB)\n",
            "\u001b[2K     \u001b[90m━━━━━━━━━━━━━━━━━━━━━━━━━━━━━━━━━━━━━━━\u001b[0m \u001b[32m316.9/316.9 MB\u001b[0m \u001b[31m2.7 MB/s\u001b[0m eta \u001b[36m0:00:00\u001b[0m\n",
            "\u001b[?25h  Preparing metadata (setup.py) ... \u001b[?25l\u001b[?25hdone\n",
            "Requirement already satisfied: py4j==0.10.9.7 in /usr/local/lib/python3.10/dist-packages (from pyspark) (0.10.9.7)\n",
            "Building wheels for collected packages: pyspark\n",
            "  Building wheel for pyspark (setup.py) ... \u001b[?25l\u001b[?25hdone\n",
            "  Created wheel for pyspark: filename=pyspark-3.5.0-py2.py3-none-any.whl size=317425344 sha256=b1f220259879e64d30e05707df2b7665ade5888904fca399177cd15ac0a4c373\n",
            "  Stored in directory: /root/.cache/pip/wheels/41/4e/10/c2cf2467f71c678cfc8a6b9ac9241e5e44a01940da8fbb17fc\n",
            "Successfully built pyspark\n",
            "Installing collected packages: pyspark\n",
            "Successfully installed pyspark-3.5.0\n"
          ]
        }
      ]
    },
    {
      "cell_type": "code",
      "source": [
        "!pip install -q findspark\n",
        "import findspark\n",
        "findspark.init()"
      ],
      "metadata": {
        "id": "1KCvbWLtVtM0"
      },
      "execution_count": null,
      "outputs": []
    },
    {
      "cell_type": "code",
      "source": [
        "!wget -q https://storage.googleapis.com/public_lddm_data/small_page_links.nt\n",
        "!ls"
      ],
      "metadata": {
        "colab": {
          "base_uri": "https://localhost:8080/"
        },
        "id": "c170pcXpWHw4",
        "outputId": "5b4333b7-f7a4-4e8d-a37c-f334a527afa6"
      },
      "execution_count": null,
      "outputs": [
        {
          "output_type": "stream",
          "name": "stdout",
          "text": [
            "sample_data  small_page_links.nt\n"
          ]
        }
      ]
    },
    {
      "cell_type": "code",
      "source": [
        "from pyspark.sql import SparkSession\n",
        "from pyspark.sql.functions import col\n",
        "\n",
        "# Créez une session Spark\n",
        "spark = SparkSession.builder.appName(\"PageRankExample\").getOrCreate()\n"
      ],
      "metadata": {
        "id": "TtAMxYKoZDzr"
      },
      "execution_count": null,
      "outputs": []
    },
    {
      "cell_type": "code",
      "source": [
        "from pyspark.sql.types import StructType, StructField, StringType, IntegerType, DoubleType\n",
        "schema = StructType([\n",
        "    StructField(\"source\", StringType(), nullable=True),\n",
        "    StructField(\"predicate\", StringType(), nullable=True),\n",
        "    StructField(\"target\", StringType(), nullable=True)\n",
        "])"
      ],
      "metadata": {
        "id": "bwJ5e6iFbPRC"
      },
      "execution_count": null,
      "outputs": []
    },
    {
      "cell_type": "code",
      "source": [
        "# Chargez vos données web en tant que DataFrame\n",
        "# Supposons que vous ayez un DataFrame avec deux colonnes : 'source' et 'target' représentant les liens entre les pages web\n",
        "# Par exemple, vous pouvez le charger à partir d'un fichier CSV\n",
        "data = spark.read.option(\"delimiter\",\" \").csv(\"small_page_links.nt\", header=False, schema=schema)\n",
        "data.show(5,truncate=200)"
      ],
      "metadata": {
        "colab": {
          "base_uri": "https://localhost:8080/"
        },
        "id": "WDSxqtIxbkRd",
        "outputId": "6aefeb49-9aa5-4b1d-d7c0-01146120ff4f"
      },
      "execution_count": null,
      "outputs": [
        {
          "output_type": "stream",
          "name": "stdout",
          "text": [
            "+-------------------------------------------------------+--------------------------------------+-----------------------------------------------------------+\n",
            "|                                                 source|                             predicate|                                                     target|\n",
            "+-------------------------------------------------------+--------------------------------------+-----------------------------------------------------------+\n",
            "|       <http://dbpedia.org/resource/AfghanistanHistory>|<http://dbpedia.org/property/wikilink>|       <http://dbpedia.org/resource/History_of_Afghanistan>|\n",
            "|     <http://dbpedia.org/resource/AfghanistanGeography>|<http://dbpedia.org/property/wikilink>|     <http://dbpedia.org/resource/Geography_of_Afghanistan>|\n",
            "|      <http://dbpedia.org/resource/AccessibleComputing>|<http://dbpedia.org/property/wikilink>|       <http://dbpedia.org/resource/Computer_accessibility>|\n",
            "|        <http://dbpedia.org/resource/AfghanistanPeople>|<http://dbpedia.org/property/wikilink>|    <http://dbpedia.org/resource/Demography_of_Afghanistan>|\n",
            "|<http://dbpedia.org/resource/AfghanistanCommunications>|<http://dbpedia.org/property/wikilink>|<http://dbpedia.org/resource/Communications_in_Afghanistan>|\n",
            "+-------------------------------------------------------+--------------------------------------+-----------------------------------------------------------+\n",
            "only showing top 5 rows\n",
            "\n"
          ]
        }
      ]
    },
    {
      "cell_type": "code",
      "source": [
        "# So we can really write SQL !!\n",
        "data.createOrReplaceTempView(\"SPO\")\n",
        "result=spark.sql(\"select source from SPO\")\n",
        "result.show(5)"
      ],
      "metadata": {
        "colab": {
          "base_uri": "https://localhost:8080/"
        },
        "id": "_dYw-zlWeXf6",
        "outputId": "05638249-ecbb-446c-9c14-aa9bf5eecef9"
      },
      "execution_count": null,
      "outputs": [
        {
          "output_type": "stream",
          "name": "stdout",
          "text": [
            "+--------------------+\n",
            "|              source|\n",
            "+--------------------+\n",
            "|<http://dbpedia.o...|\n",
            "|<http://dbpedia.o...|\n",
            "|<http://dbpedia.o...|\n",
            "|<http://dbpedia.o...|\n",
            "|<http://dbpedia.o...|\n",
            "+--------------------+\n",
            "only showing top 5 rows\n",
            "\n"
          ]
        }
      ]
    },
    {
      "cell_type": "code",
      "source": [
        "data.take(1)"
      ],
      "metadata": {
        "colab": {
          "base_uri": "https://localhost:8080/"
        },
        "id": "jbrHqa1KZhiv",
        "outputId": "aeaaf869-3150-40d8-b0c5-abfab8456878"
      },
      "execution_count": null,
      "outputs": [
        {
          "output_type": "execute_result",
          "data": {
            "text/plain": [
              "[Row(source='<http://dbpedia.org/resource/AfghanistanHistory>', predicate='<http://dbpedia.org/property/wikilink>', target='<http://dbpedia.org/resource/History_of_Afghanistan>')]"
            ]
          },
          "metadata": {},
          "execution_count": 21
        }
      ]
    },
    {
      "cell_type": "code",
      "source": [
        "# Créez un DataFrame contenant le nombre de liens sortants pour chaque page\n",
        "outdegrees = data.groupBy(\"source\").count().withColumnRenamed(\"source\", \"page\").withColumnRenamed(\"count\", \"outDegree\")\n",
        "\n",
        "# Définissez le nombre d'itérations pour le calcul du PageRank\n",
        "max_iterations = 1\n",
        "damping_factor = 0.85\n",
        "\n",
        "# Initialisation du PageRank en attribuant à chaque page une valeur de départ\n",
        "initial_pagerank = 1.0\n",
        "\n",
        "# Créez un DataFrame contenant les valeurs de PageRank initiales\n",
        "pagerank = outdegrees.withColumn(\"pagerank\", col(\"outDegree\") / initial_pagerank)\n",
        "\n",
        "pagerank.show(5)\n"
      ],
      "metadata": {
        "colab": {
          "base_uri": "https://localhost:8080/"
        },
        "id": "l7XgCADodTfE",
        "outputId": "f874f295-4d12-4f67-f685-357b6c9e17fd"
      },
      "execution_count": null,
      "outputs": [
        {
          "output_type": "stream",
          "name": "stdout",
          "text": [
            "+--------------------+---------+--------+\n",
            "|                page|outDegree|pagerank|\n",
            "+--------------------+---------+--------+\n",
            "|<http://dbpedia.o...|      197|   197.0|\n",
            "|<http://dbpedia.o...|        1|     1.0|\n",
            "|<http://dbpedia.o...|       35|    35.0|\n",
            "|<http://dbpedia.o...|        1|     1.0|\n",
            "|<http://dbpedia.o...|        1|     1.0|\n",
            "+--------------------+---------+--------+\n",
            "only showing top 5 rows\n",
            "\n"
          ]
        }
      ]
    },
    {
      "cell_type": "code",
      "source": [
        "# Rejoignez le DataFrame pagerank avec le DataFrame data pour calculer la contribution à partir des liens entrants\n",
        "contrib = data.join(pagerank, data.target == pagerank.page, \"left\").select(\"source\", \"pagerank\")\n",
        "\n",
        "new_pagerank = contrib.groupBy(\"source\").sum(\"pagerank\").withColumnRenamed(\"source\", \"page\").withColumnRenamed(\"sum(pagerank)\", \"pagerank\")\n",
        "\n",
        "# Joignez le DataFrame \"new_pagerank\" avec le DataFrame \"outdegrees\" pour obtenir les \"outDegree\" appropriés\n",
        "pagerank = new_pagerank.join(outdegrees, new_pagerank.page == outdegrees.page, \"left\").select(new_pagerank.page, new_pagerank.pagerank, outdegrees.outDegree)\n",
        "\n",
        "# Appliquez la formule du PageRank\n",
        "pagerank = pagerank.withColumn(\"pagerank\", (1 - damping_factor) + damping_factor * col(\"pagerank\") / col(\"outDegree\"))\n"
      ],
      "metadata": {
        "id": "-2KZfyUqkuM5"
      },
      "execution_count": null,
      "outputs": []
    },
    {
      "cell_type": "code",
      "source": [
        " # Rejoignez le DataFrame pagerank avec le DataFrame data pour calculer la contribution à partir des liens entrants\n",
        "contrib = data.join(pagerank, data.target == pagerank.page, \"left\").select(\"source\", \"pagerank\")\n",
        "contrib.show(2,truncate=100)\n",
        "\n",
        "# Calculez le nouveau PageRank\n",
        "pagerank = contrib.groupBy(\"source\").sum(\"pagerank\").withColumnRenamed(\"source\", \"page\").withColumnRenamed(\"sum(pagerank)\", \"pagerank\")\n",
        "pagerank.show(2)\n",
        "\n",
        "# Appliquez la formule du PageRank\n",
        "pagerank = pagerank.withColumn(\"pagerank\", (1 - damping_factor) + damping_factor * col(\"pagerank\") /  pagerank[\"outDegree\"])\n",
        "pagerank.show(2)"
      ],
      "metadata": {
        "colab": {
          "base_uri": "https://localhost:8080/",
          "height": 703
        },
        "id": "OK9Ub4rId8Bg",
        "outputId": "1aab187a-5a00-477d-b7ab-d7dc55c23991"
      },
      "execution_count": null,
      "outputs": [
        {
          "output_type": "stream",
          "name": "stdout",
          "text": [
            "+--------------------------------------------------+--------+\n",
            "|                                            source|pagerank|\n",
            "+--------------------------------------------------+--------+\n",
            "|  <http://dbpedia.org/resource/AfghanistanHistory>|    NULL|\n",
            "|<http://dbpedia.org/resource/AfghanistanGeography>|    NULL|\n",
            "+--------------------------------------------------+--------+\n",
            "only showing top 2 rows\n",
            "\n",
            "+--------------------+---------+\n",
            "|                page| pagerank|\n",
            "+--------------------+---------+\n",
            "|<http://dbpedia.o...|     NULL|\n",
            "|<http://dbpedia.o...|3374891.0|\n",
            "+--------------------+---------+\n",
            "only showing top 2 rows\n",
            "\n"
          ]
        },
        {
          "output_type": "error",
          "ename": "AnalysisException",
          "evalue": "ignored",
          "traceback": [
            "\u001b[0;31m---------------------------------------------------------------------------\u001b[0m",
            "\u001b[0;31mAnalysisException\u001b[0m                         Traceback (most recent call last)",
            "\u001b[0;32m<ipython-input-33-d2e9b08f75b2>\u001b[0m in \u001b[0;36m<cell line: 10>\u001b[0;34m()\u001b[0m\n\u001b[1;32m      8\u001b[0m \u001b[0;34m\u001b[0m\u001b[0m\n\u001b[1;32m      9\u001b[0m \u001b[0;31m# Appliquez la formule du PageRank\u001b[0m\u001b[0;34m\u001b[0m\u001b[0;34m\u001b[0m\u001b[0m\n\u001b[0;32m---> 10\u001b[0;31m \u001b[0mpagerank\u001b[0m \u001b[0;34m=\u001b[0m \u001b[0mpagerank\u001b[0m\u001b[0;34m.\u001b[0m\u001b[0mwithColumn\u001b[0m\u001b[0;34m(\u001b[0m\u001b[0;34m\"pagerank\"\u001b[0m\u001b[0;34m,\u001b[0m \u001b[0;34m(\u001b[0m\u001b[0;36m1\u001b[0m \u001b[0;34m-\u001b[0m \u001b[0mdamping_factor\u001b[0m\u001b[0;34m)\u001b[0m \u001b[0;34m+\u001b[0m \u001b[0mdamping_factor\u001b[0m \u001b[0;34m*\u001b[0m \u001b[0mcol\u001b[0m\u001b[0;34m(\u001b[0m\u001b[0;34m\"pagerank\"\u001b[0m\u001b[0;34m)\u001b[0m \u001b[0;34m/\u001b[0m  \u001b[0mpagerank\u001b[0m\u001b[0;34m[\u001b[0m\u001b[0;34m\"outDegree\"\u001b[0m\u001b[0;34m]\u001b[0m\u001b[0;34m)\u001b[0m\u001b[0;34m\u001b[0m\u001b[0;34m\u001b[0m\u001b[0m\n\u001b[0m\u001b[1;32m     11\u001b[0m \u001b[0mpagerank\u001b[0m\u001b[0;34m.\u001b[0m\u001b[0mshow\u001b[0m\u001b[0;34m(\u001b[0m\u001b[0;36m2\u001b[0m\u001b[0;34m)\u001b[0m\u001b[0;34m\u001b[0m\u001b[0;34m\u001b[0m\u001b[0m\n",
            "\u001b[0;32m/usr/local/lib/python3.10/dist-packages/pyspark/sql/dataframe.py\u001b[0m in \u001b[0;36m__getitem__\u001b[0;34m(self, item)\u001b[0m\n\u001b[1;32m   3072\u001b[0m         \"\"\"\n\u001b[1;32m   3073\u001b[0m         \u001b[0;32mif\u001b[0m \u001b[0misinstance\u001b[0m\u001b[0;34m(\u001b[0m\u001b[0mitem\u001b[0m\u001b[0;34m,\u001b[0m \u001b[0mstr\u001b[0m\u001b[0;34m)\u001b[0m\u001b[0;34m:\u001b[0m\u001b[0;34m\u001b[0m\u001b[0;34m\u001b[0m\u001b[0m\n\u001b[0;32m-> 3074\u001b[0;31m             \u001b[0mjc\u001b[0m \u001b[0;34m=\u001b[0m \u001b[0mself\u001b[0m\u001b[0;34m.\u001b[0m\u001b[0m_jdf\u001b[0m\u001b[0;34m.\u001b[0m\u001b[0mapply\u001b[0m\u001b[0;34m(\u001b[0m\u001b[0mitem\u001b[0m\u001b[0;34m)\u001b[0m\u001b[0;34m\u001b[0m\u001b[0;34m\u001b[0m\u001b[0m\n\u001b[0m\u001b[1;32m   3075\u001b[0m             \u001b[0;32mreturn\u001b[0m \u001b[0mColumn\u001b[0m\u001b[0;34m(\u001b[0m\u001b[0mjc\u001b[0m\u001b[0;34m)\u001b[0m\u001b[0;34m\u001b[0m\u001b[0;34m\u001b[0m\u001b[0m\n\u001b[1;32m   3076\u001b[0m         \u001b[0;32melif\u001b[0m \u001b[0misinstance\u001b[0m\u001b[0;34m(\u001b[0m\u001b[0mitem\u001b[0m\u001b[0;34m,\u001b[0m \u001b[0mColumn\u001b[0m\u001b[0;34m)\u001b[0m\u001b[0;34m:\u001b[0m\u001b[0;34m\u001b[0m\u001b[0;34m\u001b[0m\u001b[0m\n",
            "\u001b[0;32m/usr/local/lib/python3.10/dist-packages/py4j/java_gateway.py\u001b[0m in \u001b[0;36m__call__\u001b[0;34m(self, *args)\u001b[0m\n\u001b[1;32m   1320\u001b[0m \u001b[0;34m\u001b[0m\u001b[0m\n\u001b[1;32m   1321\u001b[0m         \u001b[0manswer\u001b[0m \u001b[0;34m=\u001b[0m \u001b[0mself\u001b[0m\u001b[0;34m.\u001b[0m\u001b[0mgateway_client\u001b[0m\u001b[0;34m.\u001b[0m\u001b[0msend_command\u001b[0m\u001b[0;34m(\u001b[0m\u001b[0mcommand\u001b[0m\u001b[0;34m)\u001b[0m\u001b[0;34m\u001b[0m\u001b[0;34m\u001b[0m\u001b[0m\n\u001b[0;32m-> 1322\u001b[0;31m         return_value = get_return_value(\n\u001b[0m\u001b[1;32m   1323\u001b[0m             answer, self.gateway_client, self.target_id, self.name)\n\u001b[1;32m   1324\u001b[0m \u001b[0;34m\u001b[0m\u001b[0m\n",
            "\u001b[0;32m/usr/local/lib/python3.10/dist-packages/pyspark/errors/exceptions/captured.py\u001b[0m in \u001b[0;36mdeco\u001b[0;34m(*a, **kw)\u001b[0m\n\u001b[1;32m    183\u001b[0m                 \u001b[0;31m# Hide where the exception came from that shows a non-Pythonic\u001b[0m\u001b[0;34m\u001b[0m\u001b[0;34m\u001b[0m\u001b[0m\n\u001b[1;32m    184\u001b[0m                 \u001b[0;31m# JVM exception message.\u001b[0m\u001b[0;34m\u001b[0m\u001b[0;34m\u001b[0m\u001b[0m\n\u001b[0;32m--> 185\u001b[0;31m                 \u001b[0;32mraise\u001b[0m \u001b[0mconverted\u001b[0m \u001b[0;32mfrom\u001b[0m \u001b[0;32mNone\u001b[0m\u001b[0;34m\u001b[0m\u001b[0;34m\u001b[0m\u001b[0m\n\u001b[0m\u001b[1;32m    186\u001b[0m             \u001b[0;32melse\u001b[0m\u001b[0;34m:\u001b[0m\u001b[0;34m\u001b[0m\u001b[0;34m\u001b[0m\u001b[0m\n\u001b[1;32m    187\u001b[0m                 \u001b[0;32mraise\u001b[0m\u001b[0;34m\u001b[0m\u001b[0;34m\u001b[0m\u001b[0m\n",
            "\u001b[0;31mAnalysisException\u001b[0m: [UNRESOLVED_COLUMN.WITH_SUGGESTION] A column or function parameter with name `outDegree` cannot be resolved. Did you mean one of the following? [`page`, `pagerank`]."
          ]
        }
      ]
    },
    {
      "cell_type": "code",
      "execution_count": null,
      "metadata": {
        "id": "u39aYX1jzi8H",
        "colab": {
          "base_uri": "https://localhost:8080/"
        },
        "outputId": "f7b8bf03-309d-4d85-9f6e-80be88419db1"
      },
      "outputs": [
        {
          "output_type": "stream",
          "name": "stdout",
          "text": [
            "+--------------------+----------------+\n",
            "|                page|        pagerank|\n",
            "+--------------------+----------------+\n",
            "|<http://dbpedia.o...|            NULL|\n",
            "|<http://dbpedia.o...|1.34888295669E11|\n",
            "|<http://dbpedia.o...|            NULL|\n",
            "|<http://dbpedia.o...|     3.9950588E9|\n",
            "|<http://dbpedia.o...|            NULL|\n",
            "|<http://dbpedia.o...|            NULL|\n",
            "|<http://dbpedia.o...|            NULL|\n",
            "|<http://dbpedia.o...| 4.4257114758E11|\n",
            "|<http://dbpedia.o...|            NULL|\n",
            "|<http://dbpedia.o...|          3200.0|\n",
            "|<http://dbpedia.o...|8.65115911539E11|\n",
            "|<http://dbpedia.o...|3.19355551182E11|\n",
            "|<http://dbpedia.o...|           103.0|\n",
            "|<http://dbpedia.o...| 1.5766337839E10|\n",
            "|<http://dbpedia.o...|2.67332593952E11|\n",
            "|<http://dbpedia.o...|            NULL|\n",
            "|<http://dbpedia.o...| 9.1540640697E10|\n",
            "|<http://dbpedia.o...|9.63015028858E11|\n",
            "|<http://dbpedia.o...|            NULL|\n",
            "|<http://dbpedia.o...|            NULL|\n",
            "+--------------------+----------------+\n",
            "only showing top 20 rows\n",
            "\n"
          ]
        }
      ],
      "source": [
        "# Effectuez des itérations pour calculer le PageRank\n",
        "for iteration in range(max_iterations):\n",
        "    # Rejoignez le DataFrame pagerank avec le DataFrame data pour calculer la contribution à partir des liens entrants\n",
        "    contrib = data.join(pagerank, data.target == pagerank.page, \"left\").select(\"source\", \"pagerank\")\n",
        "\n",
        "    # Calculez le nouveau PageRank\n",
        "    pagerank = contrib.groupBy(\"source\").sum(\"pagerank\").withColumnRenamed(\"source\", \"page\").withColumnRenamed(\"sum(pagerank)\", \"pagerank\")\n",
        "\n",
        "    # Appliquez la formule du PageRank\n",
        "    #pagerank = pagerank.withColumn(\"pagerank\", (1 - damping_factor) + damping_factor * col(\"pagerank\") / outdegrees[\"outDegree\"])\n",
        "\n",
        "# Affichez les résultats\n",
        "pagerank.select(\"page\", \"pagerank\").show()\n",
        "\n",
        "# Arrêtez la session Spark\n",
        "# spark.stop()"
      ]
    }
  ]
}