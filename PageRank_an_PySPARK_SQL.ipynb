{
  "cells": [
    {
      "cell_type": "markdown",
      "metadata": {
        "colab_type": "text",
        "id": "view-in-github"
      },
      "source": [
        "<a href=\"https://colab.research.google.com/github/momo54/large_scale_data_management/blob/main/PageRank_an_PySPARK_SQL.ipynb\" target=\"_parent\"><img src=\"https://colab.research.google.com/assets/colab-badge.svg\" alt=\"Open In Colab\"/></a>"
      ]
    },
    {
      "cell_type": "code",
      "execution_count": 1,
      "metadata": {
        "colab": {
          "base_uri": "https://localhost:8080/"
        },
        "id": "iJTFdC0vVqiY",
        "outputId": "22fe9af3-e8f3-474e-eff7-aca15cff5867"
      },
      "outputs": [
        {
          "name": "stdout",
          "output_type": "stream",
          "text": [
            "Defaulting to user installation because normal site-packages is not writeable\n",
            "Collecting pyspark\n",
            "  Downloading pyspark-3.5.3.tar.gz (317.3 MB)\n",
            "\u001b[2K     \u001b[90m━━━━━━━━━━━━━━━━━━━━━━━━━━━━━━━━━━━━━━━\u001b[0m \u001b[32m317.3/317.3 MB\u001b[0m \u001b[31m3.4 MB/s\u001b[0m eta \u001b[36m0:00:00\u001b[0m00:01\u001b[0m00:01\u001b[0m\n",
            "\u001b[?25h  Preparing metadata (setup.py) ... \u001b[?25ldone\n",
            "\u001b[?25hCollecting py4j==0.10.9.7 (from pyspark)\n",
            "  Downloading py4j-0.10.9.7-py2.py3-none-any.whl.metadata (1.5 kB)\n",
            "Downloading py4j-0.10.9.7-py2.py3-none-any.whl (200 kB)\n",
            "\u001b[2K   \u001b[90m━━━━━━━━━━━━━━━━━━━━━━━━━━━━━━━━━━━━━━━━\u001b[0m \u001b[32m200.5/200.5 kB\u001b[0m \u001b[31m14.6 MB/s\u001b[0m eta \u001b[36m0:00:00\u001b[0m\n",
            "\u001b[?25hBuilding wheels for collected packages: pyspark\n",
            "  Building wheel for pyspark (setup.py) ... \u001b[?25ldone\n",
            "\u001b[?25h  Created wheel for pyspark: filename=pyspark-3.5.3-py2.py3-none-any.whl size=317840625 sha256=90ff72d2b6721060708bf1be500ada2cba1b0821ee438ff7a248465e719195be\n",
            "  Stored in directory: /home/amin3hajji/.cache/pip/wheels/07/a0/a3/d24c94bf043ab5c7e38c30491199a2a11fef8d2584e6df7fb7\n",
            "Successfully built pyspark\n",
            "Installing collected packages: py4j, pyspark\n",
            "Successfully installed py4j-0.10.9.7 pyspark-3.5.3\n"
          ]
        }
      ],
      "source": [
        "!pip install pyspark"
      ]
    },
    {
      "cell_type": "code",
      "execution_count": 2,
      "metadata": {
        "id": "1KCvbWLtVtM0"
      },
      "outputs": [],
      "source": [
        "!pip install -q findspark\n",
        "import findspark\n",
        "findspark.init()"
      ]
    },
    {
      "cell_type": "code",
      "execution_count": 3,
      "metadata": {
        "colab": {
          "base_uri": "https://localhost:8080/"
        },
        "id": "c170pcXpWHw4",
        "outputId": "de916377-59ea-4c47-ea87-6d8db77006f0"
      },
      "outputs": [
        {
          "name": "stdout",
          "output_type": "stream",
          "text": [
            "CharSets.ipynb\t\t\t  flatten2.pig\n",
            "GraphFramesPageRank.ipynb\t  map_reduce_with_py_sparl.ipynb\n",
            "PageRank_an_PySPARK_SQL.ipynb\t  people.csv\n",
            "PyPageRank.ipynb\t\t  pyspark\n",
            "README.md\t\t\t  run.sh\n",
            "Spark_Structured_Streaming.ipynb  small_page_links.nt\n",
            "Streaming_CSV.ipynb\t\t  small_page_links.nt.1\n",
            "VoiD_with_PySpark_RDD.ipynb\t  stream.py\n",
            "Wikipedia-Stream\t\t  vianu.pig\n",
            "Wikipedia_Events.ipynb\t\t  watdiv-100k.nt\n",
            "authors.pig\t\t\t  webdam-books.txt\n",
            "data\t\t\t\t  webdam-publishers.txt\n",
            "dataproc.py\t\t\t  wordcount.sh\n",
            "exam2022.ipynb\n"
          ]
        }
      ],
      "source": [
        "!wget -q https://storage.googleapis.com/public_lddm_data/small_page_links.nt\n",
        "!ls"
      ]
    },
    {
      "cell_type": "code",
      "execution_count": 4,
      "metadata": {
        "id": "TtAMxYKoZDzr"
      },
      "outputs": [
        {
          "name": "stderr",
          "output_type": "stream",
          "text": [
            "Setting default log level to \"WARN\".\n",
            "To adjust logging level use sc.setLogLevel(newLevel). For SparkR, use setLogLevel(newLevel).\n",
            "24/11/14 14:55:22 WARN NativeCodeLoader: Unable to load native-hadoop library for your platform... using builtin-java classes where applicable\n"
          ]
        }
      ],
      "source": [
        "from pyspark.sql import SparkSession\n",
        "from pyspark.sql.functions import col\n",
        "\n",
        "# Créez une session Spark\n",
        "spark = SparkSession.builder.appName(\"PageRankExample\").getOrCreate()\n"
      ]
    },
    {
      "cell_type": "code",
      "execution_count": 5,
      "metadata": {
        "id": "bwJ5e6iFbPRC"
      },
      "outputs": [],
      "source": [
        "from pyspark.sql.types import StructType, StructField, StringType, IntegerType, DoubleType\n",
        "schema = StructType([\n",
        "    StructField(\"source\", StringType(), nullable=True),\n",
        "    StructField(\"predicate\", StringType(), nullable=True),\n",
        "    StructField(\"target\", StringType(), nullable=True)\n",
        "])"
      ]
    },
    {
      "cell_type": "code",
      "execution_count": 6,
      "metadata": {
        "colab": {
          "base_uri": "https://localhost:8080/"
        },
        "id": "WDSxqtIxbkRd",
        "outputId": "9455cd48-6ab7-4e13-ecd0-19ec15e5bedd"
      },
      "outputs": [
        {
          "name": "stderr",
          "output_type": "stream",
          "text": [
            "                                                                                \r"
          ]
        },
        {
          "name": "stdout",
          "output_type": "stream",
          "text": [
            "+-------------------------------------------------------+--------------------------------------+-----------------------------------------------------------+\n",
            "|                                                 source|                             predicate|                                                     target|\n",
            "+-------------------------------------------------------+--------------------------------------+-----------------------------------------------------------+\n",
            "|       <http://dbpedia.org/resource/AfghanistanHistory>|<http://dbpedia.org/property/wikilink>|       <http://dbpedia.org/resource/History_of_Afghanistan>|\n",
            "|     <http://dbpedia.org/resource/AfghanistanGeography>|<http://dbpedia.org/property/wikilink>|     <http://dbpedia.org/resource/Geography_of_Afghanistan>|\n",
            "|      <http://dbpedia.org/resource/AccessibleComputing>|<http://dbpedia.org/property/wikilink>|       <http://dbpedia.org/resource/Computer_accessibility>|\n",
            "|        <http://dbpedia.org/resource/AfghanistanPeople>|<http://dbpedia.org/property/wikilink>|    <http://dbpedia.org/resource/Demography_of_Afghanistan>|\n",
            "|<http://dbpedia.org/resource/AfghanistanCommunications>|<http://dbpedia.org/property/wikilink>|<http://dbpedia.org/resource/Communications_in_Afghanistan>|\n",
            "+-------------------------------------------------------+--------------------------------------+-----------------------------------------------------------+\n",
            "only showing top 5 rows\n",
            "\n"
          ]
        }
      ],
      "source": [
        "# Chargez vos données web en tant que DataFrame\n",
        "# Supposons que vous ayez un DataFrame avec deux colonnes : 'source' et 'target' représentant les liens entre les pages web\n",
        "# Par exemple, vous pouvez le charger à partir d'un fichier CSV\n",
        "data = spark.read.option(\"delimiter\",\" \").csv(\"small_page_links.nt\", header=False, schema=schema)\n",
        "data.show(5,truncate=200)"
      ]
    },
    {
      "cell_type": "code",
      "execution_count": 7,
      "metadata": {
        "colab": {
          "base_uri": "https://localhost:8080/"
        },
        "id": "_dYw-zlWeXf6",
        "outputId": "8e1976b2-3e7f-4b45-f8c9-4514c48b427a"
      },
      "outputs": [
        {
          "name": "stdout",
          "output_type": "stream",
          "text": [
            "+--------------------+\n",
            "|              source|\n",
            "+--------------------+\n",
            "|<http://dbpedia.o...|\n",
            "|<http://dbpedia.o...|\n",
            "|<http://dbpedia.o...|\n",
            "|<http://dbpedia.o...|\n",
            "|<http://dbpedia.o...|\n",
            "+--------------------+\n",
            "only showing top 5 rows\n",
            "\n"
          ]
        }
      ],
      "source": [
        "# So we can really write SQL !!\n",
        "data.createOrReplaceTempView(\"SPO\")\n",
        "result=spark.sql(\"select source from SPO\")\n",
        "result.show(5)"
      ]
    },
    {
      "cell_type": "code",
      "execution_count": 8,
      "metadata": {
        "colab": {
          "base_uri": "https://localhost:8080/"
        },
        "id": "jbrHqa1KZhiv",
        "outputId": "aeaaf869-3150-40d8-b0c5-abfab8456878"
      },
      "outputs": [
        {
          "data": {
            "text/plain": [
              "[Row(source='<http://dbpedia.org/resource/AfghanistanHistory>', predicate='<http://dbpedia.org/property/wikilink>', target='<http://dbpedia.org/resource/History_of_Afghanistan>')]"
            ]
          },
          "execution_count": 8,
          "metadata": {},
          "output_type": "execute_result"
        }
      ],
      "source": [
        "data.take(1)"
      ]
    },
    {
      "cell_type": "code",
      "execution_count": 9,
      "metadata": {
        "colab": {
          "base_uri": "https://localhost:8080/"
        },
        "id": "l7XgCADodTfE",
        "outputId": "118553ac-2465-46b1-ad26-1a49a9c62c92"
      },
      "outputs": [
        {
          "name": "stderr",
          "output_type": "stream",
          "text": [
            "[Stage 3:==============>                                            (1 + 3) / 4]\r"
          ]
        },
        {
          "name": "stdout",
          "output_type": "stream",
          "text": [
            "+--------------------------------------------------------+---------+--------+\n",
            "|                                                    page|outDegree|pagerank|\n",
            "+--------------------------------------------------------+---------+--------+\n",
            "|            <http://dbpedia.org/resource/Actinopterygii>|      197|   197.0|\n",
            "|   <http://dbpedia.org/resource/AtlasShruggedCharacters>|        1|     1.0|\n",
            "|                     <http://dbpedia.org/resource/AbboT>|        1|     1.0|\n",
            "|           <http://dbpedia.org/resource/AcademicElitism>|        1|     1.0|\n",
            "|<http://dbpedia.org/resource/Atlas_%28disambiguation%29>|      145|   145.0|\n",
            "+--------------------------------------------------------+---------+--------+\n",
            "only showing top 5 rows\n",
            "\n"
          ]
        },
        {
          "name": "stderr",
          "output_type": "stream",
          "text": [
            "                                                                                \r"
          ]
        }
      ],
      "source": [
        "# Créez un DataFrame contenant le nombre de liens sortants pour chaque page\n",
        "outdegrees = data.groupBy(\"source\").count().withColumnRenamed(\"source\", \"page\").withColumnRenamed(\"count\", \"outDegree\")\n",
        "\n",
        "# Définissez le nombre d'itérations pour le calcul du PageRank\n",
        "max_iterations = 3\n",
        "damping_factor = 0.85\n",
        "\n",
        "# Initialisation du PageRank en attribuant à chaque page une valeur de départ\n",
        "initial_pagerank = 1.0\n",
        "\n",
        "# Créez un DataFrame contenant les valeurs de PageRank initiales\n",
        "pagerank = outdegrees.withColumn(\"pagerank\", col(\"outDegree\") / initial_pagerank)\n",
        "\n",
        "pagerank.show(5,truncate=100)\n"
      ]
    },
    {
      "cell_type": "code",
      "execution_count": 10,
      "metadata": {
        "colab": {
          "base_uri": "https://localhost:8080/"
        },
        "id": "-2KZfyUqkuM5",
        "outputId": "6b6355a1-5770-4038-b2e2-fab01501d5b8"
      },
      "outputs": [
        {
          "name": "stderr",
          "output_type": "stream",
          "text": [
            "                                                                                \r"
          ]
        },
        {
          "name": "stdout",
          "output_type": "stream",
          "text": [
            "+--------------------+--------+---------+\n",
            "|                page|pagerank|outDegree|\n",
            "+--------------------+--------+---------+\n",
            "|<http://dbpedia.o...|    NULL|      197|\n",
            "|<http://dbpedia.o...|    52.0|        1|\n",
            "|<http://dbpedia.o...|  158.25|        1|\n",
            "|<http://dbpedia.o...|    NULL|        1|\n",
            "|<http://dbpedia.o...|    NULL|      145|\n",
            "+--------------------+--------+---------+\n",
            "only showing top 5 rows\n",
            "\n"
          ]
        }
      ],
      "source": [
        "# Rejoignez le DataFrame pagerank avec le DataFrame data pour calculer la contribution à partir des liens entrants\n",
        "contrib = data.join(pagerank, data.target == pagerank.page, \"left\").select(\"source\", \"pagerank\")\n",
        "\n",
        "new_pagerank = contrib.groupBy(\"source\").sum(\"pagerank\").withColumnRenamed(\"source\", \"page\").withColumnRenamed(\"sum(pagerank)\", \"pagerank\")\n",
        "\n",
        "# Joignez le DataFrame \"new_pagerank\" avec le DataFrame \"outdegrees\" pour obtenir les \"outDegree\" appropriés\n",
        "pagerank = new_pagerank.join(outdegrees, new_pagerank.page == outdegrees.page, \"left\").select(new_pagerank.page, new_pagerank.pagerank, outdegrees.outDegree)\n",
        "\n",
        "# Appliquez la formule du PageRank\n",
        "pagerank = pagerank.withColumn(\"pagerank\", (1 - damping_factor) + damping_factor * col(\"pagerank\") / col(\"outDegree\"))\n",
        "pagerank.show(5)"
      ]
    },
    {
      "cell_type": "code",
      "execution_count": 11,
      "metadata": {
        "colab": {
          "base_uri": "https://localhost:8080/",
          "height": 686
        },
        "id": "OK9Ub4rId8Bg",
        "outputId": "0e7abe16-4afb-4110-c729-155eb00ec2d2"
      },
      "outputs": [
        {
          "name": "stdout",
          "output_type": "stream",
          "text": [
            "+--------------------------------------------------+--------+\n",
            "|                                            source|pagerank|\n",
            "+--------------------------------------------------+--------+\n",
            "|  <http://dbpedia.org/resource/AfghanistanHistory>|    NULL|\n",
            "|<http://dbpedia.org/resource/AfghanistanGeography>|    NULL|\n",
            "+--------------------------------------------------+--------+\n",
            "only showing top 2 rows\n",
            "\n",
            "+--------------------+-----------------+\n",
            "|                page|         pagerank|\n",
            "+--------------------+-----------------+\n",
            "|<http://dbpedia.o...|             NULL|\n",
            "|<http://dbpedia.o...|9.513934426229508|\n",
            "+--------------------+-----------------+\n",
            "only showing top 2 rows\n",
            "\n"
          ]
        },
        {
          "ename": "AnalysisException",
          "evalue": "[UNRESOLVED_COLUMN.WITH_SUGGESTION] A column or function parameter with name `outDegree` cannot be resolved. Did you mean one of the following? [`page`, `pagerank`].",
          "output_type": "error",
          "traceback": [
            "\u001b[0;31m---------------------------------------------------------------------------\u001b[0m",
            "\u001b[0;31mAnalysisException\u001b[0m                         Traceback (most recent call last)",
            "Cell \u001b[0;32mIn[11], line 11\u001b[0m\n\u001b[1;32m      8\u001b[0m pagerank\u001b[38;5;241m.\u001b[39mshow(\u001b[38;5;241m2\u001b[39m)\n\u001b[1;32m     10\u001b[0m \u001b[38;5;66;03m# Appliquez la formule du PageRank\u001b[39;00m\n\u001b[0;32m---> 11\u001b[0m pagerank \u001b[38;5;241m=\u001b[39m pagerank\u001b[38;5;241m.\u001b[39mwithColumn(\u001b[38;5;124m\"\u001b[39m\u001b[38;5;124mpagerank\u001b[39m\u001b[38;5;124m\"\u001b[39m, (\u001b[38;5;241m1\u001b[39m \u001b[38;5;241m-\u001b[39m damping_factor) \u001b[38;5;241m+\u001b[39m damping_factor \u001b[38;5;241m*\u001b[39m col(\u001b[38;5;124m\"\u001b[39m\u001b[38;5;124mpagerank\u001b[39m\u001b[38;5;124m\"\u001b[39m) \u001b[38;5;241m/\u001b[39m  \u001b[43mpagerank\u001b[49m\u001b[43m[\u001b[49m\u001b[38;5;124;43m\"\u001b[39;49m\u001b[38;5;124;43moutDegree\u001b[39;49m\u001b[38;5;124;43m\"\u001b[39;49m\u001b[43m]\u001b[49m)\n\u001b[1;32m     12\u001b[0m pagerank\u001b[38;5;241m.\u001b[39mshow(\u001b[38;5;241m2\u001b[39m)\n",
            "File \u001b[0;32m~/.local/lib/python3.12/site-packages/pyspark/sql/dataframe.py:3080\u001b[0m, in \u001b[0;36mDataFrame.__getitem__\u001b[0;34m(self, item)\u001b[0m\n\u001b[1;32m   3008\u001b[0m \u001b[38;5;250m\u001b[39m\u001b[38;5;124;03m\"\"\"Returns the column as a :class:`Column`.\u001b[39;00m\n\u001b[1;32m   3009\u001b[0m \n\u001b[1;32m   3010\u001b[0m \u001b[38;5;124;03m.. versionadded:: 1.3.0\u001b[39;00m\n\u001b[0;32m   (...)\u001b[0m\n\u001b[1;32m   3077\u001b[0m \u001b[38;5;124;03m+---+----+\u001b[39;00m\n\u001b[1;32m   3078\u001b[0m \u001b[38;5;124;03m\"\"\"\u001b[39;00m\n\u001b[1;32m   3079\u001b[0m \u001b[38;5;28;01mif\u001b[39;00m \u001b[38;5;28misinstance\u001b[39m(item, \u001b[38;5;28mstr\u001b[39m):\n\u001b[0;32m-> 3080\u001b[0m     jc \u001b[38;5;241m=\u001b[39m \u001b[38;5;28;43mself\u001b[39;49m\u001b[38;5;241;43m.\u001b[39;49m\u001b[43m_jdf\u001b[49m\u001b[38;5;241;43m.\u001b[39;49m\u001b[43mapply\u001b[49m\u001b[43m(\u001b[49m\u001b[43mitem\u001b[49m\u001b[43m)\u001b[49m\n\u001b[1;32m   3081\u001b[0m     \u001b[38;5;28;01mreturn\u001b[39;00m Column(jc)\n\u001b[1;32m   3082\u001b[0m \u001b[38;5;28;01melif\u001b[39;00m \u001b[38;5;28misinstance\u001b[39m(item, Column):\n",
            "File \u001b[0;32m~/.local/lib/python3.12/site-packages/py4j/java_gateway.py:1322\u001b[0m, in \u001b[0;36mJavaMember.__call__\u001b[0;34m(self, *args)\u001b[0m\n\u001b[1;32m   1316\u001b[0m command \u001b[38;5;241m=\u001b[39m proto\u001b[38;5;241m.\u001b[39mCALL_COMMAND_NAME \u001b[38;5;241m+\u001b[39m\\\n\u001b[1;32m   1317\u001b[0m     \u001b[38;5;28mself\u001b[39m\u001b[38;5;241m.\u001b[39mcommand_header \u001b[38;5;241m+\u001b[39m\\\n\u001b[1;32m   1318\u001b[0m     args_command \u001b[38;5;241m+\u001b[39m\\\n\u001b[1;32m   1319\u001b[0m     proto\u001b[38;5;241m.\u001b[39mEND_COMMAND_PART\n\u001b[1;32m   1321\u001b[0m answer \u001b[38;5;241m=\u001b[39m \u001b[38;5;28mself\u001b[39m\u001b[38;5;241m.\u001b[39mgateway_client\u001b[38;5;241m.\u001b[39msend_command(command)\n\u001b[0;32m-> 1322\u001b[0m return_value \u001b[38;5;241m=\u001b[39m \u001b[43mget_return_value\u001b[49m\u001b[43m(\u001b[49m\n\u001b[1;32m   1323\u001b[0m \u001b[43m    \u001b[49m\u001b[43manswer\u001b[49m\u001b[43m,\u001b[49m\u001b[43m \u001b[49m\u001b[38;5;28;43mself\u001b[39;49m\u001b[38;5;241;43m.\u001b[39;49m\u001b[43mgateway_client\u001b[49m\u001b[43m,\u001b[49m\u001b[43m \u001b[49m\u001b[38;5;28;43mself\u001b[39;49m\u001b[38;5;241;43m.\u001b[39;49m\u001b[43mtarget_id\u001b[49m\u001b[43m,\u001b[49m\u001b[43m \u001b[49m\u001b[38;5;28;43mself\u001b[39;49m\u001b[38;5;241;43m.\u001b[39;49m\u001b[43mname\u001b[49m\u001b[43m)\u001b[49m\n\u001b[1;32m   1325\u001b[0m \u001b[38;5;28;01mfor\u001b[39;00m temp_arg \u001b[38;5;129;01min\u001b[39;00m temp_args:\n\u001b[1;32m   1326\u001b[0m     \u001b[38;5;28;01mif\u001b[39;00m \u001b[38;5;28mhasattr\u001b[39m(temp_arg, \u001b[38;5;124m\"\u001b[39m\u001b[38;5;124m_detach\u001b[39m\u001b[38;5;124m\"\u001b[39m):\n",
            "File \u001b[0;32m~/.local/lib/python3.12/site-packages/pyspark/errors/exceptions/captured.py:185\u001b[0m, in \u001b[0;36mcapture_sql_exception.<locals>.deco\u001b[0;34m(*a, **kw)\u001b[0m\n\u001b[1;32m    181\u001b[0m converted \u001b[38;5;241m=\u001b[39m convert_exception(e\u001b[38;5;241m.\u001b[39mjava_exception)\n\u001b[1;32m    182\u001b[0m \u001b[38;5;28;01mif\u001b[39;00m \u001b[38;5;129;01mnot\u001b[39;00m \u001b[38;5;28misinstance\u001b[39m(converted, UnknownException):\n\u001b[1;32m    183\u001b[0m     \u001b[38;5;66;03m# Hide where the exception came from that shows a non-Pythonic\u001b[39;00m\n\u001b[1;32m    184\u001b[0m     \u001b[38;5;66;03m# JVM exception message.\u001b[39;00m\n\u001b[0;32m--> 185\u001b[0m     \u001b[38;5;28;01mraise\u001b[39;00m converted \u001b[38;5;28;01mfrom\u001b[39;00m \u001b[38;5;28;01mNone\u001b[39;00m\n\u001b[1;32m    186\u001b[0m \u001b[38;5;28;01melse\u001b[39;00m:\n\u001b[1;32m    187\u001b[0m     \u001b[38;5;28;01mraise\u001b[39;00m\n",
            "\u001b[0;31mAnalysisException\u001b[0m: [UNRESOLVED_COLUMN.WITH_SUGGESTION] A column or function parameter with name `outDegree` cannot be resolved. Did you mean one of the following? [`page`, `pagerank`]."
          ]
        }
      ],
      "source": [
        "# quand le chat dit des bétises...\n",
        " # Rejoignez le DataFrame pagerank avec le DataFrame data pour calculer la contribution à partir des liens entrants\n",
        "contrib = data.join(pagerank, data.target == pagerank.page, \"left\").select(\"source\", \"pagerank\")\n",
        "contrib.show(2,truncate=100)\n",
        "\n",
        "# Calculez le nouveau PageRank\n",
        "pagerank = contrib.groupBy(\"source\").sum(\"pagerank\").withColumnRenamed(\"source\", \"page\").withColumnRenamed(\"sum(pagerank)\", \"pagerank\")\n",
        "pagerank.show(2)\n",
        "\n",
        "# Appliquez la formule du PageRank\n",
        "pagerank = pagerank.withColumn(\"pagerank\", (1 - damping_factor) + damping_factor * col(\"pagerank\") /  pagerank[\"outDegree\"])\n",
        "pagerank.show(2)"
      ]
    },
    {
      "cell_type": "code",
      "execution_count": null,
      "metadata": {
        "colab": {
          "base_uri": "https://localhost:8080/"
        },
        "id": "u39aYX1jzi8H",
        "outputId": "d0808860-9f8b-413e-c8c3-c67c8ef9e3f6"
      },
      "outputs": [
        {
          "name": "stdout",
          "output_type": "stream",
          "text": [
            "+--------------------+-------------------+\n",
            "|                page|           pagerank|\n",
            "+--------------------+-------------------+\n",
            "|<http://dbpedia.o...|               NULL|\n",
            "|<http://dbpedia.o...|0.28111708845019723|\n",
            "|<http://dbpedia.o...|               NULL|\n",
            "|<http://dbpedia.o...|0.27989073867732917|\n",
            "|<http://dbpedia.o...|               NULL|\n",
            "|<http://dbpedia.o...|               NULL|\n",
            "|<http://dbpedia.o...|               NULL|\n",
            "|<http://dbpedia.o...|0.15577653203305658|\n",
            "|<http://dbpedia.o...|               NULL|\n",
            "|<http://dbpedia.o...|0.15589785108855592|\n",
            "|<http://dbpedia.o...|0.15595562103322655|\n",
            "|<http://dbpedia.o...|0.15521238381856947|\n",
            "|<http://dbpedia.o...| 0.1512481644640235|\n",
            "|<http://dbpedia.o...|0.15288306779854458|\n",
            "|<http://dbpedia.o...|0.15363072921406307|\n",
            "|<http://dbpedia.o...|               NULL|\n",
            "|<http://dbpedia.o...|0.15071076181142143|\n",
            "|<http://dbpedia.o...|0.15159132688549384|\n",
            "|<http://dbpedia.o...|               NULL|\n",
            "|<http://dbpedia.o...|               NULL|\n",
            "+--------------------+-------------------+\n",
            "only showing top 20 rows\n",
            "\n",
            "Temps d'exécution : 41.281458616256714 secondes\n"
          ]
        }
      ],
      "source": [
        "import time\n",
        "max_iterations = 10\n",
        "debut = time.time()\n",
        "\n",
        "# Effectuez des itérations pour calculer le PageRank\n",
        "\n",
        "for iteration in range(max_iterations):\n",
        "  # Rejoignez le DataFrame pagerank avec le DataFrame data pour calculer la contribution à partir des liens entrants\n",
        "  contrib = data.join(pagerank, data.target == pagerank.page, \"left\").select(\"source\", \"pagerank\")\n",
        "\n",
        "  new_pagerank = contrib.groupBy(\"source\").sum(\"pagerank\").withColumnRenamed(\"source\", \"page\").withColumnRenamed(\"sum(pagerank)\", \"pagerank\")\n",
        "\n",
        "  # Joignez le DataFrame \"new_pagerank\" avec le DataFrame \"outdegrees\" pour obtenir les \"outDegree\" appropriés\n",
        "  pagerank = new_pagerank.join(outdegrees, new_pagerank.page == outdegrees.page, \"left\").select(new_pagerank.page, new_pagerank.pagerank, outdegrees.outDegree)\n",
        "\n",
        "  # Appliquez la formule du PageRank\n",
        "  pagerank = pagerank.withColumn(\"pagerank\", (1 - damping_factor) + damping_factor * col(\"pagerank\") / col(\"outDegree\"))\n",
        "\n",
        "\n",
        "# Affichez les résultats\n",
        "pagerank.select(\"page\", \"pagerank\").show()\n",
        "fin = time.time()\n",
        "print(f\"Temps d'exécution : {fin-debut} secondes\")\n",
        "# Arrêtez la session Spark\n",
        "# spark.stop()"
      ]
    }
  ],
  "metadata": {
    "colab": {
      "authorship_tag": "ABX9TyNM0ti+gj0rtjSEeM9vHDgk",
      "include_colab_link": true,
      "provenance": []
    },
    "kernelspec": {
      "display_name": "Python 3",
      "name": "python3"
    },
    "language_info": {
      "codemirror_mode": {
        "name": "ipython",
        "version": 3
      },
      "file_extension": ".py",
      "mimetype": "text/x-python",
      "name": "python",
      "nbconvert_exporter": "python",
      "pygments_lexer": "ipython3",
      "version": "3.12.3"
    }
  },
  "nbformat": 4,
  "nbformat_minor": 0
}
