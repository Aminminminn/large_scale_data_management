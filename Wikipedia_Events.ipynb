{
  "nbformat": 4,
  "nbformat_minor": 0,
  "metadata": {
    "colab": {
      "provenance": [],
      "collapsed_sections": [],
      "authorship_tag": "ABX9TyPGWsAzK/LwzrlKcEkMMHN8",
      "include_colab_link": true
    },
    "kernelspec": {
      "name": "python3",
      "display_name": "Python 3"
    },
    "language_info": {
      "name": "python"
    }
  },
  "cells": [
    {
      "cell_type": "markdown",
      "metadata": {
        "id": "view-in-github",
        "colab_type": "text"
      },
      "source": [
        "<a href=\"https://colab.research.google.com/github/momo54/large_scale_data_management/blob/main/Wikipedia_Events.ipynb\" target=\"_parent\"><img src=\"https://colab.research.google.com/assets/colab-badge.svg\" alt=\"Open In Colab\"/></a>"
      ]
    },
    {
      "cell_type": "markdown",
      "source": [
        "# Streaming Wikipedia Events\n",
        "\n",
        "FROM: https://github.com/donaghhorgan/COMP9033/blob/master/lectures/12%20-%20Streaming%20Data%20Analysis.pdf\n",
        "\n"
      ],
      "metadata": {
        "id": "KfNaFztkruuq"
      }
    },
    {
      "cell_type": "code",
      "execution_count": 1,
      "metadata": {
        "id": "ektbQGDXpie7",
        "outputId": "8986b44b-52f9-4f5b-bc5d-ba55c3f9dc5e",
        "colab": {
          "base_uri": "https://localhost:8080/"
        }
      },
      "outputs": [
        {
          "output_type": "stream",
          "name": "stdout",
          "text": [
            "Looking in indexes: https://pypi.org/simple, https://us-python.pkg.dev/colab-wheels/public/simple/\n",
            "Collecting pyspark\n",
            "  Downloading pyspark-3.3.1.tar.gz (281.4 MB)\n",
            "\u001b[K     |████████████████████████████████| 281.4 MB 41 kB/s \n",
            "\u001b[?25hCollecting py4j==0.10.9.5\n",
            "  Downloading py4j-0.10.9.5-py2.py3-none-any.whl (199 kB)\n",
            "\u001b[K     |████████████████████████████████| 199 kB 39.3 MB/s \n",
            "\u001b[?25hBuilding wheels for collected packages: pyspark\n",
            "  Building wheel for pyspark (setup.py) ... \u001b[?25l\u001b[?25hdone\n",
            "  Created wheel for pyspark: filename=pyspark-3.3.1-py2.py3-none-any.whl size=281845513 sha256=0b2132bdf75c16dcdc62f58545e9a7a09deb4954bc21aeb2bf1cb53a23476bad\n",
            "  Stored in directory: /root/.cache/pip/wheels/42/59/f5/79a5bf931714dcd201b26025347785f087370a10a3329a899c\n",
            "Successfully built pyspark\n",
            "Installing collected packages: py4j, pyspark\n",
            "Successfully installed py4j-0.10.9.5 pyspark-3.3.1\n"
          ]
        }
      ],
      "source": [
        "#install software\n",
        "# No clustering for this install !!\n",
        "!pip install pyspark\n",
        "!pip install -q findspark\n",
        "import findspark\n",
        "findspark.init()"
      ]
    },
    {
      "cell_type": "code",
      "source": [
        "# start the spark session\n",
        "\n",
        "from pyspark.sql import SparkSession\n",
        "from pyspark.sql.functions import explode\n",
        "from pyspark.sql.functions import split\n",
        "\n",
        "spark = SparkSession \\\n",
        "    .builder \\\n",
        "    .appName(\"Wikipedia Event\") \\\n",
        "    .getOrCreate()"
      ],
      "metadata": {
        "id": "7oyKPU9TpzP3"
      },
      "execution_count": 2,
      "outputs": []
    },
    {
      "cell_type": "markdown",
      "metadata": {
        "id": "i51vx7xYkjLV"
      },
      "source": [
        "### Streaming Wikipedia events\n",
        "\n",
        "Currently, Spark supports three kinds of streaming connection out of the box:\n",
        "\n",
        "FROM:\n",
        "https://github.com/donaghhorgan/COMP9033/blob/master/lectures/12%20-%20Streaming%20Data%20Analysis.pdf \n",
        "\n",
        "1. Connect to the Wikipedia RecentChanges stream using SSEClient.\n",
        "2. Create a local socket connection on port 50000.\n",
        "3. When a client (e.g. Spark) connects to the local socket, relay the next available event to it from the event stream."
      ]
    },
    {
      "cell_type": "code",
      "execution_count": 3,
      "metadata": {
        "id": "bbhUlXOtkjLT",
        "outputId": "2d11f502-0505-4f06-a532-05a671cceb66",
        "colab": {
          "base_uri": "https://localhost:8080/"
        }
      },
      "outputs": [
        {
          "output_type": "stream",
          "name": "stdout",
          "text": [
            "Looking in indexes: https://pypi.org/simple, https://us-python.pkg.dev/colab-wheels/public/simple/\n",
            "Collecting sseclient\n",
            "  Downloading sseclient-0.0.27.tar.gz (7.5 kB)\n",
            "Requirement already satisfied: requests>=2.9 in /usr/local/lib/python3.7/dist-packages (from sseclient) (2.23.0)\n",
            "Requirement already satisfied: six in /usr/local/lib/python3.7/dist-packages (from sseclient) (1.15.0)\n",
            "Requirement already satisfied: chardet<4,>=3.0.2 in /usr/local/lib/python3.7/dist-packages (from requests>=2.9->sseclient) (3.0.4)\n",
            "Requirement already satisfied: urllib3!=1.25.0,!=1.25.1,<1.26,>=1.21.1 in /usr/local/lib/python3.7/dist-packages (from requests>=2.9->sseclient) (1.24.3)\n",
            "Requirement already satisfied: idna<3,>=2.5 in /usr/local/lib/python3.7/dist-packages (from requests>=2.9->sseclient) (2.10)\n",
            "Requirement already satisfied: certifi>=2017.4.17 in /usr/local/lib/python3.7/dist-packages (from requests>=2.9->sseclient) (2022.9.24)\n",
            "Building wheels for collected packages: sseclient\n",
            "  Building wheel for sseclient (setup.py) ... \u001b[?25l\u001b[?25hdone\n",
            "  Created wheel for sseclient: filename=sseclient-0.0.27-py3-none-any.whl size=5584 sha256=fa879acbac7e9bcde15a5f6787a4db9c41d0f75ad4a051c8e685d587e106c568\n",
            "  Stored in directory: /root/.cache/pip/wheels/07/67/7e/96edf627ac746de1a5c5cbb8d59ed960f033b8352dc12c545d\n",
            "Successfully built sseclient\n",
            "Installing collected packages: sseclient\n",
            "Successfully installed sseclient-0.0.27\n"
          ]
        }
      ],
      "source": [
        "!pip install sseclient\n",
        "from pyspark.streaming import StreamingContext\n",
        "from sseclient import SSEClient\n",
        "import threading"
      ]
    },
    {
      "cell_type": "code",
      "source": [
        "!rm test.json\n",
        "\n",
        "msgs = SSEClient('https://stream.wikimedia.org/v2/stream/recentchange')\n",
        "\n",
        "i=0\n",
        "with open(\"test.json\", \"w\") as outfile:\n",
        "  for e in msgs:\n",
        "    print(e)\n",
        "    outfile.write(f\"{e}\\n\")\n",
        "    i=i+1\n",
        "    if i>10:\n",
        "      break"
      ],
      "metadata": {
        "id": "y3X2z7eHEBkt",
        "outputId": "2aa6a103-066e-44f0-99bf-a77caac67cda",
        "colab": {
          "base_uri": "https://localhost:8080/"
        }
      },
      "execution_count": 14,
      "outputs": [
        {
          "output_type": "stream",
          "name": "stdout",
          "text": [
            "rm: cannot remove 'test.json': No such file or directory\n",
            "\n",
            "{\"$schema\":\"/mediawiki/recentchange/1.0.0\",\"meta\":{\"uri\":\"https://commons.wikimedia.org/wiki/File:El_Paso_Times._(El_Paso,_Tex.),_Vol._Eighth_Year,_No._63,_Ed._1_Wednesday,_March_14,_1888_-_DPLA_-_c2ffe1944c348620511b33d4b48a14d1_(page_6).jpg\",\"request_id\":\"4227c2c7-6bca-43a3-85a4-71cfda7a3ce5\",\"id\":\"1cf38627-f9b7-4837-b16b-bb5b6d2cfaa8\",\"dt\":\"2022-10-27T06:51:31Z\",\"domain\":\"commons.wikimedia.org\",\"stream\":\"mediawiki.recentchange\",\"topic\":\"eqiad.mediawiki.recentchange\",\"partition\":0,\"offset\":4263841544},\"id\":2039185896,\"type\":\"edit\",\"namespace\":6,\"title\":\"File:El Paso Times. (El Paso, Tex.), Vol. Eighth Year, No. 63, Ed. 1 Wednesday, March 14, 1888 - DPLA - c2ffe1944c348620511b33d4b48a14d1 (page 6).jpg\",\"comment\":\"/* wbeditentity-update:0| */ automatically modify [[Commons:Structured data|structured data]] based on file information: meta\",\"timestamp\":1666853491,\"user\":\"SchlurcherBot\",\"bot\":true,\"minor\":false,\"patrolled\":true,\"length\":{\"old\":48057,\"new\":48410},\"revision\":{\"old\":660774096,\"new\":699507870},\"server_url\":\"https://commons.wikimedia.org\",\"server_name\":\"commons.wikimedia.org\",\"server_script_path\":\"/w\",\"wiki\":\"commonswiki\",\"parsedcomment\":\"‎<span dir=\\\"auto\\\"><span class=\\\"autocomment\\\">Ein Objekt geändert: </span></span> automatically modify <a href=\\\"/wiki/Commons:Structured_data\\\" title=\\\"Commons:Structured data\\\">structured data</a> based on file information: meta\"}\n",
            "{\"$schema\":\"/mediawiki/recentchange/1.0.0\",\"meta\":{\"uri\":\"https://en.wikipedia.org/wiki/User_talk:78.173.249.1\",\"request_id\":\"ff812807-4747-448c-bb3b-1a3384b44def\",\"id\":\"f3fdeab9-5794-4deb-96e4-97f058c82dd0\",\"dt\":\"2022-10-27T06:51:31Z\",\"domain\":\"en.wikipedia.org\",\"stream\":\"mediawiki.recentchange\",\"topic\":\"eqiad.mediawiki.recentchange\",\"partition\":0,\"offset\":4263841545},\"id\":1563815712,\"type\":\"edit\",\"namespace\":3,\"title\":\"User talk:78.173.249.1\",\"comment\":\"Removed stale messages from inactive IP talkpage. ([[Wikipedia:Bots/Requests for approval/MalnadachBot 13|Task 13]])\",\"timestamp\":1666853491,\"user\":\"MalnadachBot\",\"bot\":true,\"minor\":true,\"length\":{\"old\":4126,\"new\":19},\"revision\":{\"old\":557023249,\"new\":1118480188},\"server_url\":\"https://en.wikipedia.org\",\"server_name\":\"en.wikipedia.org\",\"server_script_path\":\"/w\",\"wiki\":\"enwiki\",\"parsedcomment\":\"Removed stale messages from inactive IP talkpage. (<a href=\\\"/wiki/Wikipedia:Bots/Requests_for_approval/MalnadachBot_13\\\" title=\\\"Wikipedia:Bots/Requests for approval/MalnadachBot 13\\\">Task 13</a>)\"}\n",
            "{\"$schema\":\"/mediawiki/recentchange/1.0.0\",\"meta\":{\"uri\":\"https://commons.wikimedia.org/wiki/File:ISS067-E-240286_-_View_of_Earth.jpg\",\"request_id\":\"a3deb76b-d5bc-4edb-8be8-e370e83816d5\",\"id\":\"da40a0f2-2bdb-4574-90b1-c6a383d988fd\",\"dt\":\"2022-10-27T06:51:31Z\",\"domain\":\"commons.wikimedia.org\",\"stream\":\"mediawiki.recentchange\",\"topic\":\"eqiad.mediawiki.recentchange\",\"partition\":0,\"offset\":4263841546},\"id\":2039185897,\"type\":\"log\",\"namespace\":6,\"title\":\"File:ISS067-E-240286 - View of Earth.jpg\",\"comment\":\"\",\"timestamp\":1666853491,\"user\":\"AskeBot\",\"bot\":true,\"log_id\":331703978,\"log_type\":\"upload\",\"log_action\":\"upload\",\"log_params\":{\"img_sha1\":\"l2v08uz4b2aq84r8aa9idd6gauebr2f\",\"img_timestamp\":\"20221027065131\"},\"log_action_comment\":\"uploaded &quot;[[File:ISS067-E-240286 - View of Earth.jpg]]&quot;\",\"server_url\":\"https://commons.wikimedia.org\",\"server_name\":\"commons.wikimedia.org\",\"server_script_path\":\"/w\",\"wiki\":\"commonswiki\",\"parsedcomment\":\"\"}\n",
            "{\"$schema\":\"/mediawiki/recentchange/1.0.0\",\"meta\":{\"uri\":\"https://bs.wikipedia.org/wiki/IC_2626\",\"request_id\":\"e030bbe9-0193-491a-a97a-e54f37c1b909\",\"id\":\"2917737a-1205-4b84-8d60-63f51e16a88e\",\"dt\":\"2022-10-27T06:51:31Z\",\"domain\":\"bs.wikipedia.org\",\"stream\":\"mediawiki.recentchange\",\"topic\":\"eqiad.mediawiki.recentchange\",\"partition\":0,\"offset\":4263841547},\"id\":8140753,\"type\":\"edit\",\"namespace\":0,\"title\":\"IC 2626\",\"comment\":\"Rescuing 1 sources and submitting 0 for archiving.) #IABot (v2.0.9.2\",\"timestamp\":1666853491,\"user\":\"InternetArchiveBot\",\"bot\":true,\"minor\":false,\"length\":{\"old\":8030,\"new\":8158},\"revision\":{\"old\":3441235,\"new\":3455458},\"server_url\":\"https://bs.wikipedia.org\",\"server_name\":\"bs.wikipedia.org\",\"server_script_path\":\"/w\",\"wiki\":\"bswiki\",\"parsedcomment\":\"Rescuing 1 sources and submitting 0 for archiving.) #IABot (v2.0.9.2\"}\n",
            "{\"$schema\":\"/mediawiki/recentchange/1.0.0\",\"meta\":{\"uri\":\"https://ru.wikinews.org/wiki/%D0%9A%D0%B0%D1%82%D0%B5%D0%B3%D0%BE%D1%80%D0%B8%D1%8F:%D0%A0%D0%BE%D1%81%D1%81%D0%B8%D1%8F_%D0%B2_%D0%B8%D1%8E%D0%BB%D0%B5_2020_%D0%B3%D0%BE%D0%B4%D0%B0\",\"request_id\":\"6e26d106-2ed6-43ef-bae1-1f3844cb52fa\",\"id\":\"6dceb417-81e2-4399-935b-a0742a20ef46\",\"dt\":\"2022-10-27T06:51:31Z\",\"domain\":\"ru.wikinews.org\",\"stream\":\"mediawiki.recentchange\",\"topic\":\"eqiad.mediawiki.recentchange\",\"partition\":0,\"offset\":4263841548},\"id\":65749262,\"type\":\"categorize\",\"namespace\":14,\"title\":\"Категория:Россия в июле 2020 года\",\"comment\":\"[[:«Урал» вырвал победу у «Динамо» благодаря голу Погребняка]] добавлена в категорию\",\"timestamp\":1666853491,\"user\":\"VladimirPF-Bot\",\"bot\":true,\"server_url\":\"https://ru.wikinews.org\",\"server_name\":\"ru.wikinews.org\",\"server_script_path\":\"/w\",\"wiki\":\"ruwikinews\",\"parsedcomment\":\"<a href=\\\"/wiki/%C2%AB%D0%A3%D1%80%D0%B0%D0%BB%C2%BB_%D0%B2%D1%8B%D1%80%D0%B2%D0%B0%D0%BB_%D0%BF%D0%BE%D0%B1%D0%B5%D0%B4%D1%83_%D1%83_%C2%AB%D0%94%D0%B8%D0%BD%D0%B0%D0%BC%D0%BE%C2%BB_%D0%B1%D0%BB%D0%B0%D0%B3%D0%BE%D0%B4%D0%B0%D1%80%D1%8F_%D0%B3%D0%BE%D0%BB%D1%83_%D0%9F%D0%BE%D0%B3%D1%80%D0%B5%D0%B1%D0%BD%D1%8F%D0%BA%D0%B0\\\" title=\\\"«Урал» вырвал победу у «Динамо» благодаря голу Погребняка\\\">«Урал» вырвал победу у «Динамо» благодаря голу Погребняка</a> добавлена в категорию\"}\n",
            "{\"$schema\":\"/mediawiki/recentchange/1.0.0\",\"meta\":{\"uri\":\"https://www.wikidata.org/wiki/Q37588497\",\"request_id\":\"c6fbda06-0677-4739-b13a-2ef997d82e4a\",\"id\":\"7be475dd-de99-45ad-a2ba-e75372377a79\",\"dt\":\"2022-10-27T06:51:32Z\",\"domain\":\"www.wikidata.org\",\"stream\":\"mediawiki.recentchange\",\"topic\":\"eqiad.mediawiki.recentchange\",\"partition\":0,\"offset\":4263841549},\"id\":1813413053,\"type\":\"edit\",\"namespace\":0,\"title\":\"Q37588497\",\"comment\":\"/* wbsetqualifier-add:1| */ [[Property:P3274]]: [[Q5412157]], Modify PubMed ID: 1679237 citation data from NCBI, Europe PMC and CrossRef\",\"timestamp\":1666853492,\"user\":\"Cewbot\",\"bot\":true,\"minor\":false,\"patrolled\":true,\"length\":{\"old\":97597,\"new\":97912},\"revision\":{\"old\":1759103117,\"new\":1759103119},\"server_url\":\"https://www.wikidata.org\",\"server_name\":\"www.wikidata.org\",\"server_script_path\":\"/w\",\"wiki\":\"wikidatawiki\",\"parsedcomment\":\"‎<span dir=\\\"auto\\\"><span class=\\\"autocomment\\\">Added qualifier: </span></span> <a href=\\\"/wiki/Property:P3274\\\" title=\\\"Property:P3274\\\">Property:P3274</a>: <a href=\\\"/wiki/Q5412157\\\" title=\\\"Q5412157\\\">Q5412157</a>, Modify PubMed ID: 1679237 citation data from NCBI, Europe PMC and CrossRef\"}\n",
            "{\"$schema\":\"/mediawiki/recentchange/1.0.0\",\"meta\":{\"uri\":\"https://www.wikidata.org/wiki/Q112578471\",\"request_id\":\"c4d47570-dd48-4b48-9ffc-e6406061af17\",\"id\":\"729c19c3-bb2a-42b6-81d1-4d0ac9985dd4\",\"dt\":\"2022-10-27T06:51:32Z\",\"domain\":\"www.wikidata.org\",\"stream\":\"mediawiki.recentchange\",\"topic\":\"eqiad.mediawiki.recentchange\",\"partition\":0,\"offset\":4263841550},\"id\":1813413054,\"type\":\"edit\",\"namespace\":0,\"title\":\"Q112578471\",\"comment\":\"/* wbsetclaim-create:2||1 */ [[Property:P348]]: 0.46.2, Update with GitHub data ([[:toollabs:editgroups/b/CB/7f7cb99d737a|details]])\",\"timestamp\":1666853492,\"user\":\"Github-wiki-bot\",\"bot\":true,\"minor\":false,\"patrolled\":true,\"length\":{\"old\":148821,\"new\":151097},\"revision\":{\"old\":1759103115,\"new\":1759103118},\"server_url\":\"https://www.wikidata.org\",\"server_name\":\"www.wikidata.org\",\"server_script_path\":\"/w\",\"wiki\":\"wikidatawiki\",\"parsedcomment\":\"‎<span dir=\\\"auto\\\"><span class=\\\"autocomment\\\">Created claim: </span></span> <a href=\\\"/wiki/Property:P348\\\" title=\\\"Property:P348\\\">Property:P348</a>: 0.46.2, Update with GitHub data (<a href=\\\"https://iw.toolforge.org/editgroups/b/CB/7f7cb99d737a\\\" class=\\\"extiw\\\" title=\\\"toollabs:editgroups/b/CB/7f7cb99d737a\\\">details</a>)\"}\n",
            "{\"$schema\":\"/mediawiki/recentchange/1.0.0\",\"meta\":{\"uri\":\"https://vi.wikipedia.org/wiki/B%E1%BA%A3n_m%E1%BA%ABu:V%C4%83n_h%E1%BB%8Dc_Vi%E1%BB%87t_Nam\",\"request_id\":\"5226993a-ec0b-4c1c-9b5d-3fbbca325901\",\"id\":\"0c74bc67-97dd-4491-ac76-e60d383e9da1\",\"dt\":\"2022-10-27T06:51:33Z\",\"domain\":\"vi.wikipedia.org\",\"stream\":\"mediawiki.recentchange\",\"topic\":\"eqiad.mediawiki.recentchange\",\"partition\":0,\"offset\":4263841551},\"type\":\"log\",\"namespace\":10,\"title\":\"Bản mẫu:Văn học Việt Nam\",\"comment\":\"\",\"timestamp\":1666853493,\"user\":\"14.161.39.171\",\"bot\":false,\"log_id\":0,\"log_type\":\"abusefilter\",\"log_action\":\"hit\",\"log_params\":{\"action\":\"edit\",\"filter\":\"112\",\"actions\":\"tag\",\"log\":678470},\"log_action_comment\":\"14.161.39.171 gây [[Đặc biệt:Bộ lọc sai phạm/112|bộ lọc 112]] khi thực hiện tác vụ “edit” tại [[Bản mẫu:Văn học Việt Nam]], bộ lọc gây ra các tác vụ: Thẻ ([[Đặc biệt:Nhật trình sai phạm/678470|chi tiết]])\",\"server_url\":\"https://vi.wikipedia.org\",\"server_name\":\"vi.wikipedia.org\",\"server_script_path\":\"/w\",\"wiki\":\"viwiki\",\"parsedcomment\":\"\"}\n",
            "{\"$schema\":\"/mediawiki/recentchange/1.0.0\",\"meta\":{\"uri\":\"https://commons.wikimedia.org/wiki/Category:Images_from_the_Earth_Science_and_Remote_Sensing_Unit,_Lyndon_B._Johnson_Space_Center\",\"request_id\":\"a3deb76b-d5bc-4edb-8be8-e370e83816d5\",\"id\":\"c472452d-6165-4daf-b42d-3f0e002fd1bd\",\"dt\":\"2022-10-27T06:51:31Z\",\"domain\":\"commons.wikimedia.org\",\"stream\":\"mediawiki.recentchange\",\"topic\":\"eqiad.mediawiki.recentchange\",\"partition\":0,\"offset\":4263841552},\"id\":2039185898,\"type\":\"categorize\",\"namespace\":14,\"title\":\"Category:Images from the Earth Science and Remote Sensing Unit, Lyndon B. Johnson Space Center\",\"comment\":\"[[:File:ISS067-E-240286 - View of Earth.jpg]] added to category\",\"timestamp\":1666853491,\"user\":\"AskeBot\",\"bot\":true,\"server_url\":\"https://commons.wikimedia.org\",\"server_name\":\"commons.wikimedia.org\",\"server_script_path\":\"/w\",\"wiki\":\"commonswiki\",\"parsedcomment\":\"<a href=\\\"/wiki/File:ISS067-E-240286_-_View_of_Earth.jpg\\\" title=\\\"File:ISS067-E-240286 - View of Earth.jpg\\\">File:ISS067-E-240286 - View of Earth.jpg</a> added to category\"}\n",
            "{\"$schema\":\"/mediawiki/recentchange/1.0.0\",\"meta\":{\"uri\":\"https://vi.wikipedia.org/wiki/B%E1%BA%A3n_m%E1%BA%ABu:V%C4%83n_h%E1%BB%8Dc_Vi%E1%BB%87t_Nam\",\"request_id\":\"5226993a-ec0b-4c1c-9b5d-3fbbca325901\",\"id\":\"41867efb-4336-41ff-acc7-702e8cb649b6\",\"dt\":\"2022-10-27T06:51:32Z\",\"domain\":\"vi.wikipedia.org\",\"stream\":\"mediawiki.recentchange\",\"topic\":\"eqiad.mediawiki.recentchange\",\"partition\":0,\"offset\":4263841553},\"id\":111511063,\"type\":\"edit\",\"namespace\":10,\"title\":\"Bản mẫu:Văn học Việt Nam\",\"comment\":\"\",\"timestamp\":1666853492,\"user\":\"14.161.39.171\",\"bot\":false,\"minor\":false,\"patrolled\":false,\"length\":{\"old\":4822,\"new\":4821},\"revision\":{\"old\":69239155,\"new\":69239168},\"server_url\":\"https://vi.wikipedia.org\",\"server_name\":\"vi.wikipedia.org\",\"server_script_path\":\"/w\",\"wiki\":\"viwiki\",\"parsedcomment\":\"\"}\n"
          ]
        }
      ]
    },
    {
      "cell_type": "code",
      "execution_count": 12,
      "metadata": {
        "deletable": true,
        "editable": true,
        "id": "YynMdnjqkjLW",
        "colab": {
          "base_uri": "https://localhost:8080/"
        },
        "outputId": "fd85083b-126b-46c5-a280-be13e0aead4a"
      },
      "outputs": [
        {
          "output_type": "stream",
          "name": "stdout",
          "text": [
            "mkdir: cannot create directory ‘streaming’: File exists\n"
          ]
        }
      ],
      "source": [
        "# simple thread that read wikipedia upddates and print it in files \n",
        "# with 100 update per file\n",
        "\n",
        "!rm -rf streaming/*\n",
        "!mkdir streaming\n",
        "\n",
        "import uuid\n",
        "import json\n",
        "\n",
        "def read_wikipedia():\n",
        "    msgs = SSEClient('https://stream.wikimedia.org/v2/stream/recentchange')\n",
        "\n",
        "    buffer=[]\n",
        "    i=0\n",
        "    for e in msgs:\n",
        "      buffer.append(e)\n",
        "      if len(buffer)>100:\n",
        "        with open(f\"streaming/{str(uuid.uuid4())}.json\", \"w\") as outfile:\n",
        "          for m in buffer:\n",
        "            outfile.write(f\"{m}\\n\")\n",
        "          outfile.close()\n",
        "          #json.dump([ob.__dict__ for ob in buffer], outfile)\n",
        "        buffer.clear()\n",
        "        i=i+1\n",
        "        if i>3:\n",
        "          return\n",
        "\n",
        "threading.Thread(target=read_wikipedia).start()\n",
        "#read_wikipedia()\n"
      ]
    },
    {
      "cell_type": "code",
      "source": [
        "# just extract the schema of a wikipedia update\n",
        "# required to populate the input table of Structured Stream\n",
        "\n",
        "import json\n",
        "\n",
        "#don't forget the r for raw string...\n",
        "data=r\"\"\"{\"$schema\":\"/mediawiki/recentchange/1.0.0\",\"meta\":{\"uri\":\"https://www.wikidata.org/wiki/Q114775139\",\"request_id\":\"31f7d9b1-12c4-4de4-bee7-fbdd8c055c4f\",\"id\":\"6580fd51-0bde-4f48-8186-8b1f202c4e14\",\"dt\":\"2022-10-20T13:20:31Z\",\"domain\":\"www.wikidata.org\",\"stream\":\"mediawiki.recentchange\",\"topic\":\"eqiad.mediawiki.recentchange\",\"partition\":0,\"offset\":4248495942},\"id\":1809138679,\"type\":\"edit\",\"namespace\":0,\"title\":\"Q114775139\",\"comment\":\"/* wbsetclaim-create:2||1 */ [[Property:P6634]]: ellen-rudnick-364a793\",\"timestamp\":1666272031,\"user\":\"Korimako\",\"bot\":false,\"minor\":false,\"patrolled\":true,\"length\":{\"old\":2211,\"new\":2575},\"revision\":{\"old\":1754930719,\"new\":1754930819},\"server_url\":\"https://www.wikidata.org\",\"server_name\":\"www.wikidata.org\",\"server_script_path\":\"/w\",\"wiki\":\"wikidatawiki\",\"parsedcomment\":\"‎<span dir=\\\"auto\\\"><span class=\\\"autocomment\\\">Created claim: </span></span> <a href=\\\"/wiki/Property:P6634\\\" title=\\\"Property:P6634\\\">Property:P6634</a>: ellen-rudnick-364a793\"}\"\"\"\n",
        "\n",
        "#don't forget to build a list ie [data]...\n",
        "rdd=spark.sparkContext.parallelize([data])\n",
        "df=spark.read.json(rdd)\n",
        "df.show()\n",
        "\n",
        "df.printSchema()\n",
        "\n",
        "#schema is computed ;)\n",
        "df.schema\n"
      ],
      "metadata": {
        "colab": {
          "base_uri": "https://localhost:8080/"
        },
        "id": "XVEvrIbWkQdg",
        "outputId": "097e4cf9-d08c-4676-ee4a-540e385079ed"
      },
      "execution_count": 16,
      "outputs": [
        {
          "output_type": "stream",
          "name": "stdout",
          "text": [
            "+--------------------+-----+--------------------+----------+------------+--------------------+-----+---------+--------------------+---------+--------------------+----------------+------------------+--------------------+----------+----------+----+--------+------------+\n",
            "|             $schema|  bot|             comment|        id|      length|                meta|minor|namespace|       parsedcomment|patrolled|            revision|     server_name|server_script_path|          server_url| timestamp|     title|type|    user|        wiki|\n",
            "+--------------------+-----+--------------------+----------+------------+--------------------+-----+---------+--------------------+---------+--------------------+----------------+------------------+--------------------+----------+----------+----+--------+------------+\n",
            "|/mediawiki/recent...|false|/* wbsetclaim-cre...|1809138679|{2575, 2211}|{www.wikidata.org...|false|        0|‎<span dir=\"auto\"...|     true|{1754930819, 1754...|www.wikidata.org|                /w|https://www.wikid...|1666272031|Q114775139|edit|Korimako|wikidatawiki|\n",
            "+--------------------+-----+--------------------+----------+------------+--------------------+-----+---------+--------------------+---------+--------------------+----------------+------------------+--------------------+----------+----------+----+--------+------------+\n",
            "\n",
            "root\n",
            " |-- $schema: string (nullable = true)\n",
            " |-- bot: boolean (nullable = true)\n",
            " |-- comment: string (nullable = true)\n",
            " |-- id: long (nullable = true)\n",
            " |-- length: struct (nullable = true)\n",
            " |    |-- new: long (nullable = true)\n",
            " |    |-- old: long (nullable = true)\n",
            " |-- meta: struct (nullable = true)\n",
            " |    |-- domain: string (nullable = true)\n",
            " |    |-- dt: string (nullable = true)\n",
            " |    |-- id: string (nullable = true)\n",
            " |    |-- offset: long (nullable = true)\n",
            " |    |-- partition: long (nullable = true)\n",
            " |    |-- request_id: string (nullable = true)\n",
            " |    |-- stream: string (nullable = true)\n",
            " |    |-- topic: string (nullable = true)\n",
            " |    |-- uri: string (nullable = true)\n",
            " |-- minor: boolean (nullable = true)\n",
            " |-- namespace: long (nullable = true)\n",
            " |-- parsedcomment: string (nullable = true)\n",
            " |-- patrolled: boolean (nullable = true)\n",
            " |-- revision: struct (nullable = true)\n",
            " |    |-- new: long (nullable = true)\n",
            " |    |-- old: long (nullable = true)\n",
            " |-- server_name: string (nullable = true)\n",
            " |-- server_script_path: string (nullable = true)\n",
            " |-- server_url: string (nullable = true)\n",
            " |-- timestamp: long (nullable = true)\n",
            " |-- title: string (nullable = true)\n",
            " |-- type: string (nullable = true)\n",
            " |-- user: string (nullable = true)\n",
            " |-- wiki: string (nullable = true)\n",
            "\n"
          ]
        },
        {
          "output_type": "execute_result",
          "data": {
            "text/plain": [
              "StructType([StructField('$schema', StringType(), True), StructField('bot', BooleanType(), True), StructField('comment', StringType(), True), StructField('id', LongType(), True), StructField('length', StructType([StructField('new', LongType(), True), StructField('old', LongType(), True)]), True), StructField('meta', StructType([StructField('domain', StringType(), True), StructField('dt', StringType(), True), StructField('id', StringType(), True), StructField('offset', LongType(), True), StructField('partition', LongType(), True), StructField('request_id', StringType(), True), StructField('stream', StringType(), True), StructField('topic', StringType(), True), StructField('uri', StringType(), True)]), True), StructField('minor', BooleanType(), True), StructField('namespace', LongType(), True), StructField('parsedcomment', StringType(), True), StructField('patrolled', BooleanType(), True), StructField('revision', StructType([StructField('new', LongType(), True), StructField('old', LongType(), True)]), True), StructField('server_name', StringType(), True), StructField('server_script_path', StringType(), True), StructField('server_url', StringType(), True), StructField('timestamp', LongType(), True), StructField('title', StringType(), True), StructField('type', StringType(), True), StructField('user', StringType(), True), StructField('wiki', StringType(), True)])"
            ]
          },
          "metadata": {},
          "execution_count": 16
        }
      ]
    },
    {
      "cell_type": "markdown",
      "metadata": {
        "deletable": true,
        "editable": true,
        "id": "-Gu0uTq0kjLW"
      },
      "source": [
        "## Streaming analysis\n",
        "\n",
        "Now that we have our stream relay set up, we can start to analyse its contents. First, let's initialise a [`SparkContext`](https://spark.apache.org/docs/2.1.0/api/python/pyspark.html#pyspark.SparkContext) object, which will represent our connection to the Spark cluster. To do this, we must first specify the URL of the master node to connect to. As we're only running this notebook for demonstration purposes, we can just run the cluster locally, as follows:"
      ]
    },
    {
      "cell_type": "markdown",
      "metadata": {
        "id": "jUReqTXukjLX"
      },
      "source": [
        "Next, we create a [`StreamingContext`](https://spark.apache.org/docs/latest/api/python/pyspark.streaming.html#pyspark.streaming.StreamingContext) object, which represents the streaming functionality of our Spark cluster. When we create the context, we must specify a batch duration time (in seconds), to tell Spark how often it should process data from the stream. Let's process the Wikipedia data in batches of one second:"
      ]
    },
    {
      "cell_type": "code",
      "source": [
        "# stopping all active queries\n",
        "# you will understand ;-)\n",
        "for q in spark.streams.active:\n",
        "  print(\"stopping\",q.name)\n",
        "  q.stop()\n",
        "spark.sql(f\"drop table wikipedia\")"
      ],
      "metadata": {
        "colab": {
          "base_uri": "https://localhost:8080/",
          "height": 387
        },
        "id": "680b6l8tDozg",
        "outputId": "3f3d3182-9960-4fe4-e029-0fa00f62e224"
      },
      "execution_count": 17,
      "outputs": [
        {
          "output_type": "error",
          "ename": "AnalysisException",
          "evalue": "ignored",
          "traceback": [
            "\u001b[0;31m---------------------------------------------------------------------------\u001b[0m",
            "\u001b[0;31mAnalysisException\u001b[0m                         Traceback (most recent call last)",
            "\u001b[0;32m<ipython-input-17-5130eebb2f7f>\u001b[0m in \u001b[0;36m<module>\u001b[0;34m\u001b[0m\n\u001b[1;32m      4\u001b[0m   \u001b[0mprint\u001b[0m\u001b[0;34m(\u001b[0m\u001b[0;34m\"stopping\"\u001b[0m\u001b[0;34m,\u001b[0m\u001b[0mq\u001b[0m\u001b[0;34m.\u001b[0m\u001b[0mname\u001b[0m\u001b[0;34m)\u001b[0m\u001b[0;34m\u001b[0m\u001b[0;34m\u001b[0m\u001b[0m\n\u001b[1;32m      5\u001b[0m   \u001b[0mq\u001b[0m\u001b[0;34m.\u001b[0m\u001b[0mstop\u001b[0m\u001b[0;34m(\u001b[0m\u001b[0;34m)\u001b[0m\u001b[0;34m\u001b[0m\u001b[0;34m\u001b[0m\u001b[0m\n\u001b[0;32m----> 6\u001b[0;31m \u001b[0mspark\u001b[0m\u001b[0;34m.\u001b[0m\u001b[0msql\u001b[0m\u001b[0;34m(\u001b[0m\u001b[0;34mf\"drop table wikipedia\"\u001b[0m\u001b[0;34m)\u001b[0m\u001b[0;34m\u001b[0m\u001b[0;34m\u001b[0m\u001b[0m\n\u001b[0m",
            "\u001b[0;32m/usr/local/lib/python3.7/dist-packages/pyspark/sql/session.py\u001b[0m in \u001b[0;36msql\u001b[0;34m(self, sqlQuery, **kwargs)\u001b[0m\n\u001b[1;32m   1032\u001b[0m             \u001b[0msqlQuery\u001b[0m \u001b[0;34m=\u001b[0m \u001b[0mformatter\u001b[0m\u001b[0;34m.\u001b[0m\u001b[0mformat\u001b[0m\u001b[0;34m(\u001b[0m\u001b[0msqlQuery\u001b[0m\u001b[0;34m,\u001b[0m \u001b[0;34m**\u001b[0m\u001b[0mkwargs\u001b[0m\u001b[0;34m)\u001b[0m\u001b[0;34m\u001b[0m\u001b[0;34m\u001b[0m\u001b[0m\n\u001b[1;32m   1033\u001b[0m         \u001b[0;32mtry\u001b[0m\u001b[0;34m:\u001b[0m\u001b[0;34m\u001b[0m\u001b[0;34m\u001b[0m\u001b[0m\n\u001b[0;32m-> 1034\u001b[0;31m             \u001b[0;32mreturn\u001b[0m \u001b[0mDataFrame\u001b[0m\u001b[0;34m(\u001b[0m\u001b[0mself\u001b[0m\u001b[0;34m.\u001b[0m\u001b[0m_jsparkSession\u001b[0m\u001b[0;34m.\u001b[0m\u001b[0msql\u001b[0m\u001b[0;34m(\u001b[0m\u001b[0msqlQuery\u001b[0m\u001b[0;34m)\u001b[0m\u001b[0;34m,\u001b[0m \u001b[0mself\u001b[0m\u001b[0;34m)\u001b[0m\u001b[0;34m\u001b[0m\u001b[0;34m\u001b[0m\u001b[0m\n\u001b[0m\u001b[1;32m   1035\u001b[0m         \u001b[0;32mfinally\u001b[0m\u001b[0;34m:\u001b[0m\u001b[0;34m\u001b[0m\u001b[0;34m\u001b[0m\u001b[0m\n\u001b[1;32m   1036\u001b[0m             \u001b[0;32mif\u001b[0m \u001b[0mlen\u001b[0m\u001b[0;34m(\u001b[0m\u001b[0mkwargs\u001b[0m\u001b[0;34m)\u001b[0m \u001b[0;34m>\u001b[0m \u001b[0;36m0\u001b[0m\u001b[0;34m:\u001b[0m\u001b[0;34m\u001b[0m\u001b[0;34m\u001b[0m\u001b[0m\n",
            "\u001b[0;32m/usr/local/lib/python3.7/dist-packages/py4j/java_gateway.py\u001b[0m in \u001b[0;36m__call__\u001b[0;34m(self, *args)\u001b[0m\n\u001b[1;32m   1320\u001b[0m         \u001b[0manswer\u001b[0m \u001b[0;34m=\u001b[0m \u001b[0mself\u001b[0m\u001b[0;34m.\u001b[0m\u001b[0mgateway_client\u001b[0m\u001b[0;34m.\u001b[0m\u001b[0msend_command\u001b[0m\u001b[0;34m(\u001b[0m\u001b[0mcommand\u001b[0m\u001b[0;34m)\u001b[0m\u001b[0;34m\u001b[0m\u001b[0;34m\u001b[0m\u001b[0m\n\u001b[1;32m   1321\u001b[0m         return_value = get_return_value(\n\u001b[0;32m-> 1322\u001b[0;31m             answer, self.gateway_client, self.target_id, self.name)\n\u001b[0m\u001b[1;32m   1323\u001b[0m \u001b[0;34m\u001b[0m\u001b[0m\n\u001b[1;32m   1324\u001b[0m         \u001b[0;32mfor\u001b[0m \u001b[0mtemp_arg\u001b[0m \u001b[0;32min\u001b[0m \u001b[0mtemp_args\u001b[0m\u001b[0;34m:\u001b[0m\u001b[0;34m\u001b[0m\u001b[0;34m\u001b[0m\u001b[0m\n",
            "\u001b[0;32m/usr/local/lib/python3.7/dist-packages/pyspark/sql/utils.py\u001b[0m in \u001b[0;36mdeco\u001b[0;34m(*a, **kw)\u001b[0m\n\u001b[1;32m    194\u001b[0m                 \u001b[0;31m# Hide where the exception came from that shows a non-Pythonic\u001b[0m\u001b[0;34m\u001b[0m\u001b[0;34m\u001b[0m\u001b[0;34m\u001b[0m\u001b[0m\n\u001b[1;32m    195\u001b[0m                 \u001b[0;31m# JVM exception message.\u001b[0m\u001b[0;34m\u001b[0m\u001b[0;34m\u001b[0m\u001b[0;34m\u001b[0m\u001b[0m\n\u001b[0;32m--> 196\u001b[0;31m                 \u001b[0;32mraise\u001b[0m \u001b[0mconverted\u001b[0m \u001b[0;32mfrom\u001b[0m \u001b[0;32mNone\u001b[0m\u001b[0;34m\u001b[0m\u001b[0;34m\u001b[0m\u001b[0m\n\u001b[0m\u001b[1;32m    197\u001b[0m             \u001b[0;32melse\u001b[0m\u001b[0;34m:\u001b[0m\u001b[0;34m\u001b[0m\u001b[0;34m\u001b[0m\u001b[0m\n\u001b[1;32m    198\u001b[0m                 \u001b[0;32mraise\u001b[0m\u001b[0;34m\u001b[0m\u001b[0;34m\u001b[0m\u001b[0m\n",
            "\u001b[0;31mAnalysisException\u001b[0m: Table or view not found: wikipedia; line 1 pos 11;\n'DropTable false, false\n+- 'UnresolvedTableOrView [wikipedia], DROP TABLE, true\n"
          ]
        }
      ]
    },
    {
      "cell_type": "code",
      "execution_count": 18,
      "metadata": {
        "collapsed": true,
        "id": "eksoAKgzkjLY",
        "colab": {
          "base_uri": "https://localhost:8080/"
        },
        "outputId": "26c240b5-0769-414d-d5ae-6c91611e2497"
      },
      "outputs": [
        {
          "output_type": "stream",
          "name": "stdout",
          "text": [
            "True\n"
          ]
        }
      ],
      "source": [
        "lines = spark \\\n",
        "    .readStream \\\n",
        "    .option(\"cleanSource\",\"delete\") \\\n",
        "    .format(\"json\") \\\n",
        "    .schema(df.schema) \\\n",
        "    .load(\"streaming\") \\\n",
        "\n",
        "results=lines.groupBy(\"user\").count()\n",
        "\n",
        "query = results \\\n",
        "    .writeStream \\\n",
        "    .outputMode(\"complete\") \\\n",
        "    .format(\"memory\") \\\n",
        "    .option(\"cleanSource\",\"delete\") \\\n",
        "    .queryName(\"wikipedia\") \\\n",
        "    .start()\n",
        "\n",
        "#query.awaitTermination()\n",
        "print(query.isActive)"
      ]
    },
    {
      "cell_type": "code",
      "source": [
        "spark.sql(\"select * from wikipedia order by count DESC\").show(3)\n",
        "spark.sql(\"select count(*) from wikipedia\").show()\n",
        "\n",
        "#!cp test.json streaming"
      ],
      "metadata": {
        "colab": {
          "base_uri": "https://localhost:8080/"
        },
        "id": "uxV03J2XzcDc",
        "outputId": "4975486a-2e74-466c-8450-1212b21e5d4e"
      },
      "execution_count": 22,
      "outputs": [
        {
          "output_type": "stream",
          "name": "stdout",
          "text": [
            "+--------------+-----+\n",
            "|          user|count|\n",
            "+--------------+-----+\n",
            "|       AskeBot|   38|\n",
            "|         Tulsi|   38|\n",
            "|VladimirPF-Bot|   29|\n",
            "+--------------+-----+\n",
            "only showing top 3 rows\n",
            "\n",
            "+--------+\n",
            "|count(1)|\n",
            "+--------+\n",
            "|      98|\n",
            "+--------+\n",
            "\n"
          ]
        }
      ]
    }
  ]
}